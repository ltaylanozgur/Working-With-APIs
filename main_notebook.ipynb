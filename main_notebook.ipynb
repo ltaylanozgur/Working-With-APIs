{
 "cells": [
  {
   "cell_type": "markdown",
   "metadata": {},
   "source": [
    "# Use this notebook for your 3 choices of APIs"
   ]
  },
  {
   "cell_type": "code",
   "execution_count": 2,
   "metadata": {},
   "outputs": [],
   "source": [
    "import requests\n",
    "import json\n",
    "import pandas as pd\n",
    "\n",
    "pd.set_option(\"display.max_rows\", 0)\n",
    "pd.set_option(\"display.max_columns\", 0)"
   ]
  },
  {
   "cell_type": "code",
   "execution_count": null,
   "metadata": {},
   "outputs": [],
   "source": [
    "# 200: Everything went okay and the result has been returned (if any).\n",
    "# 301: The server is redirecting you to a different endpoint. This can happen when a company switches domain names, or an endpoint name is changed.\n",
    "# 400: The server thinks you made a bad request. This happens when you don’t send along the right data, among other things.\n",
    "# 401: You are not properly authenticated.\n",
    "# 403: The resource you’re trying to access is forbidden: you don’t have the right permissions to get it.\n",
    "# 404: The resource you tried to access doesn't exist.\n",
    "# 503: The server can't handle the request.\n",
    "# full list: https://en.wikipedia.org/wiki/List_of_HTTP_status_codes"
   ]
  },
  {
   "cell_type": "markdown",
   "metadata": {},
   "source": [
    "## API 1 "
   ]
  },
  {
   "cell_type": "code",
   "execution_count": 4,
   "metadata": {},
   "outputs": [
    {
     "name": "stdout",
     "output_type": "stream",
     "text": [
      "response: 200\n"
     ]
    }
   ],
   "source": [
    "response = requests.get('https://xkcd.com/info.0.json')\n",
    "\n",
    "results = response.json()\n",
    "\n",
    "print(\"response:\", response.status_code)"
   ]
  },
  {
   "cell_type": "code",
   "execution_count": 5,
   "metadata": {
    "scrolled": true
   },
   "outputs": [
    {
     "name": "stdout",
     "output_type": "stream",
     "text": [
      "{\"month\": \"10\", \"num\": 2683, \"link\": \"\", \"year\": \"2022\", \"news\": \"\", \"safe_title\": \"Fan Theories\", \"transcript\": \"\", \"alt\": \"The universe fandom is great. Such sweet and enthusiastic people.\", \"img\": \"https://imgs.xkcd.com/comics/fan_theories.png\", \"title\": \"Fan Theories\", \"day\": \"10\"}\n"
     ]
    }
   ],
   "source": [
    "print(response.text)"
   ]
  },
  {
   "cell_type": "code",
   "execution_count": 6,
   "metadata": {},
   "outputs": [
    {
     "data": {
      "text/plain": [
       "{'month': '10',\n",
       " 'num': 2683,\n",
       " 'link': '',\n",
       " 'year': '2022',\n",
       " 'news': '',\n",
       " 'safe_title': 'Fan Theories',\n",
       " 'transcript': '',\n",
       " 'alt': 'The universe fandom is great. Such sweet and enthusiastic people.',\n",
       " 'img': 'https://imgs.xkcd.com/comics/fan_theories.png',\n",
       " 'title': 'Fan Theories',\n",
       " 'day': '10'}"
      ]
     },
     "execution_count": 6,
     "metadata": {},
     "output_type": "execute_result"
    }
   ],
   "source": [
    "results"
   ]
  },
  {
   "cell_type": "code",
   "execution_count": 14,
   "metadata": {
    "scrolled": true
   },
   "outputs": [
    {
     "data": {
      "text/html": [
       "<div>\n",
       "<style scoped>\n",
       "    .dataframe tbody tr th:only-of-type {\n",
       "        vertical-align: middle;\n",
       "    }\n",
       "\n",
       "    .dataframe tbody tr th {\n",
       "        vertical-align: top;\n",
       "    }\n",
       "\n",
       "    .dataframe thead th {\n",
       "        text-align: right;\n",
       "    }\n",
       "</style>\n",
       "<table border=\"1\" class=\"dataframe\">\n",
       "  <thead>\n",
       "    <tr style=\"text-align: right;\">\n",
       "      <th></th>\n",
       "      <th>month</th>\n",
       "      <th>num</th>\n",
       "      <th>link</th>\n",
       "      <th>year</th>\n",
       "      <th>news</th>\n",
       "      <th>safe_title</th>\n",
       "      <th>transcript</th>\n",
       "      <th>alt</th>\n",
       "      <th>img</th>\n",
       "      <th>title</th>\n",
       "      <th>day</th>\n",
       "    </tr>\n",
       "  </thead>\n",
       "  <tbody>\n",
       "    <tr>\n",
       "      <th>0</th>\n",
       "      <td>10</td>\n",
       "      <td>2683</td>\n",
       "      <td></td>\n",
       "      <td>2022</td>\n",
       "      <td></td>\n",
       "      <td>Fan Theories</td>\n",
       "      <td></td>\n",
       "      <td>The universe fandom is great. Such sweet and e...</td>\n",
       "      <td>https://imgs.xkcd.com/comics/fan_theories.png</td>\n",
       "      <td>Fan Theories</td>\n",
       "      <td>10</td>\n",
       "    </tr>\n",
       "  </tbody>\n",
       "</table>\n",
       "</div>"
      ],
      "text/plain": [
       "  month   num  ...         title day\n",
       "0    10  2683  ...  Fan Theories  10\n",
       "\n",
       "[1 rows x 11 columns]"
      ]
     },
     "execution_count": 14,
     "metadata": {},
     "output_type": "execute_result"
    }
   ],
   "source": [
    "data = (pd.DataFrame.from_dict(results, orient= 'index')).transpose()\n",
    "data.head()"
   ]
  },
  {
   "cell_type": "markdown",
   "metadata": {},
   "source": [
    "## API 2"
   ]
  },
  {
   "cell_type": "code",
   "execution_count": 15,
   "metadata": {},
   "outputs": [
    {
     "name": "stdout",
     "output_type": "stream",
     "text": [
      "response: 200\n"
     ]
    }
   ],
   "source": [
    "response = requests.get('https://services2.arcgis.com/5I7u4SJE1vUr79JC/arcgis/rest/services/UniversityChapters_Public/FeatureServer/0/query?where=1%3D1&outFields=*&outSR=4326&f=json')\n",
    "\n",
    "results = response.json()\n",
    "\n",
    "print(\"response:\", response.status_code)"
   ]
  },
  {
   "cell_type": "code",
   "execution_count": 16,
   "metadata": {},
   "outputs": [
    {
     "name": "stdout",
     "output_type": "stream",
     "text": [
      "{\"objectIdFieldName\":\"OBJECTID\",\"uniqueIdField\":{\"name\":\"OBJECTID\",\"isSystemMaintained\":true},\"globalIdFieldName\":\"\",\"geometryType\":\"esriGeometryPoint\",\"spatialReference\":{\"wkid\":4326,\"latestWkid\":4326},\"fields\":[{\"name\":\"OBJECTID\",\"type\":\"esriFieldTypeOID\",\"alias\":\"ObjectID\",\"sqlType\":\"sqlTypeOther\",\"domain\":null,\"defaultValue\":null},{\"name\":\"University_Chapter\",\"type\":\"esriFieldTypeString\",\"alias\":\"University Chapter\",\"sqlType\":\"sqlTypeOther\",\"length\":255,\"domain\":null,\"defaultValue\":null},{\"name\":\"City\",\"type\":\"esriFieldTypeString\",\"alias\":\"City\",\"sqlType\":\"sqlTypeOther\",\"length\":255,\"domain\":null,\"defaultValue\":null},{\"name\":\"State\",\"type\":\"esriFieldTypeString\",\"alias\":\"State\",\"sqlType\":\"sqlTypeOther\",\"length\":255,\"domain\":null,\"defaultValue\":null},{\"name\":\"ChapterID\",\"type\":\"esriFieldTypeString\",\"alias\":\"Chapter ID\",\"sqlType\":\"sqlTypeOther\",\"length\":255,\"domain\":null,\"defaultValue\":null},{\"name\":\"MEVR_RD\",\"type\":\"esriFieldTypeString\",\"alias\":\"Regional Director\",\"sqlType\":\"sqlTypeOther\",\"length\":255,\"domain\":null}],\"features\":[{\"attributes\":{\"OBJECTID\":2,\"University_Chapter\":\"Florida State University\",\"City\":\"Tallahassee\",\"State\":\"FL\",\"ChapterID\":\"FL0110\",\"MEVR_RD\":\"Jarrett Lafferty\"},\"geometry\":{\"x\":-84.30427263699994,\"y\":30.438110943000027}},{\"attributes\":{\"OBJECTID\":3,\"University_Chapter\":\"Abraham Baldwin Agricultural College\",\"City\":\"Tifton\",\"State\":\"GA\",\"ChapterID\":\"GA0020\",\"MEVR_RD\":\"Brice Crawford\"},\"geometry\":{\"x\":-83.51006446699995,\"y\":31.463418268000055}},{\"attributes\":{\"OBJECTID\":4,\"University_Chapter\":\"University of Georgia\",\"City\":\"Athens\",\"State\":\"GA\",\"ChapterID\":\"GA0133\",\"MEVR_RD\":\"Scott James\"},\"geometry\":{\"x\":-83.383246442999962,\"y\":33.955464353000025}},{\"attributes\":{\"OBJECTID\":5,\"University_Chapter\":\"Georgia Southern University\",\"City\":\"Statesboro\",\"State\":\"GA\",\"ChapterID\":\"GA0144\",\"MEVR_RD\":\"Brice Crawford\"},\"geometry\":{\"x\":-81.779237338999963,\"y\":32.445146145000024}},{\"attributes\":{\"OBJECTID\":6,\"University_Chapter\":\"Georgia Tech University\",\"City\":\"Atlanta\",\"State\":\"GA\",\"ChapterID\":\"GA0147\",\"MEVR_RD\":\"Scott James\"},\"geometry\":{\"x\":-84.40317324099999,\"y\":33.759509211000079}},{\"attributes\":{\"OBJECTID\":7,\"University_Chapter\":\"University of Alabama\",\"City\":\"Tuscaloosa\",\"State\":\"AL\",\"ChapterID\":\"AL0107\",\"MEVR_RD\":\"Neely Raper\"},\"geometry\":{\"x\":-87.534609192999937,\"y\":33.206536696000057}},{\"attributes\":{\"OBJECTID\":9,\"University_Chapter\":\"Auburn University\",\"City\":\"Auburn\",\"State\":\"AL\",\"ChapterID\":\"AL0114\",\"MEVR_RD\":\"Neely Raper\"},\"geometry\":{\"x\":-85.488982012405472,\"y\":32.602128983247155}},{\"attributes\":{\"OBJECTID\":11,\"University_Chapter\":\"Iowa State University\",\"City\":\"Ames\",\"State\":\"IA\",\"ChapterID\":\"IA0104\",\"MEVR_RD\":\"Josh Finley\"},\"geometry\":{\"x\":-93.631582490999961,\"y\":42.027336331000072}},{\"attributes\":{\"OBJECTID\":12,\"University_Chapter\":\"Southern Illinois University\",\"City\":\"Carbondale\",\"State\":\"IL\",\"ChapterID\":\"IL0211\",\"MEVR_RD\":\"Benny Magalski\"},\"geometry\":{\"x\":-89.220273631999987,\"y\":37.726417706000063}},{\"attributes\":{\"OBJECTID\":13,\"University_Chapter\":\"University of Delaware\",\"City\":\"Newark\",\"State\":\"DE\",\"ChapterID\":\"DE0016\",\"MEVR_RD\":\"Taylor Deemer\"},\"geometry\":{\"x\":-75.758037284999943,\"y\":39.679109347000065}},{\"attributes\":{\"OBJECTID\":15,\"University_Chapter\":\"Purdue University\",\"City\":\"West Lafayette\",\"State\":\"IN\",\"ChapterID\":\"IN0120\",\"MEVR_RD\":\"Josh Hall\"},\"geometry\":{\"x\":-86.912409518999937,\"y\":40.441936883000039}},{\"attributes\":{\"OBJECTID\":17,\"University_Chapter\":\"Kansas State University\",\"City\":\"Manhattan\",\"State\":\"KS\",\"ChapterID\":\"KS0111\",\"MEVR_RD\":\"John Ritchey\"},\"geometry\":{\"x\":-96.58681835799996,\"y\":39.190145864000044}},{\"attributes\":{\"OBJECTID\":19,\"University_Chapter\":\"California Polytechnic State University\",\"City\":\"San Luis Obispo\",\"State\":\"CA\",\"ChapterID\":\"CA0355\",\"MEVR_RD\":\"Derek Swindall\"},\"geometry\":{\"x\":-120.66319100299995,\"y\":35.274309145000075}},{\"attributes\":{\"OBJECTID\":21,\"University_Chapter\":\"Louisiana Tech University\",\"City\":\"Ruston \",\"State\":\"LA\",\"ChapterID\":\"LA0147\",\"MEVR_RD\":\"Tommy Jackson\"},\"geometry\":{\"x\":-92.640463850999936,\"y\":32.529673327000069}},{\"attributes\":{\"OBJECTID\":23,\"University_Chapter\":\"University of Central Arkansas\",\"City\":\"Conway\",\"State\":\"AR\",\"ChapterID\":\"AR0124\",\"MEVR_RD\":\"Bob Butler\"},\"geometry\":{\"x\":-92.453318654999975,\"y\":35.087336876000052}},{\"attributes\":{\"OBJECTID\":24,\"University_Chapter\":\"U of A Razorback\",\"City\":\"Fayetteville\",\"State\":\"AR\",\"ChapterID\":\"AR0110\",\"MEVR_RD\":\"Tye Anderson\"},\"geometry\":{\"x\":-94.160910188999935,\"y\":36.07638216600003}},{\"attributes\":{\"OBJECTID\":25,\"University_Chapter\":\"Louisiana State University\",\"City\":\"Baton Rouge\",\"State\":\"LA\",\"ChapterID\":\"LA0085\",\"MEVR_RD\":\"Zac Brown\"},\"geometry\":{\"x\":-91.184172450999938,\"y\":30.412283033000051}},{\"attributes\":{\"OBJECTID\":26,\"University_Chapter\":\"Chico State University\",\"City\":\"Chico\",\"State\":\"CA\",\"ChapterID\":\"CA0300\",\"MEVR_RD\":\"Brian Henderson\"},\"geometry\":{\"x\":-121.83546324499997,\"y\":39.73998176200007}},{\"attributes\":{\"OBJECTID\":29,\"University_Chapter\":\"Colorado State University\",\"City\":\"Fort Collins \",\"State\":\"CO\",\"ChapterID\":\"CO0108\",\"MEVR_RD\":\"Erik Wettersten\"},\"geometry\":{\"x\":-105.07830037399998,\"y\":40.559236561000034}},{\"attributes\":{\"OBJECTID\":30,\"University_Chapter\":\"McNeese State University\",\"City\":\"Lake Charles\",\"State\":\"LA\",\"ChapterID\":\"LA0159\",\"MEVR_RD\":\"Austin Mouton\"},\"geometry\":{\"x\":-93.208536906999939,\"y\":30.214655572000026}},{\"attributes\":{\"OBJECTID\":31,\"University_Chapter\":\"Michigan State University\",\"City\":\"Lansing\",\"State\":\"MI\",\"ChapterID\":\"MI0010\",\"MEVR_RD\":\"Craig Curtis\"},\"geometry\":{\"x\":-84.558523518999948,\"y\":42.721365267000067}},{\"attributes\":{\"OBJECTID\":33,\"University_Chapter\":\"Arkansas Tech University\",\"City\":\"Russellville\",\"State\":\"AR\",\"ChapterID\":\"AR0130\",\"MEVR_RD\":\"Tye Anderson\"},\"geometry\":{\"x\":-93.136818772999959,\"y\":35.278426965000051}},{\"attributes\":{\"OBJECTID\":34,\"University_Chapter\":\"University of Michigan \",\"City\":\"Ann Arbor\",\"State\":\"MI\",\"ChapterID\":\"MI0251\",\"MEVR_RD\":\"Craig Curtis\"},\"geometry\":{\"x\":-83.739263696999956,\"y\":42.274490838000077}},{\"attributes\":{\"OBJECTID\":35,\"University_Chapter\":\"University of Louisiana- Lafayette\",\"City\":\"Lafayette\",\"State\":\"LA\",\"ChapterID\":\"LA0149\",\"MEVR_RD\":\"Austin Mouton\"},\"geometry\":{\"x\":-92.02936460899997,\"y\":30.213900460000048}},{\"attributes\":{\"OBJECTID\":36,\"University_Chapter\":\"Minnesota State University\",\"City\":\"Mankato\",\"State\":\"MN\",\"ChapterID\":\"MN0255\",\"MEVR_RD\":\"Ben Vaughn\"},\"geometry\":{\"x\":-93.993800299999975,\"y\":44.164500602000032}},{\"attributes\":{\"OBJECTID\":37,\"University_Chapter\":\"Bemidji State University\",\"City\":\"Bemidji\",\"State\":\"MN\",\"ChapterID\":\"MN0221\",\"MEVR_RD\":\"Dalton Rosin\"},\"geometry\":{\"x\":-94.877737304999982,\"y\":47.476526828000033}},{\"attributes\":{\"OBJECTID\":38,\"University_Chapter\":\"Winona State University \",\"City\":\"Winona \",\"State\":\"MN\",\"ChapterID\":\"MN0325\",\"MEVR_RD\":\"Ben Vaughn\"},\"geometry\":{\"x\":-91.647155071999975,\"y\":44.048155033000057}},{\"attributes\":{\"OBJECTID\":40,\"University_Chapter\":\"University of Mississippi\",\"City\":\"Oxford\",\"State\":\"MS\",\"ChapterID\":\"MS0114\",\"MEVR_RD\":\"Hunter Pridgen\"},\"geometry\":{\"x\":-89.526246194999942,\"y\":34.359836403000031}},{\"attributes\":{\"OBJECTID\":41,\"University_Chapter\":\"Mississippi State University\",\"City\":\"Starkville\",\"State\":\"MS\",\"ChapterID\":\"MS0123\",\"MEVR_RD\":\"Hunter Pridgen\"},\"geometry\":{\"x\":-88.819992089999971,\"y\":33.462473554000042}},{\"attributes\":{\"OBJECTID\":43,\"University_Chapter\":\"Murray State University\",\"City\":\"Murray\",\"State\":\"KY\",\"ChapterID\":\"KY0082\",\"MEVR_RD\":\"Bob Bezkor\"},\"geometry\":{\"x\":-88.315655449999952,\"y\":36.609491730000059}},{\"attributes\":{\"OBJECTID\":44,\"University_Chapter\":\"Montana State University\",\"City\":\"Bozeman\",\"State\":\"MT\",\"ChapterID\":\"MT0071\",\"MEVR_RD\":\"Barry Allen\"},\"geometry\":{\"x\":-111.04727341899996,\"y\":45.677891384000077}},{\"attributes\":{\"OBJECTID\":45,\"University_Chapter\":\"University of Minnesota- Duluth\",\"City\":\"Duluth\",\"State\":\"MN\",\"ChapterID\":\"MN0293\",\"MEVR_RD\":\"Rodney Schlafer\"},\"geometry\":{\"x\":-92.117081935999977,\"y\":46.780372542000066}},{\"attributes\":{\"OBJECTID\":47,\"University_Chapter\":\"North Carolina State University\",\"City\":\"Raleigh\",\"State\":\"NC\",\"ChapterID\":\"NC0162\",\"MEVR_RD\":\"Andrew Williams\"},\"geometry\":{\"x\":-78.681671018421767,\"y\":35.731931010436526}},{\"attributes\":{\"OBJECTID\":48,\"University_Chapter\":\"Missouri State University\",\"City\":\"Springfield\",\"State\":\"MO\",\"ChapterID\":\"MO0171\",\"MEVR_RD\":\"Todd Carlton\"},\"geometry\":{\"x\":-93.286209762999988,\"y\":37.195100106000041}},{\"attributes\":{\"OBJECTID\":49,\"University_Chapter\":\"University of Minnesota\",\"City\":\"Minneapolis\",\"State\":\"MN\",\"ChapterID\":\"MN0323\",\"MEVR_RD\":\"John Marks\"},\"geometry\":{\"x\":-93.268200332999982,\"y\":44.964463718000047}},{\"attributes\":{\"OBJECTID\":50,\"University_Chapter\":\"University of North Carolina at Chapel Hill\",\"City\":\"Chapel Hill\",\"State\":\"NC\",\"ChapterID\":\"NC0166\",\"MEVR_RD\":\"Andrew Williams\"},\"geometry\":{\"x\":-79.048691080011409,\"y\":35.908783755451026}},{\"attributes\":{\"OBJECTID\":52,\"University_Chapter\":\"University of North Carolina at Wilmington \",\"City\":\"Wilmington\",\"State\":\"NC\",\"ChapterID\":\"NC0171\",\"MEVR_RD\":\"Dave Neal\"},\"geometry\":{\"x\":-77.912118955999972,\"y\":34.223236619000033}},{\"attributes\":{\"OBJECTID\":53,\"University_Chapter\":\"Appalachian State University\",\"City\":\"Boone\",\"State\":\"NC\",\"ChapterID\":\"NC0125\",\"MEVR_RD\":\"Jon Sturgill\"},\"geometry\":{\"x\":-81.668655400999967,\"y\":36.211364058000072}},{\"attributes\":{\"OBJECTID\":54,\"University_Chapter\":\"University of Missouri\",\"City\":\"Columbia \",\"State\":\"MO\",\"ChapterID\":\"MO0160\",\"MEVR_RD\":\"Trevor Hickman\"},\"geometry\":{\"x\":-92.333781726999973,\"y\":38.948355010000057}},{\"attributes\":{\"OBJECTID\":55,\"University_Chapter\":\"University of Nevada- Reno\",\"City\":\"Reno\",\"State\":\"NV\",\"ChapterID\":\"NV0046\",\"MEVR_RD\":\"Billie Ray Fann\"},\"geometry\":{\"x\":-119.82180863499997,\"y\":39.527109286000041}},{\"attributes\":{\"OBJECTID\":58,\"University_Chapter\":\"State University of New York College of Environmental Science and Forestry\",\"City\":\"Syracuse \",\"State\":\"NY\",\"ChapterID\":\"NY0225\",\"MEVR_RD\":\"Trevor Bentley\"},\"geometry\":{\"x\":-76.144427083999972,\"y\":43.04690049900006}},{\"attributes\":{\"OBJECTID\":59,\"University_Chapter\":\"University of Southern Mississippi\",\"City\":\"Hattiesburg\",\"State\":\"MS\",\"ChapterID\":\"MS0131\",\"MEVR_RD\":\"Tommy Ware\"},\"geometry\":{\"x\":-89.308654704999981,\"y\":31.31597266600005}},{\"attributes\":{\"OBJECTID\":60,\"University_Chapter\":\"Oklahoma State University\",\"City\":\"Stillwater\",\"State\":\"OK\",\"ChapterID\":\"OK0119\",\"MEVR_RD\":\"Nathan Johnson\"},\"geometry\":{\"x\":-97.068537336999952,\"y\":36.121536725000055}},{\"attributes\":{\"OBJECTID\":61,\"University_Chapter\":\"Lake Superior State University\",\"City\":\"Sault Ste. Marie \",\"State\":\"MI\",\"ChapterID\":\"MI0229\",\"MEVR_RD\":\"Kevin Stoltz\"},\"geometry\":{\"x\":-84.364238327999942,\"y\":46.493349469000066}},{\"attributes\":{\"OBJECTID\":63,\"University_Chapter\":\"Citadel College\",\"City\":\"Charleston\",\"State\":\"SC\",\"ChapterID\":\"SC0085\",\"MEVR_RD\":\"James Meadows\"},\"geometry\":{\"x\":-79.961664449750771,\"y\":32.796290336194616}},{\"attributes\":{\"OBJECTID\":64,\"University_Chapter\":\"Wofford College\",\"City\":\"Spartanburg\",\"State\":\"SC\",\"ChapterID\":\"SC0089\",\"MEVR_RD\":\"Tanner Quattlebaum\"},\"geometry\":{\"x\":-81.927600302999963,\"y\":34.946773486000041}},{\"attributes\":{\"OBJECTID\":65,\"University_Chapter\":\"Anderson University\",\"City\":\"Anderson \",\"State\":\"SC\",\"ChapterID\":\"SC0101\",\"MEVR_RD\":\"Tanner Quattlebaum\"},\"geometry\":{\"x\":-82.648946258999956,\"y\":34.514509031000046}},{\"attributes\":{\"OBJECTID\":66,\"University_Chapter\":\"East Carolina University\",\"City\":\"Greenville\",\"State\":\"NC\",\"ChapterID\":\"NC0168\",\"MEVR_RD\":\"Dave Neal\"},\"geometry\":{\"x\":-77.372364628999946,\"y\":35.60160959500007}},{\"attributes\":{\"OBJECTID\":67,\"University_Chapter\":\"Clemson University\",\"City\":\"Clemson\",\"State\":\"SC\",\"ChapterID\":\"SC0082\",\"MEVR_RD\":\"Tanner Quattlebaum\"},\"geometry\":{\"x\":-82.814773351999975,\"y\":34.684927723000044}},{\"attributes\":{\"OBJECTID\":70,\"University_Chapter\":\"University of Tennessee-Knoxville\",\"City\":\"Knoxville\",\"State\":\"TN\",\"ChapterID\":\"TN0087\",\"MEVR_RD\":\"Charlie Lowery\"},\"geometry\":{\"x\":-83.942164490999971,\"y\":35.97288185900004}},{\"attributes\":{\"OBJECTID\":73,\"University_Chapter\":\"University of South Carolina\",\"City\":\"Columbia \",\"State\":\"SC\",\"ChapterID\":\"SC0079\",\"MEVR_RD\":\"James Meadows\"},\"geometry\":{\"x\":-81.010755332999963,\"y\":34.017109246000075}},{\"attributes\":{\"OBJECTID\":74,\"University_Chapter\":\"Furman  University\",\"City\":\"Greenville\",\"State\":\"SC\",\"ChapterID\":\"SC0083\",\"MEVR_RD\":\"Tanner Quattlebaum\"},\"geometry\":{\"x\":-82.385427762999939,\"y\":34.844309464000048}},{\"attributes\":{\"OBJECTID\":75,\"University_Chapter\":\"University of Oklahoma\",\"City\":\"Norman\",\"State\":\"OK\",\"ChapterID\":\"OK0116\",\"MEVR_RD\":\"Nathan Johnson\"},\"geometry\":{\"x\":-97.443470931412051,\"y\":35.188235574216606}},{\"attributes\":{\"OBJECTID\":76,\"University_Chapter\":\"Texas A&M University\",\"City\":\"College Station\",\"State\":\"TX\",\"ChapterID\":\"TX0217\",\"MEVR_RD\":\"Rob Wilson\"},\"geometry\":{\"x\":-96.346168147555971,\"y\":30.605795670052562}},{\"attributes\":{\"OBJECTID\":77,\"University_Chapter\":\"Texas A&M University-Kingsville\",\"City\":\"Kingsville\",\"State\":\"TX\",\"ChapterID\":\"TX0176\",\"MEVR_RD\":\"Clint Pace\"},\"geometry\":{\"x\":-97.865510153999992,\"y\":27.51502722500004}},{\"attributes\":{\"OBJECTID\":78,\"University_Chapter\":\"University of Tennessee at Martin\",\"City\":\"Martin\",\"State\":\"TN\",\"ChapterID\":\"TN0117\",\"MEVR_RD\":\"Jimbo Robinson\"},\"geometry\":{\"x\":-88.865615256549859,\"y\":36.340967939914428}},{\"attributes\":{\"OBJECTID\":79,\"University_Chapter\":\"University of Nebraska- Lincoln\",\"City\":\"Lincoln\",\"State\":\"NE\",\"ChapterID\":\"NE0101\",\"MEVR_RD\":\"Steve Wilson\"},\"geometry\":{\"x\":-96.710623551937445,\"y\":40.817151817135908}},{\"attributes\":{\"OBJECTID\":80,\"University_Chapter\":\"Texas Tech University\",\"City\":\"Lubbock\",\"State\":\"TX\",\"ChapterID\":\"TX0164\",\"MEVR_RD\":\"Randall Foster\"},\"geometry\":{\"x\":-101.87288813892019,\"y\":33.591060461613644}},{\"attributes\":{\"OBJECTID\":81,\"University_Chapter\":\"James Madison University\",\"City\":\"Harrisonburg\",\"State\":\"VA\",\"ChapterID\":\"VA0100\",\"MEVR_RD\":\"Shawn Kooyman\"},\"geometry\":{\"x\":-78.872755544999961,\"y\":38.443282004000025}},{\"attributes\":{\"OBJECTID\":82,\"University_Chapter\":\"University of Wisconsin-Madison\",\"City\":\"Madison\",\"State\":\"WI\",\"ChapterID\":\"WI0303\",\"MEVR_RD\":\"William Gross\"},\"geometry\":{\"x\":-89.394755128999975,\"y\":43.074609771000041}},{\"attributes\":{\"OBJECTID\":83,\"University_Chapter\":\"Milwaukee School of Engineering \",\"City\":\"Milwaukee\",\"State\":\"WI\",\"ChapterID\":\"WI0328\",\"MEVR_RD\":\"Tom Munich\"},\"geometry\":{\"x\":-87.955909370999962,\"y\":43.052164101000074}},{\"attributes\":{\"OBJECTID\":85,\"University_Chapter\":\"Tennessee Tech University\",\"City\":\"Cookeville\",\"State\":\"TN\",\"ChapterID\":\"TN0111\",\"MEVR_RD\":\"Charlie Lowery\"},\"geometry\":{\"x\":-85.506150414847326,\"y\":36.178118883774594}},{\"attributes\":{\"OBJECTID\":87,\"University_Chapter\":\"Stephen F. Austin State University\",\"City\":\"Nacogdoches\",\"State\":\"TX\",\"ChapterID\":\"TX0255\",\"MEVR_RD\":\"Jason McKey\"},\"geometry\":{\"x\":-94.64438432302,\"y\":31.625721030118193}},{\"attributes\":{\"OBJECTID\":88,\"University_Chapter\":\"Virginia Tech University\",\"City\":\"Blacksburg\",\"State\":\"VA\",\"ChapterID\":\"VA0089\",\"MEVR_RD\":\"Shawn Kooyman\"},\"geometry\":{\"x\":-80.417691218999948,\"y\":37.229873329000043}},{\"attributes\":{\"OBJECTID\":91,\"University_Chapter\":\"University of Wisconsin-Stevens Point\",\"City\":\"Stevens Point\",\"State\":\"WI\",\"ChapterID\":\"WI0340\",\"MEVR_RD\":\"Michael Brumley\"},\"geometry\":{\"x\":-89.560318510999991,\"y\":44.523036516000047}},{\"attributes\":{\"OBJECTID\":92,\"University_Chapter\":\"University of Wisconsin-Green Bay\",\"City\":\"Green Bay\",\"State\":\"WI\",\"ChapterID\":\"WI0337\",\"MEVR_RD\":\"Chris Anderson\"},\"geometry\":{\"x\":-88.015791810999986,\"y\":44.513446041000066}},{\"attributes\":{\"OBJECTID\":494,\"University_Chapter\":\"University of North Georgia\",\"City\":\"Dahlonega\",\"State\":\"GA\",\"ChapterID\":\"GA0173\",\"MEVR_RD\":\"Scott James\"},\"geometry\":{\"x\":-83.984070824999947,\"y\":34.527711047000025}},{\"attributes\":{\"OBJECTID\":895,\"University_Chapter\":\"College of Saint Benedict & Saint John's University\",\"City\":\"St. Joseph\",\"State\":\"MN\",\"ChapterID\":\"MN0295\",\"MEVR_RD\":\"Kyle Momsen\"},\"geometry\":{\"x\":-94.32021552599997,\"y\":45.558805661000065}},{\"attributes\":{\"OBJECTID\":897,\"University_Chapter\":\"Sewnee: The University of the South\",\"City\":\"Sewanee\",\"State\":\"TN\",\"ChapterID\":\"TN0096\",\"MEVR_RD\":\"Charlie Lowery\"},\"geometry\":{\"x\":-85.91893143599998,\"y\":35.204197456000031}},{\"attributes\":{\"OBJECTID\":1295,\"University_Chapter\":\"Gustavus Adolphus College\",\"City\":\"St. Peter\",\"State\":\"MN\",\"ChapterID\":\"MN0335\",\"MEVR_RD\":\"Ben Vaughn\"},\"geometry\":{\"x\":-93.971489954999981,\"y\":44.323282730000074}},{\"attributes\":{\"OBJECTID\":1297,\"University_Chapter\":\"Michigan Tech University\",\"City\":\"Houghton\",\"State\":\"MI\",\"ChapterID\":\"MI0248\",\"MEVR_RD\":\"Kevin Stoltz\"},\"geometry\":{\"x\":-88.549947877999955,\"y\":47.110223528000063}},{\"attributes\":{\"OBJECTID\":1299,\"University_Chapter\":\"Washington and Lee University\",\"City\":\"Lexington\",\"State\":\"VA\",\"ChapterID\":\"VA0083\",\"MEVR_RD\":null},\"geometry\":{\"x\":-79.445957614999941,\"y\":37.790720423000039}},{\"attributes\":{\"OBJECTID\":1300,\"University_Chapter\":\"Randolph-Macon College\",\"City\":\"Ashland\",\"State\":\"VA\",\"ChapterID\":\"VA0101\",\"MEVR_RD\":\"Shawn Kooyman\"},\"geometry\":{\"x\":-77.477613676999965,\"y\":37.764207472000066}},{\"attributes\":{\"OBJECTID\":1696,\"University_Chapter\":\"State University of New York at Cobleskill\",\"City\":\"Cobleskill\",\"State\":\"NY\",\"ChapterID\":\"NY0222\",\"MEVR_RD\":\"Eric Mathiesen\"},\"geometry\":{\"x\":-74.504260647999956,\"y\":42.67182015800006}},{\"attributes\":{\"OBJECTID\":1698,\"University_Chapter\":\"Texas State University\",\"City\":\"Marcos\",\"State\":\"TX\",\"ChapterID\":\"TX0246\",\"MEVR_RD\":\"Rob Wilson\"},\"geometry\":{\"x\":-97.939955002999966,\"y\":29.889025091000065}},{\"attributes\":{\"OBJECTID\":1699,\"University_Chapter\":\"Hampden-Sydney College\",\"City\":\"Farmville\",\"State\":\"VA\",\"ChapterID\":\"VA0090\",\"MEVR_RD\":\"Shawn Kooyman\"},\"geometry\":{\"x\":-78.459182202999955,\"y\":37.243520854000053}},{\"attributes\":{\"OBJECTID\":1700,\"University_Chapter\":\"University of Wisconsin-Stout\",\"City\":\"Stout\",\"State\":\"WI\",\"ChapterID\":\"WI0342\",\"MEVR_RD\":\"Rodney Schlafer\"},\"geometry\":{\"x\":-91.92780072499994,\"y\":44.873682448000068}},{\"attributes\":{\"OBJECTID\":1708,\"University_Chapter\":\"University of Tennessee-Chattanooga\",\"City\":\"Chattanooga\",\"State\":\"TN\",\"ChapterID\":\"TN132\",\"MEVR_RD\":\"Charlie Lowery\"},\"geometry\":{\"x\":-85.297460941772442,\"y\":35.045264131127055}},{\"attributes\":{\"OBJECTID\":1711,\"University_Chapter\":\"University of Wisconsin-Whitewater\",\"City\":\"Whitewater\",\"State\":\"WI\",\"ChapterID\":\"WI0331\",\"MEVR_RD\":\"Tom Munich\"},\"geometry\":{\"x\":-88.743578134918138,\"y\":42.837195780105226}},{\"attributes\":{\"OBJECTID\":1712,\"University_Chapter\":\"Georgia College & State University\",\"City\":\"Milledgeville\",\"State\":\"GA\",\"ChapterID\":\"GA0151\",\"MEVR_RD\":\"Brice Crawford\"},\"geometry\":{\"x\":-83.228505862426715,\"y\":33.080997978037487}},{\"attributes\":{\"OBJECTID\":1715,\"University_Chapter\":\"University of Virginia\",\"City\":\"Charlottesville\",\"State\":\"VA\",\"ChapterID\":\"VA0088\",\"MEVR_RD\":\"Shawn Kooyman\"},\"geometry\":{\"x\":-78.515739148254653,\"y\":38.033886106835538}},{\"attributes\":{\"OBJECTID\":1716,\"University_Chapter\":\"Campbell University\",\"City\":\"Buies Creek\",\"State\":\"NC\",\"ChapterID\":\"NC0144\",\"MEVR_RD\":\"Dave Neal\"},\"geometry\":{\"x\":-78.739453644180713,\"y\":35.408358577835443}},{\"attributes\":{\"OBJECTID\":1717,\"University_Chapter\":\"University of Arizona\",\"City\":\"Tuscon\",\"State\":\"AZ\",\"ChapterID\":\"AZ0070\",\"MEVR_RD\":\"Andrew Limmer\"},\"geometry\":{\"x\":-110.95388132263207,\"y\":32.231896753417089}},{\"attributes\":{\"OBJECTID\":1720,\"University_Chapter\":\"Northern Michigan University\",\"City\":\"Marquette\",\"State\":\"MI\",\"ChapterID\":\"MI0256\",\"MEVR_RD\":\"Kevin L. Stoltz\"},\"geometry\":{\"x\":-87.406636519125982,\"y\":46.558718746154319}},{\"attributes\":{\"OBJECTID\":1722,\"University_Chapter\":\"University of Nebraska- Kearney\",\"City\":\"Kearney\",\"State\":\"NE\",\"ChapterID\":\"NE0116\",\"MEVR_RD\":\"Pat Baughman\"},\"geometry\":{\"x\":-99.096349967689292,\"y\":40.701703292254813}},{\"attributes\":{\"OBJECTID\":1723,\"University_Chapter\":\"Ohio State University\",\"City\":\"Columbus\",\"State\":\"OH\",\"ChapterID\":\"OH0131\",\"MEVR_RD\":\"Aaron Dynes\"},\"geometry\":{\"x\":-83.01107557678165,\"y\":39.999646720461762}},{\"attributes\":{\"OBJECTID\":1727,\"University_Chapter\":\"University of Florida/Gainesville\",\"City\":\"Gainesville\",\"State\":\"FL\",\"ChapterID\":\"FL-0126\",\"MEVR_RD\":\"Jarrett Lafferty\"},\"geometry\":{\"x\":-82.3552443873829,\"y\":29.642362842802008}},{\"attributes\":{\"OBJECTID\":1729,\"University_Chapter\":\"Arkansas State University\",\"City\":\"Jonesboro\",\"State\":\"AR\",\"ChapterID\":\"AR-0113\",\"MEVR_RD\":\"Tye Anderson\"},\"geometry\":{\"x\":-90.67573616535374,\"y\":35.841675845082648}},{\"attributes\":{\"OBJECTID\":1730,\"University_Chapter\":\"Vandal Chapter\",\"City\":\"Moscow\",\"State\":\"ID\",\"ChapterID\":\"ID-0089\",\"MEVR_RD\":\"Mond Warren\"},\"geometry\":{\"x\":-117.01428457153312,\"y\":46.728181890542324}},{\"attributes\":{\"OBJECTID\":1732,\"University_Chapter\":\"Michigan Tech University\",\"City\":\"Houghton\",\"State\":\"MI\",\"ChapterID\":\"MI-0248\",\"MEVR_RD\":\"Chris Anderson\"},\"geometry\":{\"x\":-88.550598424289234,\"y\":47.119183316440825}},{\"attributes\":{\"OBJECTID\":1733,\"University_Chapter\":\"Ferris State University\",\"City\":\"Big Rapids\",\"State\":\"MI\",\"ChapterID\":\"MI-0260\",\"MEVR_RD\":\"Craig Curtis\"},\"geometry\":{\"x\":-85.482480031738248,\"y\":43.686549935172572}},{\"attributes\":{\"OBJECTID\":1735,\"University_Chapter\":\"St. Lawrence University\",\"City\":\"Canton\",\"State\":\"NY\",\"ChapterID\":\"NY-0217\",\"MEVR_RD\":\"Eric Mathiesen\"},\"geometry\":{\"x\":-75.159566677246076,\"y\":44.593545160979687}},{\"attributes\":{\"OBJECTID\":1736,\"University_Chapter\":\"College of Charleston\",\"City\":\"Charleston\",\"State\":\"SC\",\"ChapterID\":\"SC-0007\",\"MEVR_RD\":\"James Meadows\"},\"geometry\":{\"x\":-79.937647431494057,\"y\":32.784834526386248}},{\"attributes\":{\"OBJECTID\":1737,\"University_Chapter\":\"VMI\",\"City\":\"Lexington\",\"State\":\"VA\",\"ChapterID\":\"VA-0102\",\"MEVR_RD\":\"Shawn Kooyman\"},\"geometry\":{\"x\":-79.439355321972769,\"y\":37.790081021150293}},{\"attributes\":{\"OBJECTID\":1738,\"University_Chapter\":\"Marist College\",\"City\":\"Poughkeepsie\",\"State\":\"NY\",\"ChapterID\":\"NY-0233\",\"MEVR_RD\":\"Eric Mathiesen\"},\"geometry\":{\"x\":-73.935163952259373,\"y\":41.721244862849744}},{\"attributes\":{\"OBJECTID\":1739,\"University_Chapter\":\"Nebraska Wesleyan University\",\"City\":\"Lincoln\",\"State\":\"NE\",\"ChapterID\":\"NE-0118\",\"MEVR_RD\":\"Steve Wilson\"},\"geometry\":{\"x\":-96.649732215632554,\"y\":40.838800882143069}},{\"attributes\":{\"OBJECTID\":1740,\"University_Chapter\":\"Tuskegee University\",\"City\":\"Tuskegee\",\"State\":\"AL\",\"ChapterID\":null,\"MEVR_RD\":\"Neely Raper\"},\"geometry\":{\"x\":-85.710851629638654,\"y\":32.43220425699198}}]}\n"
     ]
    }
   ],
   "source": [
    "print(response.text)"
   ]
  },
  {
   "cell_type": "code",
   "execution_count": 35,
   "metadata": {},
   "outputs": [
    {
     "data": {
      "text/plain": [
       "{'attributes': {'OBJECTID': 2,\n",
       "  'University_Chapter': 'Florida State University',\n",
       "  'City': 'Tallahassee',\n",
       "  'State': 'FL',\n",
       "  'ChapterID': 'FL0110',\n",
       "  'MEVR_RD': 'Jarrett Lafferty'},\n",
       " 'geometry': {'x': -84.30427263699994, 'y': 30.438110943000027}}"
      ]
     },
     "execution_count": 35,
     "metadata": {},
     "output_type": "execute_result"
    }
   ],
   "source": [
    "results['features'][0]"
   ]
  },
  {
   "cell_type": "code",
   "execution_count": 49,
   "metadata": {},
   "outputs": [],
   "source": [
    "data = pd.DataFrame.from_dict(results['features'][0], orient= 'index')\n",
    "\n",
    "for i in range(1, 97):\n",
    "    data2 = pd.DataFrame.from_dict(results['features'][i], orient= 'index')\n",
    "    data = pd.concat([data, data2], axis=0)\n",
    "    \n",
    "    data"
   ]
  },
  {
   "cell_type": "code",
   "execution_count": 37,
   "metadata": {},
   "outputs": [
    {
     "data": {
      "text/html": [
       "<div>\n",
       "<style scoped>\n",
       "    .dataframe tbody tr th:only-of-type {\n",
       "        vertical-align: middle;\n",
       "    }\n",
       "\n",
       "    .dataframe tbody tr th {\n",
       "        vertical-align: top;\n",
       "    }\n",
       "\n",
       "    .dataframe thead th {\n",
       "        text-align: right;\n",
       "    }\n",
       "</style>\n",
       "<table border=\"1\" class=\"dataframe\">\n",
       "  <thead>\n",
       "    <tr style=\"text-align: right;\">\n",
       "      <th></th>\n",
       "      <th>OBJECTID</th>\n",
       "      <th>University_Chapter</th>\n",
       "      <th>City</th>\n",
       "      <th>State</th>\n",
       "      <th>ChapterID</th>\n",
       "      <th>MEVR_RD</th>\n",
       "      <th>x</th>\n",
       "      <th>y</th>\n",
       "    </tr>\n",
       "  </thead>\n",
       "  <tbody>\n",
       "    <tr>\n",
       "      <th>attributes</th>\n",
       "      <td>2.0</td>\n",
       "      <td>Florida State University</td>\n",
       "      <td>Tallahassee</td>\n",
       "      <td>FL</td>\n",
       "      <td>FL0110</td>\n",
       "      <td>Jarrett Lafferty</td>\n",
       "      <td>NaN</td>\n",
       "      <td>NaN</td>\n",
       "    </tr>\n",
       "    <tr>\n",
       "      <th>geometry</th>\n",
       "      <td>NaN</td>\n",
       "      <td>NaN</td>\n",
       "      <td>NaN</td>\n",
       "      <td>NaN</td>\n",
       "      <td>NaN</td>\n",
       "      <td>NaN</td>\n",
       "      <td>-84.304273</td>\n",
       "      <td>30.438111</td>\n",
       "    </tr>\n",
       "    <tr>\n",
       "      <th>attributes</th>\n",
       "      <td>3.0</td>\n",
       "      <td>Abraham Baldwin Agricultural College</td>\n",
       "      <td>Tifton</td>\n",
       "      <td>GA</td>\n",
       "      <td>GA0020</td>\n",
       "      <td>Brice Crawford</td>\n",
       "      <td>NaN</td>\n",
       "      <td>NaN</td>\n",
       "    </tr>\n",
       "    <tr>\n",
       "      <th>geometry</th>\n",
       "      <td>NaN</td>\n",
       "      <td>NaN</td>\n",
       "      <td>NaN</td>\n",
       "      <td>NaN</td>\n",
       "      <td>NaN</td>\n",
       "      <td>NaN</td>\n",
       "      <td>-83.510064</td>\n",
       "      <td>31.463418</td>\n",
       "    </tr>\n",
       "    <tr>\n",
       "      <th>attributes</th>\n",
       "      <td>4.0</td>\n",
       "      <td>University of Georgia</td>\n",
       "      <td>Athens</td>\n",
       "      <td>GA</td>\n",
       "      <td>GA0133</td>\n",
       "      <td>Scott James</td>\n",
       "      <td>NaN</td>\n",
       "      <td>NaN</td>\n",
       "    </tr>\n",
       "  </tbody>\n",
       "</table>\n",
       "</div>"
      ],
      "text/plain": [
       "            OBJECTID  ...          y\n",
       "attributes       2.0  ...        NaN\n",
       "geometry         NaN  ...  30.438111\n",
       "attributes       3.0  ...        NaN\n",
       "geometry         NaN  ...  31.463418\n",
       "attributes       4.0  ...        NaN\n",
       "\n",
       "[5 rows x 8 columns]"
      ]
     },
     "execution_count": 37,
     "metadata": {},
     "output_type": "execute_result"
    }
   ],
   "source": [
    "data.head(5)"
   ]
  },
  {
   "cell_type": "code",
   "execution_count": 38,
   "metadata": {},
   "outputs": [
    {
     "data": {
      "text/plain": [
       "Index(['OBJECTID', 'University_Chapter', 'City', 'State', 'ChapterID',\n",
       "       'MEVR_RD', 'x', 'y'],\n",
       "      dtype='object')"
      ]
     },
     "execution_count": 38,
     "metadata": {},
     "output_type": "execute_result"
    }
   ],
   "source": [
    "data.columns"
   ]
  },
  {
   "cell_type": "code",
   "execution_count": 41,
   "metadata": {},
   "outputs": [],
   "source": [
    "# attributes dataframe\n",
    "attributes= data[data['x'].isnull() == True]\n",
    "attributes=attributes[[\"OBJECTID\",\"University_Chapter\",\"City\",\"State\",\"ChapterID\",\"MEVR_RD\"]]\n",
    "attributes.reset_index(inplace=True)"
   ]
  },
  {
   "cell_type": "code",
   "execution_count": 43,
   "metadata": {},
   "outputs": [],
   "source": [
    "#geometry dataframe\n",
    "geometry= data[data['x'].isnull() == False]\n",
    "geometry=geometry[['x','y']]\n",
    "geometry.reset_index(inplace=True)"
   ]
  },
  {
   "cell_type": "code",
   "execution_count": 47,
   "metadata": {},
   "outputs": [
    {
     "data": {
      "text/html": [
       "<div>\n",
       "<style scoped>\n",
       "    .dataframe tbody tr th:only-of-type {\n",
       "        vertical-align: middle;\n",
       "    }\n",
       "\n",
       "    .dataframe tbody tr th {\n",
       "        vertical-align: top;\n",
       "    }\n",
       "\n",
       "    .dataframe thead th {\n",
       "        text-align: right;\n",
       "    }\n",
       "</style>\n",
       "<table border=\"1\" class=\"dataframe\">\n",
       "  <thead>\n",
       "    <tr style=\"text-align: right;\">\n",
       "      <th></th>\n",
       "      <th>index</th>\n",
       "      <th>OBJECTID</th>\n",
       "      <th>University_Chapter</th>\n",
       "      <th>City</th>\n",
       "      <th>State</th>\n",
       "      <th>ChapterID</th>\n",
       "      <th>MEVR_RD</th>\n",
       "      <th>index</th>\n",
       "      <th>x</th>\n",
       "      <th>y</th>\n",
       "    </tr>\n",
       "  </thead>\n",
       "  <tbody>\n",
       "    <tr>\n",
       "      <th>0</th>\n",
       "      <td>attributes</td>\n",
       "      <td>2.0</td>\n",
       "      <td>Florida State University</td>\n",
       "      <td>Tallahassee</td>\n",
       "      <td>FL</td>\n",
       "      <td>FL0110</td>\n",
       "      <td>Jarrett Lafferty</td>\n",
       "      <td>geometry</td>\n",
       "      <td>-84.304273</td>\n",
       "      <td>30.438111</td>\n",
       "    </tr>\n",
       "    <tr>\n",
       "      <th>1</th>\n",
       "      <td>attributes</td>\n",
       "      <td>3.0</td>\n",
       "      <td>Abraham Baldwin Agricultural College</td>\n",
       "      <td>Tifton</td>\n",
       "      <td>GA</td>\n",
       "      <td>GA0020</td>\n",
       "      <td>Brice Crawford</td>\n",
       "      <td>geometry</td>\n",
       "      <td>-83.510064</td>\n",
       "      <td>31.463418</td>\n",
       "    </tr>\n",
       "    <tr>\n",
       "      <th>2</th>\n",
       "      <td>attributes</td>\n",
       "      <td>4.0</td>\n",
       "      <td>University of Georgia</td>\n",
       "      <td>Athens</td>\n",
       "      <td>GA</td>\n",
       "      <td>GA0133</td>\n",
       "      <td>Scott James</td>\n",
       "      <td>geometry</td>\n",
       "      <td>-83.383246</td>\n",
       "      <td>33.955464</td>\n",
       "    </tr>\n",
       "    <tr>\n",
       "      <th>3</th>\n",
       "      <td>attributes</td>\n",
       "      <td>5.0</td>\n",
       "      <td>Georgia Southern University</td>\n",
       "      <td>Statesboro</td>\n",
       "      <td>GA</td>\n",
       "      <td>GA0144</td>\n",
       "      <td>Brice Crawford</td>\n",
       "      <td>geometry</td>\n",
       "      <td>-81.779237</td>\n",
       "      <td>32.445146</td>\n",
       "    </tr>\n",
       "    <tr>\n",
       "      <th>4</th>\n",
       "      <td>attributes</td>\n",
       "      <td>6.0</td>\n",
       "      <td>Georgia Tech University</td>\n",
       "      <td>Atlanta</td>\n",
       "      <td>GA</td>\n",
       "      <td>GA0147</td>\n",
       "      <td>Scott James</td>\n",
       "      <td>geometry</td>\n",
       "      <td>-84.403173</td>\n",
       "      <td>33.759509</td>\n",
       "    </tr>\n",
       "  </tbody>\n",
       "</table>\n",
       "</div>"
      ],
      "text/plain": [
       "        index  OBJECTID  ...          x          y\n",
       "0  attributes       2.0  ... -84.304273  30.438111\n",
       "1  attributes       3.0  ... -83.510064  31.463418\n",
       "2  attributes       4.0  ... -83.383246  33.955464\n",
       "3  attributes       5.0  ... -81.779237  32.445146\n",
       "4  attributes       6.0  ... -84.403173  33.759509\n",
       "\n",
       "[5 rows x 10 columns]"
      ]
     },
     "execution_count": 47,
     "metadata": {},
     "output_type": "execute_result"
    }
   ],
   "source": [
    "chapters_df = pd.concat([attributes, geometry], axis=1)\n",
    "\n",
    "chapters_df.head()"
   ]
  },
  {
   "cell_type": "code",
   "execution_count": 45,
   "metadata": {
    "scrolled": true
   },
   "outputs": [
    {
     "data": {
      "text/html": [
       "<div>\n",
       "<style scoped>\n",
       "    .dataframe tbody tr th:only-of-type {\n",
       "        vertical-align: middle;\n",
       "    }\n",
       "\n",
       "    .dataframe tbody tr th {\n",
       "        vertical-align: top;\n",
       "    }\n",
       "\n",
       "    .dataframe thead th {\n",
       "        text-align: right;\n",
       "    }\n",
       "</style>\n",
       "<table border=\"1\" class=\"dataframe\">\n",
       "  <thead>\n",
       "    <tr style=\"text-align: right;\">\n",
       "      <th></th>\n",
       "      <th>OBJECTID</th>\n",
       "      <th>University_Chapter</th>\n",
       "      <th>City</th>\n",
       "      <th>State</th>\n",
       "      <th>ChapterID</th>\n",
       "      <th>MEVR_RD</th>\n",
       "      <th>x</th>\n",
       "      <th>y</th>\n",
       "    </tr>\n",
       "  </thead>\n",
       "  <tbody>\n",
       "    <tr>\n",
       "      <th>0</th>\n",
       "      <td>2.0</td>\n",
       "      <td>Florida State University</td>\n",
       "      <td>Tallahassee</td>\n",
       "      <td>FL</td>\n",
       "      <td>FL0110</td>\n",
       "      <td>Jarrett Lafferty</td>\n",
       "      <td>-84.304273</td>\n",
       "      <td>30.438111</td>\n",
       "    </tr>\n",
       "    <tr>\n",
       "      <th>1</th>\n",
       "      <td>3.0</td>\n",
       "      <td>Abraham Baldwin Agricultural College</td>\n",
       "      <td>Tifton</td>\n",
       "      <td>GA</td>\n",
       "      <td>GA0020</td>\n",
       "      <td>Brice Crawford</td>\n",
       "      <td>-83.510064</td>\n",
       "      <td>31.463418</td>\n",
       "    </tr>\n",
       "    <tr>\n",
       "      <th>2</th>\n",
       "      <td>4.0</td>\n",
       "      <td>University of Georgia</td>\n",
       "      <td>Athens</td>\n",
       "      <td>GA</td>\n",
       "      <td>GA0133</td>\n",
       "      <td>Scott James</td>\n",
       "      <td>-83.383246</td>\n",
       "      <td>33.955464</td>\n",
       "    </tr>\n",
       "    <tr>\n",
       "      <th>3</th>\n",
       "      <td>5.0</td>\n",
       "      <td>Georgia Southern University</td>\n",
       "      <td>Statesboro</td>\n",
       "      <td>GA</td>\n",
       "      <td>GA0144</td>\n",
       "      <td>Brice Crawford</td>\n",
       "      <td>-81.779237</td>\n",
       "      <td>32.445146</td>\n",
       "    </tr>\n",
       "    <tr>\n",
       "      <th>4</th>\n",
       "      <td>6.0</td>\n",
       "      <td>Georgia Tech University</td>\n",
       "      <td>Atlanta</td>\n",
       "      <td>GA</td>\n",
       "      <td>GA0147</td>\n",
       "      <td>Scott James</td>\n",
       "      <td>-84.403173</td>\n",
       "      <td>33.759509</td>\n",
       "    </tr>\n",
       "  </tbody>\n",
       "</table>\n",
       "</div>"
      ],
      "text/plain": [
       "   OBJECTID                    University_Chapter  ...          x          y\n",
       "0       2.0              Florida State University  ... -84.304273  30.438111\n",
       "1       3.0  Abraham Baldwin Agricultural College  ... -83.510064  31.463418\n",
       "2       4.0                 University of Georgia  ... -83.383246  33.955464\n",
       "3       5.0           Georgia Southern University  ... -81.779237  32.445146\n",
       "4       6.0               Georgia Tech University  ... -84.403173  33.759509\n",
       "\n",
       "[5 rows x 8 columns]"
      ]
     },
     "execution_count": 45,
     "metadata": {},
     "output_type": "execute_result"
    }
   ],
   "source": [
    "chapters_df.drop(['index','index'], inplace=True, axis=1)\n",
    "\n",
    "chapters_df.head()"
   ]
  },
  {
   "cell_type": "markdown",
   "metadata": {},
   "source": [
    "## API 3 "
   ]
  },
  {
   "cell_type": "code",
   "execution_count": 57,
   "metadata": {},
   "outputs": [
    {
     "name": "stdout",
     "output_type": "stream",
     "text": [
      "results:  200\n"
     ]
    }
   ],
   "source": [
    "response = requests.get('https://api.chucknorris.io/jokes/random')\n",
    "\n",
    "results = response.json()\n",
    "\n",
    "print(\"results: \", response.status_code)"
   ]
  },
  {
   "cell_type": "code",
   "execution_count": 51,
   "metadata": {},
   "outputs": [
    {
     "data": {
      "text/plain": [
       "{'categories': [],\n",
       " 'created_at': '2020-01-05 13:42:25.099703',\n",
       " 'icon_url': 'https://assets.chucknorris.host/img/avatar/chuck-norris.png',\n",
       " 'id': 'HciRBEQ1QEuc4-Wu_CiMgg',\n",
       " 'updated_at': '2020-01-05 13:42:25.099703',\n",
       " 'url': 'https://api.chucknorris.io/jokes/HciRBEQ1QEuc4-Wu_CiMgg',\n",
       " 'value': 'When Chuck Norris was born, the only person that cried was the doctor. You NEVER slap Chuck Norris.'}"
      ]
     },
     "execution_count": 51,
     "metadata": {},
     "output_type": "execute_result"
    }
   ],
   "source": [
    "results"
   ]
  },
  {
   "cell_type": "code",
   "execution_count": 54,
   "metadata": {},
   "outputs": [
    {
     "data": {
      "text/plain": [
       "'When Chuck Norris was born, the only person that cried was the doctor. You NEVER slap Chuck Norris.'"
      ]
     },
     "execution_count": 54,
     "metadata": {},
     "output_type": "execute_result"
    }
   ],
   "source": [
    "results['value']"
   ]
  },
  {
   "cell_type": "code",
   "execution_count": 146,
   "metadata": {
    "scrolled": true
   },
   "outputs": [
    {
     "name": "stdout",
     "output_type": "stream",
     "text": [
      "{\"categories\":[],\"created_at\":\"2020-01-05 13:42:28.420821\",\"icon_url\":\"https://assets.chucknorris.host/img/avatar/chuck-norris.png\",\"id\":\"ng51yXYESzum3sFpgN-nCA\",\"updated_at\":\"2020-01-05 13:42:28.420821\",\"url\":\"https://api.chucknorris.io/jokes/ng51yXYESzum3sFpgN-nCA\",\"value\":\"Chuck Norris eats tree leafs and shits 100 dollar bills.\"}\n"
     ]
    }
   ],
   "source": [
    "print(chucknorris.text)"
   ]
  },
  {
   "cell_type": "code",
   "execution_count": 58,
   "metadata": {
    "scrolled": true
   },
   "outputs": [
    {
     "data": {
      "text/html": [
       "<div>\n",
       "<style scoped>\n",
       "    .dataframe tbody tr th:only-of-type {\n",
       "        vertical-align: middle;\n",
       "    }\n",
       "\n",
       "    .dataframe tbody tr th {\n",
       "        vertical-align: top;\n",
       "    }\n",
       "\n",
       "    .dataframe thead th {\n",
       "        text-align: right;\n",
       "    }\n",
       "</style>\n",
       "<table border=\"1\" class=\"dataframe\">\n",
       "  <thead>\n",
       "    <tr style=\"text-align: right;\">\n",
       "      <th></th>\n",
       "      <th>categories</th>\n",
       "      <th>created_at</th>\n",
       "      <th>icon_url</th>\n",
       "      <th>id</th>\n",
       "      <th>updated_at</th>\n",
       "      <th>url</th>\n",
       "      <th>value</th>\n",
       "    </tr>\n",
       "  </thead>\n",
       "  <tbody>\n",
       "    <tr>\n",
       "      <th>0</th>\n",
       "      <td>None</td>\n",
       "      <td>2</td>\n",
       "      <td>h</td>\n",
       "      <td>E</td>\n",
       "      <td>2</td>\n",
       "      <td>h</td>\n",
       "      <td>H</td>\n",
       "    </tr>\n",
       "    <tr>\n",
       "      <th>1</th>\n",
       "      <td>None</td>\n",
       "      <td>0</td>\n",
       "      <td>t</td>\n",
       "      <td>V</td>\n",
       "      <td>0</td>\n",
       "      <td>t</td>\n",
       "      <td>o</td>\n",
       "    </tr>\n",
       "    <tr>\n",
       "      <th>2</th>\n",
       "      <td>None</td>\n",
       "      <td>2</td>\n",
       "      <td>t</td>\n",
       "      <td>Z</td>\n",
       "      <td>2</td>\n",
       "      <td>t</td>\n",
       "      <td>w</td>\n",
       "    </tr>\n",
       "    <tr>\n",
       "      <th>3</th>\n",
       "      <td>None</td>\n",
       "      <td>0</td>\n",
       "      <td>p</td>\n",
       "      <td>V</td>\n",
       "      <td>0</td>\n",
       "      <td>p</td>\n",
       "      <td></td>\n",
       "    </tr>\n",
       "    <tr>\n",
       "      <th>4</th>\n",
       "      <td>None</td>\n",
       "      <td>-</td>\n",
       "      <td>s</td>\n",
       "      <td>2</td>\n",
       "      <td>-</td>\n",
       "      <td>s</td>\n",
       "      <td>m</td>\n",
       "    </tr>\n",
       "    <tr>\n",
       "      <th>5</th>\n",
       "      <td>None</td>\n",
       "      <td>0</td>\n",
       "      <td>:</td>\n",
       "      <td>Z</td>\n",
       "      <td>0</td>\n",
       "      <td>:</td>\n",
       "      <td>a</td>\n",
       "    </tr>\n",
       "    <tr>\n",
       "      <th>6</th>\n",
       "      <td>None</td>\n",
       "      <td>1</td>\n",
       "      <td>/</td>\n",
       "      <td>b</td>\n",
       "      <td>1</td>\n",
       "      <td>/</td>\n",
       "      <td>n</td>\n",
       "    </tr>\n",
       "    <tr>\n",
       "      <th>7</th>\n",
       "      <td>None</td>\n",
       "      <td>-</td>\n",
       "      <td>/</td>\n",
       "      <td>I</td>\n",
       "      <td>-</td>\n",
       "      <td>/</td>\n",
       "      <td>y</td>\n",
       "    </tr>\n",
       "    <tr>\n",
       "      <th>8</th>\n",
       "      <td>None</td>\n",
       "      <td>0</td>\n",
       "      <td>a</td>\n",
       "      <td>T</td>\n",
       "      <td>0</td>\n",
       "      <td>a</td>\n",
       "      <td></td>\n",
       "    </tr>\n",
       "    <tr>\n",
       "      <th>9</th>\n",
       "      <td>None</td>\n",
       "      <td>5</td>\n",
       "      <td>s</td>\n",
       "      <td>3</td>\n",
       "      <td>5</td>\n",
       "      <td>p</td>\n",
       "      <td>C</td>\n",
       "    </tr>\n",
       "  </tbody>\n",
       "</table>\n",
       "</div>"
      ],
      "text/plain": [
       "  categories created_at icon_url id updated_at url value\n",
       "0       None          2        h  E          2   h     H\n",
       "1       None          0        t  V          0   t     o\n",
       "2       None          2        t  Z          2   t     w\n",
       "3       None          0        p  V          0   p      \n",
       "4       None          -        s  2          -   s     m\n",
       "5       None          0        :  Z          0   :     a\n",
       "6       None          1        /  b          1   /     n\n",
       "7       None          -        /  I          -   /     y\n",
       "8       None          0        a  T          0   a      \n",
       "9       None          5        s  3          5   p     C"
      ]
     },
     "execution_count": 58,
     "metadata": {},
     "output_type": "execute_result"
    }
   ],
   "source": [
    "data = pd.DataFrame.from_dict(results, orient= 'index').transpose()\n",
    "data.head(10)"
   ]
  },
  {
   "cell_type": "code",
   "execution_count": 59,
   "metadata": {},
   "outputs": [],
   "source": [
    "# res1_1 = requests.get('https://api.chucknorris.io/jokes/random').json()\n",
    "# res1_1"
   ]
  },
  {
   "cell_type": "code",
   "execution_count": 60,
   "metadata": {},
   "outputs": [],
   "source": [
    "# print(res1_1['value'])"
   ]
  },
  {
   "cell_type": "code",
   "execution_count": 61,
   "metadata": {},
   "outputs": [],
   "source": [
    "def flatten(data, col_list):\n",
    "    for column in col_list:\n",
    "        flattened = pd.DataFrame(dict(data[column])).transpose()\n",
    "        columns = [str(col) for col in flattened.columns]\n",
    "        flattened.columns = [column + '_' + colname for colname in columns]\n",
    "        data = pd.concat([data, flattened], axis=1)\n",
    "        data = data.drop(column, axis=1)\n",
    "    return data"
   ]
  },
  {
   "cell_type": "markdown",
   "metadata": {},
   "source": [
    "## API 3 "
   ]
  },
  {
   "cell_type": "code",
   "execution_count": 63,
   "metadata": {},
   "outputs": [
    {
     "name": "stdout",
     "output_type": "stream",
     "text": [
      "results:  200\n"
     ]
    }
   ],
   "source": [
    "response = requests.get('https://tenders.guru/api/pl/tenders')\n",
    "\n",
    "results = response.json()\n",
    "\n",
    "print(\"results: \", response.status_code)"
   ]
  },
  {
   "cell_type": "code",
   "execution_count": 72,
   "metadata": {},
   "outputs": [
    {
     "data": {
      "text/plain": [
       "{'id': '580850',\n",
       " 'date': '2022-08-22',\n",
       " 'deadline_date': '2022-08-30',\n",
       " 'deadline_length_days': '7',\n",
       " 'deadline_length_hours': '190',\n",
       " 'title': 'Dostawa materiałów biurowych i papieru ksero.',\n",
       " 'category': 'supplies',\n",
       " 'description': '1. Przedmiotem niniejszego zamówienia jest sukcesywna dostawa materiałów biurowych i papieru ksero, zgodnie z zapisami zawartymi w formularzu asortymentowo-cenowym, stanowiącym załącznik nr 2 do SWZPakiet 1 – materiały biurowe',\n",
       " 'sid': 'info:154340',\n",
       " 'awarded_value': '448671.46',\n",
       " 'awarded_currency': 'PLN',\n",
       " 'awarded_value_eur': '95533.15',\n",
       " 'purchaser': {'id': '23041', 'sid': None, 'name': None},\n",
       " 'type': {'id': 'art-275-pkt-1-ustawy',\n",
       "  'name': 'art. 275 pkt 1 ustawy',\n",
       "  'slug': 'art-275-pkt-1-ustawy'},\n",
       " 'awarded': [{'date': '2022-09-12',\n",
       "   'value_for_two': 164757.94,\n",
       "   'value_for_two_eur': 35081.01,\n",
       "   'suppliers': [{'name': 'PAPIRUS sp. j. M. Górecki, A. Nowicki, J. Karyś',\n",
       "     'id': 2937,\n",
       "     'slug': 'papirus-sp-j-m-gorecki-a-nowicki-j-karys'}],\n",
       "   'value_min': '448671.46',\n",
       "   'value_for_three': 448671.46,\n",
       "   'value_for_one_eur': 0,\n",
       "   'count': '2',\n",
       "   'value_for_one': 0,\n",
       "   'offers_declined': [1],\n",
       "   'value_for_three_eur': 95533.15,\n",
       "   'suppliers_id': '2937',\n",
       "   'value_eur': 95533.15,\n",
       "   'value_max': '490141.50',\n",
       "   'offers_count': [2, 3],\n",
       "   'suppliers_name': 'PAPIRUS sp. j. M. Górecki, A. Nowicki, J. Karyś',\n",
       "   'value': '448671.46',\n",
       "   'value_estimated': '653940.00',\n",
       "   'offers_count_data': {'2': {'value_eur': 35081.01,\n",
       "     'count': '1',\n",
       "     'value': '164757.94'},\n",
       "    '3': {'value_eur': 60452.15, 'count': '1', 'value': '283913.52'}}}]}"
      ]
     },
     "execution_count": 72,
     "metadata": {},
     "output_type": "execute_result"
    }
   ],
   "source": [
    "results['data'][0]"
   ]
  },
  {
   "cell_type": "code",
   "execution_count": 77,
   "metadata": {},
   "outputs": [
    {
     "data": {
      "text/html": [
       "<div>\n",
       "<style scoped>\n",
       "    .dataframe tbody tr th:only-of-type {\n",
       "        vertical-align: middle;\n",
       "    }\n",
       "\n",
       "    .dataframe tbody tr th {\n",
       "        vertical-align: top;\n",
       "    }\n",
       "\n",
       "    .dataframe thead th {\n",
       "        text-align: right;\n",
       "    }\n",
       "</style>\n",
       "<table border=\"1\" class=\"dataframe\">\n",
       "  <thead>\n",
       "    <tr style=\"text-align: right;\">\n",
       "      <th></th>\n",
       "      <th>id</th>\n",
       "      <th>date</th>\n",
       "      <th>deadline_date</th>\n",
       "      <th>deadline_length_days</th>\n",
       "      <th>deadline_length_hours</th>\n",
       "      <th>title</th>\n",
       "      <th>category</th>\n",
       "      <th>description</th>\n",
       "      <th>sid</th>\n",
       "      <th>awarded_value</th>\n",
       "      <th>awarded_currency</th>\n",
       "      <th>awarded_value_eur</th>\n",
       "      <th>purchaser</th>\n",
       "      <th>type</th>\n",
       "      <th>awarded</th>\n",
       "      <th>indicators</th>\n",
       "    </tr>\n",
       "  </thead>\n",
       "  <tbody>\n",
       "    <tr>\n",
       "      <th>0</th>\n",
       "      <td>580850</td>\n",
       "      <td>2022-08-22</td>\n",
       "      <td>2022-08-30</td>\n",
       "      <td>7</td>\n",
       "      <td>190</td>\n",
       "      <td>Dostawa materiałów biurowych i papieru ksero.</td>\n",
       "      <td>supplies</td>\n",
       "      <td>1. Przedmiotem niniejszego zamówienia jest suk...</td>\n",
       "      <td>info:154340</td>\n",
       "      <td>448671.46</td>\n",
       "      <td>PLN</td>\n",
       "      <td>95533.15</td>\n",
       "      <td>{'id': '23041', 'sid': None, 'name': None}</td>\n",
       "      <td>{'id': 'art-275-pkt-1-ustawy', 'name': 'art. 2...</td>\n",
       "      <td>[{'date': '2022-09-12', 'value_for_two': 16475...</td>\n",
       "      <td>NaN</td>\n",
       "    </tr>\n",
       "    <tr>\n",
       "      <th>1</th>\n",
       "      <td>579782</td>\n",
       "      <td>2022-06-28</td>\n",
       "      <td>2022-07-06</td>\n",
       "      <td>7</td>\n",
       "      <td>189</td>\n",
       "      <td>Opracowanie dokumentacji projektowej przebudow...</td>\n",
       "      <td>services</td>\n",
       "      <td>1. Przedmiotem postępowania i zamówienia jest:...</td>\n",
       "      <td>info:151611</td>\n",
       "      <td>22755.00</td>\n",
       "      <td>PLN</td>\n",
       "      <td>4832.75</td>\n",
       "      <td>{'id': '23080', 'sid': None, 'name': None}</td>\n",
       "      <td>{'id': 'art-275-pkt-1-ustawy', 'name': 'art. 2...</td>\n",
       "      <td>[{'date': '2022-08-09', 'value_for_two': 0, 'v...</td>\n",
       "      <td>NaN</td>\n",
       "    </tr>\n",
       "    <tr>\n",
       "      <th>2</th>\n",
       "      <td>578226</td>\n",
       "      <td>2022-06-13</td>\n",
       "      <td>2022-06-23</td>\n",
       "      <td>10</td>\n",
       "      <td>240</td>\n",
       "      <td>dostawa komponentów do rozbudowy podsystemu pa...</td>\n",
       "      <td>supplies</td>\n",
       "      <td>Przedmiotem zamówienia jest dostawa komponentó...</td>\n",
       "      <td>info:147901</td>\n",
       "      <td>1058977.11</td>\n",
       "      <td>PLN</td>\n",
       "      <td>222483.53</td>\n",
       "      <td>{'id': '14019', 'sid': None, 'name': None}</td>\n",
       "      <td>{'id': 'art-275-pkt-1-ustawy', 'name': 'art. 2...</td>\n",
       "      <td>[{'date': '2022-07-19', 'value_for_two': 10589...</td>\n",
       "      <td>NaN</td>\n",
       "    </tr>\n",
       "  </tbody>\n",
       "</table>\n",
       "</div>"
      ],
      "text/plain": [
       "       id  ... indicators\n",
       "0  580850  ...        NaN\n",
       "1  579782  ...        NaN\n",
       "2  578226  ...        NaN\n",
       "\n",
       "[3 rows x 16 columns]"
      ]
     },
     "execution_count": 77,
     "metadata": {},
     "output_type": "execute_result"
    }
   ],
   "source": [
    "data = pd.DataFrame.from_dict(results['data'])\n",
    "\n",
    "data.head(3)"
   ]
  },
  {
   "cell_type": "code",
   "execution_count": 78,
   "metadata": {},
   "outputs": [],
   "source": [
    "def flatten(data, col_list):\n",
    "    for column in col_list:\n",
    "        flattened = pd.DataFrame(dict(data[column])).transpose()\n",
    "        columns = [str(col) for col in flattened.columns]\n",
    "        flattened.columns = [column + '_' + colname for colname in columns]\n",
    "        data = pd.concat([data, flattened], axis=1)\n",
    "        data = data.drop(column, axis=1)\n",
    "    return data"
   ]
  },
  {
   "cell_type": "code",
   "execution_count": 80,
   "metadata": {},
   "outputs": [
    {
     "data": {
      "text/html": [
       "<div>\n",
       "<style scoped>\n",
       "    .dataframe tbody tr th:only-of-type {\n",
       "        vertical-align: middle;\n",
       "    }\n",
       "\n",
       "    .dataframe tbody tr th {\n",
       "        vertical-align: top;\n",
       "    }\n",
       "\n",
       "    .dataframe thead th {\n",
       "        text-align: right;\n",
       "    }\n",
       "</style>\n",
       "<table border=\"1\" class=\"dataframe\">\n",
       "  <thead>\n",
       "    <tr style=\"text-align: right;\">\n",
       "      <th></th>\n",
       "      <th>id</th>\n",
       "      <th>date</th>\n",
       "      <th>deadline_date</th>\n",
       "      <th>deadline_length_days</th>\n",
       "      <th>deadline_length_hours</th>\n",
       "      <th>title</th>\n",
       "      <th>category</th>\n",
       "      <th>description</th>\n",
       "      <th>sid</th>\n",
       "      <th>awarded_value</th>\n",
       "      <th>awarded_currency</th>\n",
       "      <th>awarded_value_eur</th>\n",
       "      <th>awarded</th>\n",
       "      <th>indicators</th>\n",
       "      <th>purchaser_id</th>\n",
       "      <th>purchaser_sid</th>\n",
       "      <th>purchaser_name</th>\n",
       "      <th>type_id</th>\n",
       "      <th>type_name</th>\n",
       "      <th>type_slug</th>\n",
       "    </tr>\n",
       "  </thead>\n",
       "  <tbody>\n",
       "    <tr>\n",
       "      <th>0</th>\n",
       "      <td>580850</td>\n",
       "      <td>2022-08-22</td>\n",
       "      <td>2022-08-30</td>\n",
       "      <td>7</td>\n",
       "      <td>190</td>\n",
       "      <td>Dostawa materiałów biurowych i papieru ksero.</td>\n",
       "      <td>supplies</td>\n",
       "      <td>1. Przedmiotem niniejszego zamówienia jest suk...</td>\n",
       "      <td>info:154340</td>\n",
       "      <td>448671.46</td>\n",
       "      <td>PLN</td>\n",
       "      <td>95533.15</td>\n",
       "      <td>[{'date': '2022-09-12', 'value_for_two': 16475...</td>\n",
       "      <td>NaN</td>\n",
       "      <td>23041</td>\n",
       "      <td>None</td>\n",
       "      <td>None</td>\n",
       "      <td>art-275-pkt-1-ustawy</td>\n",
       "      <td>art. 275 pkt 1 ustawy</td>\n",
       "      <td>art-275-pkt-1-ustawy</td>\n",
       "    </tr>\n",
       "    <tr>\n",
       "      <th>1</th>\n",
       "      <td>579782</td>\n",
       "      <td>2022-06-28</td>\n",
       "      <td>2022-07-06</td>\n",
       "      <td>7</td>\n",
       "      <td>189</td>\n",
       "      <td>Opracowanie dokumentacji projektowej przebudow...</td>\n",
       "      <td>services</td>\n",
       "      <td>1. Przedmiotem postępowania i zamówienia jest:...</td>\n",
       "      <td>info:151611</td>\n",
       "      <td>22755.00</td>\n",
       "      <td>PLN</td>\n",
       "      <td>4832.75</td>\n",
       "      <td>[{'date': '2022-08-09', 'value_for_two': 0, 'v...</td>\n",
       "      <td>NaN</td>\n",
       "      <td>23080</td>\n",
       "      <td>None</td>\n",
       "      <td>None</td>\n",
       "      <td>art-275-pkt-1-ustawy</td>\n",
       "      <td>art. 275 pkt 1 ustawy</td>\n",
       "      <td>art-275-pkt-1-ustawy</td>\n",
       "    </tr>\n",
       "    <tr>\n",
       "      <th>2</th>\n",
       "      <td>578226</td>\n",
       "      <td>2022-06-13</td>\n",
       "      <td>2022-06-23</td>\n",
       "      <td>10</td>\n",
       "      <td>240</td>\n",
       "      <td>dostawa komponentów do rozbudowy podsystemu pa...</td>\n",
       "      <td>supplies</td>\n",
       "      <td>Przedmiotem zamówienia jest dostawa komponentó...</td>\n",
       "      <td>info:147901</td>\n",
       "      <td>1058977.11</td>\n",
       "      <td>PLN</td>\n",
       "      <td>222483.53</td>\n",
       "      <td>[{'date': '2022-07-19', 'value_for_two': 10589...</td>\n",
       "      <td>NaN</td>\n",
       "      <td>14019</td>\n",
       "      <td>None</td>\n",
       "      <td>None</td>\n",
       "      <td>art-275-pkt-1-ustawy</td>\n",
       "      <td>art. 275 pkt 1 ustawy</td>\n",
       "      <td>art-275-pkt-1-ustawy</td>\n",
       "    </tr>\n",
       "    <tr>\n",
       "      <th>3</th>\n",
       "      <td>579716</td>\n",
       "      <td>2022-05-04</td>\n",
       "      <td>2022-05-19</td>\n",
       "      <td>14</td>\n",
       "      <td>357</td>\n",
       "      <td>Przebudowa dróg gminnych w podziale na części</td>\n",
       "      <td>constructions</td>\n",
       "      <td>Część nr 1. Przebudowa drogi gminnej nr 226061...</td>\n",
       "      <td>info:151440</td>\n",
       "      <td>361145.99</td>\n",
       "      <td>PLN</td>\n",
       "      <td>76855.93</td>\n",
       "      <td>[{'date': '2022-06-27', 'value_for_two': 16800...</td>\n",
       "      <td>NaN</td>\n",
       "      <td>30103</td>\n",
       "      <td>None</td>\n",
       "      <td>None</td>\n",
       "      <td>art-275-pkt-2-ustawy</td>\n",
       "      <td>art. 275 pkt 2 ustawy</td>\n",
       "      <td>art-275-pkt-2-ustawy</td>\n",
       "    </tr>\n",
       "    <tr>\n",
       "      <th>4</th>\n",
       "      <td>577218</td>\n",
       "      <td>2022-06-03</td>\n",
       "      <td>2022-06-13</td>\n",
       "      <td>9</td>\n",
       "      <td>237</td>\n",
       "      <td>Dostawa sprzętu II dla realizowanego projektu ...</td>\n",
       "      <td>supplies</td>\n",
       "      <td>1. Przedmiotem zamówienia w niniejszym przetar...</td>\n",
       "      <td>info:145454</td>\n",
       "      <td>53474.25</td>\n",
       "      <td>PLN</td>\n",
       "      <td>11515.94</td>\n",
       "      <td>[{'date': '2022-06-21', 'value_for_two': 53474...</td>\n",
       "      <td>NaN</td>\n",
       "      <td>24136</td>\n",
       "      <td>None</td>\n",
       "      <td>None</td>\n",
       "      <td>art-275-pkt-1-ustawy</td>\n",
       "      <td>art. 275 pkt 1 ustawy</td>\n",
       "      <td>art-275-pkt-1-ustawy</td>\n",
       "    </tr>\n",
       "  </tbody>\n",
       "</table>\n",
       "</div>"
      ],
      "text/plain": [
       "       id        date  ...              type_name             type_slug\n",
       "0  580850  2022-08-22  ...  art. 275 pkt 1 ustawy  art-275-pkt-1-ustawy\n",
       "1  579782  2022-06-28  ...  art. 275 pkt 1 ustawy  art-275-pkt-1-ustawy\n",
       "2  578226  2022-06-13  ...  art. 275 pkt 1 ustawy  art-275-pkt-1-ustawy\n",
       "3  579716  2022-05-04  ...  art. 275 pkt 2 ustawy  art-275-pkt-2-ustawy\n",
       "4  577218  2022-06-03  ...  art. 275 pkt 1 ustawy  art-275-pkt-1-ustawy\n",
       "\n",
       "[5 rows x 20 columns]"
      ]
     },
     "execution_count": 80,
     "metadata": {},
     "output_type": "execute_result"
    }
   ],
   "source": [
    "nested_columns = ['purchaser', 'type']\n",
    "\n",
    "flat = flatten(data, nested_columns)\n",
    "\n",
    "flat.head()"
   ]
  },
  {
   "cell_type": "code",
   "execution_count": 81,
   "metadata": {},
   "outputs": [
    {
     "data": {
      "text/plain": [
       "0     [{'date': '2022-09-12', 'value_for_two': 16475...\n",
       "1     [{'date': '2022-08-09', 'value_for_two': 0, 'v...\n",
       "2     [{'date': '2022-07-19', 'value_for_two': 10589...\n",
       "3     [{'date': '2022-06-27', 'value_for_two': 16800...\n",
       "4     [{'date': '2022-06-21', 'value_for_two': 53474...\n",
       "5     [{'date': '2022-05-19', 'value_for_two': 57748...\n",
       "6     [{'date': '2022-04-13', 'value_for_two': 0, 'v...\n",
       "7     [{'date': '2022-02-17', 'value_for_two': 0, 'v...\n",
       "8     [{'date': '2022-01-11', 'value_for_two': 30000...\n",
       "9     [{'date': '2021-12-31', 'value_for_two': 70502...\n",
       "10    [{'date': '2021-12-31', 'value_for_two': 0, 'v...\n",
       "11    [{'date': '2021-12-31', 'value_for_two': 92105...\n",
       "                            ...                        \n",
       "88    [{'date': '2021-08-20', 'value_for_two': 0, 'v...\n",
       "89    [{'date': '2021-08-20', 'value_for_two': 43961...\n",
       "90    [{'date': '2021-08-20', 'value_for_two': 0, 'v...\n",
       "91    [{'date': '2021-08-20', 'value_for_two': 0, 'v...\n",
       "92    [{'date': '2021-08-20', 'value_for_two': 0, 'v...\n",
       "93    [{'date': '2021-08-20', 'value_for_two': 17401...\n",
       "94    [{'date': '2021-08-19', 'value_for_two': 17253...\n",
       "95    [{'date': '2021-08-19', 'value_for_two': 0, 'v...\n",
       "96    [{'date': '2021-08-19', 'value_for_two': 0, 'v...\n",
       "97    [{'date': '2021-08-19', 'value_for_two': 10984...\n",
       "98    [{'date': '2021-08-19', 'value_for_two': 66105...\n",
       "99    [{'date': '2021-08-19', 'value_for_two': 12915...\n",
       "Name: awarded, Length: 100, dtype: object"
      ]
     },
     "execution_count": 81,
     "metadata": {},
     "output_type": "execute_result"
    }
   ],
   "source": [
    "flat['awarded']"
   ]
  }
 ],
 "metadata": {
  "kernelspec": {
   "display_name": "Python 3 (ipykernel)",
   "language": "python",
   "name": "python3"
  },
  "language_info": {
   "codemirror_mode": {
    "name": "ipython",
    "version": 3
   },
   "file_extension": ".py",
   "mimetype": "text/x-python",
   "name": "python",
   "nbconvert_exporter": "python",
   "pygments_lexer": "ipython3",
   "version": "3.9.12"
  },
  "toc": {
   "base_numbering": 1,
   "nav_menu": {},
   "number_sections": true,
   "sideBar": true,
   "skip_h1_title": false,
   "title_cell": "Table of Contents",
   "title_sidebar": "Contents",
   "toc_cell": false,
   "toc_position": {
    "height": "calc(100% - 180px)",
    "left": "10px",
    "top": "150px",
    "width": "165px"
   },
   "toc_section_display": true,
   "toc_window_display": false
  }
 },
 "nbformat": 4,
 "nbformat_minor": 4
}
