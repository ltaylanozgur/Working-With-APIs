{
 "cells": [
  {
   "cell_type": "markdown",
   "metadata": {},
   "source": [
    "# Use this notebook for your 3 choices of APIs"
   ]
  },
  {
   "cell_type": "code",
   "execution_count": 1,
   "metadata": {},
   "outputs": [],
   "source": [
    "import requests\n",
    "import json\n",
    "import pandas as pd\n",
    "\n",
    "pd.set_option(\"display.max_rows\", 0)\n",
    "pd.set_option(\"display.max_columns\", 0)"
   ]
  },
  {
   "cell_type": "code",
   "execution_count": 2,
   "metadata": {},
   "outputs": [],
   "source": [
    "# 200: Everything went okay and the result has been returned (if any).\n",
    "# 301: The server is redirecting you to a different endpoint. This can happen when a company switches domain names, or an endpoint name is changed.\n",
    "# 400: The server thinks you made a bad request. This happens when you don’t send along the right data, among other things.\n",
    "# 401: You are not properly authenticated.\n",
    "# 403: The resource you’re trying to access is forbidden: you don’t have the right permissions to get it.\n",
    "# 404: The resource you tried to access doesn't exist.\n",
    "# 503: The server can't handle the request.\n",
    "# full list: https://en.wikipedia.org/wiki/List_of_HTTP_status_codes"
   ]
  },
  {
   "cell_type": "markdown",
   "metadata": {},
   "source": [
    "## API 1 "
   ]
  },
  {
   "cell_type": "code",
   "execution_count": 3,
   "metadata": {},
   "outputs": [
    {
     "name": "stdout",
     "output_type": "stream",
     "text": [
      "response: 200\n"
     ]
    }
   ],
   "source": [
    "response = requests.get('https://xkcd.com/info.0.json')\n",
    "\n",
    "results = response.json()\n",
    "\n",
    "print(\"response:\", response.status_code)"
   ]
  },
  {
   "cell_type": "code",
   "execution_count": 4,
   "metadata": {
    "scrolled": true
   },
   "outputs": [
    {
     "name": "stdout",
     "output_type": "stream",
     "text": [
      "{\"month\": \"10\", \"num\": 2683, \"link\": \"\", \"year\": \"2022\", \"news\": \"\", \"safe_title\": \"Fan Theories\", \"transcript\": \"\", \"alt\": \"The universe fandom is great. Such sweet and enthusiastic people.\", \"img\": \"https://imgs.xkcd.com/comics/fan_theories.png\", \"title\": \"Fan Theories\", \"day\": \"10\"}\n"
     ]
    }
   ],
   "source": [
    "print(response.text)"
   ]
  },
  {
   "cell_type": "code",
   "execution_count": 5,
   "metadata": {},
   "outputs": [
    {
     "data": {
      "text/plain": [
       "{'month': '10',\n",
       " 'num': 2683,\n",
       " 'link': '',\n",
       " 'year': '2022',\n",
       " 'news': '',\n",
       " 'safe_title': 'Fan Theories',\n",
       " 'transcript': '',\n",
       " 'alt': 'The universe fandom is great. Such sweet and enthusiastic people.',\n",
       " 'img': 'https://imgs.xkcd.com/comics/fan_theories.png',\n",
       " 'title': 'Fan Theories',\n",
       " 'day': '10'}"
      ]
     },
     "execution_count": 5,
     "metadata": {},
     "output_type": "execute_result"
    }
   ],
   "source": [
    "results"
   ]
  },
  {
   "cell_type": "code",
   "execution_count": 6,
   "metadata": {
    "scrolled": true
   },
   "outputs": [
    {
     "data": {
      "text/html": [
       "<div>\n",
       "<style scoped>\n",
       "    .dataframe tbody tr th:only-of-type {\n",
       "        vertical-align: middle;\n",
       "    }\n",
       "\n",
       "    .dataframe tbody tr th {\n",
       "        vertical-align: top;\n",
       "    }\n",
       "\n",
       "    .dataframe thead th {\n",
       "        text-align: right;\n",
       "    }\n",
       "</style>\n",
       "<table border=\"1\" class=\"dataframe\">\n",
       "  <thead>\n",
       "    <tr style=\"text-align: right;\">\n",
       "      <th></th>\n",
       "      <th>month</th>\n",
       "      <th>num</th>\n",
       "      <th>link</th>\n",
       "      <th>year</th>\n",
       "      <th>news</th>\n",
       "      <th>safe_title</th>\n",
       "      <th>transcript</th>\n",
       "      <th>alt</th>\n",
       "      <th>img</th>\n",
       "      <th>title</th>\n",
       "      <th>day</th>\n",
       "    </tr>\n",
       "  </thead>\n",
       "  <tbody>\n",
       "    <tr>\n",
       "      <th>0</th>\n",
       "      <td>10</td>\n",
       "      <td>2683</td>\n",
       "      <td></td>\n",
       "      <td>2022</td>\n",
       "      <td></td>\n",
       "      <td>Fan Theories</td>\n",
       "      <td></td>\n",
       "      <td>The universe fandom is great. Such sweet and e...</td>\n",
       "      <td>https://imgs.xkcd.com/comics/fan_theories.png</td>\n",
       "      <td>Fan Theories</td>\n",
       "      <td>10</td>\n",
       "    </tr>\n",
       "  </tbody>\n",
       "</table>\n",
       "</div>"
      ],
      "text/plain": [
       "  month   num  ...         title day\n",
       "0    10  2683  ...  Fan Theories  10\n",
       "\n",
       "[1 rows x 11 columns]"
      ]
     },
     "execution_count": 6,
     "metadata": {},
     "output_type": "execute_result"
    }
   ],
   "source": [
    "data = (pd.DataFrame.from_dict(results, orient= 'index')).transpose()\n",
    "data.head()"
   ]
  },
  {
   "cell_type": "markdown",
   "metadata": {},
   "source": [
    "## API 2"
   ]
  },
  {
   "cell_type": "code",
   "execution_count": 7,
   "metadata": {},
   "outputs": [
    {
     "name": "stdout",
     "output_type": "stream",
     "text": [
      "response: 200\n"
     ]
    }
   ],
   "source": [
    "response = requests.get('https://services2.arcgis.com/5I7u4SJE1vUr79JC/arcgis/rest/services/UniversityChapters_Public/FeatureServer/0/query?where=1%3D1&outFields=*&outSR=4326&f=json')\n",
    "\n",
    "results = response.json()\n",
    "\n",
    "print(\"response:\", response.status_code)"
   ]
  },
  {
   "cell_type": "code",
   "execution_count": 8,
   "metadata": {},
   "outputs": [],
   "source": [
    "# print(response.text)"
   ]
  },
  {
   "cell_type": "code",
   "execution_count": 9,
   "metadata": {},
   "outputs": [
    {
     "data": {
      "text/plain": [
       "{'attributes': {'OBJECTID': 2,\n",
       "  'University_Chapter': 'Florida State University',\n",
       "  'City': 'Tallahassee',\n",
       "  'State': 'FL',\n",
       "  'ChapterID': 'FL0110',\n",
       "  'MEVR_RD': 'Jarrett Lafferty'},\n",
       " 'geometry': {'x': -84.30427263699994, 'y': 30.438110943000027}}"
      ]
     },
     "execution_count": 9,
     "metadata": {},
     "output_type": "execute_result"
    }
   ],
   "source": [
    "results['features'][0]"
   ]
  },
  {
   "cell_type": "code",
   "execution_count": 10,
   "metadata": {},
   "outputs": [],
   "source": [
    "data = pd.DataFrame.from_dict(results['features'][0], orient= 'index')\n",
    "\n",
    "for i in range(1, 97):\n",
    "    data2 = pd.DataFrame.from_dict(results['features'][i], orient= 'index')\n",
    "    data = pd.concat([data, data2], axis=0)\n",
    "    \n",
    "    data"
   ]
  },
  {
   "cell_type": "code",
   "execution_count": 11,
   "metadata": {},
   "outputs": [
    {
     "data": {
      "text/html": [
       "<div>\n",
       "<style scoped>\n",
       "    .dataframe tbody tr th:only-of-type {\n",
       "        vertical-align: middle;\n",
       "    }\n",
       "\n",
       "    .dataframe tbody tr th {\n",
       "        vertical-align: top;\n",
       "    }\n",
       "\n",
       "    .dataframe thead th {\n",
       "        text-align: right;\n",
       "    }\n",
       "</style>\n",
       "<table border=\"1\" class=\"dataframe\">\n",
       "  <thead>\n",
       "    <tr style=\"text-align: right;\">\n",
       "      <th></th>\n",
       "      <th>OBJECTID</th>\n",
       "      <th>University_Chapter</th>\n",
       "      <th>City</th>\n",
       "      <th>State</th>\n",
       "      <th>ChapterID</th>\n",
       "      <th>MEVR_RD</th>\n",
       "      <th>x</th>\n",
       "      <th>y</th>\n",
       "    </tr>\n",
       "  </thead>\n",
       "  <tbody>\n",
       "    <tr>\n",
       "      <th>attributes</th>\n",
       "      <td>2.0</td>\n",
       "      <td>Florida State University</td>\n",
       "      <td>Tallahassee</td>\n",
       "      <td>FL</td>\n",
       "      <td>FL0110</td>\n",
       "      <td>Jarrett Lafferty</td>\n",
       "      <td>NaN</td>\n",
       "      <td>NaN</td>\n",
       "    </tr>\n",
       "    <tr>\n",
       "      <th>geometry</th>\n",
       "      <td>NaN</td>\n",
       "      <td>NaN</td>\n",
       "      <td>NaN</td>\n",
       "      <td>NaN</td>\n",
       "      <td>NaN</td>\n",
       "      <td>NaN</td>\n",
       "      <td>-84.304273</td>\n",
       "      <td>30.438111</td>\n",
       "    </tr>\n",
       "    <tr>\n",
       "      <th>attributes</th>\n",
       "      <td>3.0</td>\n",
       "      <td>Abraham Baldwin Agricultural College</td>\n",
       "      <td>Tifton</td>\n",
       "      <td>GA</td>\n",
       "      <td>GA0020</td>\n",
       "      <td>Brice Crawford</td>\n",
       "      <td>NaN</td>\n",
       "      <td>NaN</td>\n",
       "    </tr>\n",
       "    <tr>\n",
       "      <th>geometry</th>\n",
       "      <td>NaN</td>\n",
       "      <td>NaN</td>\n",
       "      <td>NaN</td>\n",
       "      <td>NaN</td>\n",
       "      <td>NaN</td>\n",
       "      <td>NaN</td>\n",
       "      <td>-83.510064</td>\n",
       "      <td>31.463418</td>\n",
       "    </tr>\n",
       "    <tr>\n",
       "      <th>attributes</th>\n",
       "      <td>4.0</td>\n",
       "      <td>University of Georgia</td>\n",
       "      <td>Athens</td>\n",
       "      <td>GA</td>\n",
       "      <td>GA0133</td>\n",
       "      <td>Scott James</td>\n",
       "      <td>NaN</td>\n",
       "      <td>NaN</td>\n",
       "    </tr>\n",
       "  </tbody>\n",
       "</table>\n",
       "</div>"
      ],
      "text/plain": [
       "            OBJECTID  ...          y\n",
       "attributes       2.0  ...        NaN\n",
       "geometry         NaN  ...  30.438111\n",
       "attributes       3.0  ...        NaN\n",
       "geometry         NaN  ...  31.463418\n",
       "attributes       4.0  ...        NaN\n",
       "\n",
       "[5 rows x 8 columns]"
      ]
     },
     "execution_count": 11,
     "metadata": {},
     "output_type": "execute_result"
    }
   ],
   "source": [
    "data.head(5)"
   ]
  },
  {
   "cell_type": "code",
   "execution_count": 12,
   "metadata": {},
   "outputs": [
    {
     "data": {
      "text/plain": [
       "Index(['OBJECTID', 'University_Chapter', 'City', 'State', 'ChapterID',\n",
       "       'MEVR_RD', 'x', 'y'],\n",
       "      dtype='object')"
      ]
     },
     "execution_count": 12,
     "metadata": {},
     "output_type": "execute_result"
    }
   ],
   "source": [
    "data.columns"
   ]
  },
  {
   "cell_type": "code",
   "execution_count": 13,
   "metadata": {},
   "outputs": [],
   "source": [
    "# attributes dataframe\n",
    "attributes= data[data['x'].isnull() == True]\n",
    "attributes=attributes[[\"OBJECTID\",\"University_Chapter\",\"City\",\"State\",\"ChapterID\",\"MEVR_RD\"]]\n",
    "attributes.reset_index(inplace=True)"
   ]
  },
  {
   "cell_type": "code",
   "execution_count": 14,
   "metadata": {},
   "outputs": [],
   "source": [
    "#geometry dataframe\n",
    "geometry= data[data['x'].isnull() == False]\n",
    "geometry=geometry[['x','y']]\n",
    "geometry.reset_index(inplace=True)"
   ]
  },
  {
   "cell_type": "code",
   "execution_count": 15,
   "metadata": {},
   "outputs": [
    {
     "data": {
      "text/html": [
       "<div>\n",
       "<style scoped>\n",
       "    .dataframe tbody tr th:only-of-type {\n",
       "        vertical-align: middle;\n",
       "    }\n",
       "\n",
       "    .dataframe tbody tr th {\n",
       "        vertical-align: top;\n",
       "    }\n",
       "\n",
       "    .dataframe thead th {\n",
       "        text-align: right;\n",
       "    }\n",
       "</style>\n",
       "<table border=\"1\" class=\"dataframe\">\n",
       "  <thead>\n",
       "    <tr style=\"text-align: right;\">\n",
       "      <th></th>\n",
       "      <th>index</th>\n",
       "      <th>OBJECTID</th>\n",
       "      <th>University_Chapter</th>\n",
       "      <th>City</th>\n",
       "      <th>State</th>\n",
       "      <th>ChapterID</th>\n",
       "      <th>MEVR_RD</th>\n",
       "      <th>index</th>\n",
       "      <th>x</th>\n",
       "      <th>y</th>\n",
       "    </tr>\n",
       "  </thead>\n",
       "  <tbody>\n",
       "    <tr>\n",
       "      <th>0</th>\n",
       "      <td>attributes</td>\n",
       "      <td>2.0</td>\n",
       "      <td>Florida State University</td>\n",
       "      <td>Tallahassee</td>\n",
       "      <td>FL</td>\n",
       "      <td>FL0110</td>\n",
       "      <td>Jarrett Lafferty</td>\n",
       "      <td>geometry</td>\n",
       "      <td>-84.304273</td>\n",
       "      <td>30.438111</td>\n",
       "    </tr>\n",
       "    <tr>\n",
       "      <th>1</th>\n",
       "      <td>attributes</td>\n",
       "      <td>3.0</td>\n",
       "      <td>Abraham Baldwin Agricultural College</td>\n",
       "      <td>Tifton</td>\n",
       "      <td>GA</td>\n",
       "      <td>GA0020</td>\n",
       "      <td>Brice Crawford</td>\n",
       "      <td>geometry</td>\n",
       "      <td>-83.510064</td>\n",
       "      <td>31.463418</td>\n",
       "    </tr>\n",
       "    <tr>\n",
       "      <th>2</th>\n",
       "      <td>attributes</td>\n",
       "      <td>4.0</td>\n",
       "      <td>University of Georgia</td>\n",
       "      <td>Athens</td>\n",
       "      <td>GA</td>\n",
       "      <td>GA0133</td>\n",
       "      <td>Scott James</td>\n",
       "      <td>geometry</td>\n",
       "      <td>-83.383246</td>\n",
       "      <td>33.955464</td>\n",
       "    </tr>\n",
       "    <tr>\n",
       "      <th>3</th>\n",
       "      <td>attributes</td>\n",
       "      <td>5.0</td>\n",
       "      <td>Georgia Southern University</td>\n",
       "      <td>Statesboro</td>\n",
       "      <td>GA</td>\n",
       "      <td>GA0144</td>\n",
       "      <td>Brice Crawford</td>\n",
       "      <td>geometry</td>\n",
       "      <td>-81.779237</td>\n",
       "      <td>32.445146</td>\n",
       "    </tr>\n",
       "    <tr>\n",
       "      <th>4</th>\n",
       "      <td>attributes</td>\n",
       "      <td>6.0</td>\n",
       "      <td>Georgia Tech University</td>\n",
       "      <td>Atlanta</td>\n",
       "      <td>GA</td>\n",
       "      <td>GA0147</td>\n",
       "      <td>Scott James</td>\n",
       "      <td>geometry</td>\n",
       "      <td>-84.403173</td>\n",
       "      <td>33.759509</td>\n",
       "    </tr>\n",
       "  </tbody>\n",
       "</table>\n",
       "</div>"
      ],
      "text/plain": [
       "        index  OBJECTID  ...          x          y\n",
       "0  attributes       2.0  ... -84.304273  30.438111\n",
       "1  attributes       3.0  ... -83.510064  31.463418\n",
       "2  attributes       4.0  ... -83.383246  33.955464\n",
       "3  attributes       5.0  ... -81.779237  32.445146\n",
       "4  attributes       6.0  ... -84.403173  33.759509\n",
       "\n",
       "[5 rows x 10 columns]"
      ]
     },
     "execution_count": 15,
     "metadata": {},
     "output_type": "execute_result"
    }
   ],
   "source": [
    "chapters_df = pd.concat([attributes, geometry], axis=1)\n",
    "\n",
    "chapters_df.head()"
   ]
  },
  {
   "cell_type": "code",
   "execution_count": 16,
   "metadata": {
    "scrolled": true
   },
   "outputs": [
    {
     "data": {
      "text/html": [
       "<div>\n",
       "<style scoped>\n",
       "    .dataframe tbody tr th:only-of-type {\n",
       "        vertical-align: middle;\n",
       "    }\n",
       "\n",
       "    .dataframe tbody tr th {\n",
       "        vertical-align: top;\n",
       "    }\n",
       "\n",
       "    .dataframe thead th {\n",
       "        text-align: right;\n",
       "    }\n",
       "</style>\n",
       "<table border=\"1\" class=\"dataframe\">\n",
       "  <thead>\n",
       "    <tr style=\"text-align: right;\">\n",
       "      <th></th>\n",
       "      <th>OBJECTID</th>\n",
       "      <th>University_Chapter</th>\n",
       "      <th>City</th>\n",
       "      <th>State</th>\n",
       "      <th>ChapterID</th>\n",
       "      <th>MEVR_RD</th>\n",
       "      <th>x</th>\n",
       "      <th>y</th>\n",
       "    </tr>\n",
       "  </thead>\n",
       "  <tbody>\n",
       "    <tr>\n",
       "      <th>0</th>\n",
       "      <td>2.0</td>\n",
       "      <td>Florida State University</td>\n",
       "      <td>Tallahassee</td>\n",
       "      <td>FL</td>\n",
       "      <td>FL0110</td>\n",
       "      <td>Jarrett Lafferty</td>\n",
       "      <td>-84.304273</td>\n",
       "      <td>30.438111</td>\n",
       "    </tr>\n",
       "    <tr>\n",
       "      <th>1</th>\n",
       "      <td>3.0</td>\n",
       "      <td>Abraham Baldwin Agricultural College</td>\n",
       "      <td>Tifton</td>\n",
       "      <td>GA</td>\n",
       "      <td>GA0020</td>\n",
       "      <td>Brice Crawford</td>\n",
       "      <td>-83.510064</td>\n",
       "      <td>31.463418</td>\n",
       "    </tr>\n",
       "    <tr>\n",
       "      <th>2</th>\n",
       "      <td>4.0</td>\n",
       "      <td>University of Georgia</td>\n",
       "      <td>Athens</td>\n",
       "      <td>GA</td>\n",
       "      <td>GA0133</td>\n",
       "      <td>Scott James</td>\n",
       "      <td>-83.383246</td>\n",
       "      <td>33.955464</td>\n",
       "    </tr>\n",
       "    <tr>\n",
       "      <th>3</th>\n",
       "      <td>5.0</td>\n",
       "      <td>Georgia Southern University</td>\n",
       "      <td>Statesboro</td>\n",
       "      <td>GA</td>\n",
       "      <td>GA0144</td>\n",
       "      <td>Brice Crawford</td>\n",
       "      <td>-81.779237</td>\n",
       "      <td>32.445146</td>\n",
       "    </tr>\n",
       "    <tr>\n",
       "      <th>4</th>\n",
       "      <td>6.0</td>\n",
       "      <td>Georgia Tech University</td>\n",
       "      <td>Atlanta</td>\n",
       "      <td>GA</td>\n",
       "      <td>GA0147</td>\n",
       "      <td>Scott James</td>\n",
       "      <td>-84.403173</td>\n",
       "      <td>33.759509</td>\n",
       "    </tr>\n",
       "  </tbody>\n",
       "</table>\n",
       "</div>"
      ],
      "text/plain": [
       "   OBJECTID                    University_Chapter  ...          x          y\n",
       "0       2.0              Florida State University  ... -84.304273  30.438111\n",
       "1       3.0  Abraham Baldwin Agricultural College  ... -83.510064  31.463418\n",
       "2       4.0                 University of Georgia  ... -83.383246  33.955464\n",
       "3       5.0           Georgia Southern University  ... -81.779237  32.445146\n",
       "4       6.0               Georgia Tech University  ... -84.403173  33.759509\n",
       "\n",
       "[5 rows x 8 columns]"
      ]
     },
     "execution_count": 16,
     "metadata": {},
     "output_type": "execute_result"
    }
   ],
   "source": [
    "chapters_df.drop(['index','index'], inplace=True, axis=1)\n",
    "\n",
    "chapters_df.head()"
   ]
  },
  {
   "cell_type": "markdown",
   "metadata": {},
   "source": [
    "## API 3 "
   ]
  },
  {
   "cell_type": "code",
   "execution_count": 17,
   "metadata": {},
   "outputs": [
    {
     "name": "stdout",
     "output_type": "stream",
     "text": [
      "results:  200\n"
     ]
    }
   ],
   "source": [
    "response = requests.get('https://api.chucknorris.io/jokes/random')\n",
    "\n",
    "results = response.json()\n",
    "\n",
    "print(\"results: \", response.status_code)"
   ]
  },
  {
   "cell_type": "code",
   "execution_count": 18,
   "metadata": {},
   "outputs": [
    {
     "name": "stdout",
     "output_type": "stream",
     "text": [
      "{\"categories\":[],\"created_at\":\"2020-01-05 13:42:26.447675\",\"icon_url\":\"https://assets.chucknorris.host/img/avatar/chuck-norris.png\",\"id\":\"6aV1Skh_R4KVmxbjnX5TGA\",\"updated_at\":\"2020-01-05 13:42:26.447675\",\"url\":\"https://api.chucknorris.io/jokes/6aV1Skh_R4KVmxbjnX5TGA\",\"value\":\"Chuck Norris' hand is the only hand that can beat a royal flush.\"}\n"
     ]
    }
   ],
   "source": [
    "print(response.text)"
   ]
  },
  {
   "cell_type": "code",
   "execution_count": 19,
   "metadata": {},
   "outputs": [
    {
     "data": {
      "text/plain": [
       "{'categories': [],\n",
       " 'created_at': '2020-01-05 13:42:26.447675',\n",
       " 'icon_url': 'https://assets.chucknorris.host/img/avatar/chuck-norris.png',\n",
       " 'id': '6aV1Skh_R4KVmxbjnX5TGA',\n",
       " 'updated_at': '2020-01-05 13:42:26.447675',\n",
       " 'url': 'https://api.chucknorris.io/jokes/6aV1Skh_R4KVmxbjnX5TGA',\n",
       " 'value': \"Chuck Norris' hand is the only hand that can beat a royal flush.\"}"
      ]
     },
     "execution_count": 19,
     "metadata": {},
     "output_type": "execute_result"
    }
   ],
   "source": [
    "results"
   ]
  },
  {
   "cell_type": "code",
   "execution_count": 20,
   "metadata": {},
   "outputs": [
    {
     "data": {
      "text/plain": [
       "\"Chuck Norris' hand is the only hand that can beat a royal flush.\""
      ]
     },
     "execution_count": 20,
     "metadata": {},
     "output_type": "execute_result"
    }
   ],
   "source": [
    "results['value']"
   ]
  },
  {
   "cell_type": "code",
   "execution_count": 21,
   "metadata": {
    "scrolled": true
   },
   "outputs": [
    {
     "data": {
      "text/html": [
       "<div>\n",
       "<style scoped>\n",
       "    .dataframe tbody tr th:only-of-type {\n",
       "        vertical-align: middle;\n",
       "    }\n",
       "\n",
       "    .dataframe tbody tr th {\n",
       "        vertical-align: top;\n",
       "    }\n",
       "\n",
       "    .dataframe thead th {\n",
       "        text-align: right;\n",
       "    }\n",
       "</style>\n",
       "<table border=\"1\" class=\"dataframe\">\n",
       "  <thead>\n",
       "    <tr style=\"text-align: right;\">\n",
       "      <th></th>\n",
       "      <th>categories</th>\n",
       "      <th>created_at</th>\n",
       "      <th>icon_url</th>\n",
       "      <th>id</th>\n",
       "      <th>updated_at</th>\n",
       "      <th>url</th>\n",
       "      <th>value</th>\n",
       "    </tr>\n",
       "  </thead>\n",
       "  <tbody>\n",
       "    <tr>\n",
       "      <th>0</th>\n",
       "      <td>None</td>\n",
       "      <td>2</td>\n",
       "      <td>h</td>\n",
       "      <td>6</td>\n",
       "      <td>2</td>\n",
       "      <td>h</td>\n",
       "      <td>C</td>\n",
       "    </tr>\n",
       "    <tr>\n",
       "      <th>1</th>\n",
       "      <td>None</td>\n",
       "      <td>0</td>\n",
       "      <td>t</td>\n",
       "      <td>a</td>\n",
       "      <td>0</td>\n",
       "      <td>t</td>\n",
       "      <td>h</td>\n",
       "    </tr>\n",
       "    <tr>\n",
       "      <th>2</th>\n",
       "      <td>None</td>\n",
       "      <td>2</td>\n",
       "      <td>t</td>\n",
       "      <td>V</td>\n",
       "      <td>2</td>\n",
       "      <td>t</td>\n",
       "      <td>u</td>\n",
       "    </tr>\n",
       "    <tr>\n",
       "      <th>3</th>\n",
       "      <td>None</td>\n",
       "      <td>0</td>\n",
       "      <td>p</td>\n",
       "      <td>1</td>\n",
       "      <td>0</td>\n",
       "      <td>p</td>\n",
       "      <td>c</td>\n",
       "    </tr>\n",
       "    <tr>\n",
       "      <th>4</th>\n",
       "      <td>None</td>\n",
       "      <td>-</td>\n",
       "      <td>s</td>\n",
       "      <td>S</td>\n",
       "      <td>-</td>\n",
       "      <td>s</td>\n",
       "      <td>k</td>\n",
       "    </tr>\n",
       "    <tr>\n",
       "      <th>5</th>\n",
       "      <td>None</td>\n",
       "      <td>0</td>\n",
       "      <td>:</td>\n",
       "      <td>k</td>\n",
       "      <td>0</td>\n",
       "      <td>:</td>\n",
       "      <td></td>\n",
       "    </tr>\n",
       "    <tr>\n",
       "      <th>6</th>\n",
       "      <td>None</td>\n",
       "      <td>1</td>\n",
       "      <td>/</td>\n",
       "      <td>h</td>\n",
       "      <td>1</td>\n",
       "      <td>/</td>\n",
       "      <td>N</td>\n",
       "    </tr>\n",
       "    <tr>\n",
       "      <th>7</th>\n",
       "      <td>None</td>\n",
       "      <td>-</td>\n",
       "      <td>/</td>\n",
       "      <td>_</td>\n",
       "      <td>-</td>\n",
       "      <td>/</td>\n",
       "      <td>o</td>\n",
       "    </tr>\n",
       "    <tr>\n",
       "      <th>8</th>\n",
       "      <td>None</td>\n",
       "      <td>0</td>\n",
       "      <td>a</td>\n",
       "      <td>R</td>\n",
       "      <td>0</td>\n",
       "      <td>a</td>\n",
       "      <td>r</td>\n",
       "    </tr>\n",
       "    <tr>\n",
       "      <th>9</th>\n",
       "      <td>None</td>\n",
       "      <td>5</td>\n",
       "      <td>s</td>\n",
       "      <td>4</td>\n",
       "      <td>5</td>\n",
       "      <td>p</td>\n",
       "      <td>r</td>\n",
       "    </tr>\n",
       "  </tbody>\n",
       "</table>\n",
       "</div>"
      ],
      "text/plain": [
       "  categories created_at icon_url id updated_at url value\n",
       "0       None          2        h  6          2   h     C\n",
       "1       None          0        t  a          0   t     h\n",
       "2       None          2        t  V          2   t     u\n",
       "3       None          0        p  1          0   p     c\n",
       "4       None          -        s  S          -   s     k\n",
       "5       None          0        :  k          0   :      \n",
       "6       None          1        /  h          1   /     N\n",
       "7       None          -        /  _          -   /     o\n",
       "8       None          0        a  R          0   a     r\n",
       "9       None          5        s  4          5   p     r"
      ]
     },
     "execution_count": 21,
     "metadata": {},
     "output_type": "execute_result"
    }
   ],
   "source": [
    "data = pd.DataFrame.from_dict(results, orient= 'index').transpose()\n",
    "data.head(10)"
   ]
  },
  {
   "cell_type": "code",
   "execution_count": 22,
   "metadata": {},
   "outputs": [],
   "source": [
    "# res1_1 = requests.get('https://api.chucknorris.io/jokes/random').json()\n",
    "# res1_1"
   ]
  },
  {
   "cell_type": "code",
   "execution_count": 23,
   "metadata": {},
   "outputs": [],
   "source": [
    "# print(res1_1['value'])"
   ]
  },
  {
   "cell_type": "code",
   "execution_count": 24,
   "metadata": {},
   "outputs": [],
   "source": [
    "def flatten(data, col_list):\n",
    "    for column in col_list:\n",
    "        flattened = pd.DataFrame(dict(data[column])).transpose()\n",
    "        columns = [str(col) for col in flattened.columns]\n",
    "        flattened.columns = [column + '_' + colname for colname in columns]\n",
    "        data = pd.concat([data, flattened], axis=1)\n",
    "        data = data.drop(column, axis=1)\n",
    "    return data"
   ]
  },
  {
   "cell_type": "markdown",
   "metadata": {},
   "source": [
    "## API 4 "
   ]
  },
  {
   "cell_type": "code",
   "execution_count": 25,
   "metadata": {},
   "outputs": [
    {
     "name": "stdout",
     "output_type": "stream",
     "text": [
      "results:  200\n"
     ]
    }
   ],
   "source": [
    "response = requests.get('https://tenders.guru/api/pl/tenders')\n",
    "\n",
    "results = response.json()\n",
    "\n",
    "print(\"results: \", response.status_code)"
   ]
  },
  {
   "cell_type": "code",
   "execution_count": 32,
   "metadata": {},
   "outputs": [],
   "source": [
    "# print(response.text)"
   ]
  },
  {
   "cell_type": "code",
   "execution_count": 27,
   "metadata": {},
   "outputs": [
    {
     "data": {
      "text/plain": [
       "{'id': '580850',\n",
       " 'date': '2022-08-22',\n",
       " 'deadline_date': '2022-08-30',\n",
       " 'deadline_length_days': '7',\n",
       " 'deadline_length_hours': '190',\n",
       " 'title': 'Dostawa materiałów biurowych i papieru ksero.',\n",
       " 'category': 'supplies',\n",
       " 'description': '1. Przedmiotem niniejszego zamówienia jest sukcesywna dostawa materiałów biurowych i papieru ksero, zgodnie z zapisami zawartymi w formularzu asortymentowo-cenowym, stanowiącym załącznik nr 2 do SWZPakiet 1 – materiały biurowe',\n",
       " 'sid': 'info:154340',\n",
       " 'awarded_value': '448671.46',\n",
       " 'awarded_currency': 'PLN',\n",
       " 'awarded_value_eur': '95533.15',\n",
       " 'purchaser': {'id': '23041', 'sid': None, 'name': None},\n",
       " 'type': {'id': 'art-275-pkt-1-ustawy',\n",
       "  'name': 'art. 275 pkt 1 ustawy',\n",
       "  'slug': 'art-275-pkt-1-ustawy'},\n",
       " 'awarded': [{'date': '2022-09-12',\n",
       "   'value_for_two': 164757.94,\n",
       "   'value_for_two_eur': 35081.01,\n",
       "   'suppliers': [{'name': 'PAPIRUS sp. j. M. Górecki, A. Nowicki, J. Karyś',\n",
       "     'id': 2937,\n",
       "     'slug': 'papirus-sp-j-m-gorecki-a-nowicki-j-karys'}],\n",
       "   'value_min': '448671.46',\n",
       "   'value_for_three': 448671.46,\n",
       "   'value_for_one_eur': 0,\n",
       "   'count': '2',\n",
       "   'value_for_one': 0,\n",
       "   'offers_declined': [1],\n",
       "   'value_for_three_eur': 95533.15,\n",
       "   'suppliers_id': '2937',\n",
       "   'value_eur': 95533.15,\n",
       "   'value_max': '490141.50',\n",
       "   'offers_count': [2, 3],\n",
       "   'suppliers_name': 'PAPIRUS sp. j. M. Górecki, A. Nowicki, J. Karyś',\n",
       "   'value': '448671.46',\n",
       "   'value_estimated': '653940.00',\n",
       "   'offers_count_data': {'2': {'value_eur': 35081.01,\n",
       "     'count': '1',\n",
       "     'value': '164757.94'},\n",
       "    '3': {'value_eur': 60452.15, 'count': '1', 'value': '283913.52'}}}]}"
      ]
     },
     "execution_count": 27,
     "metadata": {},
     "output_type": "execute_result"
    }
   ],
   "source": [
    "results['data'][0]"
   ]
  },
  {
   "cell_type": "code",
   "execution_count": 28,
   "metadata": {},
   "outputs": [
    {
     "data": {
      "text/html": [
       "<div>\n",
       "<style scoped>\n",
       "    .dataframe tbody tr th:only-of-type {\n",
       "        vertical-align: middle;\n",
       "    }\n",
       "\n",
       "    .dataframe tbody tr th {\n",
       "        vertical-align: top;\n",
       "    }\n",
       "\n",
       "    .dataframe thead th {\n",
       "        text-align: right;\n",
       "    }\n",
       "</style>\n",
       "<table border=\"1\" class=\"dataframe\">\n",
       "  <thead>\n",
       "    <tr style=\"text-align: right;\">\n",
       "      <th></th>\n",
       "      <th>id</th>\n",
       "      <th>date</th>\n",
       "      <th>deadline_date</th>\n",
       "      <th>deadline_length_days</th>\n",
       "      <th>deadline_length_hours</th>\n",
       "      <th>title</th>\n",
       "      <th>category</th>\n",
       "      <th>description</th>\n",
       "      <th>sid</th>\n",
       "      <th>awarded_value</th>\n",
       "      <th>awarded_currency</th>\n",
       "      <th>awarded_value_eur</th>\n",
       "      <th>purchaser</th>\n",
       "      <th>type</th>\n",
       "      <th>awarded</th>\n",
       "      <th>indicators</th>\n",
       "    </tr>\n",
       "  </thead>\n",
       "  <tbody>\n",
       "    <tr>\n",
       "      <th>0</th>\n",
       "      <td>580850</td>\n",
       "      <td>2022-08-22</td>\n",
       "      <td>2022-08-30</td>\n",
       "      <td>7</td>\n",
       "      <td>190</td>\n",
       "      <td>Dostawa materiałów biurowych i papieru ksero.</td>\n",
       "      <td>supplies</td>\n",
       "      <td>1. Przedmiotem niniejszego zamówienia jest suk...</td>\n",
       "      <td>info:154340</td>\n",
       "      <td>448671.46</td>\n",
       "      <td>PLN</td>\n",
       "      <td>95533.15</td>\n",
       "      <td>{'id': '23041', 'sid': None, 'name': None}</td>\n",
       "      <td>{'id': 'art-275-pkt-1-ustawy', 'name': 'art. 2...</td>\n",
       "      <td>[{'date': '2022-09-12', 'value_for_two': 16475...</td>\n",
       "      <td>NaN</td>\n",
       "    </tr>\n",
       "    <tr>\n",
       "      <th>1</th>\n",
       "      <td>579782</td>\n",
       "      <td>2022-06-28</td>\n",
       "      <td>2022-07-06</td>\n",
       "      <td>7</td>\n",
       "      <td>189</td>\n",
       "      <td>Opracowanie dokumentacji projektowej przebudow...</td>\n",
       "      <td>services</td>\n",
       "      <td>1. Przedmiotem postępowania i zamówienia jest:...</td>\n",
       "      <td>info:151611</td>\n",
       "      <td>22755.00</td>\n",
       "      <td>PLN</td>\n",
       "      <td>4832.75</td>\n",
       "      <td>{'id': '23080', 'sid': None, 'name': None}</td>\n",
       "      <td>{'id': 'art-275-pkt-1-ustawy', 'name': 'art. 2...</td>\n",
       "      <td>[{'date': '2022-08-09', 'value_for_two': 0, 'v...</td>\n",
       "      <td>NaN</td>\n",
       "    </tr>\n",
       "    <tr>\n",
       "      <th>2</th>\n",
       "      <td>578226</td>\n",
       "      <td>2022-06-13</td>\n",
       "      <td>2022-06-23</td>\n",
       "      <td>10</td>\n",
       "      <td>240</td>\n",
       "      <td>dostawa komponentów do rozbudowy podsystemu pa...</td>\n",
       "      <td>supplies</td>\n",
       "      <td>Przedmiotem zamówienia jest dostawa komponentó...</td>\n",
       "      <td>info:147901</td>\n",
       "      <td>1058977.11</td>\n",
       "      <td>PLN</td>\n",
       "      <td>222483.53</td>\n",
       "      <td>{'id': '14019', 'sid': None, 'name': None}</td>\n",
       "      <td>{'id': 'art-275-pkt-1-ustawy', 'name': 'art. 2...</td>\n",
       "      <td>[{'date': '2022-07-19', 'value_for_two': 10589...</td>\n",
       "      <td>NaN</td>\n",
       "    </tr>\n",
       "  </tbody>\n",
       "</table>\n",
       "</div>"
      ],
      "text/plain": [
       "       id  ... indicators\n",
       "0  580850  ...        NaN\n",
       "1  579782  ...        NaN\n",
       "2  578226  ...        NaN\n",
       "\n",
       "[3 rows x 16 columns]"
      ]
     },
     "execution_count": 28,
     "metadata": {},
     "output_type": "execute_result"
    }
   ],
   "source": [
    "data = pd.DataFrame.from_dict(results['data'])\n",
    "\n",
    "data.head(3)"
   ]
  },
  {
   "cell_type": "code",
   "execution_count": 29,
   "metadata": {},
   "outputs": [],
   "source": [
    "def flatten(data, col_list):\n",
    "    for column in col_list:\n",
    "        flattened = pd.DataFrame(dict(data[column])).transpose()\n",
    "        columns = [str(col) for col in flattened.columns]\n",
    "        flattened.columns = [column + '_' + colname for colname in columns]\n",
    "        data = pd.concat([data, flattened], axis=1)\n",
    "        data = data.drop(column, axis=1)\n",
    "    return data"
   ]
  },
  {
   "cell_type": "code",
   "execution_count": 30,
   "metadata": {},
   "outputs": [
    {
     "data": {
      "text/html": [
       "<div>\n",
       "<style scoped>\n",
       "    .dataframe tbody tr th:only-of-type {\n",
       "        vertical-align: middle;\n",
       "    }\n",
       "\n",
       "    .dataframe tbody tr th {\n",
       "        vertical-align: top;\n",
       "    }\n",
       "\n",
       "    .dataframe thead th {\n",
       "        text-align: right;\n",
       "    }\n",
       "</style>\n",
       "<table border=\"1\" class=\"dataframe\">\n",
       "  <thead>\n",
       "    <tr style=\"text-align: right;\">\n",
       "      <th></th>\n",
       "      <th>id</th>\n",
       "      <th>date</th>\n",
       "      <th>deadline_date</th>\n",
       "      <th>deadline_length_days</th>\n",
       "      <th>deadline_length_hours</th>\n",
       "      <th>title</th>\n",
       "      <th>category</th>\n",
       "      <th>description</th>\n",
       "      <th>sid</th>\n",
       "      <th>awarded_value</th>\n",
       "      <th>awarded_currency</th>\n",
       "      <th>awarded_value_eur</th>\n",
       "      <th>awarded</th>\n",
       "      <th>indicators</th>\n",
       "      <th>purchaser_id</th>\n",
       "      <th>purchaser_sid</th>\n",
       "      <th>purchaser_name</th>\n",
       "      <th>type_id</th>\n",
       "      <th>type_name</th>\n",
       "      <th>type_slug</th>\n",
       "    </tr>\n",
       "  </thead>\n",
       "  <tbody>\n",
       "    <tr>\n",
       "      <th>0</th>\n",
       "      <td>580850</td>\n",
       "      <td>2022-08-22</td>\n",
       "      <td>2022-08-30</td>\n",
       "      <td>7</td>\n",
       "      <td>190</td>\n",
       "      <td>Dostawa materiałów biurowych i papieru ksero.</td>\n",
       "      <td>supplies</td>\n",
       "      <td>1. Przedmiotem niniejszego zamówienia jest suk...</td>\n",
       "      <td>info:154340</td>\n",
       "      <td>448671.46</td>\n",
       "      <td>PLN</td>\n",
       "      <td>95533.15</td>\n",
       "      <td>[{'date': '2022-09-12', 'value_for_two': 16475...</td>\n",
       "      <td>NaN</td>\n",
       "      <td>23041</td>\n",
       "      <td>None</td>\n",
       "      <td>None</td>\n",
       "      <td>art-275-pkt-1-ustawy</td>\n",
       "      <td>art. 275 pkt 1 ustawy</td>\n",
       "      <td>art-275-pkt-1-ustawy</td>\n",
       "    </tr>\n",
       "    <tr>\n",
       "      <th>1</th>\n",
       "      <td>579782</td>\n",
       "      <td>2022-06-28</td>\n",
       "      <td>2022-07-06</td>\n",
       "      <td>7</td>\n",
       "      <td>189</td>\n",
       "      <td>Opracowanie dokumentacji projektowej przebudow...</td>\n",
       "      <td>services</td>\n",
       "      <td>1. Przedmiotem postępowania i zamówienia jest:...</td>\n",
       "      <td>info:151611</td>\n",
       "      <td>22755.00</td>\n",
       "      <td>PLN</td>\n",
       "      <td>4832.75</td>\n",
       "      <td>[{'date': '2022-08-09', 'value_for_two': 0, 'v...</td>\n",
       "      <td>NaN</td>\n",
       "      <td>23080</td>\n",
       "      <td>None</td>\n",
       "      <td>None</td>\n",
       "      <td>art-275-pkt-1-ustawy</td>\n",
       "      <td>art. 275 pkt 1 ustawy</td>\n",
       "      <td>art-275-pkt-1-ustawy</td>\n",
       "    </tr>\n",
       "    <tr>\n",
       "      <th>2</th>\n",
       "      <td>578226</td>\n",
       "      <td>2022-06-13</td>\n",
       "      <td>2022-06-23</td>\n",
       "      <td>10</td>\n",
       "      <td>240</td>\n",
       "      <td>dostawa komponentów do rozbudowy podsystemu pa...</td>\n",
       "      <td>supplies</td>\n",
       "      <td>Przedmiotem zamówienia jest dostawa komponentó...</td>\n",
       "      <td>info:147901</td>\n",
       "      <td>1058977.11</td>\n",
       "      <td>PLN</td>\n",
       "      <td>222483.53</td>\n",
       "      <td>[{'date': '2022-07-19', 'value_for_two': 10589...</td>\n",
       "      <td>NaN</td>\n",
       "      <td>14019</td>\n",
       "      <td>None</td>\n",
       "      <td>None</td>\n",
       "      <td>art-275-pkt-1-ustawy</td>\n",
       "      <td>art. 275 pkt 1 ustawy</td>\n",
       "      <td>art-275-pkt-1-ustawy</td>\n",
       "    </tr>\n",
       "    <tr>\n",
       "      <th>3</th>\n",
       "      <td>579716</td>\n",
       "      <td>2022-05-04</td>\n",
       "      <td>2022-05-19</td>\n",
       "      <td>14</td>\n",
       "      <td>357</td>\n",
       "      <td>Przebudowa dróg gminnych w podziale na części</td>\n",
       "      <td>constructions</td>\n",
       "      <td>Część nr 1. Przebudowa drogi gminnej nr 226061...</td>\n",
       "      <td>info:151440</td>\n",
       "      <td>361145.99</td>\n",
       "      <td>PLN</td>\n",
       "      <td>76855.93</td>\n",
       "      <td>[{'date': '2022-06-27', 'value_for_two': 16800...</td>\n",
       "      <td>NaN</td>\n",
       "      <td>30103</td>\n",
       "      <td>None</td>\n",
       "      <td>None</td>\n",
       "      <td>art-275-pkt-2-ustawy</td>\n",
       "      <td>art. 275 pkt 2 ustawy</td>\n",
       "      <td>art-275-pkt-2-ustawy</td>\n",
       "    </tr>\n",
       "    <tr>\n",
       "      <th>4</th>\n",
       "      <td>577218</td>\n",
       "      <td>2022-06-03</td>\n",
       "      <td>2022-06-13</td>\n",
       "      <td>9</td>\n",
       "      <td>237</td>\n",
       "      <td>Dostawa sprzętu II dla realizowanego projektu ...</td>\n",
       "      <td>supplies</td>\n",
       "      <td>1. Przedmiotem zamówienia w niniejszym przetar...</td>\n",
       "      <td>info:145454</td>\n",
       "      <td>53474.25</td>\n",
       "      <td>PLN</td>\n",
       "      <td>11515.94</td>\n",
       "      <td>[{'date': '2022-06-21', 'value_for_two': 53474...</td>\n",
       "      <td>NaN</td>\n",
       "      <td>24136</td>\n",
       "      <td>None</td>\n",
       "      <td>None</td>\n",
       "      <td>art-275-pkt-1-ustawy</td>\n",
       "      <td>art. 275 pkt 1 ustawy</td>\n",
       "      <td>art-275-pkt-1-ustawy</td>\n",
       "    </tr>\n",
       "  </tbody>\n",
       "</table>\n",
       "</div>"
      ],
      "text/plain": [
       "       id        date  ...              type_name             type_slug\n",
       "0  580850  2022-08-22  ...  art. 275 pkt 1 ustawy  art-275-pkt-1-ustawy\n",
       "1  579782  2022-06-28  ...  art. 275 pkt 1 ustawy  art-275-pkt-1-ustawy\n",
       "2  578226  2022-06-13  ...  art. 275 pkt 1 ustawy  art-275-pkt-1-ustawy\n",
       "3  579716  2022-05-04  ...  art. 275 pkt 2 ustawy  art-275-pkt-2-ustawy\n",
       "4  577218  2022-06-03  ...  art. 275 pkt 1 ustawy  art-275-pkt-1-ustawy\n",
       "\n",
       "[5 rows x 20 columns]"
      ]
     },
     "execution_count": 30,
     "metadata": {},
     "output_type": "execute_result"
    }
   ],
   "source": [
    "nested_columns = ['purchaser', 'type']\n",
    "\n",
    "flat = flatten(data, nested_columns)\n",
    "\n",
    "flat.head()"
   ]
  },
  {
   "cell_type": "code",
   "execution_count": 31,
   "metadata": {},
   "outputs": [
    {
     "data": {
      "text/plain": [
       "0     [{'date': '2022-09-12', 'value_for_two': 16475...\n",
       "1     [{'date': '2022-08-09', 'value_for_two': 0, 'v...\n",
       "2     [{'date': '2022-07-19', 'value_for_two': 10589...\n",
       "3     [{'date': '2022-06-27', 'value_for_two': 16800...\n",
       "4     [{'date': '2022-06-21', 'value_for_two': 53474...\n",
       "5     [{'date': '2022-05-19', 'value_for_two': 57748...\n",
       "6     [{'date': '2022-04-13', 'value_for_two': 0, 'v...\n",
       "7     [{'date': '2022-02-17', 'value_for_two': 0, 'v...\n",
       "8     [{'date': '2022-01-11', 'value_for_two': 30000...\n",
       "9     [{'date': '2021-12-31', 'value_for_two': 70502...\n",
       "10    [{'date': '2021-12-31', 'value_for_two': 0, 'v...\n",
       "11    [{'date': '2021-12-31', 'value_for_two': 92105...\n",
       "                            ...                        \n",
       "88    [{'date': '2021-08-20', 'value_for_two': 0, 'v...\n",
       "89    [{'date': '2021-08-20', 'value_for_two': 43961...\n",
       "90    [{'date': '2021-08-20', 'value_for_two': 0, 'v...\n",
       "91    [{'date': '2021-08-20', 'value_for_two': 0, 'v...\n",
       "92    [{'date': '2021-08-20', 'value_for_two': 0, 'v...\n",
       "93    [{'date': '2021-08-20', 'value_for_two': 17401...\n",
       "94    [{'date': '2021-08-19', 'value_for_two': 17253...\n",
       "95    [{'date': '2021-08-19', 'value_for_two': 0, 'v...\n",
       "96    [{'date': '2021-08-19', 'value_for_two': 0, 'v...\n",
       "97    [{'date': '2021-08-19', 'value_for_two': 10984...\n",
       "98    [{'date': '2021-08-19', 'value_for_two': 66105...\n",
       "99    [{'date': '2021-08-19', 'value_for_two': 12915...\n",
       "Name: awarded, Length: 100, dtype: object"
      ]
     },
     "execution_count": 31,
     "metadata": {},
     "output_type": "execute_result"
    }
   ],
   "source": [
    "flat['awarded']"
   ]
  }
 ],
 "metadata": {
  "kernelspec": {
   "display_name": "Python 3 (ipykernel)",
   "language": "python",
   "name": "python3"
  },
  "language_info": {
   "codemirror_mode": {
    "name": "ipython",
    "version": 3
   },
   "file_extension": ".py",
   "mimetype": "text/x-python",
   "name": "python",
   "nbconvert_exporter": "python",
   "pygments_lexer": "ipython3",
   "version": "3.9.12"
  },
  "toc": {
   "base_numbering": 1,
   "nav_menu": {},
   "number_sections": true,
   "sideBar": true,
   "skip_h1_title": false,
   "title_cell": "Table of Contents",
   "title_sidebar": "Contents",
   "toc_cell": false,
   "toc_position": {
    "height": "calc(100% - 180px)",
    "left": "10px",
    "top": "150px",
    "width": "165px"
   },
   "toc_section_display": true,
   "toc_window_display": false
  }
 },
 "nbformat": 4,
 "nbformat_minor": 4
}
