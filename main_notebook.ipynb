{
 "cells": [
  {
   "cell_type": "markdown",
   "metadata": {},
   "source": [
    "# Use this notebook for your 3 choices of APIs"
   ]
  },
  {
   "cell_type": "code",
   "execution_count": 1,
   "metadata": {},
   "outputs": [],
   "source": [
    "import requests\n",
    "import json\n",
    "import pandas as pd\n",
    "\n",
    "pd.set_option(\"display.max_rows\", 0)\n",
    "pd.set_option(\"display.max_columns\", 0)"
   ]
  },
  {
   "cell_type": "code",
   "execution_count": 2,
   "metadata": {},
   "outputs": [],
   "source": [
    "# 200: Everything went okay and the result has been returned (if any).\n",
    "# 301: The server is redirecting you to a different endpoint. This can happen when a company switches domain names, or an endpoint name is changed.\n",
    "# 400: The server thinks you made a bad request. This happens when you don’t send along the right data, among other things.\n",
    "# 401: You are not properly authenticated.\n",
    "# 403: The resource you’re trying to access is forbidden: you don’t have the right permissions to get it.\n",
    "# 404: The resource you tried to access doesn't exist.\n",
    "# 503: The server can't handle the request.\n",
    "# full list: https://en.wikipedia.org/wiki/List_of_HTTP_status_codes"
   ]
  },
  {
   "cell_type": "markdown",
   "metadata": {},
   "source": [
    "## API 1 "
   ]
  },
  {
   "cell_type": "code",
   "execution_count": 3,
   "metadata": {},
   "outputs": [
    {
     "name": "stdout",
     "output_type": "stream",
     "text": [
      "response: 200\n"
     ]
    }
   ],
   "source": [
    "response = requests.get('https://xkcd.com/info.0.json')\n",
    "\n",
    "results = response.json()\n",
    "\n",
    "print(\"response:\", response.status_code)"
   ]
  },
  {
   "cell_type": "code",
   "execution_count": 4,
   "metadata": {
    "scrolled": true
   },
   "outputs": [
    {
     "name": "stdout",
     "output_type": "stream",
     "text": [
      "{\"month\": \"10\", \"num\": 2683, \"link\": \"\", \"year\": \"2022\", \"news\": \"\", \"safe_title\": \"Fan Theories\", \"transcript\": \"\", \"alt\": \"The universe fandom is great. Such sweet and enthusiastic people.\", \"img\": \"https://imgs.xkcd.com/comics/fan_theories.png\", \"title\": \"Fan Theories\", \"day\": \"10\"}\n"
     ]
    }
   ],
   "source": [
    "print(response.text)"
   ]
  },
  {
   "cell_type": "code",
   "execution_count": 5,
   "metadata": {},
   "outputs": [
    {
     "data": {
      "text/plain": [
       "{'month': '10',\n",
       " 'num': 2683,\n",
       " 'link': '',\n",
       " 'year': '2022',\n",
       " 'news': '',\n",
       " 'safe_title': 'Fan Theories',\n",
       " 'transcript': '',\n",
       " 'alt': 'The universe fandom is great. Such sweet and enthusiastic people.',\n",
       " 'img': 'https://imgs.xkcd.com/comics/fan_theories.png',\n",
       " 'title': 'Fan Theories',\n",
       " 'day': '10'}"
      ]
     },
     "execution_count": 5,
     "metadata": {},
     "output_type": "execute_result"
    }
   ],
   "source": [
    "results"
   ]
  },
  {
   "cell_type": "code",
   "execution_count": 6,
   "metadata": {
    "scrolled": true
   },
   "outputs": [
    {
     "data": {
      "text/html": [
       "<div>\n",
       "<style scoped>\n",
       "    .dataframe tbody tr th:only-of-type {\n",
       "        vertical-align: middle;\n",
       "    }\n",
       "\n",
       "    .dataframe tbody tr th {\n",
       "        vertical-align: top;\n",
       "    }\n",
       "\n",
       "    .dataframe thead th {\n",
       "        text-align: right;\n",
       "    }\n",
       "</style>\n",
       "<table border=\"1\" class=\"dataframe\">\n",
       "  <thead>\n",
       "    <tr style=\"text-align: right;\">\n",
       "      <th></th>\n",
       "      <th>month</th>\n",
       "      <th>num</th>\n",
       "      <th>link</th>\n",
       "      <th>year</th>\n",
       "      <th>news</th>\n",
       "      <th>safe_title</th>\n",
       "      <th>transcript</th>\n",
       "      <th>alt</th>\n",
       "      <th>img</th>\n",
       "      <th>title</th>\n",
       "      <th>day</th>\n",
       "    </tr>\n",
       "  </thead>\n",
       "  <tbody>\n",
       "    <tr>\n",
       "      <th>0</th>\n",
       "      <td>10</td>\n",
       "      <td>2683</td>\n",
       "      <td></td>\n",
       "      <td>2022</td>\n",
       "      <td></td>\n",
       "      <td>Fan Theories</td>\n",
       "      <td></td>\n",
       "      <td>The universe fandom is great. Such sweet and e...</td>\n",
       "      <td>https://imgs.xkcd.com/comics/fan_theories.png</td>\n",
       "      <td>Fan Theories</td>\n",
       "      <td>10</td>\n",
       "    </tr>\n",
       "  </tbody>\n",
       "</table>\n",
       "</div>"
      ],
      "text/plain": [
       "  month   num  ...         title day\n",
       "0    10  2683  ...  Fan Theories  10\n",
       "\n",
       "[1 rows x 11 columns]"
      ]
     },
     "execution_count": 6,
     "metadata": {},
     "output_type": "execute_result"
    }
   ],
   "source": [
    "data = (pd.DataFrame.from_dict(results, orient= 'index')).transpose()\n",
    "data.head()"
   ]
  },
  {
   "cell_type": "markdown",
   "metadata": {},
   "source": [
    "## API 2"
   ]
  },
  {
   "cell_type": "code",
   "execution_count": 7,
   "metadata": {},
   "outputs": [
    {
     "name": "stdout",
     "output_type": "stream",
     "text": [
      "response: 200\n"
     ]
    }
   ],
   "source": [
    "response = requests.get('https://services2.arcgis.com/5I7u4SJE1vUr79JC/arcgis/rest/services/UniversityChapters_Public/FeatureServer/0/query?where=1%3D1&outFields=*&outSR=4326&f=json')\n",
    "\n",
    "results = response.json()\n",
    "\n",
    "print(\"response:\", response.status_code)"
   ]
  },
  {
   "cell_type": "code",
   "execution_count": 8,
   "metadata": {},
   "outputs": [],
   "source": [
    "# print(response.text)"
   ]
  },
  {
   "cell_type": "code",
   "execution_count": 9,
   "metadata": {},
   "outputs": [
    {
     "data": {
      "text/plain": [
       "{'attributes': {'OBJECTID': 2,\n",
       "  'University_Chapter': 'Florida State University',\n",
       "  'City': 'Tallahassee',\n",
       "  'State': 'FL',\n",
       "  'ChapterID': 'FL0110',\n",
       "  'MEVR_RD': 'Jarrett Lafferty'},\n",
       " 'geometry': {'x': -84.30427263699994, 'y': 30.438110943000027}}"
      ]
     },
     "execution_count": 9,
     "metadata": {},
     "output_type": "execute_result"
    }
   ],
   "source": [
    "results['features'][0]"
   ]
  },
  {
   "cell_type": "code",
   "execution_count": 10,
   "metadata": {},
   "outputs": [],
   "source": [
    "data = pd.DataFrame.from_dict(results['features'][0], orient= 'index')\n",
    "\n",
    "for i in range(1, 97):\n",
    "    data2 = pd.DataFrame.from_dict(results['features'][i], orient= 'index')\n",
    "    data = pd.concat([data, data2], axis=0)\n",
    "    \n",
    "    data"
   ]
  },
  {
   "cell_type": "code",
   "execution_count": 11,
   "metadata": {},
   "outputs": [
    {
     "data": {
      "text/html": [
       "<div>\n",
       "<style scoped>\n",
       "    .dataframe tbody tr th:only-of-type {\n",
       "        vertical-align: middle;\n",
       "    }\n",
       "\n",
       "    .dataframe tbody tr th {\n",
       "        vertical-align: top;\n",
       "    }\n",
       "\n",
       "    .dataframe thead th {\n",
       "        text-align: right;\n",
       "    }\n",
       "</style>\n",
       "<table border=\"1\" class=\"dataframe\">\n",
       "  <thead>\n",
       "    <tr style=\"text-align: right;\">\n",
       "      <th></th>\n",
       "      <th>OBJECTID</th>\n",
       "      <th>University_Chapter</th>\n",
       "      <th>City</th>\n",
       "      <th>State</th>\n",
       "      <th>ChapterID</th>\n",
       "      <th>MEVR_RD</th>\n",
       "      <th>x</th>\n",
       "      <th>y</th>\n",
       "    </tr>\n",
       "  </thead>\n",
       "  <tbody>\n",
       "    <tr>\n",
       "      <th>attributes</th>\n",
       "      <td>2.0</td>\n",
       "      <td>Florida State University</td>\n",
       "      <td>Tallahassee</td>\n",
       "      <td>FL</td>\n",
       "      <td>FL0110</td>\n",
       "      <td>Jarrett Lafferty</td>\n",
       "      <td>NaN</td>\n",
       "      <td>NaN</td>\n",
       "    </tr>\n",
       "    <tr>\n",
       "      <th>geometry</th>\n",
       "      <td>NaN</td>\n",
       "      <td>NaN</td>\n",
       "      <td>NaN</td>\n",
       "      <td>NaN</td>\n",
       "      <td>NaN</td>\n",
       "      <td>NaN</td>\n",
       "      <td>-84.304273</td>\n",
       "      <td>30.438111</td>\n",
       "    </tr>\n",
       "    <tr>\n",
       "      <th>attributes</th>\n",
       "      <td>3.0</td>\n",
       "      <td>Abraham Baldwin Agricultural College</td>\n",
       "      <td>Tifton</td>\n",
       "      <td>GA</td>\n",
       "      <td>GA0020</td>\n",
       "      <td>Brice Crawford</td>\n",
       "      <td>NaN</td>\n",
       "      <td>NaN</td>\n",
       "    </tr>\n",
       "    <tr>\n",
       "      <th>geometry</th>\n",
       "      <td>NaN</td>\n",
       "      <td>NaN</td>\n",
       "      <td>NaN</td>\n",
       "      <td>NaN</td>\n",
       "      <td>NaN</td>\n",
       "      <td>NaN</td>\n",
       "      <td>-83.510064</td>\n",
       "      <td>31.463418</td>\n",
       "    </tr>\n",
       "    <tr>\n",
       "      <th>attributes</th>\n",
       "      <td>4.0</td>\n",
       "      <td>University of Georgia</td>\n",
       "      <td>Athens</td>\n",
       "      <td>GA</td>\n",
       "      <td>GA0133</td>\n",
       "      <td>Scott James</td>\n",
       "      <td>NaN</td>\n",
       "      <td>NaN</td>\n",
       "    </tr>\n",
       "  </tbody>\n",
       "</table>\n",
       "</div>"
      ],
      "text/plain": [
       "            OBJECTID  ...          y\n",
       "attributes       2.0  ...        NaN\n",
       "geometry         NaN  ...  30.438111\n",
       "attributes       3.0  ...        NaN\n",
       "geometry         NaN  ...  31.463418\n",
       "attributes       4.0  ...        NaN\n",
       "\n",
       "[5 rows x 8 columns]"
      ]
     },
     "execution_count": 11,
     "metadata": {},
     "output_type": "execute_result"
    }
   ],
   "source": [
    "data.head(5)"
   ]
  },
  {
   "cell_type": "code",
   "execution_count": 12,
   "metadata": {},
   "outputs": [
    {
     "data": {
      "text/plain": [
       "Index(['OBJECTID', 'University_Chapter', 'City', 'State', 'ChapterID',\n",
       "       'MEVR_RD', 'x', 'y'],\n",
       "      dtype='object')"
      ]
     },
     "execution_count": 12,
     "metadata": {},
     "output_type": "execute_result"
    }
   ],
   "source": [
    "data.columns"
   ]
  },
  {
   "cell_type": "code",
   "execution_count": 13,
   "metadata": {},
   "outputs": [],
   "source": [
    "# attributes dataframe\n",
    "attributes= data[data['x'].isnull() == True]\n",
    "attributes=attributes[[\"OBJECTID\",\"University_Chapter\",\"City\",\"State\",\"ChapterID\",\"MEVR_RD\"]]\n",
    "attributes.reset_index(inplace=True)"
   ]
  },
  {
   "cell_type": "code",
   "execution_count": 14,
   "metadata": {},
   "outputs": [],
   "source": [
    "#geometry dataframe\n",
    "geometry= data[data['x'].isnull() == False]\n",
    "geometry=geometry[['x','y']]\n",
    "geometry.reset_index(inplace=True)"
   ]
  },
  {
   "cell_type": "code",
   "execution_count": 15,
   "metadata": {},
   "outputs": [
    {
     "data": {
      "text/html": [
       "<div>\n",
       "<style scoped>\n",
       "    .dataframe tbody tr th:only-of-type {\n",
       "        vertical-align: middle;\n",
       "    }\n",
       "\n",
       "    .dataframe tbody tr th {\n",
       "        vertical-align: top;\n",
       "    }\n",
       "\n",
       "    .dataframe thead th {\n",
       "        text-align: right;\n",
       "    }\n",
       "</style>\n",
       "<table border=\"1\" class=\"dataframe\">\n",
       "  <thead>\n",
       "    <tr style=\"text-align: right;\">\n",
       "      <th></th>\n",
       "      <th>index</th>\n",
       "      <th>OBJECTID</th>\n",
       "      <th>University_Chapter</th>\n",
       "      <th>City</th>\n",
       "      <th>State</th>\n",
       "      <th>ChapterID</th>\n",
       "      <th>MEVR_RD</th>\n",
       "      <th>index</th>\n",
       "      <th>x</th>\n",
       "      <th>y</th>\n",
       "    </tr>\n",
       "  </thead>\n",
       "  <tbody>\n",
       "    <tr>\n",
       "      <th>0</th>\n",
       "      <td>attributes</td>\n",
       "      <td>2.0</td>\n",
       "      <td>Florida State University</td>\n",
       "      <td>Tallahassee</td>\n",
       "      <td>FL</td>\n",
       "      <td>FL0110</td>\n",
       "      <td>Jarrett Lafferty</td>\n",
       "      <td>geometry</td>\n",
       "      <td>-84.304273</td>\n",
       "      <td>30.438111</td>\n",
       "    </tr>\n",
       "    <tr>\n",
       "      <th>1</th>\n",
       "      <td>attributes</td>\n",
       "      <td>3.0</td>\n",
       "      <td>Abraham Baldwin Agricultural College</td>\n",
       "      <td>Tifton</td>\n",
       "      <td>GA</td>\n",
       "      <td>GA0020</td>\n",
       "      <td>Brice Crawford</td>\n",
       "      <td>geometry</td>\n",
       "      <td>-83.510064</td>\n",
       "      <td>31.463418</td>\n",
       "    </tr>\n",
       "    <tr>\n",
       "      <th>2</th>\n",
       "      <td>attributes</td>\n",
       "      <td>4.0</td>\n",
       "      <td>University of Georgia</td>\n",
       "      <td>Athens</td>\n",
       "      <td>GA</td>\n",
       "      <td>GA0133</td>\n",
       "      <td>Scott James</td>\n",
       "      <td>geometry</td>\n",
       "      <td>-83.383246</td>\n",
       "      <td>33.955464</td>\n",
       "    </tr>\n",
       "    <tr>\n",
       "      <th>3</th>\n",
       "      <td>attributes</td>\n",
       "      <td>5.0</td>\n",
       "      <td>Georgia Southern University</td>\n",
       "      <td>Statesboro</td>\n",
       "      <td>GA</td>\n",
       "      <td>GA0144</td>\n",
       "      <td>Brice Crawford</td>\n",
       "      <td>geometry</td>\n",
       "      <td>-81.779237</td>\n",
       "      <td>32.445146</td>\n",
       "    </tr>\n",
       "    <tr>\n",
       "      <th>4</th>\n",
       "      <td>attributes</td>\n",
       "      <td>6.0</td>\n",
       "      <td>Georgia Tech University</td>\n",
       "      <td>Atlanta</td>\n",
       "      <td>GA</td>\n",
       "      <td>GA0147</td>\n",
       "      <td>Scott James</td>\n",
       "      <td>geometry</td>\n",
       "      <td>-84.403173</td>\n",
       "      <td>33.759509</td>\n",
       "    </tr>\n",
       "  </tbody>\n",
       "</table>\n",
       "</div>"
      ],
      "text/plain": [
       "        index  OBJECTID  ...          x          y\n",
       "0  attributes       2.0  ... -84.304273  30.438111\n",
       "1  attributes       3.0  ... -83.510064  31.463418\n",
       "2  attributes       4.0  ... -83.383246  33.955464\n",
       "3  attributes       5.0  ... -81.779237  32.445146\n",
       "4  attributes       6.0  ... -84.403173  33.759509\n",
       "\n",
       "[5 rows x 10 columns]"
      ]
     },
     "execution_count": 15,
     "metadata": {},
     "output_type": "execute_result"
    }
   ],
   "source": [
    "chapters_df = pd.concat([attributes, geometry], axis=1)\n",
    "\n",
    "chapters_df.head()"
   ]
  },
  {
   "cell_type": "code",
   "execution_count": 16,
   "metadata": {
    "scrolled": true
   },
   "outputs": [
    {
     "data": {
      "text/html": [
       "<div>\n",
       "<style scoped>\n",
       "    .dataframe tbody tr th:only-of-type {\n",
       "        vertical-align: middle;\n",
       "    }\n",
       "\n",
       "    .dataframe tbody tr th {\n",
       "        vertical-align: top;\n",
       "    }\n",
       "\n",
       "    .dataframe thead th {\n",
       "        text-align: right;\n",
       "    }\n",
       "</style>\n",
       "<table border=\"1\" class=\"dataframe\">\n",
       "  <thead>\n",
       "    <tr style=\"text-align: right;\">\n",
       "      <th></th>\n",
       "      <th>OBJECTID</th>\n",
       "      <th>University_Chapter</th>\n",
       "      <th>City</th>\n",
       "      <th>State</th>\n",
       "      <th>ChapterID</th>\n",
       "      <th>MEVR_RD</th>\n",
       "      <th>x</th>\n",
       "      <th>y</th>\n",
       "    </tr>\n",
       "  </thead>\n",
       "  <tbody>\n",
       "    <tr>\n",
       "      <th>0</th>\n",
       "      <td>2.0</td>\n",
       "      <td>Florida State University</td>\n",
       "      <td>Tallahassee</td>\n",
       "      <td>FL</td>\n",
       "      <td>FL0110</td>\n",
       "      <td>Jarrett Lafferty</td>\n",
       "      <td>-84.304273</td>\n",
       "      <td>30.438111</td>\n",
       "    </tr>\n",
       "    <tr>\n",
       "      <th>1</th>\n",
       "      <td>3.0</td>\n",
       "      <td>Abraham Baldwin Agricultural College</td>\n",
       "      <td>Tifton</td>\n",
       "      <td>GA</td>\n",
       "      <td>GA0020</td>\n",
       "      <td>Brice Crawford</td>\n",
       "      <td>-83.510064</td>\n",
       "      <td>31.463418</td>\n",
       "    </tr>\n",
       "    <tr>\n",
       "      <th>2</th>\n",
       "      <td>4.0</td>\n",
       "      <td>University of Georgia</td>\n",
       "      <td>Athens</td>\n",
       "      <td>GA</td>\n",
       "      <td>GA0133</td>\n",
       "      <td>Scott James</td>\n",
       "      <td>-83.383246</td>\n",
       "      <td>33.955464</td>\n",
       "    </tr>\n",
       "    <tr>\n",
       "      <th>3</th>\n",
       "      <td>5.0</td>\n",
       "      <td>Georgia Southern University</td>\n",
       "      <td>Statesboro</td>\n",
       "      <td>GA</td>\n",
       "      <td>GA0144</td>\n",
       "      <td>Brice Crawford</td>\n",
       "      <td>-81.779237</td>\n",
       "      <td>32.445146</td>\n",
       "    </tr>\n",
       "    <tr>\n",
       "      <th>4</th>\n",
       "      <td>6.0</td>\n",
       "      <td>Georgia Tech University</td>\n",
       "      <td>Atlanta</td>\n",
       "      <td>GA</td>\n",
       "      <td>GA0147</td>\n",
       "      <td>Scott James</td>\n",
       "      <td>-84.403173</td>\n",
       "      <td>33.759509</td>\n",
       "    </tr>\n",
       "  </tbody>\n",
       "</table>\n",
       "</div>"
      ],
      "text/plain": [
       "   OBJECTID                    University_Chapter  ...          x          y\n",
       "0       2.0              Florida State University  ... -84.304273  30.438111\n",
       "1       3.0  Abraham Baldwin Agricultural College  ... -83.510064  31.463418\n",
       "2       4.0                 University of Georgia  ... -83.383246  33.955464\n",
       "3       5.0           Georgia Southern University  ... -81.779237  32.445146\n",
       "4       6.0               Georgia Tech University  ... -84.403173  33.759509\n",
       "\n",
       "[5 rows x 8 columns]"
      ]
     },
     "execution_count": 16,
     "metadata": {},
     "output_type": "execute_result"
    }
   ],
   "source": [
    "chapters_df.drop(['index','index'], inplace=True, axis=1)\n",
    "\n",
    "chapters_df.head()"
   ]
  },
  {
   "cell_type": "markdown",
   "metadata": {},
   "source": [
    "## API 3 "
   ]
  },
  {
   "cell_type": "code",
   "execution_count": 17,
   "metadata": {},
   "outputs": [
    {
     "name": "stdout",
     "output_type": "stream",
     "text": [
      "results:  200\n"
     ]
    }
   ],
   "source": [
    "response = requests.get('https://api.chucknorris.io/jokes/random')\n",
    "\n",
    "results = response.json()\n",
    "\n",
    "print(\"results: \", response.status_code)"
   ]
  },
  {
   "cell_type": "code",
   "execution_count": 18,
   "metadata": {},
   "outputs": [
    {
     "name": "stdout",
     "output_type": "stream",
     "text": [
      "{\"categories\":[],\"created_at\":\"2020-01-05 13:42:26.447675\",\"icon_url\":\"https://assets.chucknorris.host/img/avatar/chuck-norris.png\",\"id\":\"6aV1Skh_R4KVmxbjnX5TGA\",\"updated_at\":\"2020-01-05 13:42:26.447675\",\"url\":\"https://api.chucknorris.io/jokes/6aV1Skh_R4KVmxbjnX5TGA\",\"value\":\"Chuck Norris' hand is the only hand that can beat a royal flush.\"}\n"
     ]
    }
   ],
   "source": [
    "print(response.text)"
   ]
  },
  {
   "cell_type": "code",
   "execution_count": 19,
   "metadata": {},
   "outputs": [
    {
     "data": {
      "text/plain": [
       "{'categories': [],\n",
       " 'created_at': '2020-01-05 13:42:26.447675',\n",
       " 'icon_url': 'https://assets.chucknorris.host/img/avatar/chuck-norris.png',\n",
       " 'id': '6aV1Skh_R4KVmxbjnX5TGA',\n",
       " 'updated_at': '2020-01-05 13:42:26.447675',\n",
       " 'url': 'https://api.chucknorris.io/jokes/6aV1Skh_R4KVmxbjnX5TGA',\n",
       " 'value': \"Chuck Norris' hand is the only hand that can beat a royal flush.\"}"
      ]
     },
     "execution_count": 19,
     "metadata": {},
     "output_type": "execute_result"
    }
   ],
   "source": [
    "results"
   ]
  },
  {
   "cell_type": "code",
   "execution_count": 20,
   "metadata": {},
   "outputs": [
    {
     "data": {
      "text/plain": [
       "\"Chuck Norris' hand is the only hand that can beat a royal flush.\""
      ]
     },
     "execution_count": 20,
     "metadata": {},
     "output_type": "execute_result"
    }
   ],
   "source": [
    "results['value']"
   ]
  },
  {
   "cell_type": "code",
   "execution_count": 21,
   "metadata": {
    "scrolled": true
   },
   "outputs": [
    {
     "data": {
      "text/html": [
       "<div>\n",
       "<style scoped>\n",
       "    .dataframe tbody tr th:only-of-type {\n",
       "        vertical-align: middle;\n",
       "    }\n",
       "\n",
       "    .dataframe tbody tr th {\n",
       "        vertical-align: top;\n",
       "    }\n",
       "\n",
       "    .dataframe thead th {\n",
       "        text-align: right;\n",
       "    }\n",
       "</style>\n",
       "<table border=\"1\" class=\"dataframe\">\n",
       "  <thead>\n",
       "    <tr style=\"text-align: right;\">\n",
       "      <th></th>\n",
       "      <th>categories</th>\n",
       "      <th>created_at</th>\n",
       "      <th>icon_url</th>\n",
       "      <th>id</th>\n",
       "      <th>updated_at</th>\n",
       "      <th>url</th>\n",
       "      <th>value</th>\n",
       "    </tr>\n",
       "  </thead>\n",
       "  <tbody>\n",
       "    <tr>\n",
       "      <th>0</th>\n",
       "      <td>None</td>\n",
       "      <td>2</td>\n",
       "      <td>h</td>\n",
       "      <td>6</td>\n",
       "      <td>2</td>\n",
       "      <td>h</td>\n",
       "      <td>C</td>\n",
       "    </tr>\n",
       "    <tr>\n",
       "      <th>1</th>\n",
       "      <td>None</td>\n",
       "      <td>0</td>\n",
       "      <td>t</td>\n",
       "      <td>a</td>\n",
       "      <td>0</td>\n",
       "      <td>t</td>\n",
       "      <td>h</td>\n",
       "    </tr>\n",
       "    <tr>\n",
       "      <th>2</th>\n",
       "      <td>None</td>\n",
       "      <td>2</td>\n",
       "      <td>t</td>\n",
       "      <td>V</td>\n",
       "      <td>2</td>\n",
       "      <td>t</td>\n",
       "      <td>u</td>\n",
       "    </tr>\n",
       "    <tr>\n",
       "      <th>3</th>\n",
       "      <td>None</td>\n",
       "      <td>0</td>\n",
       "      <td>p</td>\n",
       "      <td>1</td>\n",
       "      <td>0</td>\n",
       "      <td>p</td>\n",
       "      <td>c</td>\n",
       "    </tr>\n",
       "    <tr>\n",
       "      <th>4</th>\n",
       "      <td>None</td>\n",
       "      <td>-</td>\n",
       "      <td>s</td>\n",
       "      <td>S</td>\n",
       "      <td>-</td>\n",
       "      <td>s</td>\n",
       "      <td>k</td>\n",
       "    </tr>\n",
       "    <tr>\n",
       "      <th>5</th>\n",
       "      <td>None</td>\n",
       "      <td>0</td>\n",
       "      <td>:</td>\n",
       "      <td>k</td>\n",
       "      <td>0</td>\n",
       "      <td>:</td>\n",
       "      <td></td>\n",
       "    </tr>\n",
       "    <tr>\n",
       "      <th>6</th>\n",
       "      <td>None</td>\n",
       "      <td>1</td>\n",
       "      <td>/</td>\n",
       "      <td>h</td>\n",
       "      <td>1</td>\n",
       "      <td>/</td>\n",
       "      <td>N</td>\n",
       "    </tr>\n",
       "    <tr>\n",
       "      <th>7</th>\n",
       "      <td>None</td>\n",
       "      <td>-</td>\n",
       "      <td>/</td>\n",
       "      <td>_</td>\n",
       "      <td>-</td>\n",
       "      <td>/</td>\n",
       "      <td>o</td>\n",
       "    </tr>\n",
       "    <tr>\n",
       "      <th>8</th>\n",
       "      <td>None</td>\n",
       "      <td>0</td>\n",
       "      <td>a</td>\n",
       "      <td>R</td>\n",
       "      <td>0</td>\n",
       "      <td>a</td>\n",
       "      <td>r</td>\n",
       "    </tr>\n",
       "    <tr>\n",
       "      <th>9</th>\n",
       "      <td>None</td>\n",
       "      <td>5</td>\n",
       "      <td>s</td>\n",
       "      <td>4</td>\n",
       "      <td>5</td>\n",
       "      <td>p</td>\n",
       "      <td>r</td>\n",
       "    </tr>\n",
       "  </tbody>\n",
       "</table>\n",
       "</div>"
      ],
      "text/plain": [
       "  categories created_at icon_url id updated_at url value\n",
       "0       None          2        h  6          2   h     C\n",
       "1       None          0        t  a          0   t     h\n",
       "2       None          2        t  V          2   t     u\n",
       "3       None          0        p  1          0   p     c\n",
       "4       None          -        s  S          -   s     k\n",
       "5       None          0        :  k          0   :      \n",
       "6       None          1        /  h          1   /     N\n",
       "7       None          -        /  _          -   /     o\n",
       "8       None          0        a  R          0   a     r\n",
       "9       None          5        s  4          5   p     r"
      ]
     },
     "execution_count": 21,
     "metadata": {},
     "output_type": "execute_result"
    }
   ],
   "source": [
    "data = pd.DataFrame.from_dict(results, orient= 'index').transpose()\n",
    "data.head(10)"
   ]
  },
  {
   "cell_type": "code",
   "execution_count": 22,
   "metadata": {},
   "outputs": [],
   "source": [
    "# res1_1 = requests.get('https://api.chucknorris.io/jokes/random').json()\n",
    "# res1_1"
   ]
  },
  {
   "cell_type": "code",
   "execution_count": 23,
   "metadata": {},
   "outputs": [],
   "source": [
    "# print(res1_1['value'])"
   ]
  },
  {
   "cell_type": "code",
   "execution_count": 24,
   "metadata": {},
   "outputs": [],
   "source": [
    "def flatten(data, col_list):\n",
    "    for column in col_list:\n",
    "        flattened = pd.DataFrame(dict(data[column])).transpose()\n",
    "        columns = [str(col) for col in flattened.columns]\n",
    "        flattened.columns = [column + '_' + colname for colname in columns]\n",
    "        data = pd.concat([data, flattened], axis=1)\n",
    "        data = data.drop(column, axis=1)\n",
    "    return data"
   ]
  },
  {
   "cell_type": "markdown",
   "metadata": {},
   "source": [
    "## API 3 "
   ]
  },
  {
   "cell_type": "code",
   "execution_count": 25,
   "metadata": {},
   "outputs": [
    {
     "name": "stdout",
     "output_type": "stream",
     "text": [
      "results:  200\n"
     ]
    }
   ],
   "source": [
    "response = requests.get('https://tenders.guru/api/pl/tenders')\n",
    "\n",
    "results = response.json()\n",
    "\n",
    "print(\"results: \", response.status_code)"
   ]
  },
  {
   "cell_type": "code",
   "execution_count": 26,
   "metadata": {},
   "outputs": [
    {
     "name": "stdout",
     "output_type": "stream",
     "text": [
      "{\"page_count\":5767,\"page_number\":1,\"page_size\":100,\"total\":576610,\"data\":[{\"id\":\"580850\",\"date\":\"2022-08-22\",\"deadline_date\":\"2022-08-30\",\"deadline_length_days\":\"7\",\"deadline_length_hours\":\"190\",\"title\":\"Dostawa materia\\u0142\\u00f3w biurowych i papieru ksero.\",\"category\":\"supplies\",\"description\":\"1. Przedmiotem niniejszego zam\\u00f3wienia jest sukcesywna dostawa materia\\u0142\\u00f3w biurowych i papieru ksero, zgodnie z zapisami zawartymi w formularzu asortymentowo-cenowym, stanowi\\u0105cym za\\u0142\\u0105cznik nr 2 do SWZPakiet 1 \\u2013 materia\\u0142y biurowe\",\"sid\":\"info:154340\",\"awarded_value\":\"448671.46\",\"awarded_currency\":\"PLN\",\"awarded_value_eur\":\"95533.15\",\"purchaser\":{\"id\":\"23041\",\"sid\":null,\"name\":null},\"type\":{\"id\":\"art-275-pkt-1-ustawy\",\"name\":\"art. 275 pkt 1 ustawy\",\"slug\":\"art-275-pkt-1-ustawy\"},\"awarded\":[{\"date\":\"2022-09-12\",\"value_for_two\":164757.94,\"value_for_two_eur\":35081.01,\"suppliers\":[{\"name\":\"PAPIRUS sp. j. M. G\\u00f3recki, A. Nowicki, J. Kary\\u015b\",\"id\":2937,\"slug\":\"papirus-sp-j-m-gorecki-a-nowicki-j-karys\"}],\"value_min\":\"448671.46\",\"value_for_three\":448671.46,\"value_for_one_eur\":0,\"count\":\"2\",\"value_for_one\":0,\"offers_declined\":[1],\"value_for_three_eur\":95533.15,\"suppliers_id\":\"2937\",\"value_eur\":95533.15,\"value_max\":\"490141.50\",\"offers_count\":[2,3],\"suppliers_name\":\"PAPIRUS sp. j. M. G\\u00f3recki, A. Nowicki, J. Kary\\u015b\",\"value\":\"448671.46\",\"value_estimated\":\"653940.00\",\"offers_count_data\":{\"2\":{\"value_eur\":35081.01,\"count\":\"1\",\"value\":\"164757.94\"},\"3\":{\"value_eur\":60452.15,\"count\":\"1\",\"value\":\"283913.52\"}}}]},{\"id\":\"579782\",\"date\":\"2022-06-28\",\"deadline_date\":\"2022-07-06\",\"deadline_length_days\":\"7\",\"deadline_length_hours\":\"189\",\"title\":\"Opracowanie dokumentacji projektowej przebudowy budynku biblioteki na potrzeby filii NCK w Nowosielcu\",\"category\":\"services\",\"description\":\"1. Przedmiotem post\\u0119powania i zam\\u00f3wienia jest: Opracowanie dokumentacji projektowej przebudowy budynku biblioteki na potrzeby filii NCK w Nowosielcu Dokumentacja projektowa b\\u0119dzie obejmowa\\u0107 wykonanie:1) Aktualizacj\\u0119 mapy do cel\\u00f3w projektowych;2) Projektu zagospodarowania terenu;3) Projekt architektoniczno-budowlany; 4) Projektu technicznego, 5) Projektu instalacji sanitarnych: wod - kan, co, wentylacji mechanicznej;6) Projekt instalacji elektrycznej, teletechnicznej - internet; 7) Informacji BIO\",\"sid\":\"info:151611\",\"awarded_value\":\"22755.00\",\"awarded_currency\":\"PLN\",\"awarded_value_eur\":\"4832.75\",\"purchaser\":{\"id\":\"23080\",\"sid\":null,\"name\":null},\"type\":{\"id\":\"art-275-pkt-1-ustawy\",\"name\":\"art. 275 pkt 1 ustawy\",\"slug\":\"art-275-pkt-1-ustawy\"},\"awarded\":[{\"date\":\"2022-08-09\",\"value_for_two\":0,\"value_for_two_eur\":0,\"suppliers\":[{\"name\":\"SAN-PROJ Us\\u0142ugi Projektowe Kalamarz Janusz\",\"id\":26794,\"slug\":\"san-proj-uslugi-projektowe-kalamarz-janusz\"}],\"value_min\":\"22755.00\",\"value_for_three\":0,\"value_for_one_eur\":0,\"count\":\"1\",\"value_for_one\":0,\"value_for_three_eur\":0,\"suppliers_id\":\"26794\",\"value_eur\":4832.75,\"value_max\":\"86100.00\",\"offers_count\":[5],\"suppliers_name\":\"SAN-PROJ Us\\u0142ugi Projektowe Kalamarz Janusz\",\"value\":\"22755.00\",\"value_estimated\":null,\"offers_count_data\":{\"5\":{\"value_eur\":4832.75,\"count\":\"1\",\"value\":\"22755.00\"}}}]},{\"id\":\"578226\",\"date\":\"2022-06-13\",\"deadline_date\":\"2022-06-23\",\"deadline_length_days\":\"10\",\"deadline_length_hours\":\"240\",\"title\":\"dostawa komponent\\u00f3w do rozbudowy podsystemu pami\\u0119ci masowej\",\"category\":\"supplies\",\"description\":\"Przedmiotem zam\\u00f3wienia jest dostawa komponent\\u00f3w do rozbudowy podsystemu pami\\u0119ci masowej. Szczeg\\u00f3\\u0142owy opis przedmiotu zam\\u00f3wienia i sposobu jego wykonania zawarty jest w projektowanych postanowieniach umowy stanowi\\u0105cych Za\\u0142\\u0105cznik nr 4 do SWZ.\",\"sid\":\"info:147901\",\"awarded_value\":\"1058977.11\",\"awarded_currency\":\"PLN\",\"awarded_value_eur\":\"222483.53\",\"purchaser\":{\"id\":\"14019\",\"sid\":null,\"name\":null},\"type\":{\"id\":\"art-275-pkt-1-ustawy\",\"name\":\"art. 275 pkt 1 ustawy\",\"slug\":\"art-275-pkt-1-ustawy\"},\"awarded\":[{\"date\":\"2022-07-19\",\"value_for_two\":1058977.11,\"value_for_two_eur\":222483.53,\"suppliers\":[{\"name\":\"Clockwise Sp. z o. o.\",\"id\":26387,\"slug\":\"clockwise-sp-z-o-o\"}],\"value_min\":\"1058977.11\",\"value_for_three\":1058977.11,\"value_for_one_eur\":0,\"count\":\"1\",\"value_for_one\":0,\"value_for_three_eur\":222483.53,\"suppliers_id\":\"26387\",\"value_eur\":222483.53,\"value_max\":\"1107000.00\",\"offers_count\":[2],\"suppliers_name\":\"Clockwise Sp. z o. o.\",\"value\":\"1058977.11\",\"value_estimated\":null,\"offers_count_data\":{\"2\":{\"value_eur\":222483.53,\"count\":\"1\",\"value\":\"1058977.11\"}}}]},{\"id\":\"579716\",\"date\":\"2022-05-04\",\"deadline_date\":\"2022-05-19\",\"deadline_length_days\":\"14\",\"deadline_length_hours\":\"357\",\"title\":\"Przebudowa dr\\u00f3g gminnych w podziale na cz\\u0119\\u015bci\",\"category\":\"constructions\",\"description\":\"Cz\\u0119\\u015b\\u0107 nr 1. Przebudowa drogi gminnej nr 226061G \\u2013 BietowoU\\u0142o\\u017cenie nawierzchni z p\\u0142yt wielootworowych podw\\u00f3jnie zbrojonych z korytowaniem oraz zag\\u0119szczeniem pisakiem i kruszywem na d\\u0142ugo\\u015bci 110 m.\",\"sid\":\"info:151440\",\"awarded_value\":\"361145.99\",\"awarded_currency\":\"PLN\",\"awarded_value_eur\":\"76855.93\",\"purchaser\":{\"id\":\"30103\",\"sid\":null,\"name\":null},\"type\":{\"id\":\"art-275-pkt-2-ustawy\",\"name\":\"art. 275 pkt 2 ustawy\",\"slug\":\"art-275-pkt-2-ustawy\"},\"awarded\":[{\"date\":\"2022-06-27\",\"value_for_two\":168000,\"value_for_two_eur\":35752.29,\"suppliers\":[{\"name\":\"GAJLAND Ryszard Landowski\",\"id\":26781,\"slug\":\"gajland-ryszard-landowski\"}],\"value_min\":\"168000.00\",\"value_for_three\":168000,\"value_for_one_eur\":0,\"count\":\"3\",\"value_for_one\":0,\"value_for_three_eur\":35752.29,\"suppliers_id\":\"26781\",\"value_eur\":35752.29,\"value_max\":\"171024.12\",\"offers_count\":[2],\"suppliers_name\":\"GAJLAND Ryszard Landowski\",\"value\":\"168000.00\",\"value_estimated\":\"170466.00\",\"offers_count_data\":{\"2\":{\"value_eur\":35752.29,\"count\":\"3\",\"value\":\"168000.00\"}}},{\"date\":\"2022-06-27\",\"value_for_two\":193145.99,\"value_for_two_eur\":41103.64,\"suppliers\":[{\"name\":\"Zak\\u0142ad Us\\u0142ugowy \\\"RATTUSS\\\" Sebastian Frischmut\",\"id\":26782,\"slug\":\"zaklad-uslugowy-rattuss-sebastian-frischmut\"}],\"value_min\":\"193145.99\",\"value_for_three\":193145.99,\"value_for_one_eur\":0,\"count\":\"3\",\"value_for_one\":0,\"value_for_three_eur\":41103.64,\"suppliers_id\":\"26782\",\"value_eur\":41103.64,\"value_max\":\"198735.00\",\"offers_count\":[2],\"suppliers_name\":\"Zak\\u0142ad Us\\u0142ugowy \\\"RATTUSS\\\" Sebastian Frischmut\",\"value\":\"193145.99\",\"value_estimated\":\"193145.99\",\"offers_count_data\":{\"2\":{\"value_eur\":41103.64,\"count\":\"3\",\"value\":\"193145.99\"}}}]},{\"id\":\"577218\",\"date\":\"2022-06-03\",\"deadline_date\":\"2022-06-13\",\"deadline_length_days\":\"9\",\"deadline_length_hours\":\"237\",\"title\":\"Dostawa sprz\\u0119tu II dla realizowanego projektu \\u201eeCareMed - eZdrowie w Szpitalu Specjalistycznym Nr 2 w Bytomiu\\u201d\",\"category\":\"supplies\",\"description\":\"1. Przedmiotem zam\\u00f3wienia w niniejszym przetargu jest Dostawa sprz\\u0119tu dla realizowanego projektu \\u201eeCareMed - eZdrowie w Szpitalu Specjalistycznym Nr 2 w Bytomiu\\u201d w ramach Europejskiego Funduszu Rozwoju Regionalnego. Projekt b\\u0119dzie realizowany w ramach Osi Priorytetowej II Cyfrowe \\u015al\\u0105skie, Dzia\\u0142anie 2.1 Wsparcie rozwoju cyfrowych us\\u0142ug publicznych Regionalnego Programu Operacyjnego Wojew\\u00f3dztwa \\u015al\\u0105skiego 2014-2020. Przedmiot zam\\u00f3wienia zosta\\u0142 podzielony na 1 pakiet. Przez okre\\u015blenie Cz\\u0119\\u015b\\u0107 nale\\u017cy r\",\"sid\":\"info:145454\",\"awarded_value\":\"53474.25\",\"awarded_currency\":\"PLN\",\"awarded_value_eur\":\"11515.94\",\"purchaser\":{\"id\":\"24136\",\"sid\":null,\"name\":null},\"type\":{\"id\":\"art-275-pkt-1-ustawy\",\"name\":\"art. 275 pkt 1 ustawy\",\"slug\":\"art-275-pkt-1-ustawy\"},\"awarded\":[{\"date\":\"2022-06-21\",\"value_for_two\":53474.25,\"value_for_two_eur\":11515.94,\"suppliers\":[{\"name\":\"INET S.C. Artur Czachor, Tomasz Laube\",\"id\":2758,\"slug\":\"inet-s-c-artur-czachor-tomasz-laube\"}],\"value_min\":\"53474.25\",\"value_for_three\":53474.25,\"value_for_one_eur\":0,\"count\":\"1\",\"value_for_one\":0,\"value_for_three_eur\":11515.94,\"suppliers_id\":\"2758\",\"value_eur\":11515.94,\"value_max\":\"127674.00\",\"offers_count\":[2],\"suppliers_name\":\"INET S.C. Artur Czachor, Tomasz Laube\",\"value\":\"53474.25\",\"value_estimated\":null,\"offers_count_data\":{\"2\":{\"value_eur\":11515.94,\"count\":\"1\",\"value\":\"53474.25\"}}}]},{\"id\":\"577039\",\"date\":\"2022-03-10\",\"deadline_date\":\"2022-03-25\",\"deadline_length_days\":\"14\",\"deadline_length_hours\":\"350\",\"title\":\"Budowa Centrum Przesiadkowego w \\u015awierkla\\u0144cu przy ulicy Parkowej\",\"category\":\"constructions\",\"description\":\"Przedmiotem zam\\u00f3wienia jest budowa Centrum Przesiadkowego w \\u015awierkla\\u0144cu przy ulicyParkowej. Projekt zak\\u0142ada budow\\u0119 centrum przesiadkowego sk\\u0142adaj\\u0105cego si\\u0119 z g\\u0142\\u00f3wnego peronu autobusowego z wiat\\u0105 dla pasa\\u017cer\\u00f3w, dodatkowego peronu z wiatami dla rower\\u00f3w orazparking\\u00f3w dla samochod\\u00f3w osobowych.\",\"sid\":\"info:145036\",\"awarded_value\":\"5774850.00\",\"awarded_currency\":\"PLN\",\"awarded_value_eur\":\"1243963.12\",\"purchaser\":{\"id\":\"30582\",\"sid\":null,\"name\":null},\"type\":{\"id\":\"art-275-pkt-1-ustawy\",\"name\":\"art. 275 pkt 1 ustawy\",\"slug\":\"art-275-pkt-1-ustawy\"},\"awarded\":[{\"date\":\"2022-05-19\",\"value_for_two\":5774850,\"value_for_two_eur\":1243963.12,\"suppliers\":[{\"name\":\"Przedsi\\u0119biorstwo Instalacyjno-Monta\\u017cowe KZ Sp. z o.o.\",\"id\":26099,\"slug\":\"przedsiebiorstwo-instalacyjno-montazowe-kz-sp-z-o-o\"},{\"name\":\"Konstrukcje Stalowe K-Z Sp. z o.o.\",\"id\":26100,\"slug\":\"konstrukcje-stalowe-k-z-sp-z-o-o\"}],\"value_min\":\"5774850.00\",\"value_for_three\":5774850,\"value_for_one_eur\":0,\"count\":\"1\",\"value_for_one\":0,\"value_for_three_eur\":1243963.12,\"suppliers_id\":\"26099,26100\",\"value_eur\":1243963.12,\"value_max\":\"6283402.59\",\"offers_count\":[2],\"suppliers_name\":\"Przedsi\\u0119biorstwo Instalacyjno-Monta\\u017cowe KZ Sp. z o.o. Konstrukcje Stalowe K-Z Sp. z o.o.\",\"value\":\"5774850.00\",\"value_estimated\":null,\"offers_count_data\":{\"2\":{\"value_eur\":1243963.12,\"count\":\"1\",\"value\":\"5774850.00\"}}}]},{\"id\":\"575864\",\"date\":\"2022-03-02\",\"deadline_date\":\"2022-03-17\",\"deadline_length_days\":\"14\",\"deadline_length_hours\":\"354\",\"title\":\"Przebudowa ul. Wiejskiej i Wiosennej w Niewodnikach\",\"category\":\"constructions\",\"description\":\"1. Przedmiotem zam\\u00f3wienia jest \\u201ePrzebudowa ul. Wiejskiej i Wiosennej w Niewodnikach\\u201d, zgodnie z dokumentacj\\u0105 projektow\\u0105 i specyfikacj\\u0105 techniczn\\u0105 wykonania i odbioru rob\\u00f3t budowlanych. Dokumenty te stanowi\\u0105 za\\u0142\\u0105czniki do niniejszej specyfikacji.2. Zadanie inwestycyjne obejmuje m.in.: 1) Roboty pomiarowe i ziemne, 2) Roboty ziemne, korytowanie, 3) Roboty odwadniaj\\u0105ce i nawierzchniowe 4) Og\\u00f3lne roboty budowlane zwi\\u0105zane z budow\\u0105 ruroci\\u0105g\\u00f3w5) Organizacj\\u0119, zagospodarowanie i likwidacj\\u0119 placu budowy,\",\"sid\":\"info:142420\",\"awarded_value\":\"1350742.80\",\"awarded_currency\":\"PLN\",\"awarded_value_eur\":\"290776.23\",\"purchaser\":{\"id\":\"24110\",\"sid\":null,\"name\":null},\"type\":{\"id\":\"art-275-pkt-1-ustawy\",\"name\":\"art. 275 pkt 1 ustawy\",\"slug\":\"art-275-pkt-1-ustawy\"},\"awarded\":[{\"date\":\"2022-04-13\",\"value_for_two\":0,\"value_for_two_eur\":0,\"suppliers\":[{\"name\":\"VIANKO Sp. z o.o.\",\"id\":14325,\"slug\":\"vianko-sp-z-o-o\"}],\"value_min\":\"1350742.80\",\"value_for_three\":0,\"value_for_one_eur\":0,\"count\":\"1\",\"value_for_one\":0,\"value_for_three_eur\":0,\"suppliers_id\":\"14325\",\"value_eur\":290776.23,\"value_max\":\"2410800.00\",\"offers_count\":[5],\"suppliers_name\":\"VIANKO Sp. z o.o.\",\"value\":\"1350742.80\",\"value_estimated\":null,\"offers_count_data\":{\"5\":{\"value_eur\":290776.23,\"count\":\"1\",\"value\":\"1350742.80\"}}}]},{\"id\":\"576986\",\"date\":\"2022-01-12\",\"deadline_date\":\"2022-01-28\",\"deadline_length_days\":\"15\",\"deadline_length_hours\":\"381\",\"title\":\"Remont nawierzchni dr\\u00f3g powiatowych nr 2709G i 2707G z podzia\\u0142em na dwie cz\\u0119\\u015bci:\",\"category\":\"constructions\",\"description\":\"Remont nawierzchni drogi powiatowej nr 2709G na odcinku Bobowo \\u2013 WysokaOpis przedmiotu zam\\u00f3wienia - za\\u0142. nr 1 do SWZ cz\\u0119\\u015b\\u0107 1\",\"sid\":\"info:144917\",\"awarded_value\":\"2176668.95\",\"awarded_currency\":\"PLN\",\"awarded_value_eur\":\"483381.88\",\"purchaser\":{\"id\":\"23062\",\"sid\":null,\"name\":null},\"type\":{\"id\":\"art-275-pkt-1-ustawy\",\"name\":\"art. 275 pkt 1 ustawy\",\"slug\":\"art-275-pkt-1-ustawy\"},\"awarded\":[{\"date\":\"2022-02-17\",\"value_for_two\":0,\"value_for_two_eur\":0,\"suppliers\":[{\"name\":\"Drogomex Sp. z o.o.\",\"id\":17733,\"slug\":\"drogomex-sp-z-o-o\"}],\"value_min\":\"1445403.20\",\"value_for_three\":0,\"value_for_one_eur\":0,\"count\":\"1\",\"value_for_one\":0,\"value_for_three_eur\":0,\"suppliers_id\":\"17733\",\"value_eur\":320737.42,\"value_max\":\"2276234.31\",\"offers_count\":[4],\"suppliers_name\":\"Drogomex Sp. z o.o.\",\"value\":\"1445403.20\",\"value_estimated\":\"1370600.00\",\"offers_count_data\":{\"4\":{\"value_eur\":320737.42,\"count\":\"1\",\"value\":\"1445403.20\"}}},{\"date\":\"2022-02-16\",\"value_for_two\":0,\"value_for_two_eur\":0,\"suppliers\":[{\"name\":\"PRZEDSI\\u0118BIORSTWO BUDOWY DR\\u00d3G S.A\",\"id\":21812,\"slug\":\"przedsiebiorstwo-budowy-drog-s-a\"}],\"value_min\":\"731265.75\",\"value_for_three\":731265.75,\"value_for_one_eur\":0,\"count\":\"1\",\"value_for_one\":0,\"offers_declined\":[1],\"value_for_three_eur\":162644.46,\"suppliers_id\":\"21812\",\"value_eur\":162644.46,\"value_max\":\"1201095.00\",\"offers_count\":[3],\"suppliers_name\":\"PRZEDSI\\u0118BIORSTWO BUDOWY DR\\u00d3G S.A\",\"value\":\"731265.75\",\"value_estimated\":\"835450.00\",\"offers_count_data\":{\"3\":{\"value_eur\":162644.46,\"count\":\"1\",\"value\":\"731265.75\"}}}]},{\"id\":\"571816\",\"date\":\"2021-12-06\",\"deadline_date\":\"2021-12-14\",\"deadline_length_days\":\"7\",\"deadline_length_hours\":\"186\",\"title\":\"Organizacja i przeprowadzenie kursu podstawowego spawania metod\\u0105 MIG oraz TIG w podziale na 3 cz\\u0119\\u015bci\",\"category\":\"services\",\"description\":\"Zorganizowanie i przeprowadzenie kursu spawania metod\\u0105 MIG dla drugiej grupy 6 osobowej\\u201eKurs podstawowego spawania metod\\u0105 MIG 131\\u201d \\u2013 spawanie elektrod\\u0105 metalow\\u0105 w os\\u0142onie gaz\\u00f3w oboj\\u0119tnych (pierwsza grupa)Przedmiotem zam\\u00f3wienia jest organizacja i przeprowadzenie zgodnie z wytycznymi Instytutu Spawalnictwa w Gliwicach \\u201eKursu podstawowego spawania metod\\u0105 MIG\\u201d \\u2013 spawanie elektrod\\u0105 metalow\\u0105 w os\\u0142onie gaz\\u00f3w oboj\\u0119tnych dla uczni\\u00f3w\\/uczennic bior\\u0105cych udzia\\u0142 w projekcie \\u201ePoprawa edukacji zawodowej w PCE \",\"sid\":\"info:134447\",\"awarded_value\":\"15000.00\",\"awarded_currency\":\"PLN\",\"awarded_value_eur\":\"3301.20\",\"purchaser\":{\"id\":\"23086\",\"sid\":null,\"name\":null},\"type\":{\"id\":\"art-275-pkt-1-ustawy\",\"name\":\"art. 275 pkt 1 ustawy\",\"slug\":\"art-275-pkt-1-ustawy\"},\"indicators\":[\"declined\"],\"awarded\":[{\"date\":\"2022-01-11\",\"value_for_two\":30000,\"value_for_two_eur\":6602.4,\"suppliers\":[],\"value_min\":\"15000.00\",\"value_for_three\":30000,\"value_for_one_eur\":0,\"count\":\"1\",\"value_for_one\":0,\"offers_declined\":[1],\"value_for_three_eur\":6602.4,\"suppliers_id\":\"25044\",\"value_eur\":3301.2,\"value_max\":\"15000.00\",\"offers_count\":[2],\"suppliers_name\":\"\",\"value\":\"15000.00\",\"value_estimated\":\"15000.00\",\"offers_count_data\":{\"2\":{\"value_eur\":6602.4,\"count\":\"2\",\"value\":\"30000.00\"}}}]},{\"id\":\"578280\",\"date\":\"2021-11-26\",\"deadline_date\":\"2021-12-08\",\"deadline_length_days\":\"11\",\"deadline_length_hours\":\"287\",\"title\":\"Dowo\\u017cenie wraz z zapewnieniem opieki uczni\\u00f3w\",\"category\":\"services\",\"description\":\"Dowo\\u017cenie wraz z zapewnieniem opieki uczni\\u00f3w niepe\\u0142nosprawnych Szko\\u0142y Podstawowej nr 6 im. H. Cegielskiego z Oddzia\\u0142ami Integracyjnymi na osiedlu Rusa 56 w Poznaniu do szko\\u0142y oraz odwo\\u017cenie wraz z zapewnieniem opieki uczni\\u00f3w po sko\\u0144czonych zaj\\u0119ciach szkolnych do domu \\u2013 cz\\u0119\\u015b\\u0107 nr 1\",\"sid\":\"info:148041\",\"awarded_value\":\"168190.73\",\"awarded_currency\":\"PLN\",\"awarded_value_eur\":\"36587.85\",\"purchaser\":{\"id\":\"33787\",\"sid\":null,\"name\":null},\"type\":{\"id\":\"art-275-pkt-1-ustawy\",\"name\":\"art. 275 pkt 1 ustawy\",\"slug\":\"art-275-pkt-1-ustawy\"},\"awarded\":[{\"date\":\"2021-12-31\",\"value_for_two\":70502.4,\"value_for_two_eur\":15336.94,\"suppliers\":[{\"name\":\"KORMAX \\u2013 HOL Dariusz Korytowski\",\"id\":26399,\"slug\":\"kormax-hol-dariusz-korytowski\"}],\"value_min\":\"70502.40\",\"value_for_three\":70502.4,\"value_for_one_eur\":0,\"count\":\"1\",\"value_for_one\":0,\"value_for_three_eur\":15336.94,\"suppliers_id\":\"26399\",\"value_eur\":15336.94,\"value_max\":\"127170.00\",\"offers_count\":[2],\"suppliers_name\":\"KORMAX \\u2013 HOL Dariusz Korytowski\",\"value\":\"70502.40\",\"value_estimated\":\"59088.49\",\"offers_count_data\":{\"2\":{\"value_eur\":15336.94,\"count\":\"1\",\"value\":\"70502.40\"}}},{\"date\":\"2021-12-31\",\"value_for_two\":97688.33,\"value_for_two_eur\":21250.91,\"suppliers\":[{\"name\":\"LUKA \\u2013 TRANS s.c. Ewa i Zbigniew Korus\",\"id\":9322,\"slug\":\"luka-trans-s-c-ewa-i-zbigniew-korus\"}],\"value_min\":\"97688.33\",\"value_for_three\":97688.33,\"value_for_one_eur\":0,\"count\":\"1\",\"value_for_one\":0,\"value_for_three_eur\":21250.91,\"suppliers_id\":\"9322\",\"value_eur\":21250.91,\"value_max\":\"183124.80\",\"offers_count\":[2],\"suppliers_name\":\"LUKA \\u2013 TRANS s.c. Ewa i Zbigniew Korus\",\"value\":\"97688.33\",\"value_estimated\":\"85087.43\",\"offers_count_data\":{\"2\":{\"value_eur\":21250.91,\"count\":\"1\",\"value\":\"97688.33\"}}}]},{\"id\":\"578003\",\"date\":\"2021-11-23\",\"deadline_date\":\"2021-12-02\",\"deadline_length_days\":\"8\",\"deadline_length_hours\":\"215\",\"title\":\"Dostawa \\u017cywno\\u015bci na potrzeby Domu Pomocy Spo\\u0142ecznej \\u201eZacisze\\u201d z podzia\\u0142em na 9 cz\\u0119\\u015bci\",\"category\":\"supplies\",\"description\":\"Boczek w\\u0119dzony parzony 70 kgFlaki wo\\u0142owe \\u2013 krojone 150 kgGolonka wieprzowa 80 kgNogi wieprzowe 80 kg\\u0141opatka wieprzowa b\\/k 200 kgWo\\u0142owe z ko\\u015bci\\u0105 \\u2013 szponder 100 kgGulaszowe wo\\u0142owe ekstra 100 kgGole\\u0144 wo\\u0142owa b\\/k 70 kgKarczek wieprzowy b\\/k 150 kg\\u017beberka wieprzowe mi\\u0119sne paski 100 kgS\\u0142onina 15 kgOzory wieprzowe 60 kgSchab wieprzowy b\\/k 100 kgWo\\u0142owina b\\/k zrazowa 30 kg\",\"sid\":\"info:147337\",\"awarded_value\":\"42156.03\",\"awarded_currency\":\"PLN\",\"awarded_value_eur\":\"17945.11\",\"purchaser\":{\"id\":\"33745\",\"sid\":null,\"name\":null},\"type\":{\"id\":\"art-275-pkt-1-ustawy\",\"name\":\"art. 275 pkt 1 ustawy\",\"slug\":\"art-275-pkt-1-ustawy\"},\"awarded\":[{\"date\":\"2021-12-31\",\"value_for_two\":0,\"value_for_two_eur\":0,\"suppliers\":[],\"value_min\":\"20494.53\",\"value_for_three\":20494.53,\"value_for_one_eur\":0,\"count\":\"1\",\"value_for_one\":0,\"value_for_three_eur\":4458.34,\"suppliers_id\":\"22598\",\"value_eur\":4458.34,\"value_max\":\"22151.33\",\"offers_count\":[3],\"suppliers_name\":\"\",\"value\":\"20494.53\",\"value_estimated\":\"19523.81\",\"offers_count_data\":{\"3\":{\"value_eur\":4458.34,\"count\":\"1\",\"value\":\"20494.53\"}}},{\"date\":\"2021-12-30\",\"value_for_two\":0,\"value_for_two_eur\":0,\"suppliers\":[],\"value_min\":\"40359.90\",\"value_for_three\":40359.9,\"value_for_one_eur\":0,\"count\":\"1\",\"value_for_one\":0,\"value_for_three_eur\":8781.53,\"suppliers_id\":\"23092\",\"value_eur\":8781.53,\"value_max\":\"51320.85\",\"offers_count\":[3],\"suppliers_name\":\"\",\"value\":\"40359.90\",\"value_estimated\":\"44095.24\",\"offers_count_data\":{\"3\":{\"value_eur\":8781.53,\"count\":\"1\",\"value\":\"40359.90\"}}},{\"date\":\"2021-12-29\",\"value_for_two\":21661.5,\"value_for_two_eur\":4705.24,\"suppliers\":[],\"value_min\":\"21661.50\",\"value_for_three\":21661.5,\"value_for_one_eur\":0,\"count\":\"1\",\"value_for_one\":0,\"value_for_three_eur\":4705.24,\"suppliers_id\":\"26343\",\"value_eur\":4705.24,\"value_max\":\"23222.85\",\"offers_count\":[2],\"suppliers_name\":\"\",\"value\":\"21661.50\",\"value_estimated\":\"17838.10\",\"offers_count_data\":{\"2\":{\"value_eur\":4705.24,\"count\":\"1\",\"value\":\"21661.50\"}}}]},{\"id\":\"510041\",\"date\":\"2021-03-04\",\"deadline_date\":\"2021-03-16\",\"deadline_length_days\":\"11\",\"deadline_length_hours\":\"287\",\"title\":\"Dostawa sprz\\u0119tu jednorazowego u\\u017cytku - 1\",\"category\":\"supplies\",\"description\":\"strzykawki, ig\\u0142y\",\"sid\":\"info:32661\",\"awarded_value\":\"200204.56\",\"awarded_currency\":\"PLN\",\"awarded_value_eur\":\"43980.36\",\"purchaser\":{\"id\":\"2571\",\"sid\":null,\"name\":null},\"type\":{\"id\":\"art-275-pkt-1-ustawy\",\"name\":\"art. 275 pkt 1 ustawy\",\"slug\":\"art-275-pkt-1-ustawy\"},\"awarded\":[{\"date\":\"2021-12-31\",\"value_for_two\":92105.13,\"value_for_two_eur\":20436.47,\"suppliers\":[{\"name\":\"AESCUKAP CHIFA SP. Z O.O.\",\"id\":16639,\"slug\":\"aescukap-chifa-sp-z-o-o\"}],\"value_min\":\"92105.13\",\"value_for_three\":92105.13,\"offers_count_status\":\"only_one\",\"value_for_one_eur\":20436.47,\"count\":\"1\",\"value_for_one\":92105.13,\"value_for_three_eur\":20436.47,\"suppliers_id\":\"16639\",\"value_eur\":20436.47,\"value_max\":\"92105.13\",\"offers_count\":[1],\"suppliers_name\":\"AESCUKAP CHIFA SP. Z O.O.\",\"value\":\"92105.13\",\"value_estimated\":\"85746.85\",\"offers_count_data\":{\"1\":{\"value_eur\":20436.47,\"count\":\"1\",\"value\":\"92105.13\"}}},{\"date\":\"2021-04-06\",\"value_for_two\":77114.7,\"value_for_two_eur\":16795.47,\"suppliers\":[{\"name\":\"BIALMED Sp. z o.o.\",\"id\":12,\"slug\":\"bialmed-sp-z-o-o\"}],\"value_min\":\"79068.68\",\"value_for_three\":79590.15,\"offers_count_status\":\"contains_only_one\",\"value_for_one_eur\":13097.64,\"count\":\"8\",\"value_for_one\":60136.52,\"value_for_three_eur\":17334.61,\"suppliers_id\":\"12\",\"value_eur\":17366.89,\"value_max\":\"82495.99\",\"offers_count\":[1,2,3,4],\"suppliers_name\":\"BIALMED Sp. z o.o.\",\"value\":\"79738.35\",\"value_estimated\":\"72056.11\",\"offers_count_data\":{\"1\":{\"value_eur\":13097.64,\"count\":\"2\",\"value\":\"60136.52\"},\"2\":{\"value_eur\":3697.82,\"count\":\"3\",\"value\":\"16978.18\"},\"3\":{\"value_eur\":539.15,\"count\":\"2\",\"value\":\"2475.45\"},\"4\":{\"value_eur\":32.28,\"count\":\"1\",\"value\":\"148.20\"}}},{\"date\":\"2021-04-06\",\"value_for_two\":0,\"value_for_two_eur\":0,\"suppliers\":[{\"name\":\"MEDOX SP. Z .O.O\",\"id\":16640,\"slug\":\"medox-sp-z-o-o\"}],\"value_min\":\"2659.07\",\"value_for_three\":0,\"value_for_one_eur\":0,\"count\":\"1\",\"value_for_one\":0,\"value_for_three_eur\":0,\"suppliers_id\":\"16640\",\"value_eur\":648.48,\"value_max\":\"3193.13\",\"offers_count\":[4],\"suppliers_name\":\"MEDOX SP. Z .O.O\",\"value\":\"2977.45\",\"value_estimated\":\"2240.28\",\"offers_count_data\":{\"4\":{\"value_eur\":648.48,\"count\":\"1\",\"value\":\"2977.45\"}}},{\"date\":\"2021-04-06\",\"value_for_two\":0,\"value_for_two_eur\":0,\"suppliers\":[{\"name\":\"SORIMEX SP. Z O.O. SP.K\",\"id\":448,\"slug\":\"sorimex-sp-z-o-o-sp-k\"}],\"value_min\":\"8551.60\",\"value_for_three\":8551.6,\"value_for_one_eur\":0,\"count\":\"1\",\"value_for_one\":0,\"value_for_three_eur\":1862.53,\"suppliers_id\":\"448\",\"value_eur\":1862.53,\"value_max\":\"10665.13\",\"offers_count\":[3],\"suppliers_name\":\"SORIMEX SP. Z O.O. SP.K\",\"value\":\"8551.60\",\"value_estimated\":\"6853.22\",\"offers_count_data\":{\"3\":{\"value_eur\":1862.53,\"count\":\"1\",\"value\":\"8551.60\"}}},{\"date\":\"2021-04-06\",\"value_for_two\":16832.03,\"value_for_two_eur\":3665.99,\"suppliers\":[{\"name\":\"ZARYS International Group Sp. z o.o. Sp. K\",\"id\":63,\"slug\":\"zarys-international-group-sp-z-o-o-sp-k\"}],\"value_min\":\"16832.03\",\"value_for_three\":16832.03,\"offers_count_status\":\"contains_only_one\",\"value_for_one_eur\":1303.06,\"count\":\"4\",\"value_for_one\":5982.89,\"value_for_three_eur\":3665.99,\"suppliers_id\":\"63\",\"value_eur\":3665.99,\"value_max\":\"26707.81\",\"offers_count\":[1,2],\"suppliers_name\":\"ZARYS International Group Sp. z o.o. Sp. K\",\"value\":\"16832.03\",\"value_estimated\":\"15404.13\",\"offers_count_data\":{\"1\":{\"value_eur\":1303.06,\"count\":\"3\",\"value\":\"5982.89\"},\"2\":{\"value_eur\":2362.93,\"count\":\"1\",\"value\":\"10849.14\"}}}]},{\"id\":\"509263\",\"date\":\"2021-03-08\",\"deadline_date\":\"2021-03-16\",\"deadline_length_days\":\"7\",\"deadline_length_hours\":\"189\",\"title\":\"ZP1\\/03\\/2021 R. Sukcesywna dostawa artyku\\u0142\\u00f3w \\u017cywno\\u015bciowych dla Zespo\\u0142u Plac\\u00f3wek O\\u015bwiatowych w Janowie Podlaskim w 2021.\",\"category\":\"supplies\",\"description\":\"Cz\\u0119\\u015b\\u0107 NR 1 ARTYKU\\u0141Y SPOZYWCZE \\u2013 przyprawy zapach \\u015bwie\\u017cy po otwarciu produkt\\u00f3w, bez oznak sple\\u015bnienia, grudek, produkty gotowane sypkie, bez sklejania si\\u0119 twarde spr\\u0119\\u017cyste, produkty z puszek bez ple\\u015bni , m\\u0119tnej konsystencjiMAKARONY Sporz\\u0105dzony z najwy\\u017cszej jako\\u015bci m\\u0105ki, zawiera pszenice durum, po ugotowaniu nie skleja si\\u0119, jest twardy i spr\\u0119\\u017cysty, zachowuje naturalny .zapach i kolor\",\"sid\":\"info:30908\",\"awarded_value\":\"158231.01\",\"awarded_currency\":\"PLN\",\"awarded_value_eur\":\"34442.48\",\"purchaser\":{\"id\":\"25200\",\"sid\":null,\"name\":null},\"type\":{\"id\":\"art-275-pkt-1-ustawy\",\"name\":\"art. 275 pkt 1 ustawy\",\"slug\":\"art-275-pkt-1-ustawy\"},\"indicators\":[\"low_value_awarded\"],\"awarded\":[{\"date\":\"2021-12-31\",\"value_for_two\":41616.7,\"value_for_two_eur\":9234,\"suppliers\":[{\"name\":\"IBIS Zozula Zareba Sp\\u00f3\\u0142ka Jawna\",\"id\":16837,\"slug\":\"ibis-zozula-zareba-spolka-jawna\"}],\"value_min\":\"41616.70\",\"value_for_three\":41616.7,\"offers_count_status\":\"only_one\",\"value_for_one_eur\":9234,\"count\":\"1\",\"value_for_one\":41616.7,\"value_for_three_eur\":9234,\"suppliers_id\":\"16837\",\"value_eur\":9234,\"value_max\":\"41616.70\",\"offers_count\":[1],\"suppliers_name\":\"IBIS Zozula Zareba Sp\\u00f3\\u0142ka Jawna\",\"value\":\"41616.70\",\"value_estimated\":\"37286.68\",\"offers_count_data\":{\"1\":{\"value_eur\":9234,\"count\":\"1\",\"value\":\"41616.70\"}}},{\"date\":\"2021-04-01\",\"value_for_two\":29232.56,\"value_for_two_eur\":6342.63,\"suppliers\":[{\"name\":\"Ren Sp zo. o.\",\"id\":16839,\"slug\":\"ren-sp-zo-o\"}],\"value_min\":\"29232.56\",\"value_for_three\":29232.56,\"value_for_one_eur\":0,\"count\":\"1\",\"value_for_one\":0,\"value_for_three_eur\":6342.63,\"suppliers_id\":\"16839\",\"value_eur\":6342.63,\"value_max\":\"30051.30\",\"offers_count\":[2],\"suppliers_name\":\"Ren Sp zo. o.\",\"value\":\"29232.56\",\"value_estimated\":\"27058.98\",\"offers_count_data\":{\"2\":{\"value_eur\":6342.63,\"count\":\"1\",\"value\":\"29232.56\"}}},{\"date\":\"2021-04-01\",\"value_for_two\":32979.7,\"value_for_two_eur\":7155.66,\"suppliers\":[{\"name\":\"Hurt i Detal Artyku\\u0142y spo\\u017cywczo Rolne - Anna Siekierko\",\"id\":425,\"slug\":\"hurt-i-detal-artykuly-spozywczo-rolne-anna-siekierko\"}],\"value_min\":\"32979.70\",\"value_for_three\":32979.7,\"value_for_one_eur\":0,\"count\":\"1\",\"value_for_one\":0,\"value_for_three_eur\":7155.66,\"suppliers_id\":\"425\",\"value_eur\":7155.66,\"value_max\":\"44108.21\",\"offers_count\":[2],\"suppliers_name\":\"Hurt i Detal Artyku\\u0142y spo\\u017cywczo Rolne - Anna Siekierko\",\"value\":\"32979.70\",\"value_estimated\":\"32202.96\",\"offers_count_data\":{\"2\":{\"value_eur\":7155.66,\"count\":\"1\",\"value\":\"32979.70\"}}},{\"date\":\"2021-03-29\",\"value_for_two\":45579.8,\"value_for_two_eur\":9811.18,\"suppliers\":[{\"name\":\"IBIS Zozula Zareba Sp\\u00f3\\u0142ka Jawna\",\"id\":16837,\"slug\":\"ibis-zozula-zareba-spolka-jawna\"}],\"value_min\":\"45579.80\",\"value_for_three\":45579.8,\"offers_count_status\":\"only_one\",\"value_for_one_eur\":9811.18,\"count\":\"1\",\"value_for_one\":45579.8,\"value_for_three_eur\":9811.18,\"suppliers_id\":\"16837\",\"value_eur\":9811.18,\"value_max\":\"45579.80\",\"offers_count\":[1],\"suppliers_name\":\"IBIS Zozula Zareba Sp\\u00f3\\u0142ka Jawna\",\"value\":\"45579.80\",\"value_estimated\":\"33468.38\",\"offers_count_data\":{\"1\":{\"value_eur\":9811.18,\"count\":\"1\",\"value\":\"45579.80\"}}},{\"date\":\"2021-03-29\",\"value_for_two\":8822.25,\"value_for_two_eur\":1899.01,\"suppliers\":[{\"name\":\"IBIS Zozula Zareba Sp\\u00f3\\u0142ka Jawna 21-500 Bia\\u0142a Podlaska\",\"id\":16838,\"slug\":\"ibis-zozula-zareba-spolka-jawna-21-500-biala-podlaska\"}],\"value_min\":\"8822.25\",\"value_for_three\":8822.25,\"offers_count_status\":\"only_one\",\"value_for_one_eur\":1899.01,\"count\":\"1\",\"value_for_one\":8822.25,\"value_for_three_eur\":1899.01,\"suppliers_id\":\"16838\",\"value_eur\":1899.01,\"value_max\":\"8822.25\",\"offers_count\":[1],\"suppliers_name\":\"IBIS Zozula Zareba Sp\\u00f3\\u0142ka Jawna 21-500 Bia\\u0142a Podlaska\",\"value\":\"8822.25\",\"value_estimated\":\"7218.11\",\"offers_count_data\":{\"1\":{\"value_eur\":1899.01,\"count\":\"1\",\"value\":\"8822.25\"}}}]},{\"id\":\"504812\",\"date\":\"2021-03-23\",\"deadline_date\":\"2021-03-31\",\"deadline_length_days\":\"8\",\"deadline_length_hours\":\"193\",\"title\":\"Dostawa (sprzeda\\u017c wraz z transportem) kruszyw kamiennych.\",\"category\":\"supplies\",\"description\":\"Dostawa (sprzeda\\u017c wraz z transportem) grysu mineralnego dolomitowego do rob\\u00f3t drogowych. Szczeg\\u00f3\\u0142owy opis przedmiotu zam\\u00f3wienia znajduje si\\u0119 w SWZ.\",\"sid\":\"info:42877\",\"awarded_value\":\"101658.27\",\"awarded_currency\":\"PLN\",\"awarded_value_eur\":\"22344.17\",\"purchaser\":{\"id\":\"786\",\"sid\":null,\"name\":null},\"type\":{\"id\":\"art-275-pkt-2-ustawy\",\"name\":\"art. 275 pkt 2 ustawy\",\"slug\":\"art-275-pkt-2-ustawy\"},\"indicators\":[\"declined\",\"low_value_awarded\"],\"awarded\":[{\"date\":\"2021-12-31\",\"value_for_two\":0,\"value_for_two_eur\":0,\"suppliers\":[{\"name\":\"P.T.U.H. MARTRANS \\u0141onak Mariusz\",\"id\":19969,\"slug\":\"p-t-u-h-martrans-lonak-mariusz\"}],\"value_min\":\"14125.32\",\"value_for_three\":0,\"value_for_one_eur\":0,\"count\":\"1\",\"value_for_one\":0,\"offers_declined\":[3],\"value_for_three_eur\":0,\"suppliers_id\":\"19969\",\"value_eur\":3134.15,\"value_max\":\"14125.32\",\"offers_count\":[4],\"suppliers_name\":\"P.T.U.H. MARTRANS \\u0141onak Mariusz\",\"value\":\"14125.32\",\"value_estimated\":\"12180.00\",\"offers_count_data\":{\"4\":{\"value_eur\":3134.15,\"count\":\"1\",\"value\":\"14125.32\"}}},{\"date\":\"2021-04-22\",\"value_for_two\":0,\"value_for_two_eur\":0,\"suppliers\":[{\"name\":\"P.T.U.H. MARTRANS \\u0141onak Mariusz\",\"id\":19969,\"slug\":\"p-t-u-h-martrans-lonak-mariusz\"}],\"value_min\":\"77200.95\",\"value_for_three\":0,\"value_for_one_eur\":0,\"count\":\"1\",\"value_for_one\":0,\"offers_declined\":[3],\"value_for_three_eur\":0,\"suppliers_id\":\"19969\",\"value_eur\":16942.29,\"value_max\":\"79283.34\",\"offers_count\":[5],\"suppliers_name\":\"P.T.U.H. MARTRANS \\u0141onak Mariusz\",\"value\":\"77200.95\",\"value_estimated\":\"66540.00\",\"offers_count_data\":{\"5\":{\"value_eur\":16942.29,\"count\":\"1\",\"value\":\"77200.95\"}}},{\"date\":\"2021-04-21\",\"value_for_two\":0,\"value_for_two_eur\":0,\"suppliers\":[{\"name\":\"P.W. PROMAG Sp. z o.o.\",\"id\":19968,\"slug\":\"p-w-promag-sp-z-o-o\"}],\"value_min\":\"10332.00\",\"value_for_three\":0,\"value_for_one_eur\":0,\"count\":\"1\",\"value_for_one\":0,\"offers_declined\":[3],\"value_for_three_eur\":0,\"suppliers_id\":\"19968\",\"value_eur\":2267.73,\"value_max\":\"10332.00\",\"offers_count\":[4],\"suppliers_name\":\"P.W. PROMAG Sp. z o.o.\",\"value\":\"10332.00\",\"value_estimated\":\"8400.00\",\"offers_count_data\":{\"4\":{\"value_eur\":2267.73,\"count\":\"1\",\"value\":\"10332.00\"}}}]},{\"id\":\"579387\",\"date\":\"2021-11-29\",\"deadline_date\":\"2021-12-10\",\"deadline_length_days\":\"10\",\"deadline_length_hours\":\"260\",\"title\":\"Zakup bilet\\u00f3w miesi\\u0119cznych dla uczni\\u00f3w w gminie D\\u0119be Wielkie w okresie od dnia 03.01.2022 r. do 30.06.2022 r.\",\"category\":\"services\",\"description\":\"1. Przedmiotem zam\\u00f3wienia jest dostawa i sprzeda\\u017c bilet\\u00f3w miesi\\u0119cznych szkolnych dla uczni\\u00f3w szk\\u00f3\\u0142 podstawowych, prowadzonych przez Gmin\\u0119 D\\u0119be Wielkie na podstawie art. 5a. Ustawy z dnia 20 czerwca 1992 r. o uprawnieniach do ulgowych przejazd\\u00f3w \\u015brodkami publicznego transportu zbiorowego (tj. Dz. U. z 2018 r., poz. 295 ze zm.). Zakup bilet\\u00f3w obejmuje linie lub ich odcinki w granicach administracyjnych Gminy D\\u0119be Wielkie. Szczeg\\u00f3\\u0142owy opis przedmiotu zam\\u00f3wienia zawiera za\\u0142\\u0105cznik nr 5 do SWZ.\",\"sid\":\"info:150664\",\"awarded_value\":\"80245.20\",\"awarded_currency\":\"PLN\",\"awarded_value_eur\":\"17459.79\",\"purchaser\":{\"id\":\"24362\",\"sid\":null,\"name\":null},\"type\":{\"id\":\"art-275-pkt-1-ustawy\",\"name\":\"art. 275 pkt 1 ustawy\",\"slug\":\"art-275-pkt-1-ustawy\"},\"awarded\":[{\"date\":\"2021-12-30\",\"value_for_two\":0,\"value_for_two_eur\":0,\"suppliers\":[{\"name\":\"Us\\u0142ugi Transportowe Przew\\u00f3z Os\\u00f3b Bogdan Raniszewski\",\"id\":12167,\"slug\":\"uslugi-transportowe-przewoz-osob-bogdan-raniszewski\"}],\"value_min\":\"80245.20\",\"value_for_three\":0,\"value_for_one_eur\":0,\"count\":\"1\",\"value_for_one\":0,\"value_for_three_eur\":0,\"suppliers_id\":\"12167\",\"value_eur\":17459.79,\"value_max\":\"149586.00\",\"offers_count\":[4],\"suppliers_name\":\"Us\\u0142ugi Transportowe Przew\\u00f3z Os\\u00f3b Bogdan Raniszewski\",\"value\":\"80245.20\",\"value_estimated\":null,\"offers_count_data\":{\"4\":{\"value_eur\":17459.79,\"count\":\"1\",\"value\":\"80245.20\"}}}]},{\"id\":\"575823\",\"date\":\"2021-11-29\",\"deadline_date\":\"2021-12-07\",\"deadline_length_days\":\"7\",\"deadline_length_hours\":\"188\",\"title\":\"Dostawa u\\u017cywanych lub nowych urz\\u0105dze\\u0144 wielofunkcyjnych\",\"category\":\"supplies\",\"description\":\"Przedmiotem post\\u0119powania i zam\\u00f3wienia jest dostawa u\\u017cywanych lub nowych 10 urz\\u0105dze\\u0144 wielofunkcyjnych (w tym 5 czarno \\u2013 bia\\u0142ych i 5 kolorowych). Szczeg\\u00f3\\u0142owy opis i zakres przedmiotu zam\\u00f3wienia okre\\u015bla Za\\u0142\\u0105cznik nr 1A do SWZ \\u201eSzczeg\\u00f3\\u0142owy opis przedmiotu zam\\u00f3wienia\\u201d. Dostawa asortymentu obejmuje tak\\u017ce niezb\\u0119dne oprogramowanie, sterowniki i wyposa\\u017cenie (w tym okablowanie), jak r\\u00f3wnie\\u017c dostarczenie asortymentu do siedziby Zamawiaj\\u0105cego, wy\\u0142adunek i wniesienie do wskazanych przez Zamawiaj\\u0105cego pomiesz\",\"sid\":\"info:142340\",\"awarded_value\":\"24538.50\",\"awarded_currency\":\"PLN\",\"awarded_value_eur\":\"5297.60\",\"purchaser\":{\"id\":\"24797\",\"sid\":null,\"name\":null},\"type\":{\"id\":\"art-275-pkt-1-ustawy\",\"name\":\"art. 275 pkt 1 ustawy\",\"slug\":\"art-275-pkt-1-ustawy\"},\"indicators\":[\"declined\"],\"awarded\":[{\"date\":\"2021-12-22\",\"value_for_two\":24538.5,\"value_for_two_eur\":5297.6,\"suppliers\":[{\"name\":\"MARDRUK Marcin Kubaty\",\"id\":25844,\"slug\":\"mardruk-marcin-kubaty\"}],\"value_min\":\"24292.40\",\"value_for_three\":24538.5,\"value_for_one_eur\":0,\"count\":\"1\",\"value_for_one\":0,\"offers_declined\":[1],\"value_for_three_eur\":5297.6,\"suppliers_id\":\"25844\",\"value_eur\":5297.6,\"value_max\":\"24538.50\",\"offers_count\":[2],\"suppliers_name\":\"MARDRUK Marcin Kubaty\",\"value\":\"24538.50\",\"value_estimated\":null,\"offers_count_data\":{\"2\":{\"value_eur\":5297.6,\"count\":\"1\",\"value\":\"24538.50\"}}}]},{\"id\":\"569847\",\"date\":\"2021-11-09\",\"deadline_date\":\"2021-12-03\",\"deadline_length_days\":\"23\",\"deadline_length_hours\":\"573\",\"title\":\"BUDOWA ZESPO\\u0141U BOISK SPORTOWYCH PRZY ZESPOLE SZK\\u00d3\\u0141 LE\\u015aNYCH W BI\\u0141GORAJU - ETAP III\",\"category\":\"constructions\",\"description\":\"1. Przedmiotem zam\\u00f3wienia jest budowa zespo\\u0142u boisk sportowych przy Zespole Szk\\u00f3\\u0142 Le\\u015bnych w Bi\\u0142goraju - Etap III (na dzia\\u0142ce nr ewid. 5\\/5 w Bi\\u0142goraju).2. Zakres rob\\u00f3t obj\\u0119ty niniejszym zam\\u00f3wieniem polega m. in. na:1) Wykonaniu schod\\u00f3w terenowych, nawierzchnia z kostki brukowej,2) Wykonaniu chodnik\\u00f3w z kostki brukowej,3) Humusowaniu terenu z obsianiem trawy,4) Wykonaniu podbud\\u00f3w z kruszywa \\u0142amanego pod rozbieg do skoczni w dal, bie\\u017cni prostej 60 metrowej oraz boiska do pi\\u0142ki no\\u017cnej,5) Wykonaniu o\",\"sid\":\"info:129661\",\"awarded_value\":\"756787.61\",\"awarded_currency\":\"PLN\",\"awarded_value_eur\":\"163382.47\",\"purchaser\":{\"id\":\"32223\",\"sid\":null,\"name\":null},\"type\":{\"id\":\"art-275-pkt-1-ustawy\",\"name\":\"art. 275 pkt 1 ustawy\",\"slug\":\"art-275-pkt-1-ustawy\"},\"awarded\":[{\"date\":\"2021-12-22\",\"value_for_two\":0,\"value_for_two_eur\":0,\"suppliers\":[{\"name\":\"Solid-Stet Sp. z o. o. Sp. K.\",\"id\":22901,\"slug\":\"solid-stet-sp-z-o-o-sp-k\"}],\"value_min\":\"756787.61\",\"value_for_three\":0,\"value_for_one_eur\":0,\"count\":\"1\",\"value_for_one\":0,\"offers_declined\":[3],\"value_for_three_eur\":0,\"suppliers_id\":\"22901\",\"value_eur\":163382.47,\"value_max\":\"982770.00\",\"offers_count\":[13],\"suppliers_name\":\"Solid-Stet Sp. z o. o. Sp. K.\",\"value\":\"756787.61\",\"value_estimated\":null,\"offers_count_data\":{\"13\":{\"value_eur\":163382.47,\"count\":\"1\",\"value\":\"756787.61\"}}}]},{\"id\":\"570845\",\"date\":\"2021-11-04\",\"deadline_date\":\"2021-11-19\",\"deadline_length_days\":\"14\",\"deadline_length_hours\":\"354\",\"title\":\"Rozbi\\u00f3rka obiekt\\u00f3w budowlanych wchodz\\u0105cych w sk\\u0142ad Zasobu W\\u0142asno\\u015bci Rolnej Skarbu Pa\\u0144stwa, po\\u0142o\\u017conych w miejscowo\\u015bciach: Buszkowiczki, Sko\\u0142osz\\u00f3w, G\\u0142obikowa na terenie woj. podkarpackiego\",\"category\":\"constructions\",\"description\":\"Budynek chlewni 1\\/6\\/1\\/B po\\u0142o\\u017conego na dzia\\u0142ce 164\\/1 (budynek murowany , kryty eternitem wraz z wybiegiem dla zwierz\\u0105t oraz szambem), obr\\u0119b Buszkowiczki, gmina \\u017burawica, powiat przemyski, wojew\\u00f3dztwo podkarpackie\",\"sid\":\"info:132125\",\"awarded_value\":\"91512.00\",\"awarded_currency\":\"PLN\",\"awarded_value_eur\":\"19840.86\",\"purchaser\":{\"id\":\"799\",\"sid\":null,\"name\":null},\"type\":{\"id\":\"art-275-pkt-1-ustawy\",\"name\":\"art. 275 pkt 1 ustawy\",\"slug\":\"art-275-pkt-1-ustawy\"},\"indicators\":[\"low_value_awarded\"],\"awarded\":[{\"date\":\"2021-12-10\",\"value_for_two\":0,\"value_for_two_eur\":0,\"suppliers\":[{\"name\":\"Elektro-Tim\",\"id\":24664,\"slug\":\"elektro-tim\"}],\"value_min\":\"91512.00\",\"value_for_three\":0,\"value_for_one_eur\":0,\"count\":\"3\",\"value_for_one\":0,\"offers_declined\":[1],\"value_for_three_eur\":0,\"suppliers_id\":\"24664\",\"value_eur\":19840.86,\"value_max\":\"725700.00\",\"offers_count\":[5],\"suppliers_name\":\"Elektro-Tim\",\"value\":\"91512.00\",\"value_estimated\":\"193614.89\",\"offers_count_data\":{\"5\":{\"value_eur\":19840.86,\"count\":\"3\",\"value\":\"91512.00\"}}}]},{\"id\":\"571838\",\"date\":\"2021-10-04\",\"deadline_date\":\"2021-10-15\",\"deadline_length_days\":\"11\",\"deadline_length_hours\":\"269\",\"title\":\"Zakup i dostawa aparatury badawczej oraz drobnego sprz\\u0119tu laboratoryjnego dla Mi\\u0119dzynarodowego Centrum Bada\\u0144 Innowacyjnych Biomateria\\u0142\\u00f3w (ICRI-BioM) Mi\\u0119dzynarodowa Agenda Badawcza w \\u0141odzi\",\"category\":\"supplies\",\"description\":\"Za\\u0142\\u0105cznik nr 1 do SWZ - Cz\\u0119\\u015b\\u0107 nr 1 \\u2013 Cyrkulator z ch\\u0142odzeniem\",\"sid\":\"info:134503\",\"awarded_value\":\"69273.97\",\"awarded_currency\":\"PLN\",\"awarded_value_eur\":\"14967.48\",\"purchaser\":{\"id\":\"3545\",\"sid\":null,\"name\":null},\"type\":{\"id\":\"art-275-pkt-1-ustawy\",\"name\":\"art. 275 pkt 1 ustawy\",\"slug\":\"art-275-pkt-1-ustawy\"},\"indicators\":[\"low_value_awarded\",\"high_value_awarded\"],\"awarded\":[{\"date\":\"2021-12-01\",\"value_for_two\":0,\"value_for_two_eur\":0,\"suppliers\":[],\"value_min\":\"10042.70\",\"value_for_three\":0,\"value_for_one_eur\":0,\"count\":\"1\",\"value_for_one\":0,\"value_for_three_eur\":0,\"suppliers_id\":\"11809\",\"value_eur\":2169.85,\"value_max\":\"13457.43\",\"offers_count\":[4],\"suppliers_name\":\"\",\"value\":\"10042.70\",\"value_estimated\":\"6722.00\",\"offers_count_data\":{\"4\":{\"value_eur\":2169.85,\"count\":\"1\",\"value\":\"10042.70\"}}},{\"date\":\"2021-12-01\",\"value_for_two\":2521.5,\"value_for_two_eur\":544.8,\"suppliers\":[],\"value_min\":\"2521.50\",\"value_for_three\":2521.5,\"offers_count_status\":\"only_one\",\"value_for_one_eur\":544.8,\"count\":\"1\",\"value_for_one\":2521.5,\"value_for_three_eur\":544.8,\"suppliers_id\":\"7194\",\"value_eur\":544.8,\"value_max\":\"2521.50\",\"offers_count\":[1],\"suppliers_name\":\"\",\"value\":\"2521.50\",\"value_estimated\":\"2510.00\",\"offers_count_data\":{\"1\":{\"value_eur\":544.8,\"count\":\"1\",\"value\":\"2521.50\"}}},{\"date\":\"2021-12-01\",\"value_for_two\":56709.770000000004,\"value_for_two_eur\":12252.83,\"suppliers\":[],\"value_min\":\"48744.90\",\"value_for_three\":56709.770000000004,\"offers_count_status\":\"contains_only_one\",\"value_for_one_eur\":1078.97,\"count\":\"4\",\"value_for_one\":4993.8,\"value_for_three_eur\":12252.83,\"suppliers_id\":\"850\",\"value_eur\":12252.83,\"value_max\":\"56879.51\",\"offers_count\":[1,2],\"suppliers_name\":\"\",\"value\":\"56709.77\",\"value_estimated\":\"65978.92\",\"offers_count_data\":{\"1\":{\"value_eur\":1078.97,\"count\":\"1\",\"value\":\"4993.80\"},\"2\":{\"value_eur\":11173.86,\"count\":\"3\",\"value\":\"51715.97\"}}}]},{\"id\":\"569397\",\"date\":\"2021-11-08\",\"deadline_date\":\"2021-11-23\",\"deadline_length_days\":\"15\",\"deadline_length_hours\":\"360\",\"title\":\"Wykonanie nowego pokrycia dachowego z pracami towarzysz\\u0105cymi dla Podstacji S\\u0105deckiego Pogotowia Ratunkowego w Krynicy Zdroju.\",\"category\":\"constructions\",\"description\":\"1. Przedmiotem zam\\u00f3wienia jest wykonanie nowego pokrycia dachowego z pracami towarzysz\\u0105cymi dla Podstacji S\\u0105deckiego Pogotowia Ratunkowego w Krynicy Zdroju.2. Zakres zam\\u00f3wienia obejmuje m.in.:1) Demonta\\u017c rynny dachowej z PCV na budynku Pogotowia ok. 19.00mb.;2) Demonta\\u017c istniej\\u0105cej rury spustowej na istniej\\u0105cym budynku Pogotowia ok. 4.00mb.;3) Rozebranie obr\\u00f3bki blacharskiej na istniej\\u0105cym ogniomurze dachu gara\\u017cowego od strony ul. Kraszewskiego;4) Rozebranie fragmentu pokrycia dachowego z papy z\",\"sid\":\"info:128606\",\"awarded_value\":\"36619.82\",\"awarded_currency\":\"PLN\",\"awarded_value_eur\":\"7824.41\",\"purchaser\":{\"id\":\"24487\",\"sid\":null,\"name\":null},\"type\":{\"id\":\"art-275-pkt-1-ustawy\",\"name\":\"art. 275 pkt 1 ustawy\",\"slug\":\"art-275-pkt-1-ustawy\"},\"awarded\":[{\"date\":\"2021-11-24\",\"value_for_two\":36619.82,\"value_for_two_eur\":7824.41,\"suppliers\":[{\"name\":\"Wojciech Kruczek, prowadz\\u0105cy dzia\\u0142alno\\u015b\\u0107 gospodarcz\\u0105 pod firm\\u0105: FHU KRUCZEK Wojciech Kruczek\",\"id\":24179,\"slug\":\"wojciech-kruczek-prowadzacy-dzialalnosc-gospodarcza-pod-firma-fhu-kruczek-wojciech-kruczek\"}],\"value_min\":\"36619.82\",\"value_for_three\":36619.82,\"offers_count_status\":\"only_one\",\"value_for_one_eur\":7824.41,\"count\":\"1\",\"value_for_one\":36619.82,\"value_for_three_eur\":7824.41,\"suppliers_id\":\"24179\",\"value_eur\":7824.41,\"value_max\":\"36619.82\",\"offers_count\":[1],\"suppliers_name\":\"Wojciech Kruczek, prowadz\\u0105cy dzia\\u0142alno\\u015b\\u0107 gospodarcz\\u0105 pod firm\\u0105: FHU KRUCZEK Wojciech Kruczek\",\"value\":\"36619.82\",\"value_estimated\":null,\"offers_count_data\":{\"1\":{\"value_eur\":7824.41,\"count\":\"1\",\"value\":\"36619.82\"}}}]},{\"id\":\"574102\",\"date\":\"2021-10-12\",\"deadline_date\":\"2021-10-27\",\"deadline_length_days\":\"15\",\"deadline_length_hours\":\"360\",\"title\":\"Modernizacja sieci LAN urz\\u0119d\\u00f3w skarbowych wojew\\u00f3dztwa lubelskiego.\",\"category\":\"constructions\",\"description\":\"Przedmiotem zam\\u00f3wienia jest wykonanie modernizacji sieci LAN w obiekcie Urz\\u0119du Skarbowego w Bia\\u0142ej Podlaskiej. Szczeg\\u00f3\\u0142owy opis przedmiotu zam\\u00f3wienia w zakresie cz\\u0119\\u015bci nr 1 zawarty jest w za\\u0142\\u0105czniku nr 1.1 do projektu umowy.\",\"sid\":\"info:138918\",\"awarded_value\":\"3051700.00\",\"awarded_currency\":\"PLN\",\"awarded_value_eur\":\"657233.47\",\"purchaser\":{\"id\":\"25282\",\"sid\":null,\"name\":null},\"type\":{\"id\":\"art-275-pkt-2-ustawy\",\"name\":\"art. 275 pkt 2 ustawy\",\"slug\":\"art-275-pkt-2-ustawy\"},\"awarded\":[{\"date\":\"2021-11-16\",\"value_for_two\":0,\"value_for_two_eur\":0,\"suppliers\":[{\"name\":\"ELPIE Sp. z o.o.\",\"id\":21605,\"slug\":\"elpie-sp-z-o-o\"}],\"value_min\":\"2381700.00\",\"value_for_three\":502000,\"value_for_one_eur\":0,\"count\":\"5\",\"value_for_one\":0,\"offers_declined\":[1],\"value_for_three_eur\":107852.62,\"suppliers_id\":\"21605\",\"value_eur\":511698.36,\"value_max\":\"4298481.00\",\"offers_count\":[3,4],\"suppliers_name\":\"ELPIE Sp. z o.o.\",\"value\":\"2381700.00\",\"value_estimated\":\"2648271.98\",\"offers_count_data\":{\"3\":{\"value_eur\":107852.62,\"count\":\"2\",\"value\":\"502000.00\"},\"4\":{\"value_eur\":403845.74,\"count\":\"3\",\"value\":\"1879700.00\"}}},{\"date\":\"2021-11-05\",\"value_for_two\":670000,\"value_for_two_eur\":145535.11,\"suppliers\":[{\"name\":\"ELPIE Sp. z o.o.\",\"id\":21605,\"slug\":\"elpie-sp-z-o-o\"}],\"value_min\":\"670000.00\",\"value_for_three\":670000,\"offers_count_status\":\"only_one\",\"value_for_one_eur\":145535.11,\"count\":\"1\",\"value_for_one\":670000,\"value_for_three_eur\":145535.11,\"suppliers_id\":\"21605\",\"value_eur\":145535.11,\"value_max\":\"670000.00\",\"offers_count\":[1],\"suppliers_name\":\"ELPIE Sp. z o.o.\",\"value\":\"670000.00\",\"value_estimated\":\"692695.48\",\"offers_count_data\":{\"1\":{\"value_eur\":145535.11,\"count\":\"1\",\"value\":\"670000.00\"}}}]},{\"id\":\"570050\",\"date\":\"2021-10-18\",\"deadline_date\":\"2021-11-02\",\"deadline_length_days\":\"15\",\"deadline_length_hours\":\"362\",\"title\":\"Modernizacja sali kinowej Miejsko-Gminnego O\\u015brodka Kultury w Wi\\u0119cborku \\u2013 wykonanie widowni\",\"category\":\"constructions\",\"description\":\"Przedmiotem zam\\u00f3wienia jest wykonanie widowni Miejsko-Gminnego O\\u015brodka Kultury w Wi\\u0119cborku. Zakres rob\\u00f3t obejmuje:- roboty rozbi\\u00f3rkowe (rozebranie pod\\u0142\\u00f3g bia\\u0142ych na wpust, rozebranie legar\\u00f3w),- wykonanie kana\\u0142\\u00f3w teletechnicznych,- wykonanie p\\u0142yty fundamentowej wraz ze zbrojeniem,- wykonanie izolacji,- u\\u0142o\\u017cenie posadzki z wyk\\u0142adzin z tworzyw sztucznych zwarstw\\u0105 izolacyjn\\u0105.\",\"sid\":\"info:130117\",\"awarded_value\":\"295000.10\",\"awarded_currency\":\"PLN\",\"awarded_value_eur\":\"63613.25\",\"purchaser\":{\"id\":\"32523\",\"sid\":null,\"name\":null},\"type\":{\"id\":\"art-275-pkt-1-ustawy\",\"name\":\"art. 275 pkt 1 ustawy\",\"slug\":\"art-275-pkt-1-ustawy\"},\"awarded\":[{\"date\":\"2021-11-15\",\"value_for_two\":295000.1,\"value_for_two_eur\":63613.25,\"suppliers\":[{\"name\":\"Zak\\u0142ad Us\\u0142ug Murarskich Jaros\\u0142aw Ko\\u0142odziejski\",\"id\":24345,\"slug\":\"zaklad-uslug-murarskich-jaroslaw-kolodziejski\"}],\"value_min\":\"295000.10\",\"value_for_three\":295000.1,\"offers_count_status\":\"only_one\",\"value_for_one_eur\":63613.25,\"count\":\"1\",\"value_for_one\":295000.1,\"value_for_three_eur\":63613.25,\"suppliers_id\":\"24345\",\"value_eur\":63613.25,\"value_max\":\"295000.10\",\"offers_count\":[1],\"suppliers_name\":\"Zak\\u0142ad Us\\u0142ug Murarskich Jaros\\u0142aw Ko\\u0142odziejski\",\"value\":\"295000.10\",\"value_estimated\":null,\"offers_count_data\":{\"1\":{\"value_eur\":63613.25,\"count\":\"1\",\"value\":\"295000.10\"}}}]},{\"id\":\"569118\",\"date\":\"2021-10-05\",\"deadline_date\":\"2021-10-15\",\"deadline_length_days\":\"10\",\"deadline_length_hours\":\"242\",\"title\":\"Kursy dla uczni\\u00f3w\",\"category\":\"services\",\"description\":\"Kurs prawa jazdy kat. B\",\"sid\":\"info:128022\",\"awarded_value\":\"64663.00\",\"awarded_currency\":\"PLN\",\"awarded_value_eur\":\"14036.73\",\"purchaser\":{\"id\":\"23565\",\"sid\":null,\"name\":null},\"type\":{\"id\":\"art-275-pkt-1-ustawy\",\"name\":\"art. 275 pkt 1 ustawy\",\"slug\":\"art-275-pkt-1-ustawy\"},\"indicators\":[\"low_value_awarded\"],\"awarded\":[{\"date\":\"2021-11-04\",\"value_for_two\":18200,\"value_for_two_eur\":3950.77,\"suppliers\":[{\"name\":\"Warmi\\u0144sko-Mazurski Zak\\u0142ad Doskonalenia Zawodowego w Olsztynie Centrum Edukacji\",\"id\":17940,\"slug\":\"warminsko-mazurski-zaklad-doskonalenia-zawodowego-w-olsztynie-centrum-edukacji\"}],\"value_min\":\"30918.00\",\"value_for_three\":22350,\"value_for_one_eur\":0,\"count\":\"6\",\"value_for_one\":0,\"value_for_three_eur\":4851.63,\"suppliers_id\":\"17940\",\"value_eur\":6646.41,\"value_max\":\"52198.00\",\"offers_count\":[2,3,4,5],\"suppliers_name\":\"Warmi\\u0144sko-Mazurski Zak\\u0142ad Doskonalenia Zawodowego w Olsztynie Centrum Edukacji\",\"value\":\"30618.00\",\"value_estimated\":\"54862.00\",\"offers_count_data\":{\"2\":{\"value_eur\":3950.77,\"count\":\"1\",\"value\":\"18200.00\"},\"3\":{\"value_eur\":900.86,\"count\":\"1\",\"value\":\"4150.00\"},\"4\":{\"value_eur\":631.25,\"count\":\"2\",\"value\":\"2908.00\"},\"5\":{\"value_eur\":1163.52,\"count\":\"2\",\"value\":\"5360.00\"}}},{\"date\":\"2021-11-04\",\"value_for_two\":10455,\"value_for_two_eur\":2269.52,\"suppliers\":[{\"name\":\"WITMAX Technologies Sebastian Witkowski\",\"id\":17942,\"slug\":\"witmax-technologies-sebastian-witkowski\"}],\"value_min\":\"10455.00\",\"value_for_three\":10455,\"value_for_one_eur\":0,\"count\":\"1\",\"value_for_one\":0,\"value_for_three_eur\":2269.52,\"suppliers_id\":\"17942\",\"value_eur\":2269.52,\"value_max\":\"10860.00\",\"offers_count\":[2],\"suppliers_name\":\"WITMAX Technologies Sebastian Witkowski\",\"value\":\"10455.00\",\"value_estimated\":\"12290.00\",\"offers_count_data\":{\"2\":{\"value_eur\":2269.52,\"count\":\"1\",\"value\":\"10455.00\"}}},{\"date\":\"2021-11-04\",\"value_for_two\":23590,\"value_for_two_eur\":5120.8,\"suppliers\":[{\"name\":\"Inventum Sp. z o.o.\",\"id\":2991,\"slug\":\"inventum-sp-z-o-o\"}],\"value_min\":\"23590.00\",\"value_for_three\":23590,\"value_for_one_eur\":0,\"count\":\"1\",\"value_for_one\":0,\"value_for_three_eur\":5120.8,\"suppliers_id\":\"2991\",\"value_eur\":5120.8,\"value_max\":\"24045.00\",\"offers_count\":[2],\"suppliers_name\":\"Inventum Sp. z o.o.\",\"value\":\"23590.00\",\"value_estimated\":\"19750.78\",\"offers_count_data\":{\"2\":{\"value_eur\":5120.8,\"count\":\"1\",\"value\":\"23590.00\"}}}]},{\"id\":\"570835\",\"date\":\"2021-08-09\",\"deadline_date\":\"2021-08-17\",\"deadline_length_days\":\"7\",\"deadline_length_hours\":\"185\",\"title\":\"Badania ankietowe i zogniskowane wywiady grupowe (FGI) dotycz\\u0105ce dost\\u0119pno\\u015bci systemu wsparcia relacji w ramach projektu \\u201eZintegrowany system zapobiegania przemocy domowej\\u201d\",\"category\":\"services\",\"description\":\"badanie ankietowe dotycz\\u0105ce dost\\u0119pno\\u015bci systemu wsparcia relacji, realizowane technik\\u0105 zbierania informacji za pomoc\\u0105 ankiety w formie elektronicznej przy pomocy strony WWW (CAWI)\",\"sid\":\"info:132094\",\"awarded_value\":\"195693.00\",\"awarded_currency\":\"PLN\",\"awarded_value_eur\":\"43008.51\",\"purchaser\":{\"id\":\"33067\",\"sid\":null,\"name\":null},\"type\":{\"id\":\"art-275-pkt-1-ustawy\",\"name\":\"art. 275 pkt 1 ustawy\",\"slug\":\"art-275-pkt-1-ustawy\"},\"indicators\":[\"high_value_awarded\"],\"awarded\":[{\"date\":\"2021-09-15\",\"value_for_two\":0,\"value_for_two_eur\":0,\"suppliers\":[{\"name\":\"Biuro Bada\\u0144 Spo\\u0142ecznych Question Mark sp. z o.o.\",\"id\":18263,\"slug\":\"biuro-badan-spolecznych-question-mark-sp-z-o-o\"}],\"value_min\":\"58056.00\",\"value_for_three\":67650,\"value_for_one_eur\":0,\"count\":\"1\",\"value_for_one\":0,\"value_for_three_eur\":14867.81,\"suppliers_id\":\"18263\",\"value_eur\":14867.81,\"value_max\":\"73800.00\",\"offers_count\":[3],\"suppliers_name\":\"Biuro Bada\\u0144 Spo\\u0142ecznych Question Mark sp. z o.o.\",\"value\":\"67650.00\",\"value_estimated\":\"56733.33\",\"offers_count_data\":{\"3\":{\"value_eur\":14867.81,\"count\":\"1\",\"value\":\"67650.00\"}}},{\"date\":\"2021-09-15\",\"value_for_two\":0,\"value_for_two_eur\":0,\"suppliers\":[{\"name\":\"Centrum Bada\\u0144 Marketingowych Indicator sp. z o.o.\",\"id\":19238,\"slug\":\"centrum-badan-marketingowych-indicator-sp-z-o-o\"}],\"value_min\":\"67650.00\",\"value_for_three\":0,\"value_for_one_eur\":0,\"count\":\"1\",\"value_for_one\":0,\"value_for_three_eur\":0,\"suppliers_id\":\"19238\",\"value_eur\":23112.68,\"value_max\":\"135300.00\",\"offers_count\":[4],\"suppliers_name\":\"Centrum Bada\\u0144 Marketingowych Indicator sp. z o.o.\",\"value\":\"105165.00\",\"value_estimated\":\"65557.14\",\"offers_count_data\":{\"4\":{\"value_eur\":23112.68,\"count\":\"1\",\"value\":\"105165.00\"}}},{\"date\":\"2021-09-15\",\"value_for_two\":0,\"value_for_two_eur\":0,\"suppliers\":[{\"name\":\"Openfield sp. z o.o.\",\"id\":2659,\"slug\":\"openfield-sp-z-o-o\"}],\"value_min\":\"19680.00\",\"value_for_three\":22878,\"value_for_one_eur\":0,\"count\":\"1\",\"value_for_one\":0,\"value_for_three_eur\":5028.02,\"suppliers_id\":\"2659\",\"value_eur\":5028.02,\"value_max\":\"35178.00\",\"offers_count\":[3],\"suppliers_name\":\"Openfield sp. z o.o.\",\"value\":\"22878.00\",\"value_estimated\":\"18866.67\",\"offers_count_data\":{\"3\":{\"value_eur\":5028.02,\"count\":\"1\",\"value\":\"22878.00\"}}}]},{\"id\":\"566898\",\"date\":\"2021-08-05\",\"deadline_date\":\"2021-08-20\",\"deadline_length_days\":\"14\",\"deadline_length_hours\":\"356\",\"title\":\"Przebudowa ul. Rod\\u0142a\",\"category\":\"constructions\",\"description\":\"Przebudowa ul. Rod\\u0142a w Pile obejmuje odcinek od ul. Podchor\\u0105\\u017cych do ul. Zes\\u0142a\\u0144c\\u00f3w Sybiru. D\\u0142ugo\\u015b\\u0107 przebudowywanego odcinka wynosi 406,36 m.Przedmiot zam\\u00f3wienia obejmuje przebudow\\u0119 drogi gminnej klasy D (dojazdowa) wraz z budow\\u0105 infrastruktury w postaci chodnik\\u00f3w, ci\\u0105gu pieszo-rowerowego, miejsc postojowych dla samochod\\u00f3w osobowych oraz przebudow\\u0119 zjazd\\u00f3w granicz\\u0105cych z pasem drogowym ul. Rod\\u0142a. Ponadto w ramach inwestycji przewiduje si\\u0119 rozbudow\\u0119 kanalizacji deszczowej oraz wykonanie o\\u015bwietlenia\",\"sid\":\"info:123594\",\"awarded_value\":\"2101196.63\",\"awarded_currency\":\"PLN\",\"awarded_value_eur\":\"461375.57\",\"purchaser\":{\"id\":\"26878\",\"sid\":null,\"name\":null},\"type\":{\"id\":\"art-275-pkt-1-ustawy\",\"name\":\"art. 275 pkt 1 ustawy\",\"slug\":\"art-275-pkt-1-ustawy\"},\"awarded\":[{\"date\":\"2021-09-14\",\"value_for_two\":2101196.63,\"value_for_two_eur\":461375.57,\"suppliers\":[{\"name\":\"POL DR\\u00d3G Drawsko Pomorskie S.A.\",\"id\":1007,\"slug\":\"pol-drog-drawsko-pomorskie-s-a\"}],\"value_min\":\"2101196.63\",\"value_for_three\":2101196.63,\"offers_count_status\":\"only_one\",\"value_for_one_eur\":461375.57,\"count\":\"1\",\"value_for_one\":2101196.63,\"value_for_three_eur\":461375.57,\"suppliers_id\":\"1007\",\"value_eur\":461375.57,\"value_max\":\"2101196.63\",\"offers_count\":[1],\"suppliers_name\":\"POL DR\\u00d3G Drawsko Pomorskie S.A.\",\"value\":\"2101196.63\",\"value_estimated\":null,\"offers_count_data\":{\"1\":{\"value_eur\":461375.57,\"count\":\"1\",\"value\":\"2101196.63\"}}}]},{\"id\":\"564371\",\"date\":\"2021-06-29\",\"deadline_date\":\"2021-07-12\",\"deadline_length_days\":\"12\",\"deadline_length_hours\":\"311\",\"title\":\"Opracowanie dokumentacji projektowej dla zadania pn. \\\"Rozbudowa drogi wojew\\u00f3dzkiej nr 179 Szyd\\u0142owo -Dolaszewo wraz z budow\\u0105 \\u015bcie\\u017cki rowerowej\\\".\",\"category\":\"services\",\"description\":\"1. Przedmiotem zam\\u00f3wienia jest us\\u0142uga wykonania dokumentacji projektowej wraz z uzyskaniem wszystkich niezb\\u0119dnych decyzji i uzgodnie\\u0144 w tym decyzji ZRiD w ramach zadania pn. \\u201eRozbudowa drogi wojew\\u00f3dzkiej nr 179 Szyd\\u0142owo \\u2013 Dolaszewo wraz z budow\\u0105 \\u015bcie\\u017cki rowerowej\\u201d.2. Rozbudow\\u0105 nale\\u017cy obj\\u0105\\u0107 odcinek drogi wojew\\u00f3dzkiej nr 179 na odcinku od przejazdu kolejowego (km ok. 25+420) w m. Szyd\\u0142owo do skrzy\\u017cowania drogi wojew\\u00f3dzkiej DW 179 z ul. Kasztanow\\u0105 w m. Dolaszewo.3. Rozwi\\u0105zania projektowe nale\\u017cy pow\",\"sid\":\"info:118647\",\"awarded_value\":\"289000.00\",\"awarded_currency\":\"PLN\",\"awarded_value_eur\":\"64111.10\",\"purchaser\":{\"id\":\"22970\",\"sid\":null,\"name\":null},\"type\":{\"id\":\"art-275-pkt-2-ustawy\",\"name\":\"art. 275 pkt 2 ustawy\",\"slug\":\"art-275-pkt-2-ustawy\"},\"awarded\":[{\"date\":\"2021-09-01\",\"value_for_two\":289000,\"value_for_two_eur\":64111.1,\"suppliers\":[{\"name\":\"Pracownia Projektowa DROG-CAD Maciej Nowak\",\"id\":14579,\"slug\":\"pracownia-projektowa-drog-cad-maciej-nowak\"}],\"value_min\":\"289000.00\",\"value_for_three\":289000,\"offers_count_status\":\"only_one\",\"value_for_one_eur\":64111.1,\"count\":\"1\",\"value_for_one\":289000,\"value_for_three_eur\":64111.1,\"suppliers_id\":\"14579\",\"value_eur\":64111.1,\"value_max\":\"289000.00\",\"offers_count\":[1],\"suppliers_name\":\"Pracownia Projektowa DROG-CAD Maciej Nowak\",\"value\":\"289000.00\",\"value_estimated\":null,\"offers_count_data\":{\"1\":{\"value_eur\":64111.1,\"count\":\"1\",\"value\":\"289000.00\"}}}]},{\"id\":\"564370\",\"date\":\"2021-07-19\",\"deadline_date\":\"2021-08-03\",\"deadline_length_days\":\"15\",\"deadline_length_hours\":\"360\",\"title\":\"Remont drogi gminnej nr G131154P na odcinku Le\\u017cenica-Le\\u017cenica Kolonia-Jaraczewo\",\"category\":\"constructions\",\"description\":\"1. Przedmiotem zam\\u00f3wienia s\\u0105 roboty budowlane polegaj\\u0105ce na remoncie drogi gminnej nr G131154P na odcinku Le\\u017cenica \\u2013 Le\\u017cenica Kolonia \\u2013 Jaraczewo. Projektowana droga zlokalizowana jest w miejscowo\\u015bci Le\\u017cenica Kolonia w ci\\u0105gu drogi gminnej G131154P Le\\u017cenica - Jaraczewo na dzia\\u0142kach ewidencyjnych 330, 171, 206. Istniej\\u0105cy pas drogowy o szeroko\\u015bci zmiennej od 9,7m do 17,8m. Droga obs\\u0142uguje zlokalizowane przy drodze budynki jednorodzinne, gospodarstwa rolne ( dojazd do p\\u00f3l uprawnych). Teren jest p\\u0142a\",\"sid\":\"info:118646\",\"awarded_value\":\"446676.71\",\"awarded_currency\":\"PLN\",\"awarded_value_eur\":\"99089.74\",\"purchaser\":{\"id\":\"22970\",\"sid\":null,\"name\":null},\"type\":{\"id\":\"art-275-pkt-2-ustawy\",\"name\":\"art. 275 pkt 2 ustawy\",\"slug\":\"art-275-pkt-2-ustawy\"},\"awarded\":[{\"date\":\"2021-09-01\",\"value_for_two\":0,\"value_for_two_eur\":0,\"suppliers\":[{\"name\":\"Roboty Drogowo - Budowlane Jacek Karpinski\",\"id\":17719,\"slug\":\"roboty-drogowo-budowlane-jacek-karpinski\"}],\"value_min\":\"446676.71\",\"value_for_three\":446676.71,\"value_for_one_eur\":0,\"count\":\"1\",\"value_for_one\":0,\"value_for_three_eur\":99089.74,\"suppliers_id\":\"17719\",\"value_eur\":99089.74,\"value_max\":\"467014.44\",\"offers_count\":[3],\"suppliers_name\":\"Roboty Drogowo - Budowlane Jacek Karpinski\",\"value\":\"446676.71\",\"value_estimated\":null,\"offers_count_data\":{\"3\":{\"value_eur\":99089.74,\"count\":\"1\",\"value\":\"446676.71\"}}}]},{\"id\":\"564369\",\"date\":\"2021-07-23\",\"deadline_date\":\"2021-08-10\",\"deadline_length_days\":\"18\",\"deadline_length_hours\":\"434\",\"title\":\"Przebudowa drogi gminnej w m. Le\\u017cenica\",\"category\":\"constructions\",\"description\":\"1. Przedmiotem zam\\u00f3wienia jest realizacja zadania \\u201ePrzebudowa drogi gminnej w miejscowo\\u015bci Le\\u017cenica na dzia\\u0142kach 89\\/8, 89\\/4 i 224. Istniej\\u0105ca droga w Le\\u017cenicy przebiega przez dzia\\u0142ki b\\u0119d\\u0105ce w\\u0142asno\\u015bci\\u0105 gminy Szyd\\u0142owo (dz. nr 89\\/8, 89\\/4, 224) wraz z wpi\\u0119ciami w drog\\u0119 powiatow\\u0105 (dz. nr 1166P). Projektowana trasa maksymalnie wpisuje si\\u0119 w jej istniej\\u0105cy przebieg. Lokalizacja zadania wg za\\u0142\\u0105cznika graficznego - zakres wydzielony lini\\u0105 koloru zielonego jest dzia\\u0142k\\u0105 gminn\\u0105.2. Pocz\\u0105tek oraz koniec przeb\",\"sid\":\"info:118645\",\"awarded_value\":\"168760.00\",\"awarded_currency\":\"PLN\",\"awarded_value_eur\":\"37437.33\",\"purchaser\":{\"id\":\"22970\",\"sid\":null,\"name\":null},\"type\":{\"id\":\"art-275-pkt-2-ustawy\",\"name\":\"art. 275 pkt 2 ustawy\",\"slug\":\"art-275-pkt-2-ustawy\"},\"awarded\":[{\"date\":\"2021-09-01\",\"value_for_two\":168760,\"value_for_two_eur\":37437.33,\"suppliers\":[{\"name\":\"Roboty Drogowo - Budowlane Jacek Karpinski\",\"id\":17719,\"slug\":\"roboty-drogowo-budowlane-jacek-karpinski\"}],\"value_min\":\"168760.00\",\"value_for_three\":168760,\"offers_count_status\":\"only_one\",\"value_for_one_eur\":37437.33,\"count\":\"1\",\"value_for_one\":168760,\"value_for_three_eur\":37437.33,\"suppliers_id\":\"17719\",\"value_eur\":37437.33,\"value_max\":\"168760.00\",\"offers_count\":[1],\"suppliers_name\":\"Roboty Drogowo - Budowlane Jacek Karpinski\",\"value\":\"168760.00\",\"value_estimated\":null,\"offers_count_data\":{\"1\":{\"value_eur\":37437.33,\"count\":\"1\",\"value\":\"168760.00\"}}}]},{\"id\":\"564368\",\"date\":\"2021-07-30\",\"deadline_date\":\"2021-08-16\",\"deadline_length_days\":\"16\",\"deadline_length_hours\":\"401\",\"title\":\"Budowa wiaty magazynowej na terenie Zak\\u0142adu Unieszkodliwiania Odpad\\u00f3w w Siedliskach k\\/E\\u0142ku\",\"category\":\"constructions\",\"description\":\"1. Przedmiotem zam\\u00f3wienia jest Budowa wiaty magazynowej na terenie Zak\\u0142adu Unieszkodliwiania Odpad\\u00f3w w Siedliskach k\\/E\\u0142ku.2. Szczeg\\u00f3\\u0142owy opis przedmiotu zm\\u00f3wienia okre\\u015blony jest w za\\u0142\\u0105czniku nr 9 do SWZ.3. Zaleca si\\u0119, aby Wykonawca zapozna\\u0142 si\\u0119 z lokalnymi warunkami realizacji przedmiotu zam\\u00f3wienia oraz zdoby\\u0142 wszelkie informacje niezb\\u0119dne do w\\u0142a\\u015bciwego przygotowania oferty i prawid\\u0142owego wykonania rob\\u00f3t obj\\u0119tych przedmiotem zam\\u00f3wienia. Wszelkie utrudnienia wynikaj\\u0105ce z warunk\\u00f3w realizacji przed\",\"sid\":\"info:118644\",\"awarded_value\":\"582751.95\",\"awarded_currency\":\"PLN\",\"awarded_value_eur\":\"129276.35\",\"purchaser\":{\"id\":\"24647\",\"sid\":null,\"name\":null},\"type\":{\"id\":\"art-275-pkt-1-ustawy\",\"name\":\"art. 275 pkt 1 ustawy\",\"slug\":\"art-275-pkt-1-ustawy\"},\"awarded\":[{\"date\":\"2021-09-01\",\"value_for_two\":0,\"value_for_two_eur\":0,\"suppliers\":[{\"name\":\"\\u201ePRIBO-EPB\\u201d Sp. z o.o.,\",\"id\":20459,\"slug\":\"pribo-epb-sp-z-o-o\"}],\"value_min\":\"582751.95\",\"value_for_three\":582751.95,\"value_for_one_eur\":0,\"count\":\"1\",\"value_for_one\":0,\"value_for_three_eur\":129276.35,\"suppliers_id\":\"20459\",\"value_eur\":129276.35,\"value_max\":\"832486.83\",\"offers_count\":[3],\"suppliers_name\":\"\\u201ePRIBO-EPB\\u201d Sp. z o.o.,\",\"value\":\"582751.95\",\"value_estimated\":null,\"offers_count_data\":{\"3\":{\"value_eur\":129276.35,\"count\":\"1\",\"value\":\"582751.95\"}}}]},{\"id\":\"569042\",\"date\":\"2021-07-29\",\"deadline_date\":\"2021-08-06\",\"deadline_length_days\":\"7\",\"deadline_length_hours\":\"191\",\"title\":\"\\\"Dostawa \\u017cywienia pozajelitowego wraz z dzier\\u017caw\\u0105 lo\\u017cy laminarnej oraz dostawa \\u017cywienia dojelitowego na rzecz Szpitala Czerniakowskiego sp. z o.o.\\\"\",\"category\":\"supplies\",\"description\":\"Przedmiotem zam\\u00f3wienia jest dostawa \\u017cywienia pozajelitowego wraz z dzier\\u017caw\\u0105 lo\\u017cy laminarnej oraz dostawa \\u017cywienia dojelitowego na rzecz Szpitala Czerniakowskiego sp. z o.o.: Pakiet nr 1 \\u2013 \\u017bywienie pozajelitowe wraz z dzier\\u017caw\\u0105 lo\\u017cy laminarnej, zgodnie z za\\u0142\\u0105cznikiem nr 3 do SWZ \\u2013 formularz asortymentowo-cenowy.\",\"sid\":\"info:127811\",\"awarded_value\":\"109287.68\",\"awarded_currency\":\"PLN\",\"awarded_value_eur\":\"23969.53\",\"purchaser\":{\"id\":\"24381\",\"sid\":null,\"name\":null},\"type\":{\"id\":\"art-275-pkt-1-ustawy\",\"name\":\"art. 275 pkt 1 ustawy\",\"slug\":\"art-275-pkt-1-ustawy\"},\"indicators\":[\"low_value_awarded\"],\"awarded\":[{\"date\":\"2021-08-31\",\"value_for_two\":41491.13,\"value_for_two_eur\":9160,\"suppliers\":[{\"name\":\"Bialmed sp. z o.o.\",\"id\":12,\"slug\":\"bialmed-sp-z-o-o\"}],\"value_min\":\"41491.13\",\"value_for_three\":41491.13,\"offers_count_status\":\"only_one\",\"value_for_one_eur\":9160,\"count\":\"1\",\"value_for_one\":41491.13,\"value_for_three_eur\":9160,\"suppliers_id\":\"12\",\"value_eur\":9160,\"value_max\":\"41491.13\",\"offers_count\":[1],\"suppliers_name\":\"Bialmed sp. z o.o.\",\"value\":\"41491.13\",\"value_estimated\":\"45589.50\",\"offers_count_data\":{\"1\":{\"value_eur\":9160,\"count\":\"1\",\"value\":\"41491.13\"}}},{\"date\":\"2021-08-25\",\"value_for_two\":67796.55,\"value_for_two_eur\":14809.53,\"suppliers\":[{\"name\":\"Fresenius Kabi Polska sp. z o.o.\",\"id\":32,\"slug\":\"fresenius-kabi-polska-sp-z-o-o\"}],\"value_min\":\"67796.55\",\"value_for_three\":67796.55,\"offers_count_status\":\"only_one\",\"value_for_one_eur\":14809.53,\"count\":\"1\",\"value_for_one\":67796.55,\"value_for_three_eur\":14809.53,\"suppliers_id\":\"32\",\"value_eur\":14809.53,\"value_max\":\"67796.55\",\"offers_count\":[1],\"suppliers_name\":\"Fresenius Kabi Polska sp. z o.o.\",\"value\":\"67796.55\",\"value_estimated\":\"63170.12\",\"offers_count_data\":{\"1\":{\"value_eur\":14809.53,\"count\":\"1\",\"value\":\"67796.55\"}}}]},{\"id\":\"564330\",\"date\":\"2021-08-04\",\"deadline_date\":\"2021-08-19\",\"deadline_length_days\":\"15\",\"deadline_length_hours\":\"360\",\"title\":\"Remont pobocza przy drodze powiatowej Nr 3521L na odcinku Chor\\u0105\\u017canka - Przew\\u0142oka\",\"category\":\"constructions\",\"description\":\"Przedmiot zam\\u00f3wienia obejmuje wykonanie remontu pobocza przy drodze powiatowej Nr 3521L na odcinku Chor\\u0105\\u017canka - Przew\\u0142oka. Zakres opracowania od km 0+000 do km 1+232,00 na d\\u0142ugo\\u015bci 1,232km.Zakres rob\\u00f3t przedmiotowego zadania obejmuje:- wykonanie koryta pod warstwy konstrukcyjne wraz z profilowaniem i zag\\u0119szczeniem,- wykonanie warstw podbudowy z mieszanki cementowej oraz mieszanki mineralnej stabilizowanej mechanicznie,- wykonanie warstw bitumicznych,- wykonanie ulepszonego pobocza gruntowego,- u\",\"sid\":\"info:118578\",\"awarded_value\":\"498611.27\",\"awarded_currency\":\"PLN\",\"awarded_value_eur\":\"110078.43\",\"purchaser\":{\"id\":\"23752\",\"sid\":null,\"name\":null},\"type\":{\"id\":\"art-275-pkt-1-ustawy\",\"name\":\"art. 275 pkt 1 ustawy\",\"slug\":\"art-275-pkt-1-ustawy\"},\"awarded\":[{\"date\":\"2021-08-31\",\"value_for_two\":498611.27,\"value_for_two_eur\":110078.43,\"suppliers\":[{\"name\":\"PRZEDSI\\u0118BIORSTWO ROB\\u00d3T DROGOWO-MOSTOWYCH Sp. z o.o.,\",\"id\":52,\"slug\":\"przedsiebiorstwo-robot-drogowo-mostowych-sp-z-o-o\"}],\"value_min\":\"498611.27\",\"value_for_three\":498611.27,\"offers_count_status\":\"only_one\",\"value_for_one_eur\":110078.43,\"count\":\"1\",\"value_for_one\":498611.27,\"value_for_three_eur\":110078.43,\"suppliers_id\":\"52\",\"value_eur\":110078.43,\"value_max\":\"498611.27\",\"offers_count\":[1],\"suppliers_name\":\"PRZEDSI\\u0118BIORSTWO ROB\\u00d3T DROGOWO-MOSTOWYCH Sp. z o.o.,\",\"value\":\"498611.27\",\"value_estimated\":null,\"offers_count_data\":{\"1\":{\"value_eur\":110078.43,\"count\":\"1\",\"value\":\"498611.27\"}}}]},{\"id\":\"564248\",\"date\":\"2021-07-16\",\"deadline_date\":\"2021-07-28\",\"deadline_length_days\":\"11\",\"deadline_length_hours\":\"287\",\"title\":\"Dostawa sprz\\u0119tu do utrzymania czysto\\u015bci\",\"category\":\"supplies\",\"description\":\"Przedmiotem zam\\u00f3wienia jest: Dostawa sprz\\u0119tu do utrzymania czysto\\u015bci;Wykonawca zobowi\\u0105zuje si\\u0119 dostarczy\\u0107 towar okre\\u015blony w opisie przedmiotu zam\\u00f3wienia, i na warunkach okre\\u015blonych w umowie: Dostawa sprz\\u0119tu do utrzymania czysto\\u015bci;1. Towar, stanowi\\u0105cy przedmiot umowy zostanie dostarczony jednym transportem i roz\\u0142adowa-ny przez Wykonawc\\u0119 na jego koszt i ryzyko w terminie ustalonym przez przedstawicieli obu stron, w miejscu wskazanym przez Zamawiaj\\u0105cego \\u2013 magazyn \\u015brodk\\u00f3w czysto\\u015bci \\u2013 w m. Miros\\u0142awi\",\"sid\":\"info:118430\",\"awarded_value\":\"166766.50\",\"awarded_currency\":\"PLN\",\"awarded_value_eur\":\"36817.05\",\"purchaser\":{\"id\":\"23478\",\"sid\":null,\"name\":null},\"type\":{\"id\":\"art-275-pkt-1-ustawy\",\"name\":\"art. 275 pkt 1 ustawy\",\"slug\":\"art-275-pkt-1-ustawy\"},\"indicators\":[\"declined\"],\"awarded\":[{\"date\":\"2021-08-31\",\"value_for_two\":0,\"value_for_two_eur\":0,\"suppliers\":[{\"name\":\"P.P.H TESS MA\\u0141GORZATA I S\\u0141AWOMIR MAKSYMOWICZ sp\\u00f3\\u0142ka jawna\",\"id\":23075,\"slug\":\"p-p-h-tess-malgorzata-i-slawomir-maksymowicz-spolka-jawna\"}],\"value_min\":\"145176.50\",\"value_for_three\":0,\"value_for_one_eur\":0,\"count\":\"1\",\"value_for_one\":0,\"offers_declined\":[4],\"value_for_three_eur\":0,\"suppliers_id\":\"23075\",\"value_eur\":36817.05,\"value_max\":\"176243.30\",\"offers_count\":[5],\"suppliers_name\":\"P.P.H TESS MA\\u0141GORZATA I S\\u0141AWOMIR MAKSYMOWICZ sp\\u00f3\\u0142ka jawna\",\"value\":\"166766.50\",\"value_estimated\":null,\"offers_count_data\":{\"5\":{\"value_eur\":36817.05,\"count\":\"1\",\"value\":\"166766.50\"}}}]},{\"id\":\"564230\",\"date\":\"2021-08-16\",\"deadline_date\":\"2021-08-24\",\"deadline_length_days\":\"8\",\"deadline_length_hours\":\"194\",\"title\":\"Dostawa sprz\\u0119tu 1x u\\u017cytku uzupe\\u0142nienie VII\",\"category\":\"supplies\",\"description\":\"Przedmiotem zam\\u00f3wienia jest dostawa sprz\\u0119tu 1x u\\u017cytku dla Zespo\\u0142u Opieki Zdrowotnej w Suchej Beskidzkiej.Szczeg\\u00f3\\u0142owy opis przedmiotu zam\\u00f3wienia zawiera za\\u0142\\u0105cznik nr 1a do specyfikacji. Opis ten nale\\u017cy odczytywa\\u0107 wraz z ewentualnymi zmianami tre\\u015bci specyfikacji, b\\u0119d\\u0105cymi np. wynikiem udzielonych odpowiedzi na zapytania wykonawc\\u00f3w.\",\"sid\":\"info:118387\",\"awarded_value\":\"6588.00\",\"awarded_currency\":\"PLN\",\"awarded_value_eur\":\"1454.43\",\"purchaser\":{\"id\":\"110\",\"sid\":null,\"name\":null},\"type\":{\"id\":\"art-275-pkt-1-ustawy\",\"name\":\"art. 275 pkt 1 ustawy\",\"slug\":\"art-275-pkt-1-ustawy\"},\"awarded\":[{\"date\":\"2021-08-31\",\"value_for_two\":6588,\"value_for_two_eur\":1454.43,\"suppliers\":[{\"name\":\"Varimed sp.zo.o.\",\"id\":19616,\"slug\":\"varimed-sp-zo-o\"}],\"value_min\":\"6588.00\",\"value_for_three\":6588,\"offers_count_status\":\"only_one\",\"value_for_one_eur\":1454.43,\"count\":\"1\",\"value_for_one\":6588,\"value_for_three_eur\":1454.43,\"suppliers_id\":\"19616\",\"value_eur\":1454.43,\"value_max\":\"6588.00\",\"offers_count\":[1],\"suppliers_name\":\"Varimed sp.zo.o.\",\"value\":\"6588.00\",\"value_estimated\":null,\"offers_count_data\":{\"1\":{\"value_eur\":1454.43,\"count\":\"1\",\"value\":\"6588.00\"}}}]},{\"id\":\"564229\",\"date\":\"2021-08-05\",\"deadline_date\":\"2021-08-20\",\"deadline_length_days\":\"15\",\"deadline_length_hours\":\"362\",\"title\":\"Dostawa ziemniak\\u00f3w w okresie jesienno-wiosennym\",\"category\":\"supplies\",\"description\":\"Przedmiotem zam\\u00f3wienia jest dostawa ziemniak\\u00f3w do \\u017cywienia pacjent\\u00f3w i personelu w ilo\\u015bci 33 000 kg. Dostawca zobowi\\u0105zany b\\u0119dzie do roz\\u0142adunku ziemniak\\u00f3w w magazynie \\u017cywno\\u015bciowym w Szpitalu w Suchej Beskidzkiej. Ziemniaki musz\\u0105 by\\u0107 dobrej jako\\u015bci \\u2013 powinny charakteryzowa\\u0107 si\\u0119 g\\u0142adka powierzchni\\u0105, cienk\\u0105 \\u0142upin\\u0105, p\\u0142ytkimi oczkami, wyr\\u00f3wnan\\u0105 wielko\\u015bci\\u0105, powinny by\\u0107 zdrowe, r\\u00f3wnomiernie rozgotowywa\\u0107 si\\u0119, nie czernie\\u0107 po ugotowaniu, oraz by\\u0107 smaczne. Wielko\\u015b\\u0107 ziemniak\\u00f3w musi umo\\u017cliwia\\u0107 ich maszynowe \",\"sid\":\"info:118386\",\"awarded_value\":\"9900.00\",\"awarded_currency\":\"PLN\",\"awarded_value_eur\":\"2185.62\",\"purchaser\":{\"id\":\"110\",\"sid\":null,\"name\":null},\"type\":{\"id\":\"art-275-pkt-1-ustawy\",\"name\":\"art. 275 pkt 1 ustawy\",\"slug\":\"art-275-pkt-1-ustawy\"},\"awarded\":[{\"date\":\"2021-08-31\",\"value_for_two\":9900,\"value_for_two_eur\":2185.62,\"suppliers\":[{\"name\":\"Przedsi\\u0119biorstwo Handlowo-Us\\u0142ugowe Wojciech Krasucki\",\"id\":23068,\"slug\":\"przedsiebiorstwo-handlowo-uslugowe-wojciech-krasucki\"}],\"value_min\":\"9900.00\",\"value_for_three\":9900,\"value_for_one_eur\":0,\"count\":\"1\",\"value_for_one\":0,\"value_for_three_eur\":2185.62,\"suppliers_id\":\"23068\",\"value_eur\":2185.62,\"value_max\":\"37290.00\",\"offers_count\":[2],\"suppliers_name\":\"Przedsi\\u0119biorstwo Handlowo-Us\\u0142ugowe Wojciech Krasucki\",\"value\":\"9900.00\",\"value_estimated\":null,\"offers_count_data\":{\"2\":{\"value_eur\":2185.62,\"count\":\"1\",\"value\":\"9900.00\"}}}]},{\"id\":\"562905\",\"date\":\"2021-08-13\",\"deadline_date\":\"2021-08-25\",\"deadline_length_days\":\"12\",\"deadline_length_hours\":\"289\",\"title\":\"Us\\u0142ugi przygotowywania i dostarczania posi\\u0142k\\u00f3w na potrzeby Zespo\\u0142u Szkolno-Przedszkolnego w Nowym Aleksandrowie\",\"category\":\"services\",\"description\":\"1. Przedmiotem zam\\u00f3wienia s\\u0105 us\\u0142ugi przygotowywanie i dostarczania posi\\u0142k\\u00f3w na potrzeby Zespo\\u0142u Szkolno-Przedszkolnego w Nowym Aleksandrowie. 2. Szczeg\\u00f3\\u0142owy opis przedmiotu zam\\u00f3wienia znajduje si\\u0119 w za\\u0142\\u0105czniku nr 1 do SWZ.3. Dostawy posi\\u0142k\\u00f3w b\\u0119d\\u0105 realizowane do budynku Zespo\\u0142u Szkolno-Przedszkolnego w Nowym Aleksandrowie przy ul. Pogodnej 107, 16-002 Dobrzyniewo Du\\u017ce.\",\"sid\":\"info:116341\",\"awarded_value\":\"285757.04\",\"awarded_currency\":\"PLN\",\"awarded_value_eur\":\"63086.59\",\"purchaser\":{\"id\":\"32154\",\"sid\":null,\"name\":null},\"type\":{\"id\":\"art-275-pkt-1-ustawy\",\"name\":\"art. 275 pkt 1 ustawy\",\"slug\":\"art-275-pkt-1-ustawy\"},\"awarded\":[{\"date\":\"2021-08-31\",\"value_for_two\":0,\"value_for_two_eur\":0,\"suppliers\":[{\"name\":\"Casablanca Catering sp. z o.o.\",\"id\":23153,\"slug\":\"casablanca-catering-sp-z-o-o\"}],\"value_min\":\"285757.04\",\"value_for_three\":285757.04,\"value_for_one_eur\":0,\"count\":\"1\",\"value_for_one\":0,\"value_for_three_eur\":63086.59,\"suppliers_id\":\"23153\",\"value_eur\":63086.59,\"value_max\":\"307047.20\",\"offers_count\":[3],\"suppliers_name\":\"Casablanca Catering sp. z o.o.\",\"value\":\"285757.04\",\"value_estimated\":null,\"offers_count_data\":{\"3\":{\"value_eur\":63086.59,\"count\":\"1\",\"value\":\"285757.04\"}}}]},{\"id\":\"561531\",\"date\":\"2021-08-13\",\"deadline_date\":\"2021-08-23\",\"deadline_length_days\":\"9\",\"deadline_length_hours\":\"228\",\"title\":\"Przygotowanie i podanie posi\\u0142k\\u00f3w w kuchni zamawiaj\\u0105cego\",\"category\":\"services\",\"description\":\"\\uf02d Przedmiotem zam\\u00f3wienia s\\u0105 sukcesywne us\\u0142ugi przygotowania i podania posi\\u0142k\\u00f3w dla mieszka\\u0144c\\u00f3w Domu Pomocy Spo\\u0142ecznej w Gniewie, kody CPV: 55322000-3, 55321000-6, 55523000-2.\\uf02d Zakres zada\\u0144 Wykonawcy opisany zosta\\u0142 szczeg\\u00f3\\u0142owo w Za\\u0142\\u0105czniku nr 1 do niniejszej Specyfikacji Warunk\\u00f3w Zam\\u00f3wienia (zawieraj\\u0105cym zakres us\\u0142ug oraz dane ilo\\u015bciowe sk\\u0142adnik\\u00f3w niezb\\u0119dnych do kalkulacji ceny oraz wymagania Zamawiaj\\u0105cego wzgl\\u0119dem przedmiotu zam\\u00f3wienia).\\uf02d Zakres us\\u0142ugi oraz dane ilo\\u015bciowe sk\\u0142adnik\\u00f3w zam\\u00f3wienia p\",\"sid\":\"info:113384\",\"awarded_value\":\"413745.75\",\"awarded_currency\":\"PLN\",\"awarded_value_eur\":\"91342.67\",\"purchaser\":{\"id\":\"32038\",\"sid\":null,\"name\":null},\"type\":{\"id\":\"art-275-pkt-2-ustawy\",\"name\":\"art. 275 pkt 2 ustawy\",\"slug\":\"art-275-pkt-2-ustawy\"},\"awarded\":[{\"date\":\"2021-08-31\",\"value_for_two\":413745.75,\"value_for_two_eur\":91342.67,\"suppliers\":[{\"name\":\"Bar Zamkowa El\\u017cbieta Ko\\u0142odziejczyk\",\"id\":23084,\"slug\":\"bar-zamkowa-elzbieta-kolodziejczyk\"}],\"value_min\":\"413745.75\",\"value_for_three\":413745.75,\"value_for_one_eur\":0,\"count\":\"1\",\"value_for_one\":0,\"value_for_three_eur\":91342.67,\"suppliers_id\":\"23084\",\"value_eur\":91342.67,\"value_max\":\"643203.00\",\"offers_count\":[2],\"suppliers_name\":\"Bar Zamkowa El\\u017cbieta Ko\\u0142odziejczyk\",\"value\":\"413745.75\",\"value_estimated\":null,\"offers_count_data\":{\"2\":{\"value_eur\":91342.67,\"count\":\"1\",\"value\":\"413745.75\"}}}]},{\"id\":\"564314\",\"date\":\"2021-08-02\",\"deadline_date\":\"2021-08-11\",\"deadline_length_days\":\"8\",\"deadline_length_hours\":\"213\",\"title\":\"Sukcesywne dostawy kruszyw wraz z transportem i roz\\u0142adunkiem\",\"category\":\"supplies\",\"description\":\"Cz\\u0119\\u015b\\u0107 I \\u2013 kruszywo \\u0142amane skalne bazaltowe o granulacji 4-31,5 mm (kliniec) Zapotrzebowanie w tonach - 300Gwarantowany zakup w - 10 %\",\"sid\":\"info:118553\",\"awarded_value\":\"519918.70\",\"awarded_currency\":\"PLN\",\"awarded_value_eur\":\"113822.56\",\"purchaser\":{\"id\":\"29812\",\"sid\":null,\"name\":null},\"type\":{\"id\":\"art-275-pkt-1-ustawy\",\"name\":\"art. 275 pkt 1 ustawy\",\"slug\":\"art-275-pkt-1-ustawy\"},\"awarded\":[{\"date\":\"2021-08-30\",\"value_for_two\":519918.7,\"value_for_two_eur\":113822.56,\"suppliers\":[{\"name\":\"Przedsi\\u0119biorstwo Wielobran\\u017cowe RASPOL Roman Skoczek\",\"id\":23088,\"slug\":\"przedsiebiorstwo-wielobranzowe-raspol-roman-skoczek\"}],\"value_min\":\"519918.70\",\"value_for_three\":519918.7,\"offers_count_status\":\"only_one\",\"value_for_one_eur\":113822.56,\"count\":\"5\",\"value_for_one\":519918.7,\"value_for_three_eur\":113822.56,\"suppliers_id\":\"23088\",\"value_eur\":113822.56,\"value_max\":\"519918.70\",\"offers_count\":[1],\"suppliers_name\":\"Przedsi\\u0119biorstwo Wielobran\\u017cowe RASPOL Roman Skoczek\",\"value\":\"519918.70\",\"value_estimated\":\"519918.70\",\"offers_count_data\":{\"1\":{\"value_eur\":113822.56,\"count\":\"5\",\"value\":\"519918.70\"}}}]},{\"id\":\"564245\",\"date\":\"2021-07-26\",\"deadline_date\":\"2021-08-06\",\"deadline_length_days\":\"10\",\"deadline_length_hours\":\"263\",\"title\":\"Sprawowanie bezpo\\u015bredniej opieki, tzw. opieka wytchnieniowa, nad dzie\\u0107mi i osobaminiepe\\u0142nosprawnymi na terenie Gminy i Miasta Czerwionka-Leszczyny\",\"category\":\"services\",\"description\":\"1. Przedmiotem zam\\u00f3wienia jest sprawowanie bezpo\\u015bredniej opieki, tzw. opieka wytchnieniowa, nad dzie\\u0107mi i osobami niepe\\u0142nosprawnymi w zast\\u0119pstwie cz\\u0142onk\\u00f3w rodzin lub opiekun\\u00f3w sprawuj\\u0105cych bezpo\\u015bredni\\u0105, sta\\u0142\\u0105 i d\\u0142ugotrwa\\u0142\\u0105 opiek\\u0119 nad tymi osobami na terenie Gminy i Miasta Czerwionka-Leszczyny.2. Us\\u0142ugi w ramach opieki wytchnieniowej kierowane b\\u0119d\\u0105 do cz\\u0142onk\\u00f3w rodzin lub opiekun\\u00f3w, kt\\u00f3rzy wymagaj\\u0105 wsparcia w postaci dora\\u017anej, czasowej przerwy w sprawowaniu bezpo\\u015bredniej opieki nad dzie\\u0107mi z orzec\",\"sid\":\"info:118418\",\"awarded_value\":\"48000.00\",\"awarded_currency\":\"PLN\",\"awarded_value_eur\":\"10508.34\",\"purchaser\":{\"id\":\"24379\",\"sid\":null,\"name\":null},\"type\":{\"id\":\"art-275-pkt-1-ustawy\",\"name\":\"art. 275 pkt 1 ustawy\",\"slug\":\"art-275-pkt-1-ustawy\"},\"awarded\":[{\"date\":\"2021-08-30\",\"value_for_two\":48000,\"value_for_two_eur\":10508.34,\"suppliers\":[{\"name\":\"\\u015al\\u0105ski Oddzia\\u0142 Okr\\u0119gowy Polskiego Czerwonego Krzy\\u017ca Oddzia\\u0142 Rejonowy Polskiego Czerwonego Krzy\\u017ca w Knurowie\",\"id\":23072,\"slug\":\"slaski-oddzial-okregowy-polskiego-czerwonego-krzyza-oddzial-rejonowy-polskiego-czerwonego-krzyza-w-knurowie\"}],\"value_min\":\"48000.00\",\"value_for_three\":48000,\"offers_count_status\":\"only_one\",\"value_for_one_eur\":10508.34,\"count\":\"1\",\"value_for_one\":48000,\"value_for_three_eur\":10508.34,\"suppliers_id\":\"23072\",\"value_eur\":10508.34,\"value_max\":\"48000.00\",\"offers_count\":[1],\"suppliers_name\":\"\\u015al\\u0105ski Oddzia\\u0142 Okr\\u0119gowy Polskiego Czerwonego Krzy\\u017ca Oddzia\\u0142 Rejonowy Polskiego Czerwonego Krzy\\u017ca w Knurowie\",\"value\":\"48000.00\",\"value_estimated\":null,\"offers_count_data\":{\"1\":{\"value_eur\":10508.34,\"count\":\"1\",\"value\":\"48000.00\"}}}]},{\"id\":\"564243\",\"date\":\"2021-07-26\",\"deadline_date\":\"2021-08-05\",\"deadline_length_days\":\"9\",\"deadline_length_hours\":\"238\",\"title\":\"\\u015awiadczenie us\\u0142ug Asystenta Osobistego Osoby Niepe\\u0142nosprawnej dla os\\u00f3b niepe\\u0142nosprawnych z terenu Gminy i Miasta Czerwionka-Leszczyny\",\"category\":\"services\",\"description\":\"1. Przedmiotem zam\\u00f3wienia jest \\u015bwiadczenie us\\u0142ug asystenta osobistego osoby niepe\\u0142nosprawnej na rzecz os\\u00f3b niepe\\u0142nosprawnych z terenu Gminy i Miasta Czerwionka-Leszczyny.2. Us\\u0142ugami asystenta zostan\\u0105 obj\\u0119te osoby z niepe\\u0142nosprawno\\u015bciami posiadaj\\u0105cymi orzeczenie o znacznym stopniu niepe\\u0142nosprawno\\u015bci oraz orzeczenie o umiarkowanym stopniu niepe\\u0142nosprawno\\u015bci wydanych na podstawie ustawy z dnia 27 sierpnia 1997 r. o rehabilitacji zawodowej i spo\\u0142ecznej oraz zatrudnianiu os\\u00f3b niepe\\u0142nosprawnych albo o\",\"sid\":\"info:118415\",\"awarded_value\":\"110400.00\",\"awarded_currency\":\"PLN\",\"awarded_value_eur\":\"24169.18\",\"purchaser\":{\"id\":\"24379\",\"sid\":null,\"name\":null},\"type\":{\"id\":\"art-275-pkt-1-ustawy\",\"name\":\"art. 275 pkt 1 ustawy\",\"slug\":\"art-275-pkt-1-ustawy\"},\"awarded\":[{\"date\":\"2021-08-30\",\"value_for_two\":110400,\"value_for_two_eur\":24169.18,\"suppliers\":[{\"name\":\"\\u015al\\u0105ski Oddzia\\u0142 Okr\\u0119gowy Polskiego Czerwonego Krzy\\u017ca Oddzia\\u0142 Rejonowy Polskiego Czerwonego Krzy\\u017ca w Knurowie\",\"id\":23072,\"slug\":\"slaski-oddzial-okregowy-polskiego-czerwonego-krzyza-oddzial-rejonowy-polskiego-czerwonego-krzyza-w-knurowie\"}],\"value_min\":\"110400.00\",\"value_for_three\":110400,\"offers_count_status\":\"only_one\",\"value_for_one_eur\":24169.18,\"count\":\"1\",\"value_for_one\":110400,\"value_for_three_eur\":24169.18,\"suppliers_id\":\"23072\",\"value_eur\":24169.18,\"value_max\":\"110400.00\",\"offers_count\":[1],\"suppliers_name\":\"\\u015al\\u0105ski Oddzia\\u0142 Okr\\u0119gowy Polskiego Czerwonego Krzy\\u017ca Oddzia\\u0142 Rejonowy Polskiego Czerwonego Krzy\\u017ca w Knurowie\",\"value\":\"110400.00\",\"value_estimated\":null,\"offers_count_data\":{\"1\":{\"value_eur\":24169.18,\"count\":\"1\",\"value\":\"110400.00\"}}}]},{\"id\":\"564237\",\"date\":\"2021-07-30\",\"deadline_date\":\"2021-08-16\",\"deadline_length_days\":\"17\",\"deadline_length_hours\":\"408\",\"title\":\"Wzbogacenie oferty sp\\u0119dzania wolnego czasu poprzez budow\\u0119 i wyznaczenie szlak\\u00f3w rowerowych wraz z nowymi obiektami infrastruktury turystyczno-rekreacyjnej w gminie Wietrzychowice\",\"category\":\"constructions\",\"description\":\"Cz\\u0119\\u015b\\u0107 1 \\u2013 Wzbogacenie oferty sp\\u0119dzania wolnego czasu poprzez budow\\u0119 i wyznaczenie szlak\\u00f3w rowerowych wraz z nowymi obiektami infrastruktury turystyczno-rekreacyjnej w miejscowo\\u015bci Miechowice Ma\\u0142e, Gmina Wietrzychowice \\u2013 zakres prac obejmuje: budow\\u0119 wiaty z drewna wraz z wykonaniem pod ni\\u0105 utwardzenia z p\\u0142yt betonowych oraz pod\\u0142ogi na legarach z desek, oznakowanie szlaku rowerowego, wykonanie \\u015bcie\\u017cki rowerowej z betonu asfaltowego, wraz z geodezj\\u0105 powykonawcz\\u0105.\",\"sid\":\"info:118400\",\"awarded_value\":\"627621.97\",\"awarded_currency\":\"PLN\",\"awarded_value_eur\":\"137401.37\",\"purchaser\":{\"id\":\"32280\",\"sid\":null,\"name\":null},\"type\":{\"id\":\"art-275-pkt-1-ustawy\",\"name\":\"art. 275 pkt 1 ustawy\",\"slug\":\"art-275-pkt-1-ustawy\"},\"awarded\":[{\"date\":\"2021-08-30\",\"value_for_two\":627621.97,\"value_for_two_eur\":137401.37,\"suppliers\":[{\"name\":\"Firma Handlowo - Us\\u0142ugowa EL - BUD Leszek W\\u00f3jcik\",\"id\":23070,\"slug\":\"firma-handlowo-uslugowa-el-bud-leszek-wojcik\"}],\"value_min\":\"627621.97\",\"value_for_three\":627621.97,\"offers_count_status\":\"only_one\",\"value_for_one_eur\":137401.37,\"count\":\"2\",\"value_for_one\":627621.97,\"value_for_three_eur\":137401.37,\"suppliers_id\":\"23070\",\"value_eur\":137401.37,\"value_max\":\"627621.97\",\"offers_count\":[1],\"suppliers_name\":\"Firma Handlowo - Us\\u0142ugowa EL - BUD Leszek W\\u00f3jcik\",\"value\":\"627621.97\",\"value_estimated\":\"469002.59\",\"offers_count_data\":{\"1\":{\"value_eur\":137401.37,\"count\":\"2\",\"value\":\"627621.97\"}}}]},{\"id\":\"564161\",\"date\":\"2021-07-22\",\"deadline_date\":\"2021-08-02\",\"deadline_length_days\":\"11\",\"deadline_length_hours\":\"264\",\"title\":\"Dostawa sprz\\u0119tu elektronicznego na potrzeby Zespo\\u0142u Szk\\u00f3\\u0142 w D\\u0105browie Bia\\u0142ostockiej.\",\"category\":\"supplies\",\"description\":\"Przedmiotem dostawy jest fabrycznie nowy, nieu\\u017cywany, wolny od wad i kompletny tj.posiadaj\\u0105cy wszelkie akcesoria, przewody, kable niezb\\u0119dne do ich u\\u017cytkowania. Zaoferowanysprz\\u0119t musi by\\u0107 kompletny i gotowy do u\\u017cytkowania bez dodatkowych zakup\\u00f3w., do Zespo\\u0142uSzk\\u00f3\\u0142 w D\\u0105browie Bia\\u0142ostockiej. Dostawa obejmuje:1) Komputer stacjonarny typu All in One \\u2013 1 szt.2) Projektor - 1 szt.3) Uchwyt \\u015bcienny do projektora \\u2013 1 szt.4) Ekran elektryczny\\u2013 1 szt.5) Amplituner\\u2013 1 szt.6) G\\u0142o\\u015bniki\\u2013 2 szt.7) Kamera do wide\",\"sid\":\"info:118272\",\"awarded_value\":\"34169.57\",\"awarded_currency\":\"PLN\",\"awarded_value_eur\":\"7480.53\",\"purchaser\":{\"id\":\"29984\",\"sid\":null,\"name\":null},\"type\":{\"id\":\"art-275-pkt-1-ustawy\",\"name\":\"art. 275 pkt 1 ustawy\",\"slug\":\"art-275-pkt-1-ustawy\"},\"awarded\":[{\"date\":\"2021-08-30\",\"value_for_two\":34169.57,\"value_for_two_eur\":7480.53,\"suppliers\":[{\"name\":\"ALLTECH S.J. ZDZIS\\u0141AW PAJ\\u0104K, ARTUR PAJ\\u0104K\",\"id\":150,\"slug\":\"alltech-s-j-zdzislaw-pajak-artur-pajak\"}],\"value_min\":\"34169.57\",\"value_for_three\":34169.57,\"value_for_one_eur\":0,\"count\":\"1\",\"value_for_one\":0,\"value_for_three_eur\":7480.53,\"suppliers_id\":\"150\",\"value_eur\":7480.53,\"value_max\":\"35182.84\",\"offers_count\":[2],\"suppliers_name\":\"ALLTECH S.J. ZDZIS\\u0141AW PAJ\\u0104K, ARTUR PAJ\\u0104K\",\"value\":\"34169.57\",\"value_estimated\":null,\"offers_count_data\":{\"2\":{\"value_eur\":7480.53,\"count\":\"1\",\"value\":\"34169.57\"}}}]},{\"id\":\"559820\",\"date\":\"2021-06-09\",\"deadline_date\":\"2021-06-25\",\"deadline_length_days\":\"15\",\"deadline_length_hours\":\"381\",\"title\":\"Modernizacja budynku Przedszkola Samorz\\u0105dowego nr 7 w Piotrkowie Trybunalskim\",\"category\":\"constructions\",\"description\":\"1) Modernizacja budynku Przedszkola Samorz\\u0105dowego nr 7, 97-300 Piotrk\\u00f3w Trybunalski ul. Poprzeczna 7 a ETAP I \\u2013 obejmuj\\u0105cy roboty remontowe:1. modernizacja zewn\\u0119trznej strefy wej\\u015bciowej do budynku przedszkola,2. utwardzenia terenu przed budynkiem, remont ogrodzenia, modernizacja pochylni wraz zabudow\\u0105 obiekt\\u00f3w ma\\u0142ej architektury,3. remont taras\\u00f3w, schod\\u00f3w zewn\\u0119trznych,4. termomodernizacja dachu budynku wraz z wymian\\u0105 poszycia dachowego oraz obr\\u00f3bk\\u0105 blacharsk\\u0105, orynnowaniem, remontem komin\\u00f3w, ogn\",\"sid\":\"info:109244\",\"awarded_value\":\"712822.12\",\"awarded_currency\":\"PLN\",\"awarded_value_eur\":\"156053.71\",\"purchaser\":{\"id\":\"2524\",\"sid\":null,\"name\":null},\"type\":{\"id\":\"art-275-pkt-1-ustawy\",\"name\":\"art. 275 pkt 1 ustawy\",\"slug\":\"art-275-pkt-1-ustawy\"},\"awarded\":[{\"date\":\"2021-08-30\",\"value_for_two\":712822.12,\"value_for_two_eur\":156053.71,\"suppliers\":[{\"name\":\"D&F Sp\\u00f3\\u0142ka z o.o.\",\"id\":20079,\"slug\":\"d-f-spolka-z-o-o\"}],\"value_min\":\"712822.12\",\"value_for_three\":712822.12,\"offers_count_status\":\"only_one\",\"value_for_one_eur\":156053.71,\"count\":\"1\",\"value_for_one\":712822.12,\"value_for_three_eur\":156053.71,\"suppliers_id\":\"20079\",\"value_eur\":156053.71,\"value_max\":\"712822.12\",\"offers_count\":[1],\"suppliers_name\":\"D&F Sp\\u00f3\\u0142ka z o.o.\",\"value\":\"712822.12\",\"value_estimated\":null,\"offers_count_data\":{\"1\":{\"value_eur\":156053.71,\"count\":\"1\",\"value\":\"712822.12\"}}}]},{\"id\":\"567400\",\"date\":\"2021-06-28\",\"deadline_date\":\"2021-07-14\",\"deadline_length_days\":\"15\",\"deadline_length_hours\":\"382\",\"title\":\"Przebudowa drogi gminnej Nr 115164E relacji Wola P\\u0119koszewska - Niemieryczew\",\"category\":\"constructions\",\"description\":\"Przedmiotem zam\\u00f3wienia jest przebudowa drogi gminnej Nr 115164E relacji Wola P\\u0119koszewska - Niemieryczew o \\u0142\\u0105cznej d\\u0142ugo\\u015bci 1,409 km. Lokalizacja:Obr\\u0119b Wola P\\u0119koszewska (23) \\u2013 dz. ewid. nr 30.Parametry drogi:\\uf02d kategoria drogi - G (gminna)\\uf02d klasa drogi - D (dojazdowa)\\uf02d pr\\u0119dko\\u015b\\u0107 projektowa \\u2013 30 km\\/h\\uf02d kategoria ruchu \\u2013 KR2\\uf02d d\\u0142ugo\\u015b\\u0107 jezdni - 1,409 km\\uf02d szeroko\\u015b\\u0107 jezdni \\u2013 4,00 m \\uf02d szeroko\\u015b\\u0107 poboczy \\u2013 0,75 mParametry jezdni i mijanki:\\uf02d warstwa \\u015bcieralna z betonu asfaltowego AC11S dla KR 2 gr. 4 cm\\uf02d wars\",\"sid\":\"info:124554\",\"awarded_value\":\"902397.68\",\"awarded_currency\":\"PLN\",\"awarded_value_eur\":\"196913.98\",\"purchaser\":{\"id\":\"32603\",\"sid\":null,\"name\":null},\"type\":{\"id\":\"art-275-pkt-1-ustawy\",\"name\":\"art. 275 pkt 1 ustawy\",\"slug\":\"art-275-pkt-1-ustawy\"},\"awarded\":[{\"date\":\"2021-08-27\",\"value_for_two\":0,\"value_for_two_eur\":0,\"suppliers\":[{\"name\":\"Przedsi\\u0119biorstwo Budowy Dr\\u00f3g i Most\\u00f3w \\u201eErbedim\\u201d Sp. z o.o.\",\"id\":16402,\"slug\":\"przedsiebiorstwo-budowy-drog-i-mostow-erbedim-sp-z-o-o\"}],\"value_min\":\"695786.86\",\"value_for_three\":0,\"value_for_one_eur\":0,\"count\":\"1\",\"value_for_one\":0,\"offers_declined\":[1],\"value_for_three_eur\":0,\"suppliers_id\":\"16402\",\"value_eur\":196913.98,\"value_max\":\"1134250.47\",\"offers_count\":[6],\"suppliers_name\":\"Przedsi\\u0119biorstwo Budowy Dr\\u00f3g i Most\\u00f3w \\u201eErbedim\\u201d Sp. z o.o.\",\"value\":\"902397.68\",\"value_estimated\":null,\"offers_count_data\":{\"6\":{\"value_eur\":196913.98,\"count\":\"1\",\"value\":\"902397.68\"}}}]},{\"id\":\"564338\",\"date\":\"2021-07-16\",\"deadline_date\":\"2021-08-03\",\"deadline_length_days\":\"17\",\"deadline_length_hours\":\"430\",\"title\":\"Wymiana \\u017ar\\u00f3d\\u0142a ciep\\u0142a i instalacji centralnego ogrzewania, ciep\\u0142ej wody u\\u017cytkowej oraz wod-kan w budynku przy ul. Parkowej 10 w Rogowie\",\"category\":\"constructions\",\"description\":\"1. Przedmiotem zam\\u00f3wienia s\\u0105 roboty budowlane obejmuj\\u0105ce wykonanie zadania pn.: \\u201eWymiana \\u017ar\\u00f3d\\u0142a ciep\\u0142a i instalacji centralnego ogrzewania, ciep\\u0142ej wody u\\u017cytkowej oraz wod-kan w budynku przy ul. Parkowej 10 w Rogowie\\u201d. Roboty budowlane realizowane b\\u0119d\\u0105 na podstawie dokumentacji projektowej wykonanej przez Chowaniec Barbar\\u0119 Biuro Projektowe \\u201eSANWEKO\\u201d z Rydu\\u0142t\\u00f3w oraz decyzji o pozwoleniu na budow\\u0119 nr 0196\\/21 z dnia 12.02.2021 r.2. Zakres rob\\u00f3t obejmuje:1) demonta\\u017c przewod\\u00f3w c.o. i grzejnik\\u00f3w,2) de\",\"sid\":\"info:118593\",\"awarded_value\":\"205510.33\",\"awarded_currency\":\"PLN\",\"awarded_value_eur\":\"44844.81\",\"purchaser\":{\"id\":\"3949\",\"sid\":null,\"name\":null},\"type\":{\"id\":\"art-275-pkt-1-ustawy\",\"name\":\"art. 275 pkt 1 ustawy\",\"slug\":\"art-275-pkt-1-ustawy\"},\"awarded\":[{\"date\":\"2021-08-27\",\"value_for_two\":0,\"value_for_two_eur\":0,\"suppliers\":[{\"name\":\"Przedsiebiorstwo Handlowo-Us\\u0142ugowe \\\"WIMAR\\\" Sp\\u00f3\\u0142ka jawna Wies\\u0142aw i Mariusz S\\u0142anina\",\"id\":23093,\"slug\":\"przedsiebiorstwo-handlowo-uslugowe-wimar-spolka-jawna-wieslaw-i-mariusz-slanina\"}],\"value_min\":\"205510.33\",\"value_for_three\":0,\"value_for_one_eur\":0,\"count\":\"1\",\"value_for_one\":0,\"offers_declined\":[1],\"value_for_three_eur\":0,\"suppliers_id\":\"23093\",\"value_eur\":44844.81,\"value_max\":\"674040.00\",\"offers_count\":[4],\"suppliers_name\":\"Przedsiebiorstwo Handlowo-Us\\u0142ugowe \\\"WIMAR\\\" Sp\\u00f3\\u0142ka jawna Wies\\u0142aw i Mariusz S\\u0142anina\",\"value\":\"205510.33\",\"value_estimated\":null,\"offers_count_data\":{\"4\":{\"value_eur\":44844.81,\"count\":\"1\",\"value\":\"205510.33\"}}}]},{\"id\":\"564206\",\"date\":\"2021-07-12\",\"deadline_date\":\"2021-08-02\",\"deadline_length_days\":\"20\",\"deadline_length_hours\":\"502\",\"title\":\"Modernizacja systemu sygnalizacji po\\u017carowej budynku Centrum Sztuki Mo\\u015bcice\",\"category\":\"constructions\",\"description\":\"W zakres przedmiotu wchodzi w szczeg\\u00f3lno\\u015bci:- wymian\\u0119 centrali sygnalizacji po\\u017caru- wymian\\u0119 czujek optycznych dymu- wymian\\u0119 r\\u0119cznych ostrzegaczy po\\u017carowych - wymian\\u0119 sygnalizator\\u00f3w po\\u017carowych - wymian\\u0119 element\\u00f3w kontrolno- steruj\\u0105cych- pod\\u0142\\u0105czenie do centrali i konfiguracj\\u0119 p\\u0119tli dozorowych- pod\\u0142\\u0105czenie do centrali istniej\\u0105cego systemu DSO- pod\\u0142\\u0105czenie kurtyn po\\u017carowych - pod\\u0142\\u0105czenie klap po\\u017carowych -pod\\u0142\\u0105czenie do centrali \\u015bwiate\\u0142 ostrzegawczych umiejscowionych w toaletach - pod\\u0142\\u0105czenie do cent\",\"sid\":\"info:118345\",\"awarded_value\":\"174660.00\",\"awarded_currency\":\"PLN\",\"awarded_value_eur\":\"38112.90\",\"purchaser\":{\"id\":\"32276\",\"sid\":null,\"name\":null},\"type\":{\"id\":\"art-275-pkt-1-ustawy\",\"name\":\"art. 275 pkt 1 ustawy\",\"slug\":\"art-275-pkt-1-ustawy\"},\"awarded\":[{\"date\":\"2021-08-27\",\"value_for_two\":0,\"value_for_two_eur\":0,\"suppliers\":[{\"name\":\"Amipo\\u017c 2 Sp. z o.o.\",\"id\":23064,\"slug\":\"amipoz-2-sp-z-o-o\"}],\"value_min\":\"174660.00\",\"value_for_three\":0,\"value_for_one_eur\":0,\"count\":\"1\",\"value_for_one\":0,\"offers_declined\":[1],\"value_for_three_eur\":0,\"suppliers_id\":\"23064\",\"value_eur\":38112.9,\"value_max\":\"374124.77\",\"offers_count\":[5],\"suppliers_name\":\"Amipo\\u017c 2 Sp. z o.o.\",\"value\":\"174660.00\",\"value_estimated\":null,\"offers_count_data\":{\"5\":{\"value_eur\":38112.9,\"count\":\"1\",\"value\":\"174660.00\"}}}]},{\"id\":\"564165\",\"date\":\"2021-08-04\",\"deadline_date\":\"2021-08-20\",\"deadline_length_days\":\"16\",\"deadline_length_hours\":\"387\",\"title\":\"Wykonanie pokrycia dachu z dach\\u00f3wki ceramicznej karpi\\u00f3wki budynku mieszkalnego usytuowanego przy ul. Stylowej 14 w Warszawie.\",\"category\":\"constructions\",\"description\":\"Kr\\u00f3tki opis przedmiotu zam\\u00f3wienia: Przedmiotem zam\\u00f3wienia jest wykonanie rob\\u00f3t budowlanych polegaj\\u0105cych na: - Wykonanie ocieplenia stropu warstw\\u0105 we\\u0142ny o grubo\\u015bci 25 cm o wsp\\u00f3\\u0142czynniku Lambda 0,036 W\\/mK pod nieogrzewanym poddaszem,- Rozebranie pokrycia z dach\\u00f3wki ceramicznej i blachy trapezowej,- Wymiana wszelkich obr\\u00f3bek blacharskich,- Wymiana zgni\\u0142ego pokrycia z desek,- Rozstawienie rusztowa\\u0144 wraz z zabezpieczeniem,- Wykonanie przed\\u0142u\\u017cenia dachu zgodnie z za\\u0142\\u0105czonym rysunkiem pogl\\u0105dowym,- Wyko\",\"sid\":\"info:118276\",\"awarded_value\":\"337997.04\",\"awarded_currency\":\"PLN\",\"awarded_value_eur\":\"73755.00\",\"purchaser\":{\"id\":\"20597\",\"sid\":null,\"name\":null},\"type\":{\"id\":\"art-275-pkt-1-ustawy\",\"name\":\"art. 275 pkt 1 ustawy\",\"slug\":\"art-275-pkt-1-ustawy\"},\"awarded\":[{\"date\":\"2021-08-27\",\"value_for_two\":337997.04,\"value_for_two_eur\":73755,\"suppliers\":[{\"name\":\"Dach Expert Ewa Ladosz\",\"id\":17328,\"slug\":\"dach-expert-ewa-ladosz\"}],\"value_min\":\"337997.04\",\"value_for_three\":337997.04,\"offers_count_status\":\"only_one\",\"value_for_one_eur\":73755,\"count\":\"1\",\"value_for_one\":337997.04,\"value_for_three_eur\":73755,\"suppliers_id\":\"17328\",\"value_eur\":73755,\"value_max\":\"337997.04\",\"offers_count\":[1],\"suppliers_name\":\"Dach Expert Ewa Ladosz\",\"value\":\"337997.04\",\"value_estimated\":null,\"offers_count_data\":{\"1\":{\"value_eur\":73755,\"count\":\"1\",\"value\":\"337997.04\"}}}]},{\"id\":\"564136\",\"date\":\"2021-08-03\",\"deadline_date\":\"2021-08-11\",\"deadline_length_days\":\"8\",\"deadline_length_hours\":\"194\",\"title\":\"Us\\u0142ugi restauracyjne na rzecz dzieci ucz\\u0119szczaj\\u0105cychdo Przedszkola nr 104 \\u201eNa Misiowej Polanie\\u201d we Wroc\\u0142awiu\",\"category\":\"services\",\"description\":\"Przedmiotem zam\\u00f3wienia s\\u0105: Us\\u0142ugi restauracyjne na rzecz dzieci ucz\\u0119szczaj\\u0105cych do Przedszkola nr 104 \\u201eNa Misiowej Polanie\\u201d we Wroc\\u0142awiu.Przez wykonanie niniejszej us\\u0142ugi rozumie si\\u0119 realizacj\\u0119 przedmiotu zam\\u00f3wienia zgodnie z zakresem okre\\u015blonym w \\u00a7 1 i 2 za\\u0142\\u0105czonej umowy, gdzie jest wymagane \\u015bwiadczenie us\\u0142ug na rzecz Zamawiaj\\u0105cego w zakresie: przygotowania, dostawy i dystrybucji posi\\u0142k\\u00f3w zgodnie z zasadami racjonalnego \\u017cywienia dzieci przedszkolnych w wieku od 2,5 do 7 lat (\\u015bniadanie, obiad, p\",\"sid\":\"info:118212\",\"awarded_value\":\"962800.00\",\"awarded_currency\":\"PLN\",\"awarded_value_eur\":\"210094.49\",\"purchaser\":{\"id\":\"32263\",\"sid\":null,\"name\":null},\"type\":{\"id\":\"art-275-pkt-1-ustawy\",\"name\":\"art. 275 pkt 1 ustawy\",\"slug\":\"art-275-pkt-1-ustawy\"},\"awarded\":[{\"date\":\"2021-08-27\",\"value_for_two\":962800,\"value_for_two_eur\":210094.49,\"suppliers\":[{\"name\":\"2. RETTMAN Sp\\u00f3\\u0142ka z ograniczon\\u0105 odpowiedzialno\\u015bci\\u0105 Sp. K .\",\"id\":23040,\"slug\":\"2-rettman-spolka-z-ograniczona-odpowiedzialnoscia-sp-k\"}],\"value_min\":\"962800.00\",\"value_for_three\":962800,\"offers_count_status\":\"only_one\",\"value_for_one_eur\":210094.49,\"count\":\"1\",\"value_for_one\":962800,\"value_for_three_eur\":210094.49,\"suppliers_id\":\"23040\",\"value_eur\":210094.49,\"value_max\":\"962800.00\",\"offers_count\":[1],\"suppliers_name\":\"2. RETTMAN Sp\\u00f3\\u0142ka z ograniczon\\u0105 odpowiedzialno\\u015bci\\u0105 Sp. K .\",\"value\":\"962800.00\",\"value_estimated\":null,\"offers_count_data\":{\"1\":{\"value_eur\":210094.49,\"count\":\"1\",\"value\":\"962800.00\"}}}]},{\"id\":\"564131\",\"date\":\"2021-07-22\",\"deadline_date\":\"2021-07-30\",\"deadline_length_days\":\"7\",\"deadline_length_hours\":\"185\",\"title\":\"Opracowanie dokumentacji projektowej wraz z uzyskaniem niezb\\u0119dnych decyzji administracyjnych dla: Budowa sieci kanalizacji sanitarnej wraz z przy\\u0142\\u0105czami w 2 so\\u0142ectwach w Gminie Brzeszcze\",\"category\":\"services\",\"description\":\"Przedmiotem zam\\u00f3wienia jest opracowanie dokumentacji projektowej wraz z uzyskaniem niezb\\u0119dnych decyzji administracyjnych dla zadania: Budowa sieci kanalizacji sanitarnej wraz z przy\\u0142\\u0105czami (od sieci do granicy nieruchomo\\u015bci) w so\\u0142ectwach Przecieszyn (ul. Graniczna-Wyzwolenia) oraz Jawiszowice (ul. Tulipan\\u00f3w-Boczna) w Gminie Brzeszcze.Przedmiotem zam\\u00f3wienia jest opracowanie i przekazanie Zamawiaj\\u0105cemu projektu (dokumentacji projektowej obejmuj\\u0105cej projekt budowlany i wykonawczy) wraz z uzyskaniem\",\"sid\":\"info:118200\",\"awarded_value\":\"442800.00\",\"awarded_currency\":\"PLN\",\"awarded_value_eur\":\"96624.26\",\"purchaser\":{\"id\":\"24948\",\"sid\":null,\"name\":null},\"type\":{\"id\":\"art-275-pkt-1-ustawy\",\"name\":\"art. 275 pkt 1 ustawy\",\"slug\":\"art-275-pkt-1-ustawy\"},\"awarded\":[{\"date\":\"2021-08-27\",\"value_for_two\":442800,\"value_for_two_eur\":96624.26,\"suppliers\":[{\"name\":\"AS-GOR s.c. Anna Konieczny, \\u0141ukasz Gorczowski\",\"id\":23037,\"slug\":\"as-gor-s-c-anna-konieczny-lukasz-gorczowski\"},{\"name\":\"AS-GOR s.c. Anna Konieczny, AS-GOR s.c. \\u0141ukasz Gorczowski\",\"id\":23038,\"slug\":\"as-gor-s-c-anna-konieczny-as-gor-s-c-lukasz-gorczowski\"}],\"value_min\":\"442800.00\",\"value_for_three\":442800,\"offers_count_status\":\"only_one\",\"value_for_one_eur\":96624.26,\"count\":\"1\",\"value_for_one\":442800,\"value_for_three_eur\":96624.26,\"suppliers_id\":\"23037,23038\",\"value_eur\":96624.26,\"value_max\":\"442800.00\",\"offers_count\":[1],\"suppliers_name\":\"AS-GOR s.c. Anna Konieczny, \\u0141ukasz Gorczowski AS-GOR s.c. Anna Konieczny, AS-GOR s.c. \\u0141ukasz Gorczowski\",\"value\":\"442800.00\",\"value_estimated\":null,\"offers_count_data\":{\"1\":{\"value_eur\":96624.26,\"count\":\"1\",\"value\":\"442800.00\"}}}]},{\"id\":\"564108\",\"date\":\"2021-07-21\",\"deadline_date\":\"2021-07-29\",\"deadline_length_days\":\"7\",\"deadline_length_hours\":\"191\",\"title\":\"Dostawa nowego samochodu ratowniczo-ga\\u015bniczego typu \\u015bredniego z nap\\u0119dem 4x4 dla Ochotniczej Stra\\u017cy Po\\u017carnej w Zimnej Brze\\u017anicy\",\"category\":\"supplies\",\"description\":\"8.2 Przedmiotem zam\\u00f3wienia jest Dostawa nowego samochodu ratowniczo-ga\\u015bniczego typu\\u015bredniego z nap\\u0119dem 4x4 dla Ochotniczej Stra\\u017cy Po\\u017carnej Zimna Brze\\u017anica. 8.3 Szczeg\\u00f3\\u0142owyopis przedmiotu zam\\u00f3wienia zawiera za\\u0142\\u0105cznik nr 3 do SWZ.\",\"sid\":\"info:118154\",\"awarded_value\":\"847470.00\",\"awarded_currency\":\"PLN\",\"awarded_value_eur\":\"184928.10\",\"purchaser\":{\"id\":\"32046\",\"sid\":null,\"name\":null},\"type\":{\"id\":\"art-275-pkt-1-ustawy\",\"name\":\"art. 275 pkt 1 ustawy\",\"slug\":\"art-275-pkt-1-ustawy\"},\"awarded\":[{\"date\":\"2021-08-27\",\"value_for_two\":847470,\"value_for_two_eur\":184928.1,\"suppliers\":[{\"name\":\"Wawrzaszek ISS Sp\\u00f3\\u0142ka z ograniczon\\u0105 odpowiedzialno\\u015bci\\u0105 Sp\\u00f3\\u0142ka komandytowa, 43-300 Bielsko-Bia\\u0142a\",\"id\":23026,\"slug\":\"wawrzaszek-iss-spolka-z-ograniczona-odpowiedzialnoscia-spolka-komandytowa-43-300-bielsko-biala\"}],\"value_min\":\"847470.00\",\"value_for_three\":847470,\"offers_count_status\":\"only_one\",\"value_for_one_eur\":184928.1,\"count\":\"1\",\"value_for_one\":847470,\"value_for_three_eur\":184928.1,\"suppliers_id\":\"23026\",\"value_eur\":184928.1,\"value_max\":\"847470.00\",\"offers_count\":[1],\"suppliers_name\":\"Wawrzaszek ISS Sp\\u00f3\\u0142ka z ograniczon\\u0105 odpowiedzialno\\u015bci\\u0105 Sp\\u00f3\\u0142ka komandytowa, 43-300 Bielsko-Bia\\u0142a\",\"value\":\"847470.00\",\"value_estimated\":null,\"offers_count_data\":{\"1\":{\"value_eur\":184928.1,\"count\":\"1\",\"value\":\"847470.00\"}}}]},{\"id\":\"564083\",\"date\":\"2021-07-23\",\"deadline_date\":\"2021-08-09\",\"deadline_length_days\":\"16\",\"deadline_length_hours\":\"407\",\"title\":\"Termomodernizacja budynku mieszkalnego przy ul. Micha\\u0142a Drzyma\\u0142y 10 w Policach wraz z robotami towarzysz\\u0105cymi, administrowanego przez Zak\\u0142ad Gospodarki Komunalnej i Mieszkaniowej w Policach\",\"category\":\"constructions\",\"description\":\"1. Przedmiotem zam\\u00f3wienia jest zadanie pn. Termomodernizacja budynku mieszkalnego przy ul. Micha\\u0142a Drzyma\\u0142y 10 w Policach wraz z robotami towarzysz\\u0105cymi, administrowanego przez Zak\\u0142ad Gospodarki Komunalnej i Mieszkaniowej w Policach.2. Szczeg\\u00f3\\u0142owy opis przedmiotu zam\\u00f3wienia oraz zakres prac \\u2013 zgodnie z dokumentacj\\u0105 projektow\\u0105, stanowi\\u0105c\\u0105 za\\u0142\\u0105cznik 13 do swz, ze specyfikacj\\u0105 techniczn\\u0105 wykonania i odbioru rob\\u00f3t budowlanych, stanowi\\u0105c\\u0105 za\\u0142\\u0105cznik nr 5 do swz, oraz pomocniczo z przedmiarami rob\\u00f3t, s\",\"sid\":\"info:118101\",\"awarded_value\":\"197700.00\",\"awarded_currency\":\"PLN\",\"awarded_value_eur\":\"43140.51\",\"purchaser\":{\"id\":\"32253\",\"sid\":null,\"name\":null},\"type\":{\"id\":\"art-275-pkt-1-ustawy\",\"name\":\"art. 275 pkt 1 ustawy\",\"slug\":\"art-275-pkt-1-ustawy\"},\"awarded\":[{\"date\":\"2021-08-27\",\"value_for_two\":197700,\"value_for_two_eur\":43140.51,\"suppliers\":[{\"name\":\"POL-BUD Wies\\u0142aw \\u0141okucjewski\",\"id\":23024,\"slug\":\"pol-bud-wieslaw-lokucjewski\"}],\"value_min\":\"197700.00\",\"value_for_three\":197700,\"offers_count_status\":\"only_one\",\"value_for_one_eur\":43140.51,\"count\":\"1\",\"value_for_one\":197700,\"value_for_three_eur\":43140.51,\"suppliers_id\":\"23024\",\"value_eur\":43140.51,\"value_max\":\"197700.00\",\"offers_count\":[1],\"suppliers_name\":\"POL-BUD Wies\\u0142aw \\u0141okucjewski\",\"value\":\"197700.00\",\"value_estimated\":null,\"offers_count_data\":{\"1\":{\"value_eur\":43140.51,\"count\":\"1\",\"value\":\"197700.00\"}}}]},{\"id\":\"563882\",\"date\":\"2021-07-16\",\"deadline_date\":\"2021-07-27\",\"deadline_length_days\":\"11\",\"deadline_length_hours\":\"268\",\"title\":\"Systematyczne dostawy do PAP S.A. prasy krajowej w wersji papierowej\",\"category\":\"supplies\",\"description\":\"Przedmiotem zam\\u00f3wienia s\\u0105 systematyczne dostawy do PAP S.A., ul. Bracka 6\\/8, Warszawa prasy krajowej w wersji papierowej.\",\"sid\":\"info:117736\",\"awarded_value\":\"54296.93\",\"awarded_currency\":\"PLN\",\"awarded_value_eur\":\"11848.24\",\"purchaser\":{\"id\":\"23835\",\"sid\":null,\"name\":null},\"type\":{\"id\":\"art-275-pkt-1-ustawy\",\"name\":\"art. 275 pkt 1 ustawy\",\"slug\":\"art-275-pkt-1-ustawy\"},\"awarded\":[{\"date\":\"2021-08-27\",\"value_for_two\":0,\"value_for_two_eur\":0,\"suppliers\":[{\"name\":\"G.L.M. Sp. z o.o.,\",\"id\":3899,\"slug\":\"g-l-m-sp-z-o-o\"}],\"value_min\":\"54296.93\",\"value_for_three\":54296.93,\"value_for_one_eur\":0,\"count\":\"1\",\"value_for_one\":0,\"value_for_three_eur\":11848.24,\"suppliers_id\":\"3899\",\"value_eur\":11848.24,\"value_max\":\"62516.98\",\"offers_count\":[3],\"suppliers_name\":\"G.L.M. Sp. z o.o.,\",\"value\":\"54296.93\",\"value_estimated\":null,\"offers_count_data\":{\"3\":{\"value_eur\":11848.24,\"count\":\"1\",\"value\":\"54296.93\"}}}]},{\"id\":\"561260\",\"date\":\"2021-08-03\",\"deadline_date\":\"2021-08-13\",\"deadline_length_days\":\"9\",\"deadline_length_hours\":\"232\",\"title\":\"Wykonywanie us\\u0142ug przewoz\\u00f3w regularnych specjalnych dla uczni\\u00f3w plac\\u00f3wek o\\u015bwiatowych dzia\\u0142aj\\u0105cych na terenie Gminy Chodzie\\u017c w okresach nauki szkolnej 2021-2023.\",\"category\":\"services\",\"description\":\"Przedmiotem zam\\u00f3wienia jest \\u015bwiadczenie us\\u0142ugi regularnych przewoz\\u00f3w uczni\\u00f3w do plac\\u00f3wek o\\u015bwiatowych prowadzonych przez Gmin\\u0119 Chodzie\\u017c autobusami na podstawie bilet\\u00f3w miesi\\u0119cznych w roku szkolnym 2021\\/2022 oraz 2022\\/2023.Przew\\u00f3z uczni\\u00f3w b\\u0119dzie odbywa\\u0142 si\\u0119 od poniedzia\\u0142ku do pi\\u0105tku ka\\u017cdego tygodnia, w dni nauki szkolnej, zgodnie z rozporz\\u0105dzeniem Ministra Edukacji Narodowej z dnia 11 sierpnia 2017 roku w sprawie organizacji roku szkolnego (Dz. U. poz. 1603 z p\\u00f3\\u017aniejszymi zmianami).Przewozy b\\u0119d\\u0105 r\",\"sid\":\"info:112766\",\"awarded_value\":\"728160.00\",\"awarded_currency\":\"PLN\",\"awarded_value_eur\":\"158893.23\",\"purchaser\":{\"id\":\"30367\",\"sid\":null,\"name\":null},\"type\":{\"id\":\"art-275-pkt-2-ustawy\",\"name\":\"art. 275 pkt 2 ustawy\",\"slug\":\"art-275-pkt-2-ustawy\"},\"awarded\":[{\"date\":\"2021-08-27\",\"value_for_two\":728160,\"value_for_two_eur\":158893.23,\"suppliers\":[{\"name\":\"PKS Sp\\u00f3\\u0142ka z o.o. w Pile\",\"id\":22956,\"slug\":\"pks-spolka-z-o-o-w-pile\"}],\"value_min\":\"728160.00\",\"value_for_three\":728160,\"offers_count_status\":\"only_one\",\"value_for_one_eur\":158893.23,\"count\":\"1\",\"value_for_one\":728160,\"value_for_three_eur\":158893.23,\"suppliers_id\":\"22956\",\"value_eur\":158893.23,\"value_max\":\"728160.00\",\"offers_count\":[1],\"suppliers_name\":\"PKS Sp\\u00f3\\u0142ka z o.o. w Pile\",\"value\":\"728160.00\",\"value_estimated\":null,\"offers_count_data\":{\"1\":{\"value_eur\":158893.23,\"count\":\"1\",\"value\":\"728160.00\"}}}]},{\"id\":\"564304\",\"date\":\"2021-06-29\",\"deadline_date\":\"2021-07-15\",\"deadline_length_days\":\"15\",\"deadline_length_hours\":\"378\",\"title\":\"Budowa boiska wielofunkcyjnego, bie\\u017cni prostej zako\\u0144czonej skoczni\\u0105 do skoku w dal przy Zespole Szkolno - Przedszkolnym w \\u0141uszczowie\",\"category\":\"constructions\",\"description\":\"1. Przedmiotem zam\\u00f3wienia jest budowa boiska wielofunkcyjnego, bie\\u017cni prostej zako\\u0144czonej skoczni\\u0105 do skoku w dal przy Zespole Szkolno - Przedszkolnym w \\u0141uszczowie obejmuj\\u0105cej boisko wielofunkcyjne, bie\\u017cni\\u0119 i rozbie\\u017cni\\u0119 do skoku w dal, zeskoczni\\u0119 do skoku w dal, pi\\u0142kochwyty, ogrodzenie. Poni\\u017cej wymienione s\\u0105 g\\u0142\\u00f3wne cechy przedmiotu zam\\u00f3wienia i przybli\\u017cone ilo\\u015bci:2. Zakres zam\\u00f3wienia obejmuje:2.1. Boisko wielofunkcyjne o nawierzchni z trawy syntetycznej o wymiarach 33,8m x 62,9m, na kt\\u00f3rym linia\",\"sid\":\"info:118531\",\"awarded_value\":\"925880.06\",\"awarded_currency\":\"PLN\",\"awarded_value_eur\":\"202249.95\",\"purchaser\":{\"id\":\"3059\",\"sid\":null,\"name\":null},\"type\":{\"id\":\"art-275-pkt-1-ustawy\",\"name\":\"art. 275 pkt 1 ustawy\",\"slug\":\"art-275-pkt-1-ustawy\"},\"awarded\":[{\"date\":\"2021-08-26\",\"value_for_two\":0,\"value_for_two_eur\":0,\"suppliers\":[{\"name\":\"EVERSPORT Sp. z o.o.\",\"id\":23145,\"slug\":\"eversport-sp-z-o-o\"}],\"value_min\":\"925880.06\",\"value_for_three\":0,\"value_for_one_eur\":0,\"count\":\"1\",\"value_for_one\":0,\"value_for_three_eur\":0,\"suppliers_id\":\"23145\",\"value_eur\":202249.95,\"value_max\":\"1474770.00\",\"offers_count\":[5],\"suppliers_name\":\"EVERSPORT Sp. z o.o.\",\"value\":\"925880.06\",\"value_estimated\":null,\"offers_count_data\":{\"5\":{\"value_eur\":202249.95,\"count\":\"1\",\"value\":\"925880.06\"}}}]},{\"id\":\"564299\",\"date\":\"2021-07-01\",\"deadline_date\":\"2021-07-19\",\"deadline_length_days\":\"18\",\"deadline_length_hours\":\"435\",\"title\":\"Budowa o\\u015bwietlenia ulicznego na terenie Gminy Zarszyn\",\"category\":\"constructions\",\"description\":\"a. Budowa o\\u015bwietlenia ulicznego w miejscowo\\u015bci Pielnia ul. Miko\\u0142aja Ska\\u0142ki- kabel ziemny YAKXS4x35 \\u2013 907 m- monta\\u017c s\\u0142up\\u00f3w o\\u015bwietleniowych o wys. 6 m \\u2013 18 szt.- monta\\u017c wysi\\u0119gnik\\u00f3w rurowych \\u2013 18 szt.- monta\\u017c opraw o\\u015bwietlenia \\u2013 19 szt.b. Budowa cz\\u0119\\u015bci o\\u015bwietlenia na ul. Uroczej w Pielni - kabel ziemny YAKXS4x35 \\u2013153 m- monta\\u017c s\\u0142up\\u00f3w o\\u015bwietleniowych o wys. 6 m \\u2013 3 szt. (s\\u0142up Nr 11, 12, 13)- monta\\u017c wysi\\u0119gnik\\u00f3w rurowych \\u2013 3 szt.- monta\\u017c opraw o\\u015bwietlenia \\u2013 3 szt.- szafa o\\u015bwietleniowa \\u2013 1 kpl.\",\"sid\":\"info:118524\",\"awarded_value\":\"591042.77\",\"awarded_currency\":\"PLN\",\"awarded_value_eur\":\"129107.84\",\"purchaser\":{\"id\":\"30652\",\"sid\":null,\"name\":null},\"type\":{\"id\":\"art-275-pkt-1-ustawy\",\"name\":\"art. 275 pkt 1 ustawy\",\"slug\":\"art-275-pkt-1-ustawy\"},\"awarded\":[{\"date\":\"2021-08-26\",\"value_for_two\":0,\"value_for_two_eur\":0,\"suppliers\":[{\"name\":\"EL-KROS Us\\u0142ugi Elektryczne Wies\\u0142aw Jachyra, ul. \\u015al\\u0105czka 9A, 38-400 Krosno\",\"id\":23085,\"slug\":\"el-kros-uslugi-elektryczne-wieslaw-jachyra-ul-slaczka-9a-38-400-krosno\"}],\"value_min\":\"112183.60\",\"value_for_three\":0,\"value_for_one_eur\":0,\"count\":\"1\",\"value_for_one\":0,\"value_for_three_eur\":0,\"suppliers_id\":\"23085\",\"value_eur\":24505.47,\"value_max\":\"215043.53\",\"offers_count\":[7],\"suppliers_name\":\"EL-KROS Us\\u0142ugi Elektryczne Wies\\u0142aw Jachyra, ul. \\u015al\\u0105czka 9A, 38-400 Krosno\",\"value\":\"112183.60\",\"value_estimated\":\"108253.87\",\"offers_count_data\":{\"7\":{\"value_eur\":24505.47,\"count\":\"1\",\"value\":\"112183.60\"}}},{\"date\":\"2021-08-26\",\"value_for_two\":0,\"value_for_two_eur\":0,\"suppliers\":[{\"name\":\"EL-KROS Us\\u0142ugi Elektryczne Wies\\u0142aw Jachyra\",\"id\":23086,\"slug\":\"el-kros-uslugi-elektryczne-wieslaw-jachyra\"}],\"value_min\":\"478859.17\",\"value_for_three\":0,\"value_for_one_eur\":0,\"count\":\"2\",\"value_for_one\":0,\"value_for_three_eur\":0,\"suppliers_id\":\"23086\",\"value_eur\":104602.37,\"value_max\":\"1076467.10\",\"offers_count\":[7,8],\"suppliers_name\":\"EL-KROS Us\\u0142ugi Elektryczne Wies\\u0142aw Jachyra\",\"value\":\"478859.17\",\"value_estimated\":\"524659.30\",\"offers_count_data\":{\"7\":{\"value_eur\":59691.93,\"count\":\"1\",\"value\":\"273263.68\"},\"8\":{\"value_eur\":44910.44,\"count\":\"1\",\"value\":\"205595.49\"}}}]},{\"id\":\"564196\",\"date\":\"2021-07-09\",\"deadline_date\":\"2021-07-19\",\"deadline_length_days\":\"9\",\"deadline_length_hours\":\"239\",\"title\":\"Wykonanie us\\u0142ugi polegaj\\u0105cej na wsparciu modernizacji oprogramowania Centrum Infrastruktury Badawczej Indukowanej Sejsmiczno\\u015bci (CIBIS)\",\"category\":\"services\",\"description\":\"Przedmiotem zam\\u00f3wienia jest wykonanie przez Wykonawc\\u0119 na rzecz Zamawiaj\\u0105cego us\\u0142ug programistycznych w wymiarze 640 roboczogodzin polegaj\\u0105cych na wsparciu modernizacji oprogramowania Centrum Infrastruktury Badawczej Indukowanej Sejsmiczno\\u015bci (CIBIS) dla Centr\\u00f3w Infrastruktury Badawczej \\u2013 Indukowanej Sejsmiczno\\u015bci (CIBIS), Analitycznych Laboratori\\u00f3w (CIBAL), Sejsmicznych Bada\\u0144 Litosfery (CIBSBL) oraz Obserwacji Geomagnetycznych i Magnetotellurycznych (CIBOGM).Zakres realizowanych prac w ramach us\",\"sid\":\"info:118330\",\"awarded_value\":\"159014.40\",\"awarded_currency\":\"PLN\",\"awarded_value_eur\":\"34735.23\",\"purchaser\":{\"id\":\"23416\",\"sid\":null,\"name\":null},\"type\":{\"id\":\"art-275-pkt-1-ustawy\",\"name\":\"art. 275 pkt 1 ustawy\",\"slug\":\"art-275-pkt-1-ustawy\"},\"awarded\":[{\"date\":\"2021-08-26\",\"value_for_two\":159014.4,\"value_for_two_eur\":34735.23,\"suppliers\":[{\"name\":\"Infomex Sp. z o.o.\",\"id\":23062,\"slug\":\"infomex-sp-z-o-o\"}],\"value_min\":\"159014.40\",\"value_for_three\":159014.4,\"offers_count_status\":\"only_one\",\"value_for_one_eur\":34735.23,\"count\":\"1\",\"value_for_one\":159014.4,\"value_for_three_eur\":34735.23,\"suppliers_id\":\"23062\",\"value_eur\":34735.23,\"value_max\":\"159014.40\",\"offers_count\":[1],\"suppliers_name\":\"Infomex Sp. z o.o.\",\"value\":\"159014.40\",\"value_estimated\":null,\"offers_count_data\":{\"1\":{\"value_eur\":34735.23,\"count\":\"1\",\"value\":\"159014.40\"}}}]},{\"id\":\"564179\",\"date\":\"2021-07-01\",\"deadline_date\":\"2021-07-16\",\"deadline_length_days\":\"14\",\"deadline_length_hours\":\"357\",\"title\":\"\\u201ePrzebudowa wiaduktu w ci\\u0105gu drogi powiatowej nr 5055S w km 1+745 w miejscowo\\u015bci Bluszcz\\u00f3w\\u201d\",\"category\":\"constructions\",\"description\":\"Przedmiotem zam\\u00f3wienia jest wykonanie przebudowy wiaduktu w ci\\u0105gu drogi powiatowej nr 5055S w km 1+745 w miejscowo\\u015bci Bluszcz\\u00f3w.Wiadukt znajduje si\\u0119 nad przeszkod\\u0105, kt\\u00f3r\\u0105 stanowi linia kolejowa.Zakres inwestycji obejmuje rozbi\\u00f3rk\\u0119 istniej\\u0105cego wiaduktu i budow\\u0119 nowego z wykorzystaniem cz\\u0119\\u015bci podpory po stronie zachodniej. Zakres przebudowy obejmuje tak\\u017ce dojazdy do obiektu.\",\"sid\":\"info:118295\",\"awarded_value\":\"1523509.57\",\"awarded_currency\":\"PLN\",\"awarded_value_eur\":\"332796.60\",\"purchaser\":{\"id\":\"25624\",\"sid\":null,\"name\":null},\"type\":{\"id\":\"art-275-pkt-1-ustawy\",\"name\":\"art. 275 pkt 1 ustawy\",\"slug\":\"art-275-pkt-1-ustawy\"},\"awarded\":[{\"date\":\"2021-08-26\",\"value_for_two\":0,\"value_for_two_eur\":0,\"suppliers\":[{\"name\":\"Przedsi\\u0119biorstwo Remont\\u00f3w Ulic i Most\\u00f3w S.A.\",\"id\":20812,\"slug\":\"przedsiebiorstwo-remontow-ulic-i-mostow-s-a\"}],\"value_min\":\"1523509.57\",\"value_for_three\":0,\"value_for_one_eur\":0,\"count\":\"1\",\"value_for_one\":0,\"value_for_three_eur\":0,\"suppliers_id\":\"20812\",\"value_eur\":332796.6,\"value_max\":\"2255045.16\",\"offers_count\":[5],\"suppliers_name\":\"Przedsi\\u0119biorstwo Remont\\u00f3w Ulic i Most\\u00f3w S.A.\",\"value\":\"1523509.57\",\"value_estimated\":null,\"offers_count_data\":{\"5\":{\"value_eur\":332796.6,\"count\":\"1\",\"value\":\"1523509.57\"}}}]},{\"id\":\"564157\",\"date\":\"2021-08-04\",\"deadline_date\":\"2021-08-12\",\"deadline_length_days\":\"8\",\"deadline_length_hours\":\"194\",\"title\":\"Dow\\u00f3z i odw\\u00f3z uczni\\u00f3w do plac\\u00f3wek o\\u015bwiatowych na terenie Gminy Pionki oraz uczni\\u00f3w niepe\\u0142nosprawnych do plac\\u00f3wki o\\u015bwiatowej na terenie Gminy Miasta Pionki w roku szkolnym 2021\\/2022\",\"category\":\"services\",\"description\":\"Dow\\u00f3z i odw\\u00f3z uczni\\u00f3w do Publicznej Szko\\u0142y Podstawowej w CzarnejTrasa dowozu:Wincent\\u00f3w \\u2013 Marcel\\u00f3w - Czarna (szko\\u0142a) \\u2013 Helen\\u00f3w \\u2013 Czarna (szko\\u0142a) \\u2013 25 uczni\\u00f3w \\u2013 1 kursTrasa odwozu:Czarna (szko\\u0142a)-Helen\\u00f3w \\u2013 Marcel\\u00f3w \\u2013 Wincent\\u00f3w - 2 kursy 1 autobus\",\"sid\":\"info:118259\",\"awarded_value\":\"202511.65\",\"awarded_currency\":\"PLN\",\"awarded_value_eur\":\"44236.80\",\"purchaser\":{\"id\":\"32269\",\"sid\":null,\"name\":null},\"type\":{\"id\":\"art-275-pkt-1-ustawy\",\"name\":\"art. 275 pkt 1 ustawy\",\"slug\":\"art-275-pkt-1-ustawy\"},\"awarded\":[{\"date\":\"2021-08-26\",\"value_for_two\":0,\"value_for_two_eur\":0,\"suppliers\":[{\"name\":\"PHU Dominator Ma\\u0142gorzata Amanowicz\",\"id\":23053,\"slug\":\"phu-dominator-malgorzata-amanowicz\"}],\"value_min\":\"54529.20\",\"value_for_three\":54529.2,\"value_for_one_eur\":0,\"count\":\"1\",\"value_for_one\":0,\"value_for_three_eur\":11911.4,\"suppliers_id\":\"23053\",\"value_eur\":11911.4,\"value_max\":\"91630.00\",\"offers_count\":[3],\"suppliers_name\":\"PHU Dominator Ma\\u0142gorzata Amanowicz\",\"value\":\"54529.20\",\"value_estimated\":\"80436.56\",\"offers_count_data\":{\"3\":{\"value_eur\":11911.4,\"count\":\"1\",\"value\":\"54529.20\"}}},{\"date\":\"2021-08-26\",\"value_for_two\":0,\"value_for_two_eur\":0,\"suppliers\":[{\"name\":\"AMP Sp. z o.o.\",\"id\":515,\"slug\":\"amp-sp-z-o-o\"}],\"value_min\":\"147982.45\",\"value_for_three\":92177.91,\"value_for_one_eur\":0,\"count\":\"3\",\"value_for_one\":0,\"offers_declined\":[1],\"value_for_three_eur\":20135.41,\"suppliers_id\":\"515\",\"value_eur\":32325.4,\"value_max\":\"251141.00\",\"offers_count\":[3,4],\"suppliers_name\":\"AMP Sp. z o.o.\",\"value\":\"147982.45\",\"value_estimated\":\"136650.43\",\"offers_count_data\":{\"3\":{\"value_eur\":20135.41,\"count\":\"2\",\"value\":\"92177.91\"},\"4\":{\"value_eur\":12189.99,\"count\":\"1\",\"value\":\"55804.54\"}}}]},{\"id\":\"564148\",\"date\":\"2021-07-23\",\"deadline_date\":\"2021-08-10\",\"deadline_length_days\":\"17\",\"deadline_length_hours\":\"431\",\"title\":\"Remont drogi dz. ewid. nr 769\\/1 \\u201eDo le\\u015bnicz\\u00f3wki \\u201e w km 0 + 420 \\u2013 km 0 + 940 w miejscowosci Nowy Dzik\\u00f3w\",\"category\":\"constructions\",\"description\":\"1. Przedmiotem zam\\u00f3wienia jest w\\u0142a\\u015bciwe i zgodne z zasadami sztuki budowlanej kompleksowe wykonanie inwestycji pn.: Remont drogi dz. ewid. nr 769\\/1 \\u201eDo le\\u015bnicz\\u00f3wki \\u201e w km 0 + 420 \\u2013 km 0 + 940 w miejscowosci Nowy Dzik\\u00f3w 2. W zakres przedmiotu zam\\u00f3wienia wchodzi tak\\u017ce:1) budowa obiekt\\u00f3w oraz infrastruktury technicznej,2) osi\\u0105gni\\u0119cie efektu oraz parametr\\u00f3w techniczno-technologicznych nie gorszych ni\\u017c zdefiniowane w dokumentacji projektowej,3) uzyskanie wszelkich dokument\\u00f3w i spe\\u0142nienie wszelkich wy\",\"sid\":\"info:118241\",\"awarded_value\":\"213910.21\",\"awarded_currency\":\"PLN\",\"awarded_value_eur\":\"46726.71\",\"purchaser\":{\"id\":\"29938\",\"sid\":null,\"name\":null},\"type\":{\"id\":\"art-275-pkt-1-ustawy\",\"name\":\"art. 275 pkt 1 ustawy\",\"slug\":\"art-275-pkt-1-ustawy\"},\"awarded\":[{\"date\":\"2021-08-26\",\"value_for_two\":213910.21,\"value_for_two_eur\":46726.71,\"suppliers\":[{\"name\":\"Strabag Sp.z o.o.\",\"id\":1257,\"slug\":\"strabag-sp-z-o-o\"},{\"name\":\"PBI Infrastruktura\",\"id\":23052,\"slug\":\"pbi-infrastruktura\"}],\"value_min\":\"213910.21\",\"value_for_three\":213910.21,\"value_for_one_eur\":0,\"count\":\"1\",\"value_for_one\":0,\"value_for_three_eur\":46726.71,\"suppliers_id\":\"1257,23052\",\"value_eur\":46726.71,\"value_max\":\"288573.74\",\"offers_count\":[2],\"suppliers_name\":\"Strabag Sp.z o.o. PBI Infrastruktura\",\"value\":\"213910.21\",\"value_estimated\":null,\"offers_count_data\":{\"2\":{\"value_eur\":46726.71,\"count\":\"1\",\"value\":\"213910.21\"}}}]},{\"id\":\"564135\",\"date\":\"2021-07-28\",\"deadline_date\":\"2021-08-05\",\"deadline_length_days\":\"7\",\"deadline_length_hours\":\"188\",\"title\":\"Us\\u0142ugi restauracyjne na rzecz uczni\\u00f3w ucz\\u0119szczaj\\u0105cychdo Szko\\u0142y Podstawowej nr 118 we Wroc\\u0142awiu.\",\"category\":\"services\",\"description\":\"Us\\u0142ugi restauracyjne na rzecz uczni\\u00f3w ucz\\u0119szczaj\\u0105cych do Szko\\u0142y Podstawowej nr 118 we Wroc\\u0142awiu. Przez wykonanie niniejszej us\\u0142ugi rozumie si\\u0119 realizacj\\u0119 przedmiotu zam\\u00f3wienia zgodnie z zakresem okre\\u015blonym w \\u00a7 1 i 2 za\\u0142\\u0105czonej umowy, gdzie jest wymagane \\u015bwiadczenie us\\u0142ug na rzecz Zamawiaj\\u0105cego w zakresie: przygotowania, dostawy i dystrybucji posi\\u0142k\\u00f3w zgodnie z zasadami racjonalnego \\u017cywienia uczni\\u00f3w w wieku od 6 do 15 lat (tylko obiady, przewiduje si\\u0119 diety standardowe, eliminacyjne: bezmleczna i\",\"sid\":\"info:118210\",\"awarded_value\":\"1049070.00\",\"awarded_currency\":\"PLN\",\"awarded_value_eur\":\"229159.66\",\"purchaser\":{\"id\":\"32261\",\"sid\":null,\"name\":null},\"type\":{\"id\":\"art-275-pkt-1-ustawy\",\"name\":\"art. 275 pkt 1 ustawy\",\"slug\":\"art-275-pkt-1-ustawy\"},\"awarded\":[{\"date\":\"2021-08-26\",\"value_for_two\":1049070,\"value_for_two_eur\":229159.66,\"suppliers\":[{\"name\":\"KANZEON WROC\\u0141AWSKI CATERING Grzegorz Ci\\u0119\\u017ckal\",\"id\":16833,\"slug\":\"kanzeon-wroclawski-catering-grzegorz-ciezkal\"}],\"value_min\":\"1049070.00\",\"value_for_three\":1049070,\"value_for_one_eur\":0,\"count\":\"1\",\"value_for_one\":0,\"value_for_three_eur\":229159.66,\"suppliers_id\":\"16833\",\"value_eur\":229159.66,\"value_max\":\"1055241.00\",\"offers_count\":[2],\"suppliers_name\":\"KANZEON WROC\\u0141AWSKI CATERING Grzegorz Ci\\u0119\\u017ckal\",\"value\":\"1049070.00\",\"value_estimated\":null,\"offers_count_data\":{\"2\":{\"value_eur\":229159.66,\"count\":\"1\",\"value\":\"1049070.00\"}}}]},{\"id\":\"564100\",\"date\":\"2021-07-28\",\"deadline_date\":\"2021-08-10\",\"deadline_length_days\":\"12\",\"deadline_length_hours\":\"307\",\"title\":\"DOW\\u00d3Z UCZNI\\u00d3W DO SZK\\u00d3\\u0141 PODSTAWOWYCH z terenu Miasta i Gminy Czerwi\\u0144sk nad Wis\\u0142\\u0105 W ROKU SZKOLNYM 2021\\/2022\",\"category\":\"services\",\"description\":\"1. Przedmiotem zam\\u00f3wienia s\\u0105 us\\u0142ugi przewozu, polegaj\\u0105ce na przywozie i odwozie uczni\\u00f3w do i ze szk\\u00f3\\u0142 podstawowych, dla kt\\u00f3rych organem prowadz\\u0105cym jest Miasto i Gmina Czerwi\\u0144sk nad Wis\\u0142\\u0105 w dni nauki szkolnej w trybie stacjonarnym.\",\"sid\":\"info:118136\",\"awarded_value\":\"368879.94\",\"awarded_currency\":\"PLN\",\"awarded_value_eur\":\"80578.42\",\"purchaser\":{\"id\":\"32254\",\"sid\":null,\"name\":null},\"type\":{\"id\":\"art-275-pkt-1-ustawy\",\"name\":\"art. 275 pkt 1 ustawy\",\"slug\":\"art-275-pkt-1-ustawy\"},\"awarded\":[{\"date\":\"2021-08-26\",\"value_for_two\":0,\"value_for_two_eur\":0,\"suppliers\":[{\"name\":\"HM TRANS S.C. Hubert Kalman, Marcin Stasiak\",\"id\":23025,\"slug\":\"hm-trans-s-c-hubert-kalman-marcin-stasiak\"}],\"value_min\":\"368879.94\",\"value_for_three\":368879.94,\"value_for_one_eur\":0,\"count\":\"1\",\"value_for_one\":0,\"value_for_three_eur\":80578.42,\"suppliers_id\":\"23025\",\"value_eur\":80578.42,\"value_max\":\"499196.50\",\"offers_count\":[3],\"suppliers_name\":\"HM TRANS S.C. Hubert Kalman, Marcin Stasiak\",\"value\":\"368879.94\",\"value_estimated\":null,\"offers_count_data\":{\"3\":{\"value_eur\":80578.42,\"count\":\"1\",\"value\":\"368879.94\"}}}]},{\"id\":\"564081\",\"date\":\"2021-07-22\",\"deadline_date\":\"2021-08-09\",\"deadline_length_days\":\"17\",\"deadline_length_hours\":\"431\",\"title\":\"\\u201eModernizacja dach\\u00f3w na budynkach o\\u015bwiatowych Gminy Wolbrom w Go\\u0142aczewach i Zarzeczu oraz modernizacja budynku gminnego w Por\\u0119bie Dzier\\u017cnej\\u201d.\",\"category\":\"constructions\",\"description\":\"Przedmiotem zam\\u00f3wienia jest realizacja zadania pn. \\u201eModernizacja dach\\u00f3w na budynkach o\\u015bwiatowych Gminy Wolbrom w Go\\u0142aczewach i Zarzeczu oraz modernizacja budynku gminnego w Por\\u0119bie Dzier\\u017cnej\\u201d. Cz\\u0119\\u015b\\u0107 nr 1: Modernizacja pokrycia dachowego na budynku szko\\u0142y w Go\\u0142aczewach.\",\"sid\":\"info:118099\",\"awarded_value\":\"237321.96\",\"awarded_currency\":\"PLN\",\"awarded_value_eur\":\"51840.79\",\"purchaser\":{\"id\":\"834\",\"sid\":null,\"name\":null},\"type\":{\"id\":\"art-275-pkt-2-ustawy\",\"name\":\"art. 275 pkt 2 ustawy\",\"slug\":\"art-275-pkt-2-ustawy\"},\"indicators\":[\"low_value_awarded\"],\"awarded\":[{\"date\":\"2021-08-26\",\"value_for_two\":237321.96,\"value_for_two_eur\":51840.79,\"suppliers\":[{\"name\":\"Firma Budowlano-Us\\u0142ugowa \\u201eSeka-Bud\\u201d Serafin Micha\\u0142\",\"id\":23023,\"slug\":\"firma-budowlano-uslugowa-seka-bud-serafin-michal\"}],\"value_min\":\"237321.96\",\"value_for_three\":237321.96,\"offers_count_status\":\"only_one\",\"value_for_one_eur\":51840.79,\"count\":\"2\",\"value_for_one\":237321.96,\"value_for_three_eur\":51840.79,\"suppliers_id\":\"23023\",\"value_eur\":51840.79,\"value_max\":\"172797.51\",\"offers_count\":[1],\"suppliers_name\":\"Firma Budowlano-Us\\u0142ugowa \\u201eSeka-Bud\\u201d Serafin Micha\\u0142\",\"value\":\"237321.96\",\"value_estimated\":\"215947.90\",\"offers_count_data\":{\"1\":{\"value_eur\":51840.79,\"count\":\"2\",\"value\":\"237321.96\"}}}]},{\"id\":\"564034\",\"date\":\"2021-06-14\",\"deadline_date\":\"2021-06-22\",\"deadline_length_days\":\"7\",\"deadline_length_hours\":\"191\",\"title\":\"\\u02dcZakup nowego ci\\u0119\\u017ckiego samochodu ratowniczo-ga\\u015bniczego z nap\\u0119dem 4x4 dla Ochotniczej Stra\\u017cy Po\\u017carnej w Gniewkowie\",\"category\":\"supplies\",\"description\":\"\\u02dc1. Przedmiotem zam\\u00f3wienia jest: Zakup nowego ci\\u0119\\u017ckiego samochodu ratowniczo-ga\\u015bniczego z nap\\u0119dem 4x4 dla Ochotniczej Stra\\u017cy Po\\u017carnej w Gniewkowie. 2. Pojazd oraz podwozie fabrycznie nowe, rok produkcji podwozia min. 2021, silnik, podwozie i kabina tego samego producenta.3. Szczeg\\u00f3\\u0142owy opis przedmiotu zam\\u00f3wienia \\u2013 stanowi za\\u0142\\u0105cznik nr 3 do SWZ.\",\"sid\":\"info:118018\",\"awarded_value\":\"1088796.00\",\"awarded_currency\":\"PLN\",\"awarded_value_eur\":\"237837.44\",\"purchaser\":{\"id\":\"32248\",\"sid\":null,\"name\":null},\"type\":{\"id\":\"art-275-pkt-1-ustawy\",\"name\":\"art. 275 pkt 1 ustawy\",\"slug\":\"art-275-pkt-1-ustawy\"},\"awarded\":[{\"date\":\"2021-08-26\",\"value_for_two\":1088796,\"value_for_two_eur\":237837.44,\"suppliers\":[{\"name\":\"SZCZ\\u0118\\u015aNIAK Pojazdy Specjalne Sp. z o.o.\",\"id\":12978,\"slug\":\"szczesniak-pojazdy-specjalne-sp-z-o-o\"}],\"value_min\":\"1088796.00\",\"value_for_three\":1088796,\"offers_count_status\":\"only_one\",\"value_for_one_eur\":237837.44,\"count\":\"1\",\"value_for_one\":1088796,\"value_for_three_eur\":237837.44,\"suppliers_id\":\"12978\",\"value_eur\":237837.44,\"value_max\":\"1088796.00\",\"offers_count\":[1],\"suppliers_name\":\"SZCZ\\u0118\\u015aNIAK Pojazdy Specjalne Sp. z o.o.\",\"value\":\"1088796.00\",\"value_estimated\":null,\"offers_count_data\":{\"1\":{\"value_eur\":237837.44,\"count\":\"1\",\"value\":\"1088796.00\"}}}]},{\"id\":\"561428\",\"date\":\"2021-08-10\",\"deadline_date\":\"2021-08-18\",\"deadline_length_days\":\"7\",\"deadline_length_hours\":\"182\",\"title\":\"\\u015awiadczenie us\\u0142ug w zakresie sprz\\u0105tania w budynku szko\\u0142yZespo\\u0142u Szkolno-Przedszkolnego nr 22we Wroc\\u0142awiu\",\"category\":\"services\",\"description\":\"1. Przedmiotem zam\\u00f3wienia jest \\u015bwiadczenie us\\u0142ug w zakresie sprz\\u0105tania w\\u00a0okresie od 02.09.2021r. do 31.08.2022r., (z wy\\u0142\\u0105czeniem miesi\\u0105ca lipca) polegaj\\u0105ce na sprz\\u0105taniu i utrzymaniu czysto\\u015bci pomieszcze\\u0144 i ci\\u0105g\\u00f3w komunikacyjnych w budynku szko\\u0142y od poniedzia\\u0142ku do\\u00a0pi\\u0105tku od godz. 6.30 do 22.00. Szczeg\\u00f3\\u0142owy zakres obowi\\u0105zk\\u00f3w Wykonawcy w oparciu o za\\u0142. nr 8 - Zestawienie powierzchni do sprz\\u0105tania. Powierzchnia do sprz\\u0105tania pod\\u0142\\u00f3g w budynku wynosi 3\\u00a0114,30 m2\",\"sid\":\"info:113156\",\"awarded_value\":\"181500.00\",\"awarded_currency\":\"PLN\",\"awarded_value_eur\":\"39647.00\",\"purchaser\":{\"id\":\"20856\",\"sid\":null,\"name\":null},\"type\":{\"id\":\"art-275-pkt-1-ustawy\",\"name\":\"art. 275 pkt 1 ustawy\",\"slug\":\"art-275-pkt-1-ustawy\"},\"awarded\":[{\"date\":\"2021-08-26\",\"value_for_two\":181500,\"value_for_two_eur\":39647,\"suppliers\":[{\"name\":\"\\u201ePu Flora\\u201d Jacek Chojnacki\",\"id\":23042,\"slug\":\"pu-flora-jacek-chojnacki\"}],\"value_min\":\"181500.00\",\"value_for_three\":181500,\"value_for_one_eur\":0,\"count\":\"1\",\"value_for_one\":0,\"value_for_three_eur\":39647,\"suppliers_id\":\"23042\",\"value_eur\":39647,\"value_max\":\"185631.60\",\"offers_count\":[2],\"suppliers_name\":\"\\u201ePu Flora\\u201d Jacek Chojnacki\",\"value\":\"181500.00\",\"value_estimated\":null,\"offers_count_data\":{\"2\":{\"value_eur\":39647,\"count\":\"1\",\"value\":\"181500.00\"}}}]},{\"id\":\"564238\",\"date\":\"2021-06-21\",\"deadline_date\":\"2021-07-06\",\"deadline_length_days\":\"15\",\"deadline_length_hours\":\"363\",\"title\":\"Modernizacja dachu na budynku Szko\\u0142y Podstawowej w Sk\\u0119pem\",\"category\":\"constructions\",\"description\":\"1. Przedmiotem zam\\u00f3wienia jest Modernizacja dachu na budynku Szko\\u0142y Podstawowej w Sk\\u0119pem, zgodnie z dokumentacj\\u0105 projektow\\u0105\\/techniczn\\u0105 oraz specyfikacj\\u0105 techniczn\\u0105 wykonania i odbioru rob\\u00f3t.2. Szczeg\\u00f3\\u0142owy opis przedmiotu zam\\u00f3wienia zawiera dokumentacja projektowa\\/techniczna (w zakresie wskazanym w pkt 1), kt\\u00f3ra stanowi Za\\u0142\\u0105cznik nr 5 do SWZ oraz specyfikacja techniczna wykonania i odbioru rob\\u00f3t stanowi\\u0105ca Za\\u0142\\u0105cznik nr 6 do SWZ. Przedmiar rob\\u00f3t\\/ kosztorys nak\\u0142adczy stanowi\\u0105cy Za\\u0142\\u0105cznik nr 7 do SW\",\"sid\":\"info:118402\",\"awarded_value\":\"336515.70\",\"awarded_currency\":\"PLN\",\"awarded_value_eur\":\"73508.75\",\"purchaser\":{\"id\":\"32281\",\"sid\":null,\"name\":null},\"type\":{\"id\":\"art-275-pkt-1-ustawy\",\"name\":\"art. 275 pkt 1 ustawy\",\"slug\":\"art-275-pkt-1-ustawy\"},\"awarded\":[{\"date\":\"2021-08-25\",\"value_for_two\":336515.7,\"value_for_two_eur\":73508.75,\"suppliers\":[{\"name\":\"Us\\u0142ugi Transportowe Produkcja i Handel Przemys\\u0142aw Skowro\\u0144ski\",\"id\":23071,\"slug\":\"uslugi-transportowe-produkcja-i-handel-przemyslaw-skowronski\"}],\"value_min\":\"336515.70\",\"value_for_three\":336515.7,\"value_for_one_eur\":0,\"count\":\"1\",\"value_for_one\":0,\"value_for_three_eur\":73508.75,\"suppliers_id\":\"23071\",\"value_eur\":73508.75,\"value_max\":\"382530.00\",\"offers_count\":[2],\"suppliers_name\":\"Us\\u0142ugi Transportowe Produkcja i Handel Przemys\\u0142aw Skowro\\u0144ski\",\"value\":\"336515.70\",\"value_estimated\":null,\"offers_count_data\":{\"2\":{\"value_eur\":73508.75,\"count\":\"1\",\"value\":\"336515.70\"}}}]},{\"id\":\"564109\",\"date\":\"2021-07-13\",\"deadline_date\":\"2021-07-27\",\"deadline_length_days\":\"14\",\"deadline_length_hours\":\"337\",\"title\":\"Wykonanie podbudowy z gruntu rodzimego stabilizowanego spoiwem hydraulicznym: Droga nr 61 Nadle\\u015bnictwo Mi\\u0119dzyrzecz, Rm 2,5 MPa gr. Warstwy 30 cm\",\"category\":\"constructions\",\"description\":\"Przedmiotem zam\\u00f3wienia jest wykonanie rob\\u00f3t budowlanych polegaj\\u0105cych na Wykonanie podbudowy z gruntu rodzimego stabilizowanego spoiwem hydraulicznym: Droga nr 61 Nadle\\u015bnictwo Mi\\u0119dzyrzecz, Rm 2,5 MPa gr. Warstwy 30 cm.Projektowana budowa nie spowoduje zmiany w sposobie zagospodarowania terenu.\",\"sid\":\"info:118157\",\"awarded_value\":\"344404.00\",\"awarded_currency\":\"PLN\",\"awarded_value_eur\":\"75231.87\",\"purchaser\":{\"id\":\"3884\",\"sid\":null,\"name\":null},\"type\":{\"id\":\"art-275-pkt-1-ustawy\",\"name\":\"art. 275 pkt 1 ustawy\",\"slug\":\"art-275-pkt-1-ustawy\"},\"awarded\":[{\"date\":\"2021-08-25\",\"value_for_two\":344404,\"value_for_two_eur\":75231.87,\"suppliers\":[{\"name\":\"Grupa MCE Zapa\\u015bnik i Konsta\\u0144czak Sp\\u00f3\\u0142ka Jawna z siedzib\\u0105 w O\\u0142awie\",\"id\":23028,\"slug\":\"grupa-mce-zapasnik-i-konstanczak-spolka-jawna-z-siedziba-w-olawie\"}],\"value_min\":\"344404.00\",\"value_for_three\":344404,\"offers_count_status\":\"only_one\",\"value_for_one_eur\":75231.87,\"count\":\"1\",\"value_for_one\":344404,\"value_for_three_eur\":75231.87,\"suppliers_id\":\"23028\",\"value_eur\":75231.87,\"value_max\":\"344404.00\",\"offers_count\":[1],\"suppliers_name\":\"Grupa MCE Zapa\\u015bnik i Konsta\\u0144czak Sp\\u00f3\\u0142ka Jawna z siedzib\\u0105 w O\\u0142awie\",\"value\":\"344404.00\",\"value_estimated\":null,\"offers_count_data\":{\"1\":{\"value_eur\":75231.87,\"count\":\"1\",\"value\":\"344404.00\"}}}]},{\"id\":\"564063\",\"date\":\"2021-07-30\",\"deadline_date\":\"2021-08-09\",\"deadline_length_days\":\"9\",\"deadline_length_hours\":\"236\",\"title\":\"Przewozy dzieci z terenu gminy Ochotnica Dolna na zaj\\u0119cia szkolne wraz z zapewnieniem opieki nad nimi w trakcie przewoz\\u00f3w\",\"category\":\"services\",\"description\":\"Przedmiot zam\\u00f3wienia sk\\u0142ada si\\u0119 z 4 oddzielnych zada\\u0144, tj.:Zadanie Icz\\u0119\\u015b\\u0107 1) przewozy uczni\\u00f3w ucz\\u0119szczaj\\u0105cych do Szko\\u0142y Podstawowej im. Jana Paw\\u0142a II w Ochotnicy Dolnej;cz\\u0119\\u015b\\u0107 2) przewozy uczni\\u00f3w ucz\\u0119szczaj\\u0105cych do Szko\\u0142y Podstawowej im. ks. prof. J\\u00f3zefa Tischnera w Ochotnicy Dolnej - Skrodne;cz\\u0119\\u015b\\u0107 3) przewozy uczni\\u00f3w ucz\\u0119szczaj\\u0105cych do Szko\\u0142y Podstawowej im. Marii Konopnickiej w Ochotnicy G\\u00f3rnej;Zadanie II - przewozy uczni\\u00f3w ucz\\u0119szczaj\\u0105cych do Specjalnego O\\u015brodka Szkolno-Wychowawczego Nr 1 w Now\",\"sid\":\"info:118065\",\"awarded_value\":\"75050.00\",\"awarded_currency\":\"PLN\",\"awarded_value_eur\":\"16393.98\",\"purchaser\":{\"id\":\"19146\",\"sid\":null,\"name\":null},\"type\":{\"id\":\"art-275-pkt-1-ustawy\",\"name\":\"art. 275 pkt 1 ustawy\",\"slug\":\"art-275-pkt-1-ustawy\"},\"indicators\":[\"low_value_awarded\"],\"awarded\":[{\"date\":\"2021-08-25\",\"value_for_two\":75050,\"value_for_two_eur\":16393.98,\"suppliers\":[{\"name\":\"Us\\u0142ugi Przewozowe Jacek Syjud\",\"id\":23018,\"slug\":\"uslugi-przewozowe-jacek-syjud\"}],\"value_min\":\"75050.00\",\"value_for_three\":75050,\"value_for_one_eur\":0,\"count\":\"1\",\"value_for_one\":0,\"value_for_three_eur\":16393.98,\"suppliers_id\":\"23018\",\"value_eur\":16393.98,\"value_max\":\"82080.00\",\"offers_count\":[2],\"suppliers_name\":\"Us\\u0142ugi Przewozowe Jacek Syjud\",\"value\":\"75050.00\",\"value_estimated\":\"91200.00\",\"offers_count_data\":{\"2\":{\"value_eur\":16393.98,\"count\":\"1\",\"value\":\"75050.00\"}}}]},{\"id\":\"564058\",\"date\":\"2021-08-10\",\"deadline_date\":\"2021-08-18\",\"deadline_length_days\":\"7\",\"deadline_length_hours\":\"189\",\"title\":\"Dow\\u00f3z uczni\\u00f3w szk\\u00f3\\u0142 gminy Byt\\u00f3w do Kompleksu Basenowo-Rekreacyjnego \\u201eNimfa\\u201d w Bytowie oraz dow\\u00f3z uczni\\u00f3w z niepe\\u0142nosprawno\\u015bci\\u0105 do szk\\u00f3\\u0142 w gminie Byt\\u00f3w w roku szkolnym 2021\\/2022\",\"category\":\"services\",\"description\":\"Cz\\u0119\\u015b\\u0107 I zam\\u00f3wienia - dow\\u00f3z uczni\\u00f3w szk\\u00f3\\u0142 gminy Byt\\u00f3w do Kompleksu Basenowo-Rekreacyjnego \\u201eNimfa\\u201d w Bytowie w roku szkolnym 2021\\/2022.\\u0141\\u0105czna d\\u0142ugo\\u015b\\u0107 tras w miesi\\u0105cu wynosi oko\\u0142o 970 km. Wykonawca musi dysponowa\\u0107 tak\\u0105 ilo\\u015bci\\u0105 pojazd\\u00f3w, aby mo\\u017cna by\\u0142o przewie\\u017a\\u0107 na zaj\\u0119cia do trzech grup uczni\\u00f3w (z trzech szk\\u00f3\\u0142) w tym samym czasie.\",\"sid\":\"info:118053\",\"awarded_value\":\"104760.00\",\"awarded_currency\":\"PLN\",\"awarded_value_eur\":\"22883.86\",\"purchaser\":{\"id\":\"23788\",\"sid\":null,\"name\":null},\"type\":{\"id\":\"art-275-pkt-1-ustawy\",\"name\":\"art. 275 pkt 1 ustawy\",\"slug\":\"art-275-pkt-1-ustawy\"},\"indicators\":[\"low_value_awarded\"],\"awarded\":[{\"date\":\"2021-08-25\",\"value_for_two\":104760,\"value_for_two_eur\":22883.86,\"suppliers\":[{\"name\":\"Przedsi\\u0119biorstwo Komunikacji Samochodowej w Bytowie Sp\\u00f3\\u0142ka Akcyjna\",\"id\":23014,\"slug\":\"przedsiebiorstwo-komunikacji-samochodowej-w-bytowie-spolka-akcyjna\"}],\"value_min\":\"104760.00\",\"value_for_three\":104760,\"offers_count_status\":\"only_one\",\"value_for_one_eur\":22883.86,\"count\":\"1\",\"value_for_one\":104760,\"value_for_three_eur\":22883.86,\"suppliers_id\":\"23014\",\"value_eur\":22883.86,\"value_max\":\"104760.00\",\"offers_count\":[1],\"suppliers_name\":\"Przedsi\\u0119biorstwo Komunikacji Samochodowej w Bytowie Sp\\u00f3\\u0142ka Akcyjna\",\"value\":\"104760.00\",\"value_estimated\":\"103693.00\",\"offers_count_data\":{\"1\":{\"value_eur\":22883.86,\"count\":\"1\",\"value\":\"104760.00\"}}}]},{\"id\":\"564009\",\"date\":\"2021-07-20\",\"deadline_date\":\"2021-07-29\",\"deadline_length_days\":\"8\",\"deadline_length_hours\":\"213\",\"title\":\"KONSERWACJA I PRZEGL\\u0104D URZ\\u0104DZE\\u0143 WENTYLACYJNYCH I KLIMATYZACYJNYCH W BUDYNKACH INSTYTUT HEMATOLOGII I TRANSFUZJOLOGII W WARSZAWIE W SIEDZIBACH PRZY UL. I. GANDHI 14 I CHOCIMSKIEJ 5\",\"category\":\"services\",\"description\":\"Przedmiotem post\\u0119powania jest konserwacja i przegl\\u0105dy urz\\u0105dze\\u0144 wentylacyjnych i klimatyzacyjnych w budynkach Instytutu Hematologii i Transfuzjologii w Warszawie w siedzibach przy ul. I. Gandhi 14 i Chocimskiej 5.Wi\\u0119cej informacji zawiera: Za\\u0142\\u0105cznik nr 1A, 1B, 1C, 1D do SWZ.\",\"sid\":\"info:117961\",\"awarded_value\":\"17600.00\",\"awarded_currency\":\"PLN\",\"awarded_value_eur\":\"3844.56\",\"purchaser\":{\"id\":\"25189\",\"sid\":null,\"name\":null},\"type\":{\"id\":\"art-275-pkt-1-ustawy\",\"name\":\"art. 275 pkt 1 ustawy\",\"slug\":\"art-275-pkt-1-ustawy\"},\"awarded\":[{\"date\":\"2021-08-25\",\"value_for_two\":0,\"value_for_two_eur\":0,\"suppliers\":[{\"name\":\"Mera Technik Sp. z o.o.\",\"id\":23004,\"slug\":\"mera-technik-sp-z-o-o\"}],\"value_min\":\"176000.00\",\"value_for_three\":17600,\"value_for_one_eur\":0,\"count\":\"1\",\"value_for_one\":0,\"value_for_three_eur\":3844.56,\"suppliers_id\":\"23004\",\"value_eur\":3844.56,\"value_max\":\"1020000.00\",\"offers_count\":[3],\"suppliers_name\":\"Mera Technik Sp. z o.o.\",\"value\":\"17600.00\",\"value_estimated\":null,\"offers_count_data\":{\"3\":{\"value_eur\":3844.56,\"count\":\"1\",\"value\":\"17600.00\"}}}]},{\"id\":\"564007\",\"date\":\"2021-07-19\",\"deadline_date\":\"2021-08-03\",\"deadline_length_days\":\"14\",\"deadline_length_hours\":\"357\",\"title\":\"\\u201eZagospodarowanie terenu nad jeziorem Lipionek w m. Lipnica\\u201d\",\"category\":\"constructions\",\"description\":\"\\u201eZagospodarowanie terenu rekreacyjnego nad jeziorem Lipionek w miejscowo\\u015bci Lipnica \\u2013 etap I\\u201d Szczeg\\u00f3\\u0142owy opis przedmiotu zam\\u00f3wienia stanowi dokumentacja projektowa tj.Dodatek Nr 1 do SWZ- Projekt BudowlanyDodatek Nr 2 do SWZ- Specyfikacje techniczne wykonania i odbioru rob\\u00f3tDodatek Nr 3 do SWZ- Przedmiary rob\\u00f3t.- Roboty sk\\u0142adaj\\u0105ce si\\u0119 na przedmiot zam\\u00f3wienia obj\\u0119te dokumentacj\\u0105 projektow\\u0105 i SWZ nale\\u017cy wykona\\u0107 w oparciu o obowi\\u0105zuj\\u0105ce przepisy oraz normy zgodnie z obowi\\u0105zuj\\u0105cym Prawem Budowlanym\",\"sid\":\"info:117962\",\"awarded_value\":\"160000.00\",\"awarded_currency\":\"PLN\",\"awarded_value_eur\":\"34950.52\",\"purchaser\":{\"id\":\"2405\",\"sid\":null,\"name\":null},\"type\":{\"id\":\"art-275-pkt-1-ustawy\",\"name\":\"art. 275 pkt 1 ustawy\",\"slug\":\"art-275-pkt-1-ustawy\"},\"indicators\":[\"high_value_awarded\"],\"awarded\":[{\"date\":\"2021-08-25\",\"value_for_two\":160000,\"value_for_two_eur\":34950.52,\"suppliers\":[{\"name\":\"Us\\u0142ugi Monta\\u017cowo-Serwisowe Marcin Wirkus\",\"id\":23005,\"slug\":\"uslugi-montazowo-serwisowe-marcin-wirkus\"}],\"value_min\":\"160000.00\",\"value_for_three\":160000,\"offers_count_status\":\"only_one\",\"value_for_one_eur\":34950.52,\"count\":\"2\",\"value_for_one\":160000,\"value_for_three_eur\":34950.52,\"suppliers_id\":\"23005\",\"value_eur\":34950.52,\"value_max\":\"160000.00\",\"offers_count\":[1],\"suppliers_name\":\"Us\\u0142ugi Monta\\u017cowo-Serwisowe Marcin Wirkus\",\"value\":\"160000.00\",\"value_estimated\":\"94752.69\",\"offers_count_data\":{\"1\":{\"value_eur\":34950.52,\"count\":\"2\",\"value\":\"160000.00\"}}}]},{\"id\":\"560838\",\"date\":\"2021-07-15\",\"deadline_date\":\"2021-08-02\",\"deadline_length_days\":\"17\",\"deadline_length_hours\":\"429\",\"title\":\"Budowa Szkolnego Parku przy Szkole Podstawowej nr 71 w \\u0141odzi\",\"category\":\"constructions\",\"description\":\"1. Przedmiotem zam\\u00f3wienia niniejszego post\\u0119powania jest: Budowa Szkolnego Parku przy Szkole Podstawowej nr 71 w \\u0141odzi zgodnie z \\u201eFormularzem Oferty\\u201d, stanowi\\u0105cym za\\u0142\\u0105cznik nr 1 do SWZ. Zam\\u00f3wienie nie jest podzielone na pakiety.2. Z opisu przedmiotu zam\\u00f3wienia wy\\u0142\\u0105czona:a) Plac zabaw i mini boisko \\u2013 pkt 6.1.1b) strefa rekreacji \\u2013 pkt 6.1.2c) boisko do mini pi\\u0142ki no\\u017cnej - 6.2d) plac zabaw - 6.3 e) elementy wyposa\\u017cenia mini boiska - 7f) elementy wyposa\\u017cenia placu zabaw - 83. Z przedmiaru wy\\u0142\\u0105czamy:\",\"sid\":\"info:111647\",\"awarded_value\":\"678960.00\",\"awarded_currency\":\"PLN\",\"awarded_value_eur\":\"148312.55\",\"purchaser\":{\"id\":\"31818\",\"sid\":null,\"name\":null},\"type\":{\"id\":\"art-275-pkt-1-ustawy\",\"name\":\"art. 275 pkt 1 ustawy\",\"slug\":\"art-275-pkt-1-ustawy\"},\"awarded\":[{\"date\":\"2021-08-25\",\"value_for_two\":0,\"value_for_two_eur\":0,\"suppliers\":[{\"name\":\"DAR-CAR Dariusz Gendek\",\"id\":3598,\"slug\":\"dar-car-dariusz-gendek\"}],\"value_min\":\"678960.00\",\"value_for_three\":678960,\"value_for_one_eur\":0,\"count\":\"1\",\"value_for_one\":0,\"value_for_three_eur\":148312.55,\"suppliers_id\":\"3598\",\"value_eur\":148312.55,\"value_max\":\"914784.81\",\"offers_count\":[3],\"suppliers_name\":\"DAR-CAR Dariusz Gendek\",\"value\":\"678960.00\",\"value_estimated\":null,\"offers_count_data\":{\"3\":{\"value_eur\":148312.55,\"count\":\"1\",\"value\":\"678960.00\"}}}]},{\"id\":\"559813\",\"date\":\"2021-06-09\",\"deadline_date\":\"2021-06-22\",\"deadline_length_days\":\"13\",\"deadline_length_hours\":\"312\",\"title\":\"Dostawa \\u015bredniego samochodu specjalnego po\\u017carniczego, ratowniczo-ga\\u015bniczego 4x4 dla Ochotniczej Stra\\u017cy Po\\u017carnej w \\u015awiekatowie\",\"category\":\"supplies\",\"description\":\"Przedmiotem zam\\u00f3wienia jest dostawa nowego \\u015bredniego samochodu ratowniczo-ga\\u015bniczego z nap\\u0119dem 4x4 ( uterenowiony ) wyprodukowanego w 2021 r. z silnikiem wysokopr\\u0119\\u017cnym przystosowanym do ci\\u0105g\\u0142ej pracy, o mocy nie mniejszej ni\\u017c 210 kW, kt\\u00f3ry tak\\u017ce b\\u0119dzie posiada\\u0142 wszystkie wymagane prawem certyfikaty dopuszczaj\\u0105ce pojazd do ruchu i u\\u017cytkowania jako pojazd uprzywilejowany.Podwozie, kabina i silnik musz\\u0105 pochodzi\\u0107 od jednego producenta.\",\"sid\":\"info:109230\",\"awarded_value\":\"757926.00\",\"awarded_currency\":\"PLN\",\"awarded_value_eur\":\"165561.94\",\"purchaser\":{\"id\":\"31712\",\"sid\":null,\"name\":null},\"type\":{\"id\":\"art-275-pkt-1-ustawy\",\"name\":\"art. 275 pkt 1 ustawy\",\"slug\":\"art-275-pkt-1-ustawy\"},\"indicators\":[\"declined\"],\"awarded\":[{\"date\":\"2021-08-25\",\"value_for_two\":0,\"value_for_two_eur\":0,\"suppliers\":[{\"name\":\"Przedsi\\u0119biorstwo Specjalistyczne \\u201dBocar\\u201d Sp. z o.o.\",\"id\":22819,\"slug\":\"przedsiebiorstwo-specjalistyczne-bocar-sp-z-o-o\"}],\"value_min\":\"755200.00\",\"value_for_three\":757926,\"value_for_one_eur\":0,\"count\":\"1\",\"value_for_one\":0,\"offers_declined\":[2],\"value_for_three_eur\":165561.94,\"suppliers_id\":\"22819\",\"value_eur\":165561.94,\"value_max\":\"830250.00\",\"offers_count\":[3],\"suppliers_name\":\"Przedsi\\u0119biorstwo Specjalistyczne \\u201dBocar\\u201d Sp. z o.o.\",\"value\":\"757926.00\",\"value_estimated\":null,\"offers_count_data\":{\"3\":{\"value_eur\":165561.94,\"count\":\"1\",\"value\":\"757926.00\"}}}]},{\"id\":\"564300\",\"date\":\"2021-07-16\",\"deadline_date\":\"2021-08-02\",\"deadline_length_days\":\"17\",\"deadline_length_hours\":\"408\",\"title\":\"Docieplenie budynku wielorodzinnego w Gda\\u0144sku przy ul. Maki 22 wraz z remontem lokalu mieszkalnego nr 5.\",\"category\":\"constructions\",\"description\":\"1. Przedmiotem zam\\u00f3wienia jest docieplenie budynku wielorodzinnego w Gda\\u0144sku przy ul. Maki 22 wraz z remontem lokalu mieszkalnego nr 5.2. Zakres rob\\u00f3t obejmuje mi\\u0119dzy innymi:a) roboty og\\u00f3lnobudowlane tj.\\u00ad roboty rozbi\\u00f3rkowe (w tym piece) i demonta\\u017cowe,\\u00ad roboty dociepleniowe (\\u015bciany budynku),\\u00ad roboty murarskie,\\u00ad roboty tynkarskie,\\u00ad roboty malarskie,\\u00ad roboty posadzkarskie,\\u00ad wykonanie izolacji przeciwwilgociowej i przeciwwodnej pod\\u0142\\u00f3g,\\u00ad wykonanie izolacji cieplnych i przeciwd\\u017awi\\u0119kowych,\\u00ad wykonanie \",\"sid\":\"info:118525\",\"awarded_value\":\"323769.45\",\"awarded_currency\":\"PLN\",\"awarded_value_eur\":\"70704.37\",\"purchaser\":{\"id\":\"30133\",\"sid\":null,\"name\":null},\"type\":{\"id\":\"art-275-pkt-2-ustawy\",\"name\":\"art. 275 pkt 2 ustawy\",\"slug\":\"art-275-pkt-2-ustawy\"},\"awarded\":[{\"date\":\"2021-08-24\",\"value_for_two\":323769.45,\"value_for_two_eur\":70704.37,\"suppliers\":[{\"name\":\"Zak\\u0142ad Budowlano-Dekarski Marek Plechowski\",\"id\":23087,\"slug\":\"zaklad-budowlano-dekarski-marek-plechowski\"}],\"value_min\":\"323769.45\",\"value_for_three\":323769.45,\"value_for_one_eur\":0,\"count\":\"1\",\"value_for_one\":0,\"value_for_three_eur\":70704.37,\"suppliers_id\":\"23087\",\"value_eur\":70704.37,\"value_max\":\"349998.60\",\"offers_count\":[2],\"suppliers_name\":\"Zak\\u0142ad Budowlano-Dekarski Marek Plechowski\",\"value\":\"323769.45\",\"value_estimated\":null,\"offers_count_data\":{\"2\":{\"value_eur\":70704.37,\"count\":\"1\",\"value\":\"323769.45\"}}}]},{\"id\":\"564175\",\"date\":\"2021-07-21\",\"deadline_date\":\"2021-07-30\",\"deadline_length_days\":\"8\",\"deadline_length_hours\":\"215\",\"title\":\"Dow\\u00f3z uczni\\u00f3w do szk\\u00f3\\u0142 na terenie Gminy Dobrzyca oraz dow\\u00f3z uczni\\u00f3w do Zespo\\u0142u Szk\\u00f3\\u0142 Specjalnych w Pleszewie w roku szkolnym 2021\\/2022\",\"category\":\"services\",\"description\":\"Cz\\u0119\\u015b\\u0107 I \\u2013 Polskie Oledry-DobrzycaZADANIE NR I\\/1 \\u2013 Przew\\u00f3z uczni\\u00f3w na trasie Polskie Ol\\u0119dry - DobrzycaZADANIE NR I\\/2 \\u2013 Przew\\u00f3z uczni\\u00f3w na trasie Dobrzyca \\u2013 Polskie Ol\\u0119dryZADANIE NR I\\/3 \\u2013 Przew\\u00f3z uczni\\u00f3w na trasie Dobrzyca \\u2013 Polskie Ol\\u0119dry\",\"sid\":\"info:118290\",\"awarded_value\":\"319096.80\",\"awarded_currency\":\"PLN\",\"awarded_value_eur\":\"69683.96\",\"purchaser\":{\"id\":\"29917\",\"sid\":null,\"name\":null},\"type\":{\"id\":\"art-275-pkt-1-ustawy\",\"name\":\"art. 275 pkt 1 ustawy\",\"slug\":\"art-275-pkt-1-ustawy\"},\"indicators\":[\"high_value_awarded\"],\"awarded\":[{\"date\":\"2021-08-24\",\"value_for_two\":319096.8,\"value_for_two_eur\":69683.96,\"suppliers\":[{\"name\":\"Pleszewskie Linie Autobusowe \\\"GAEDIG-REISEN\\\"\",\"id\":23056,\"slug\":\"pleszewskie-linie-autobusowe-gaedig-reisen\"}],\"value_min\":\"319096.80\",\"value_for_three\":319096.8,\"offers_count_status\":\"only_one\",\"value_for_one_eur\":69683.96,\"count\":\"3\",\"value_for_one\":319096.8,\"value_for_three_eur\":69683.96,\"suppliers_id\":\"23056\",\"value_eur\":69683.96,\"value_max\":\"319096.80\",\"offers_count\":[1],\"suppliers_name\":\"Pleszewskie Linie Autobusowe \\\"GAEDIG-REISEN\\\"\",\"value\":\"319096.80\",\"value_estimated\":\"218859.27\",\"offers_count_data\":{\"1\":{\"value_eur\":69683.96,\"count\":\"3\",\"value\":\"319096.80\"}}}]},{\"id\":\"564166\",\"date\":\"2021-07-12\",\"deadline_date\":\"2021-07-27\",\"deadline_length_days\":\"15\",\"deadline_length_hours\":\"361\",\"title\":\"Przebudowa i remont dr\\u00f3g le\\u015bnych w Nadle\\u015bnictwie P\\u0142ock w 2021 r.\",\"category\":\"constructions\",\"description\":\"Przebudowa drogi w Le\\u015bnictwie Brody, ur. Nakwasin oddz. 139Przedmiotowe zadanie dotyczy przebudowy drogi le\\u015bnej nr 06-12-0161 ur. Nakwasin zlokalizowanej w Le\\u015bnictwie Brody (adres le\\u015bny 06-12-1-05-139). D\\u0142ugo\\u015b\\u0107 drogi: 352,00 m. Trasa drogi przebiega w istniej\\u0105cym pasie ograniczonym drzewostanem na terenie Nadle\\u015bnictwa P\\u0142ock, Le\\u015bnictwo Brody w oddziale 139. Droga posiada nawierzchnie gruntow\\u0105, miejscowo utwardzon\\u0105 kruszywem \\u0142amanym, odkszta\\u0142con\\u0105 z licznymi wyp\\u0142ukaniami oraz zastoiskami wodnymi. T\",\"sid\":\"info:118277\",\"awarded_value\":\"282837.02\",\"awarded_currency\":\"PLN\",\"awarded_value_eur\":\"61765.60\",\"purchaser\":{\"id\":\"31674\",\"sid\":null,\"name\":null},\"type\":{\"id\":\"art-275-pkt-1-ustawy\",\"name\":\"art. 275 pkt 1 ustawy\",\"slug\":\"art-275-pkt-1-ustawy\"},\"awarded\":[{\"date\":\"2021-08-24\",\"value_for_two\":282837.02,\"value_for_two_eur\":61765.6,\"suppliers\":[{\"name\":\"Przedsi\\u0119biorstwo MIK Roboty Ziemne i Drogowe Sp. z o.o.\",\"id\":23054,\"slug\":\"przedsiebiorstwo-mik-roboty-ziemne-i-drogowe-sp-z-o-o\"},{\"name\":\"Us\\u0142ugi Budowlane i Transportowe Miklewska Katarzyna\",\"id\":23055,\"slug\":\"uslugi-budowlane-i-transportowe-miklewska-katarzyna\"}],\"value_min\":\"282837.02\",\"value_for_three\":282837.02,\"value_for_one_eur\":0,\"count\":\"2\",\"value_for_one\":0,\"value_for_three_eur\":61765.6,\"suppliers_id\":\"23054,23055\",\"value_eur\":61765.6,\"value_max\":\"552462.11\",\"offers_count\":[2],\"suppliers_name\":\"Przedsi\\u0119biorstwo MIK Roboty Ziemne i Drogowe Sp. z o.o. Us\\u0142ugi Budowlane i Transportowe Miklewska Katarzyna\",\"value\":\"282837.02\",\"value_estimated\":\"390525.96\",\"offers_count_data\":{\"2\":{\"value_eur\":61765.6,\"count\":\"2\",\"value\":\"282837.02\"}}}]},{\"id\":\"564143\",\"date\":\"2021-07-16\",\"deadline_date\":\"2021-07-30\",\"deadline_length_days\":\"14\",\"deadline_length_hours\":\"341\",\"title\":\"Wykonanie przebudowy budynku internatu ZSCKR im. Krzysztofa Kluka w Rudce \\u2013 Zadanie nr IIIA z elementami termomodernizacji.\",\"category\":\"constructions\",\"description\":\"Przedmiot zam\\u00f3wienia obejmuje przebudow\\u0119 budynku internatu po\\u0142o\\u017conego w Rudce na terenie Zespo\\u0142u Szk\\u00f3\\u0142 Centrum Kszta\\u0142cenia Rolniczego im. Krzysztofa Kluka \\u2013 Zadanie nr III.\",\"sid\":\"info:118226\",\"awarded_value\":\"873179.38\",\"awarded_currency\":\"PLN\",\"awarded_value_eur\":\"190683.83\",\"purchaser\":{\"id\":\"32267\",\"sid\":null,\"name\":null},\"type\":{\"id\":\"art-275-pkt-2-ustawy\",\"name\":\"art. 275 pkt 2 ustawy\",\"slug\":\"art-275-pkt-2-ustawy\"},\"awarded\":[{\"date\":\"2021-08-24\",\"value_for_two\":873179.38,\"value_for_two_eur\":190683.83,\"suppliers\":[{\"name\":\"ZAK\\u0141AD BUDOWLANY STANIS\\u0141AW M\\u0104CZY\\u0143SKI\",\"id\":23045,\"slug\":\"zaklad-budowlany-stanislaw-maczynski\"}],\"value_min\":\"873179.38\",\"value_for_three\":873179.38,\"offers_count_status\":\"only_one\",\"value_for_one_eur\":190683.83,\"count\":\"1\",\"value_for_one\":873179.38,\"value_for_three_eur\":190683.83,\"suppliers_id\":\"23045\",\"value_eur\":190683.83,\"value_max\":\"873179.38\",\"offers_count\":[1],\"suppliers_name\":\"ZAK\\u0141AD BUDOWLANY STANIS\\u0141AW M\\u0104CZY\\u0143SKI\",\"value\":\"873179.38\",\"value_estimated\":null,\"offers_count_data\":{\"1\":{\"value_eur\":190683.83,\"count\":\"1\",\"value\":\"873179.38\"}}}]},{\"id\":\"564126\",\"date\":\"2021-07-22\",\"deadline_date\":\"2021-08-04\",\"deadline_length_days\":\"13\",\"deadline_length_hours\":\"314\",\"title\":\"\\u2022 \\u015bwiadczenie us\\u0142ug spo\\u0142ecznych w ramach realizacji projektu ,,Nowa jako\\u015b\\u0107 us\\u0142ug spo\\u0142ecznych w gminie Be\\u0142\\u017cyce\\u201d Program Operacyjny Wiedza Edukacja Rozw\\u00f3j.\",\"category\":\"services\",\"description\":\"Zad. Nr 1 us\\u0142uga spo\\u0142eczna indywidualnego poradnictwa psychologicznego dla doros\\u0142ych zamieszkuj\\u0105cych na terenie gminy Be\\u0142\\u017cyce w ramach realizacji projektu ,,Nowa jako\\u015b\\u0107 us\\u0142ug spo\\u0142ecznych w gminie Be\\u0142\\u017cyce\\u201d Program Operacyjny Wiedza Edukacja Rozw\\u00f3j, realizowany w ramach Osi priorytetowej : II Efektywne polityki publiczne dla rynku pracy, gospodarki i edukacji, Dzia\\u0142anie: 2.8 Rozw\\u00f3j us\\u0142ug spo\\u0142ecznych \\u015bwiadczonych w \\u015brodowisku lokalnym.\",\"sid\":\"info:118189\",\"awarded_value\":\"542700.00\",\"awarded_currency\":\"PLN\",\"awarded_value_eur\":\"118514.15\",\"purchaser\":{\"id\":\"32260\",\"sid\":null,\"name\":null},\"type\":{\"id\":\"art-275-pkt-1-ustawy\",\"name\":\"art. 275 pkt 1 ustawy\",\"slug\":\"art-275-pkt-1-ustawy\"},\"indicators\":[\"declined\",\"low_value_awarded\"],\"awarded\":[{\"date\":\"2021-08-24\",\"value_for_two\":36450,\"value_for_two_eur\":7959.91,\"suppliers\":[{\"name\":\"Fundacja Rozwoju Spo\\u0142eczno - O\\u015bwiatowego\",\"id\":23034,\"slug\":\"fundacja-rozwoju-spoleczno-oswiatowego\"}],\"value_min\":\"60750.00\",\"value_for_three\":60750,\"value_for_one_eur\":0,\"count\":\"2\",\"value_for_one\":0,\"offers_declined\":[1,2],\"value_for_three_eur\":13266.51,\"suppliers_id\":\"23034\",\"value_eur\":13266.51,\"value_max\":\"60750.00\",\"offers_count\":[2,3],\"suppliers_name\":\"Fundacja Rozwoju Spo\\u0142eczno - O\\u015bwiatowego\",\"value\":\"60750.00\",\"value_estimated\":\"90544.50\",\"offers_count_data\":{\"2\":{\"value_eur\":7959.91,\"count\":\"1\",\"value\":\"36450.00\"},\"3\":{\"value_eur\":5306.6,\"count\":\"1\",\"value\":\"24300.00\"}}},{\"date\":\"2021-08-24\",\"value_for_two\":437400,\"value_for_two_eur\":95518.87,\"suppliers\":[{\"name\":\"Stowarzyszenie RAZEM DLA BE\\u0141\\u017bYC\",\"id\":23035,\"slug\":\"stowarzyszenie-razem-dla-belzyc\"}],\"value_min\":\"481950.00\",\"value_for_three\":481950,\"value_for_one_eur\":0,\"count\":\"2\",\"value_for_one\":0,\"offers_declined\":[1,2],\"value_for_three_eur\":105247.64,\"suppliers_id\":\"23035\",\"value_eur\":105247.64,\"value_max\":\"481950.00\",\"offers_count\":[2,3],\"suppliers_name\":\"Stowarzyszenie RAZEM DLA BE\\u0141\\u017bYC\",\"value\":\"481950.00\",\"value_estimated\":\"480133.95\",\"offers_count_data\":{\"2\":{\"value_eur\":95518.87,\"count\":\"1\",\"value\":\"437400.00\"},\"3\":{\"value_eur\":9728.77,\"count\":\"1\",\"value\":\"44550.00\"}}}]},{\"id\":\"563989\",\"date\":\"2021-07-16\",\"deadline_date\":\"2021-08-03\",\"deadline_length_days\":\"18\",\"deadline_length_hours\":\"435\",\"title\":\"Przebudowa parteru budynku Ma\\u0142opolskiego O\\u015brodka Doradztwa Rolniczego obejmuj\\u0105ca hol i cz\\u0119\\u015b\\u0107 pomieszcze\\u0144 bazy noclegowej \\u2013 Etap 1\",\"category\":\"constructions\",\"description\":\"1. Przedmiotem zam\\u00f3wienia jest realizacja inwestycji pn. \\u201ePrzebudowa parteru budynku Ma\\u0142opolskiego O\\u015brodka Doradztwa Rolniczego obejmuj\\u0105ca hol i cz\\u0119\\u015b\\u0107 pomieszcze\\u0144 bazy noclegowej \\u2013 Etap 1\\\".2. Zakres rob\\u00f3t budowlanych obejmuje:a) demonta\\u017c istniej\\u0105cych \\u015bcian dzia\\u0142owych;b) wykonanie nowych \\u015bcian dzia\\u0142owych;c) demonta\\u017c i malowanie sufit\\u00f3w podwieszonych;d) skucie istniej\\u0105cych posadzek;e) wykonanie nowych posadzek;f) wykonanie wylewek pod posadzki;g) wymiana stolarki\\/ \\u015blusarki drzwiowej i okiennej wew\",\"sid\":\"info:117926\",\"awarded_value\":\"649943.94\",\"awarded_currency\":\"PLN\",\"awarded_value_eur\":\"141933.95\",\"purchaser\":{\"id\":\"7938\",\"sid\":null,\"name\":null},\"type\":{\"id\":\"art-275-pkt-1-ustawy\",\"name\":\"art. 275 pkt 1 ustawy\",\"slug\":\"art-275-pkt-1-ustawy\"},\"awarded\":[{\"date\":\"2021-08-24\",\"value_for_two\":649943.94,\"value_for_two_eur\":141933.95,\"suppliers\":[{\"name\":\"Jerzy Ku\\u0107mierz LAWINA, numer NIP : 6771688256\",\"id\":23000,\"slug\":\"jerzy-kucmierz-lawina-numer-nip-6771688256\"},{\"name\":\"Klaudia Ku\\u0107mierz, numer NIP : 5130266495\",\"id\":23001,\"slug\":\"klaudia-kucmierz-numer-nip-5130266495\"}],\"value_min\":\"649943.94\",\"value_for_three\":649943.94,\"offers_count_status\":\"only_one\",\"value_for_one_eur\":141933.95,\"count\":\"1\",\"value_for_one\":649943.94,\"value_for_three_eur\":141933.95,\"suppliers_id\":\"23000,23001\",\"value_eur\":141933.95,\"value_max\":\"649943.94\",\"offers_count\":[1],\"suppliers_name\":\"Jerzy Ku\\u0107mierz LAWINA, numer NIP : 6771688256 Klaudia Ku\\u0107mierz, numer NIP : 5130266495\",\"value\":\"649943.94\",\"value_estimated\":null,\"offers_count_data\":{\"1\":{\"value_eur\":141933.95,\"count\":\"1\",\"value\":\"649943.94\"}}}]},{\"id\":\"563959\",\"date\":\"2021-07-14\",\"deadline_date\":\"2021-07-26\",\"deadline_length_days\":\"11\",\"deadline_length_hours\":\"285\",\"title\":\"Zakup i dostawa pojazd\\u00f3w s\\u0142u\\u017cbowych Zadanie nr 1: zakup i dostawa nieoznakowanego pojazdu s\\u0142u\\u017cbowego typu furgon Zadanie nr 2: zakup i dostawa nieoznakowanego pojazdu s\\u0142u\\u017cbowego typu pick-up\",\"category\":\"supplies\",\"description\":\"Zakup i dostawa nieoznakowanego pojazdu s\\u0142u\\u017cbowego typu furgon \\u2013 1szt.Szczeg\\u00f3\\u0142owy opis przedmiotu zam\\u00f3wienia stanowi za\\u0142\\u0105cznik nr 1A do umowy zamieszczonej na stronie prowadzonego post\\u0119piania pod adresem:https:\\/\\/platformazakupowa.pl\\/kwp_radom, Zamawiaj\\u0105cy wymaga, aby dostarczone pojazdy by\\u0142y:- fabrycznie nowe,- w pe\\u0142ni sprawne,- wolne od wad,- posiada\\u0142y wykonany przez Wykonawc\\u0119 przegl\\u0105d zerowy, potwierdzony w ksi\\u0105\\u017cce gwarancyjnej pojazdu,- posiada\\u0142y stan paliwa pozwalaj\\u0105cy na przejechanie przyna\",\"sid\":\"info:117885\",\"awarded_value\":\"209950.00\",\"awarded_currency\":\"PLN\",\"awarded_value_eur\":\"45848.62\",\"purchaser\":{\"id\":\"2527\",\"sid\":null,\"name\":null},\"type\":{\"id\":\"art-275-pkt-1-ustawy\",\"name\":\"art. 275 pkt 1 ustawy\",\"slug\":\"art-275-pkt-1-ustawy\"},\"indicators\":[\"low_value_awarded\"],\"awarded\":[{\"date\":\"2021-08-24\",\"value_for_two\":209950,\"value_for_two_eur\":45848.62,\"suppliers\":[{\"name\":\"CAROLINA CAR COMPANY J. MAJDECKI, M. OLESINSKI, P. S\\u00d3JKA SP\\u00d3\\u0141KA JAWNA\",\"id\":22999,\"slug\":\"carolina-car-company-j-majdecki-m-olesinski-p-sojka-spolka-jawna\"}],\"value_min\":\"209950.00\",\"value_for_three\":209950,\"offers_count_status\":\"only_one\",\"value_for_one_eur\":45848.62,\"count\":\"1\",\"value_for_one\":209950,\"value_for_three_eur\":45848.62,\"suppliers_id\":\"22999\",\"value_eur\":45848.62,\"value_max\":\"209950.00\",\"offers_count\":[1],\"suppliers_name\":\"CAROLINA CAR COMPANY J. MAJDECKI, M. OLESINSKI, P. S\\u00d3JKA SP\\u00d3\\u0141KA JAWNA\",\"value\":\"209950.00\",\"value_estimated\":\"170731.71\",\"offers_count_data\":{\"1\":{\"value_eur\":45848.62,\"count\":\"1\",\"value\":\"209950.00\"}}}]},{\"id\":\"563919\",\"date\":\"2021-07-26\",\"deadline_date\":\"2021-08-03\",\"deadline_length_days\":\"7\",\"deadline_length_hours\":\"191\",\"title\":\"\\u015aWIADCZENIE US\\u0141UG PRZEWOZOWYCH (PRZYW\\u00d3Z I ODW\\u00d3Z) UCZNI\\u00d3W DO SZK\\u00d3\\u0141 Z TERENU GMINY OPALENICA, W CZASIE ROKU SZKOLNEGO 2021\\/2022\",\"category\":\"services\",\"description\":\"\\u015aWIADCZENIE US\\u0141UG PRZEWOZOWYCH (PRZYW\\u00d3Z I ODW\\u00d3Z) UCZNI\\u00d3W DO SZK\\u00d3\\u0141 Z TERENU GMINY OPALENICA, W CZASIE ROKU SZKOLNEGO 2021\\/2022, polegaj\\u0105cych na dowozach (przyw\\u00f3z i odw\\u00f3z):1\\/ uczni\\u00f3w do szk\\u00f3\\u0142 podstawowych, oraz dzieci do przedszkoli i oddzia\\u0142\\u00f3w przedszkolnych na terenie Gminy Opalenica, przewidywana dzienna liczba kilometr\\u00f3w \\u2013 ok. 500,2\\/ uczni\\u00f3w na konkursy, zawody sportowe itp. oraz uczni\\u00f3w klas s\\u0142u\\u017cb mundurowych na p\\u0142ywalni\\u0119 w Wolsztynie, przewidywana \\u015bredniomiesi\\u0119czna liczba kilometr\\u00f3w 1300, 3\\/\",\"sid\":\"info:117809\",\"awarded_value\":\"675350.00\",\"awarded_currency\":\"PLN\",\"awarded_value_eur\":\"147482.09\",\"purchaser\":{\"id\":\"32236\",\"sid\":null,\"name\":null},\"type\":{\"id\":\"art-275-pkt-1-ustawy\",\"name\":\"art. 275 pkt 1 ustawy\",\"slug\":\"art-275-pkt-1-ustawy\"},\"awarded\":[{\"date\":\"2021-08-24\",\"value_for_two\":675350,\"value_for_two_eur\":147482.09,\"suppliers\":[{\"name\":\"Dal-Trans Damian Daleszy\\u0144ski\",\"id\":22990,\"slug\":\"dal-trans-damian-daleszynski\"}],\"value_min\":\"675350.00\",\"value_for_three\":675350,\"offers_count_status\":\"only_one\",\"value_for_one_eur\":147482.09,\"count\":\"1\",\"value_for_one\":675350,\"value_for_three_eur\":147482.09,\"suppliers_id\":\"22990\",\"value_eur\":147482.09,\"value_max\":\"675350.00\",\"offers_count\":[1],\"suppliers_name\":\"Dal-Trans Damian Daleszy\\u0144ski\",\"value\":\"675350.00\",\"value_estimated\":null,\"offers_count_data\":{\"1\":{\"value_eur\":147482.09,\"count\":\"1\",\"value\":\"675350.00\"}}}]},{\"id\":\"562279\",\"date\":\"2021-07-16\",\"deadline_date\":\"2021-08-02\",\"deadline_length_days\":\"16\",\"deadline_length_hours\":\"401\",\"title\":\"Remont elewacji budynku zabytkowego \\u2013 siedziby Wojew\\u00f3dzkiego Urz\\u0119du Ochrony Zabytk\\u00f3w w Lublinie\",\"category\":\"constructions\",\"description\":\"1. Przedmiotem zam\\u00f3wienia jest wykonanie remontu elewacji budynku zabytkowego \\u2013 siedziby Wojew\\u00f3dzkiego Urz\\u0119du Ochrony Zabytk\\u00f3w w Lublinie przy ul. Archidiako\\u0144skiej 4.2 . Zakres zam\\u00f3wienia obejmuje remont elewacji budynku (w tym remont balkon\\u00f3w, cz\\u0119\\u015bci stolarki) polegaj\\u0105cy na odtworzeniu stanu istniej\\u0105cego z zastosowaniem nowych materia\\u0142\\u00f3w w tym: 2.1. zrealizowanie ca\\u0142ego zakresu prac opisanych w projekcie budowlanym, technicznym (wykonawczym) i STWiORB w tym mi\\u0119dzy innymi:2.1.1. Renowacja i kons\",\"sid\":\"info:115180\",\"awarded_value\":\"499566.19\",\"awarded_currency\":\"PLN\",\"awarded_value_eur\":\"109094.64\",\"purchaser\":{\"id\":\"31965\",\"sid\":null,\"name\":null},\"type\":{\"id\":\"art-275-pkt-1-ustawy\",\"name\":\"art. 275 pkt 1 ustawy\",\"slug\":\"art-275-pkt-1-ustawy\"},\"awarded\":[{\"date\":\"2021-08-24\",\"value_for_two\":499566.19,\"value_for_two_eur\":109094.64,\"suppliers\":[{\"name\":\"Lubren Sp. z o.o.\",\"id\":19573,\"slug\":\"lubren-sp-z-o-o\"}],\"value_min\":\"499566.19\",\"value_for_three\":499566.19,\"offers_count_status\":\"only_one\",\"value_for_one_eur\":109094.64,\"count\":\"1\",\"value_for_one\":499566.19,\"value_for_three_eur\":109094.64,\"suppliers_id\":\"19573\",\"value_eur\":109094.64,\"value_max\":\"499566.19\",\"offers_count\":[1],\"suppliers_name\":\"Lubren Sp. z o.o.\",\"value\":\"499566.19\",\"value_estimated\":null,\"offers_count_data\":{\"1\":{\"value_eur\":109094.64,\"count\":\"1\",\"value\":\"499566.19\"}}}]},{\"id\":\"564197\",\"date\":\"2021-07-27\",\"deadline_date\":\"2021-08-04\",\"deadline_length_days\":\"8\",\"deadline_length_hours\":\"193\",\"title\":\"Dostawa sprz\\u0119tu komputerowego i oprogramowania na potrzeby Starostwa Powiatowego w Ostrowie Wielkopolskim\",\"category\":\"supplies\",\"description\":\"Temat: Dostawa sprz\\u0119tu komputerowego dla Starostwa Powiatowego w Ostrowie Wielkopolskim. Opis: Pozycja 1: Jednostka komputerowa PC o parametrach zgodnych z opisem przedmiotu zam\\u00f3wienia lub lepszych - 3 sztuki.Pozycja 2: Komputer przeno\\u015bny - laptop wykorzystywany do obr\\u00f3bki wideo - 1 sztuka.Pozycja 3: Komputer przeno\\u015bny - laptop wykorzystywany do pracy biurowej - 1 sztuka.Pozycja 4: Monitor o parametrach zgodnych z opisem przedmiotu zam\\u00f3wienia lub lepszych - 3 sztuki.Pozycja 5: Filtr prywatyzuj\\u0105c\",\"sid\":\"info:118331\",\"awarded_value\":\"57071.59\",\"awarded_currency\":\"PLN\",\"awarded_value_eur\":\"12442.58\",\"purchaser\":{\"id\":\"24042\",\"sid\":null,\"name\":null},\"type\":{\"id\":\"art-275-pkt-1-ustawy\",\"name\":\"art. 275 pkt 1 ustawy\",\"slug\":\"art-275-pkt-1-ustawy\"},\"indicators\":[\"declined\",\"low_value_awarded\"],\"awarded\":[{\"date\":\"2021-08-23\",\"value_for_two\":7091.86,\"value_for_two_eur\":1546.15,\"suppliers\":[{\"name\":\"Barzycki Inwestycje Tomasz Barzycki\",\"id\":16951,\"slug\":\"barzycki-inwestycje-tomasz-barzycki\"}],\"value_min\":\"34850.73\",\"value_for_three\":35300.59,\"value_for_one_eur\":0,\"count\":\"2\",\"value_for_one\":0,\"offers_declined\":[1],\"value_for_three_eur\":7696.13,\"suppliers_id\":\"16951\",\"value_eur\":7696.13,\"value_max\":\"43403.92\",\"offers_count\":[2,3],\"suppliers_name\":\"Barzycki Inwestycje Tomasz Barzycki\",\"value\":\"35300.59\",\"value_estimated\":\"46740.00\",\"offers_count_data\":{\"2\":{\"value_eur\":1546.15,\"count\":\"1\",\"value\":\"7091.86\"},\"3\":{\"value_eur\":6149.98,\"count\":\"1\",\"value\":\"28208.73\"}}},{\"date\":\"2021-08-23\",\"value_for_two\":21771,\"value_for_two_eur\":4746.45,\"suppliers\":[{\"name\":\"Cezar Cezary Machnio i Piotr G\\u0119bka Sp. z o.o.\",\"id\":2567,\"slug\":\"cezar-cezary-machnio-i-piotr-gebka-sp-z-o-o\"}],\"value_min\":\"21771.00\",\"value_for_three\":21771,\"offers_count_status\":\"only_one\",\"value_for_one_eur\":4746.45,\"count\":\"1\",\"value_for_one\":21771,\"value_for_three_eur\":4746.45,\"suppliers_id\":\"2567\",\"value_eur\":4746.45,\"value_max\":\"21771.00\",\"offers_count\":[1],\"suppliers_name\":\"Cezar Cezary Machnio i Piotr G\\u0119bka Sp. z o.o.\",\"value\":\"21771.00\",\"value_estimated\":\"25830.00\",\"offers_count_data\":{\"1\":{\"value_eur\":4746.45,\"count\":\"1\",\"value\":\"21771.00\"}}}]},{\"id\":\"564062\",\"date\":\"2021-07-19\",\"deadline_date\":\"2021-07-27\",\"deadline_length_days\":\"7\",\"deadline_length_hours\":\"189\",\"title\":\"Wy\\u0142onienie Wykonawcy w zakresie dostawy 1 sztuki tabletu dla Wydzia\\u0142u Prawa i Administracji UJ\",\"category\":\"supplies\",\"description\":\"Przedmiotem post\\u0119powania i zam\\u00f3wienia jest wy\\u0142onienie Wykonawcy w zakresie dostawy 1 sztuki tabletu dla Wydzia\\u0142u Prawa i Administracji UJ.Szczeg\\u00f3\\u0142owy opis przedmiotu zam\\u00f3wienia wraz z opisem minimalnych parametr\\u00f3w i wymaga\\u0144 technicznych oraz funkcjonalnych zawiera za\\u0142\\u0105cznik 3 do SWZ.\",\"sid\":\"info:118064\",\"awarded_value\":\"4243.50\",\"awarded_currency\":\"PLN\",\"awarded_value_eur\":\"925.15\",\"purchaser\":{\"id\":\"23285\",\"sid\":null,\"name\":null},\"type\":{\"id\":\"art-275-pkt-1-ustawy\",\"name\":\"art. 275 pkt 1 ustawy\",\"slug\":\"art-275-pkt-1-ustawy\"},\"awarded\":[{\"date\":\"2021-08-23\",\"value_for_two\":4243.5,\"value_for_two_eur\":925.15,\"suppliers\":[{\"name\":\"Redicreo S.C.\",\"id\":4123,\"slug\":\"redicreo-s-c\"}],\"value_min\":\"4243.50\",\"value_for_three\":4243.5,\"value_for_one_eur\":0,\"count\":\"1\",\"value_for_one\":0,\"value_for_three_eur\":925.15,\"suppliers_id\":\"4123\",\"value_eur\":925.15,\"value_max\":\"4292.70\",\"offers_count\":[2],\"suppliers_name\":\"Redicreo S.C.\",\"value\":\"4243.50\",\"value_estimated\":null,\"offers_count_data\":{\"2\":{\"value_eur\":925.15,\"count\":\"1\",\"value\":\"4243.50\"}}}]},{\"id\":\"564006\",\"date\":\"2021-06-10\",\"deadline_date\":\"2021-06-21\",\"deadline_length_days\":\"10\",\"deadline_length_hours\":\"263\",\"title\":\"\\u201eWyposa\\u017cenie zmodernizowanego budynku we Frampolu przy ul. Zamojskiej 13\\u201d\",\"category\":\"supplies\",\"description\":\"4.2.1. cz\\u0119\\u015b\\u0107 1 zam\\u00f3wienia \\u2013 \\u201eDostawa mebli i wyposa\\u017cenia do budynku przy ul. Zamojskiej we Frampolu\\u201d, kt\\u00f3rej zakres rzeczowy obejmuje m.in.:a) dostaw\\u0119 fabrycznie nowego, tzn. nieu\\u017cywanego przed dniem dostarczenia, z wy\\u0142\\u0105czeniem u\\u017cywania niezb\\u0119dnego dla przeprowadzenia test\\u00f3w poprawnej pracy, pochodz\\u0105cych z oficjalnych kana\\u0142\\u00f3w dystrybucyjnych producenta, zapewniaj\\u0105cych w szczeg\\u00f3lno\\u015bci realizacj\\u0119 uprawnie\\u0144 gwarancyjnych wyposa\\u017cenia okre\\u015blonego w za\\u0142\\u0105czniku nr 1a do SWZ, wraz z transportem, wniesie\",\"sid\":\"info:117960\",\"awarded_value\":\"160769.57\",\"awarded_currency\":\"PLN\",\"awarded_value_eur\":\"35053.30\",\"purchaser\":{\"id\":\"31409\",\"sid\":null,\"name\":null},\"type\":{\"id\":\"art-275-pkt-1-ustawy\",\"name\":\"art. 275 pkt 1 ustawy\",\"slug\":\"art-275-pkt-1-ustawy\"},\"indicators\":[\"high_value_awarded\",\"declined\"],\"awarded\":[{\"date\":\"2021-08-23\",\"value_for_two\":0,\"value_for_two_eur\":0,\"suppliers\":[{\"name\":\"Toro Joanna Jasnosz\",\"id\":23002,\"slug\":\"toro-joanna-jasnosz\"}],\"value_min\":\"104354.43\",\"value_for_three\":0,\"value_for_one_eur\":0,\"count\":\"1\",\"value_for_one\":0,\"value_for_three_eur\":0,\"suppliers_id\":\"23002\",\"value_eur\":29178.58,\"value_max\":\"221147.70\",\"offers_count\":[5],\"suppliers_name\":\"Toro Joanna Jasnosz\",\"value\":\"133836.30\",\"value_estimated\":\"89000.00\",\"offers_count_data\":{\"5\":{\"value_eur\":29178.58,\"count\":\"1\",\"value\":\"133836.30\"}}},{\"date\":\"2021-08-16\",\"value_for_two\":0,\"value_for_two_eur\":0,\"suppliers\":[{\"name\":\"PH ENERGIA S.C. P. Wielgo H. Widomski\",\"id\":14491,\"slug\":\"ph-energia-s-c-p-wielgo-h-widomski\"}],\"value_min\":\"10229.84\",\"value_for_three\":10229.84,\"value_for_one_eur\":0,\"count\":\"1\",\"value_for_one\":0,\"offers_declined\":[2],\"value_for_three_eur\":2240.78,\"suppliers_id\":\"14491\",\"value_eur\":2240.78,\"value_max\":\"10229.84\",\"offers_count\":[3],\"suppliers_name\":\"PH ENERGIA S.C. P. Wielgo H. Widomski\",\"value\":\"10229.84\",\"value_estimated\":\"14120.00\",\"offers_count_data\":{\"3\":{\"value_eur\":2240.78,\"count\":\"1\",\"value\":\"10229.84\"}}},{\"date\":\"2021-07-28\",\"value_for_two\":0,\"value_for_two_eur\":0,\"suppliers\":[{\"name\":\"PH ENERGIA S.C. P. Wielgo H. Widomski\",\"id\":14491,\"slug\":\"ph-energia-s-c-p-wielgo-h-widomski\"}],\"value_min\":\"7749.03\",\"value_for_three\":0,\"value_for_one_eur\":0,\"count\":\"1\",\"value_for_one\":0,\"value_for_three_eur\":0,\"suppliers_id\":\"14491\",\"value_eur\":1685.85,\"value_max\":\"13258.17\",\"offers_count\":[4],\"suppliers_name\":\"PH ENERGIA S.C. P. Wielgo H. Widomski\",\"value\":\"7749.03\",\"value_estimated\":\"5000.00\",\"offers_count_data\":{\"4\":{\"value_eur\":1685.85,\"count\":\"1\",\"value\":\"7749.03\"}}},{\"date\":\"2021-07-28\",\"value_for_two\":0,\"value_for_two_eur\":0,\"suppliers\":[{\"name\":\"WAM Wojsciech Smolak\",\"id\":23003,\"slug\":\"wam-wojsciech-smolak\"}],\"value_min\":\"8954.40\",\"value_for_three\":0,\"value_for_one_eur\":0,\"count\":\"1\",\"value_for_one\":0,\"value_for_three_eur\":0,\"suppliers_id\":\"23003\",\"value_eur\":1948.09,\"value_max\":\"34440.00\",\"offers_count\":[4],\"suppliers_name\":\"WAM Wojsciech Smolak\",\"value\":\"8954.40\",\"value_estimated\":\"3500.00\",\"offers_count_data\":{\"4\":{\"value_eur\":1948.09,\"count\":\"1\",\"value\":\"8954.40\"}}}]},{\"id\":\"563961\",\"date\":\"2021-06-17\",\"deadline_date\":\"2021-06-25\",\"deadline_length_days\":\"8\",\"deadline_length_hours\":\"196\",\"title\":\"Dostawa i monta\\u017c wyposa\\u017cenia Przedszkola Miejskiego w Mroczy\",\"category\":\"supplies\",\"description\":\"Meble i wyposa\\u017cenie pomieszcze\\u0144 i sal przedszkolnych. Przedmiotem zam\\u00f3wienia Cz\\u0119\\u015bci I jest dostawa i monta\\u017c mebli do pomieszcze\\u0144 i sal przedszkolnych oraz innych element\\u00f3w wyposa\\u017cenia wn\\u0119trz m. in.: obudowa kaloryfer\\u00f3w, krzes\\u0142a, sto\\u0142y, kontenerki, szafki, p\\u00f3\\u0142ki domek, tablice kredowo-magnetyczn\\u0105, rolet okiennych, materace i siedziska, itd. Ponadto w ramach realizacji przedmiotowej cz\\u0119\\u015bci zam\\u00f3wienia przewidziane jest malowani \\u015bcian farb\\u0105 tablicow\\u0105 oraz tapetowanie fragment\\u00f3w \\u015bcian zgodnie z rysun\",\"sid\":\"info:117886\",\"awarded_value\":\"1269842.16\",\"awarded_currency\":\"PLN\",\"awarded_value_eur\":\"276945.41\",\"purchaser\":{\"id\":\"29613\",\"sid\":null,\"name\":null},\"type\":{\"id\":\"art-275-pkt-1-ustawy\",\"name\":\"art. 275 pkt 1 ustawy\",\"slug\":\"art-275-pkt-1-ustawy\"},\"indicators\":[\"high_value_awarded\"],\"awarded\":[{\"date\":\"2021-08-23\",\"value_for_two\":55520.97,\"value_for_two_eur\":12104.51,\"suppliers\":[{\"name\":\"PHU BMS SP.J.Z.BIELECKI\",\"id\":14278,\"slug\":\"phu-bms-sp-j-z-bielecki\"}],\"value_min\":\"991496.24\",\"value_for_three\":937335.03,\"value_for_one_eur\":0,\"count\":\"4\",\"value_for_one\":0,\"value_for_three_eur\":204354.89,\"suppliers_id\":\"14278\",\"value_eur\":224494.84,\"value_max\":\"1433782.71\",\"offers_count\":[2,3,4],\"suppliers_name\":\"PHU BMS SP.J.Z.BIELECKI\",\"value\":\"1029712.95\",\"value_estimated\":\"615041.54\",\"offers_count_data\":{\"2\":{\"value_eur\":12104.51,\"count\":\"1\",\"value\":\"55520.97\"},\"3\":{\"value_eur\":192250.38,\"count\":\"1\",\"value\":\"881814.06\"},\"4\":{\"value_eur\":20139.95,\"count\":\"2\",\"value\":\"92377.92\"}}},{\"date\":\"2021-07-29\",\"value_for_two\":0,\"value_for_two_eur\":0,\"suppliers\":[{\"name\":\"Moje Bambino Sp. z o.o. Sp. k.\",\"id\":16888,\"slug\":\"moje-bambino-sp-z-o-o-sp-k\"}],\"value_min\":\"110204.86\",\"value_for_three\":0,\"value_for_one_eur\":0,\"count\":\"1\",\"value_for_one\":0,\"offers_declined\":[1],\"value_for_three_eur\":0,\"suppliers_id\":\"16888\",\"value_eur\":26412.14,\"value_max\":\"556749.66\",\"offers_count\":[5],\"suppliers_name\":\"Moje Bambino Sp. z o.o. Sp. k.\",\"value\":\"120920.07\",\"value_estimated\":\"94038.85\",\"offers_count_data\":{\"5\":{\"value_eur\":26412.14,\"count\":\"1\",\"value\":\"120920.07\"}}},{\"date\":\"2021-07-29\",\"value_for_two\":0,\"value_for_two_eur\":0,\"suppliers\":[{\"name\":\"Wilanka sp. z o.o.\",\"id\":45,\"slug\":\"wilanka-sp-z-o-o\"}],\"value_min\":\"119209.14\",\"value_for_three\":0,\"value_for_one_eur\":0,\"count\":\"1\",\"value_for_one\":0,\"value_for_three_eur\":0,\"suppliers_id\":\"45\",\"value_eur\":26038.43,\"value_max\":\"359270.70\",\"offers_count\":[5],\"suppliers_name\":\"Wilanka sp. z o.o.\",\"value\":\"119209.14\",\"value_estimated\":\"96182.93\",\"offers_count_data\":{\"5\":{\"value_eur\":26038.43,\"count\":\"1\",\"value\":\"119209.14\"}}}]},{\"id\":\"563911\",\"date\":\"2021-07-26\",\"deadline_date\":\"2021-08-03\",\"deadline_length_days\":\"7\",\"deadline_length_hours\":\"187\",\"title\":\"\\u201e\\u015awiadczenie us\\u0142ug fizjoterapeuty pn. Utworzenie plac\\u00f3wki dziennej opieki i aktywizacji dla os\\u00f3b starszych w Gminie Podegrodzie dofinansowanego z Europejskiego Funduszu Rozwoju Regionalnego (...)\\u201d\",\"category\":\"services\",\"description\":\"4.3. Zam\\u00f3wienie obejmuje:a) \\u015bwiadczenie us\\u0142ug fizjoterapeuty w ramach projektu pn. Utworzenie plac\\u00f3wki dziennej opieki i aktywizacji dla os\\u00f3b starszych w Gminie Podegrodzie dofinansowanego z Europejskiego Funduszu Rozwoju Regionalnego w ramach Regionalnego Programu Operacyjnego Wojew\\u00f3dztwa Ma\\u0142opolskiego na lata 2014-2020 Dzia\\u0142anie 9. 2 Us\\u0142ugi spo\\u0142eczne i zdrowotne, Poddzia\\u0142anie 9.2.3 Us\\u0142ugi opieku\\u0144cze oraz interwencja kryzysowa \\u2013 SPR (16 godzin na miesi\\u0105c):aa) us\\u0142ugi fizjoterapeuty: 424 godzin,\\uf02d\",\"sid\":\"info:117788\",\"awarded_value\":\"42400.00\",\"awarded_currency\":\"PLN\",\"awarded_value_eur\":\"9243.92\",\"purchaser\":{\"id\":\"29651\",\"sid\":null,\"name\":null},\"type\":{\"id\":\"art-275-pkt-1-ustawy\",\"name\":\"art. 275 pkt 1 ustawy\",\"slug\":\"art-275-pkt-1-ustawy\"},\"awarded\":[{\"date\":\"2021-08-23\",\"value_for_two\":42400,\"value_for_two_eur\":9243.92,\"suppliers\":[{\"name\":\"Zdrowie Rodziny Niepubliczny Zak\\u0142ad Opieki Zdrowotnej Praktyka Grupowa Lekarzy Sp\\u00f3\\u0142ka z ograniczon\\u0105 odpowiedzialno\\u015bci\\u0105\",\"id\":22985,\"slug\":\"zdrowie-rodziny-niepubliczny-zaklad-opieki-zdrowotnej-praktyka-grupowa-lekarzy-spolka-z-ograniczona-odpowiedzialnoscia\"}],\"value_min\":\"42400.00\",\"value_for_three\":42400,\"offers_count_status\":\"only_one\",\"value_for_one_eur\":9243.92,\"count\":\"1\",\"value_for_one\":42400,\"value_for_three_eur\":9243.92,\"suppliers_id\":\"22985\",\"value_eur\":9243.92,\"value_max\":\"42400.00\",\"offers_count\":[1],\"suppliers_name\":\"Zdrowie Rodziny Niepubliczny Zak\\u0142ad Opieki Zdrowotnej Praktyka Grupowa Lekarzy Sp\\u00f3\\u0142ka z ograniczon\\u0105 odpowiedzialno\\u015bci\\u0105\",\"value\":\"42400.00\",\"value_estimated\":null,\"offers_count_data\":{\"1\":{\"value_eur\":9243.92,\"count\":\"1\",\"value\":\"42400.00\"}}}]},{\"id\":\"563843\",\"date\":\"2021-07-12\",\"deadline_date\":\"2021-07-27\",\"deadline_length_days\":\"14\",\"deadline_length_hours\":\"358\",\"title\":\"Remont lokalu mieszkalnego wraz z wydzieleniem i urz\\u0105dzeniem \\u0142azienki w miejscowo\\u015bci Nawoj\\u00f3w \\u015al\\u0105ski 19C\\/3, dz. nr 471\\/8 gmina Luba\\u0144\",\"category\":\"constructions\",\"description\":\"1. Wsp\\u00f3lny S\\u0142ownik Zam\\u00f3wie\\u0144: 45000000-7 Roboty budowlane2. Przedmiot zam\\u00f3wienia jest remont lokalu mieszkalnego nr 3 (pustostanu) z wydzieleniem i urz\\u0105dzeniem \\u0142azienki i budow\\u0105 instalacji C.O. w miejscowo\\u015bci Nawoj\\u00f3w \\u015al\\u0105ski 19C, dz. nr 471\\/8 gmina Luba\\u0144, powiat luba\\u0144ski -CHARAKTERYSTYKA BUDYNKU.Budynek mieszkalny wielorodzinny, dwukondygnacyjny z poddaszem u\\u017cytkowym, podpiwniczony. Mury z ceg\\u0142y, dach dwuspadowy wsparty na drewnianej wi\\u0119\\u017abie dachowej. Pokrycie z dach\\u00f3wki ceramicznej karpi\\u00f3wki. Kom\",\"sid\":\"info:117682\",\"awarded_value\":\"149999.00\",\"awarded_currency\":\"PLN\",\"awarded_value_eur\":\"32702.32\",\"purchaser\":{\"id\":\"799\",\"sid\":null,\"name\":null},\"type\":{\"id\":\"art-275-pkt-1-ustawy\",\"name\":\"art. 275 pkt 1 ustawy\",\"slug\":\"art-275-pkt-1-ustawy\"},\"awarded\":[{\"date\":\"2021-08-23\",\"value_for_two\":0,\"value_for_two_eur\":0,\"suppliers\":[{\"name\":\"AIRJAREK CONSTRUCTION Jaros\\u0142aw Hubacz\",\"id\":22978,\"slug\":\"airjarek-construction-jaroslaw-hubacz\"}],\"value_min\":\"149999.00\",\"value_for_three\":149999,\"value_for_one_eur\":0,\"count\":\"1\",\"value_for_one\":0,\"value_for_three_eur\":32702.32,\"suppliers_id\":\"22978\",\"value_eur\":32702.32,\"value_max\":\"164900.00\",\"offers_count\":[3],\"suppliers_name\":\"AIRJAREK CONSTRUCTION Jaros\\u0142aw Hubacz\",\"value\":\"149999.00\",\"value_estimated\":null,\"offers_count_data\":{\"3\":{\"value_eur\":32702.32,\"count\":\"1\",\"value\":\"149999.00\"}}}]},{\"id\":\"563140\",\"date\":\"2021-06-25\",\"deadline_date\":\"2021-07-05\",\"deadline_length_days\":\"10\",\"deadline_length_hours\":\"240\",\"title\":\"Sukcesywny zakup odczynnik\\u00f3w chemicznych oraz materia\\u0142\\u00f3w laboratoryjnych na potrzeby Pracowni Patologii oraz Pracowni Chemii WIW w Opolu\",\"category\":\"supplies\",\"description\":\"Przedmiotem zam\\u00f3wienia jest: Sukcesywny zakup odczynnik\\u00f3w chemicznych oraz materia\\u0142\\u00f3w laboratoryjnych na potrzeby Pracowni Patologii oraz Pracowni Chemii WIW w Opolu, w cz\\u0119\\u015bci nr 1: Sukcesywny zakup materia\\u0142\\u00f3w jednorazowych - prob\\u00f3wek, g\\u0142aszczek, ez oraz szkie\\u0142ek. Opis przedmiotu zam\\u00f3wienia zosta\\u0142 uj\\u0119ty w za\\u0142\\u0105czniku nr 1A do SWZ.\",\"sid\":\"info:116749\",\"awarded_value\":\"22377.02\",\"awarded_currency\":\"PLN\",\"awarded_value_eur\":\"4885.08\",\"purchaser\":{\"id\":\"18800\",\"sid\":null,\"name\":null},\"type\":{\"id\":\"art-275-pkt-1-ustawy\",\"name\":\"art. 275 pkt 1 ustawy\",\"slug\":\"art-275-pkt-1-ustawy\"},\"indicators\":[\"low_value_awarded\"],\"awarded\":[{\"date\":\"2021-08-23\",\"value_for_two\":0,\"value_for_two_eur\":0,\"suppliers\":[{\"name\":\"CEREUS WENA ADAM I GRA\\u017bYNA WITKOWSCY SP\\u00d3\\u0141KA JAWNA\",\"id\":23017,\"slug\":\"cereus-wena-adam-i-grazyna-witkowscy-spolka-jawna\"}],\"value_min\":\"6058.98\",\"value_for_three\":6489.48,\"value_for_one_eur\":0,\"count\":\"1\",\"value_for_one\":0,\"offers_declined\":[1],\"value_for_three_eur\":1414.82,\"suppliers_id\":\"23017\",\"value_eur\":1414.82,\"value_max\":\"29538.02\",\"offers_count\":[3],\"suppliers_name\":\"CEREUS WENA ADAM I GRA\\u017bYNA WITKOWSCY SP\\u00d3\\u0141KA JAWNA\",\"value\":\"6489.48\",\"value_estimated\":\"5991.87\",\"offers_count_data\":{\"3\":{\"value_eur\":1414.82,\"count\":\"1\",\"value\":\"6489.48\"}}},{\"date\":\"2021-07-29\",\"value_for_two\":11247,\"value_for_two_eur\":2456.64,\"suppliers\":[{\"name\":\"bioM\\u00e9rieux Polska Sp. z o. o.\",\"id\":369,\"slug\":\"biomerieux-polska-sp-z-o-o\"}],\"value_min\":\"11247.00\",\"value_for_three\":11247,\"offers_count_status\":\"only_one\",\"value_for_one_eur\":2456.64,\"count\":\"2\",\"value_for_one\":11247,\"value_for_three_eur\":2456.64,\"suppliers_id\":\"369\",\"value_eur\":2456.64,\"value_max\":\"11247.00\",\"offers_count\":[1],\"suppliers_name\":\"bioM\\u00e9rieux Polska Sp. z o. o.\",\"value\":\"11247.00\",\"value_estimated\":\"10092.59\",\"offers_count_data\":{\"1\":{\"value_eur\":2456.64,\"count\":\"2\",\"value\":\"11247.00\"}}},{\"date\":\"2021-07-29\",\"value_for_two\":4640.54,\"value_for_two_eur\":1013.62,\"suppliers\":[{\"name\":\"MAR-FOUR Marian Siekierski\",\"id\":456,\"slug\":\"mar-four-marian-siekierski\"}],\"value_min\":\"4640.54\",\"value_for_three\":4640.54,\"offers_count_status\":\"only_one\",\"value_for_one_eur\":1013.62,\"count\":\"2\",\"value_for_one\":4640.54,\"value_for_three_eur\":1013.62,\"suppliers_id\":\"456\",\"value_eur\":1013.62,\"value_max\":\"4640.54\",\"offers_count\":[1],\"suppliers_name\":\"MAR-FOUR Marian Siekierski\",\"value\":\"4640.54\",\"value_estimated\":\"4787.03\",\"offers_count_data\":{\"1\":{\"value_eur\":1013.62,\"count\":\"2\",\"value\":\"4640.54\"}}}]},{\"id\":\"564150\",\"date\":\"2021-06-18\",\"deadline_date\":\"2021-06-28\",\"deadline_length_days\":\"9\",\"deadline_length_hours\":\"238\",\"title\":\"Dostawa wyposa\\u017cenia technicznego na potrzeby funkcjonowania Teatru Muzycznego w Lublinie\",\"category\":\"supplies\",\"description\":\"Dostawa mikrofon\\u00f3w oraz kolumn g\\u0142o\\u015bnikowych. Opis przedmiotu zam\\u00f3wienia stanowi Za\\u0142\\u0105cznik nr 1.1. do SWZ.\",\"sid\":\"info:118244\",\"awarded_value\":\"125455.08\",\"awarded_currency\":\"PLN\",\"awarded_value_eur\":\"27403.41\",\"purchaser\":{\"id\":\"32268\",\"sid\":null,\"name\":null},\"type\":{\"id\":\"art-275-pkt-1-ustawy\",\"name\":\"art. 275 pkt 1 ustawy\",\"slug\":\"art-275-pkt-1-ustawy\"},\"indicators\":[\"low_value_awarded\"],\"awarded\":[{\"date\":\"2021-08-20\",\"value_for_two\":0,\"value_for_two_eur\":0,\"suppliers\":[{\"name\":\"\\\"M.Ostrowski sp\\u00f3\\u0142ka jawna\\\"\",\"id\":23143,\"slug\":\"m-ostrowski-spolka-jawna\"}],\"value_min\":\"76255.08\",\"value_for_three\":76255.08,\"value_for_one_eur\":0,\"count\":\"1\",\"value_for_one\":0,\"offers_declined\":[1],\"value_for_three_eur\":16615.12,\"suppliers_id\":\"23143\",\"value_eur\":16615.12,\"value_max\":\"86100.00\",\"offers_count\":[3],\"suppliers_name\":\"\\\"M.Ostrowski sp\\u00f3\\u0142ka jawna\\\"\",\"value\":\"76255.08\",\"value_estimated\":\"67687.79\",\"offers_count_data\":{\"3\":{\"value_eur\":16615.12,\"count\":\"1\",\"value\":\"76255.08\"}}},{\"date\":\"2021-08-17\",\"value_for_two\":49200,\"value_for_two_eur\":10788.29,\"suppliers\":[{\"name\":\"\\\"PROLIGHT\\\" sp. z o.o.\",\"id\":13011,\"slug\":\"prolight-sp-z-o-o\"}],\"value_min\":\"49200.00\",\"value_for_three\":49200,\"offers_count_status\":\"only_one\",\"value_for_one_eur\":10788.29,\"count\":\"1\",\"value_for_one\":49200,\"value_for_three_eur\":10788.29,\"suppliers_id\":\"13011\",\"value_eur\":10788.29,\"value_max\":\"49200.00\",\"offers_count\":[1],\"suppliers_name\":\"\\\"PROLIGHT\\\" sp. z o.o.\",\"value\":\"49200.00\",\"value_estimated\":\"42666.66\",\"offers_count_data\":{\"1\":{\"value_eur\":10788.29,\"count\":\"1\",\"value\":\"49200.00\"}}}]},{\"id\":\"564127\",\"date\":\"2021-07-07\",\"deadline_date\":\"2021-07-23\",\"deadline_length_days\":\"15\",\"deadline_length_hours\":\"383\",\"title\":\"\\u201eRemont istniej\\u0105cej nawierzchni publicznej drogi gminnej po\\u0142o\\u017conej na dzia\\u0142kach nr ewid. 5\\/1; 75; 81; 66 w km 0+000 \\u2013 0+670 w miejscowo\\u015bci Piotrowice\\u201d\",\"category\":\"constructions\",\"description\":\"Przedmiotem niniejszego zam\\u00f3wienia jest wykonanie remontu istniej\\u0105cej publicznej drogi gminnej. D\\u0142ugo\\u015b\\u0107 remontowanego odcinka drogi to 670 mb.Remont nawierzchni jezdni istniej\\u0105cej drogi gminnej nale\\u017cy przeprowadzi\\u0107 w nast\\u0119puj\\u0105cy spos\\u00f3b:1)Odcinek w km 0+000 \\u20130+403,75, oraz w km 0+578,10 \\u20130+670\\u2022 Warstwa \\u015bcieralna z betonu asfaltowego AC11S grubo\\u015bci 4,0cm.\\u2022 Warstwa wi\\u0105\\u017c\\u0105ca z betonu asfaltowego AC11W grubo\\u015b\\u0107 5,0 cm \\u2022 Podbudowa zasadnicza z mieszanki niezwi\\u0105zanej z kruszywa \\u0142amanego 0\\/31,50\\/31,5 mm g\",\"sid\":\"info:118190\",\"awarded_value\":\"473190.37\",\"awarded_currency\":\"PLN\",\"awarded_value_eur\":\"103102.82\",\"purchaser\":{\"id\":\"31902\",\"sid\":null,\"name\":null},\"type\":{\"id\":\"art-275-pkt-2-ustawy\",\"name\":\"art. 275 pkt 2 ustawy\",\"slug\":\"art-275-pkt-2-ustawy\"},\"awarded\":[{\"date\":\"2021-08-20\",\"value_for_two\":0,\"value_for_two_eur\":0,\"suppliers\":[{\"name\":\"Eurovia Polska S.A.\",\"id\":3227,\"slug\":\"eurovia-polska-s-a\"}],\"value_min\":\"473190.37\",\"value_for_three\":473190.37,\"value_for_one_eur\":0,\"count\":\"1\",\"value_for_one\":0,\"value_for_three_eur\":103102.82,\"suppliers_id\":\"3227\",\"value_eur\":103102.82,\"value_max\":\"728120.27\",\"offers_count\":[3],\"suppliers_name\":\"Eurovia Polska S.A.\",\"value\":\"473190.37\",\"value_estimated\":null,\"offers_count_data\":{\"3\":{\"value_eur\":103102.82,\"count\":\"1\",\"value\":\"473190.37\"}}}]},{\"id\":\"564122\",\"date\":\"2021-07-26\",\"deadline_date\":\"2021-08-10\",\"deadline_length_days\":\"14\",\"deadline_length_hours\":\"359\",\"title\":\"Prze\\u0142o\\u017cenie dach\\u00f3wki na budynku Zespo\\u0142u Szk\\u00f3\\u0142 Gastronomiczno \\u2013 Hotelarskich w Grudzi\\u0105dzu\",\"category\":\"constructions\",\"description\":\"1. Przedmiotem zam\\u00f3wienia jest wykonanie rob\\u00f3t budowlanych - \\u201ePrze\\u0142o\\u017cenie dach\\u00f3wki na budynku Zespo\\u0142u Szk\\u00f3\\u0142 Gastronomiczno \\u2013 Hotelarskich w Grudzi\\u0105dzu\\u201d zgodnie ze Specyfikacj\\u0105 Techniczn\\u0105 Wykonania i Odbioru Rob\\u00f3t Budowlanych (za\\u0142\\u0105cznik nr 1 do SWZ) oraz przedmiarem rob\\u00f3t (za\\u0142\\u0105cznik nr 1a do SWZ)\",\"sid\":\"info:118176\",\"awarded_value\":\"439611.40\",\"awarded_currency\":\"PLN\",\"awarded_value_eur\":\"95786.34\",\"purchaser\":{\"id\":\"32257\",\"sid\":null,\"name\":null},\"type\":{\"id\":\"art-275-pkt-1-ustawy\",\"name\":\"art. 275 pkt 1 ustawy\",\"slug\":\"art-275-pkt-1-ustawy\"},\"awarded\":[{\"date\":\"2021-08-20\",\"value_for_two\":439611.4,\"value_for_two_eur\":95786.34,\"suppliers\":[{\"name\":\"US\\u0141UGI BLACHARSKO - DEKARSKIE I OG\\u00d3LNOBUDOWLANE KRZYSZTOF G\\u0104SIOROWSKI\",\"id\":23030,\"slug\":\"uslugi-blacharsko-dekarskie-i-ogolnobudowlane-krzysztof-gasiorowski\"}],\"value_min\":\"439611.40\",\"value_for_three\":439611.4,\"offers_count_status\":\"only_one\",\"value_for_one_eur\":95786.34,\"count\":\"1\",\"value_for_one\":439611.4,\"value_for_three_eur\":95786.34,\"suppliers_id\":\"23030\",\"value_eur\":95786.34,\"value_max\":\"439611.40\",\"offers_count\":[1],\"suppliers_name\":\"US\\u0141UGI BLACHARSKO - DEKARSKIE I OG\\u00d3LNOBUDOWLANE KRZYSZTOF G\\u0104SIOROWSKI\",\"value\":\"439611.40\",\"value_estimated\":null,\"offers_count_data\":{\"1\":{\"value_eur\":95786.34,\"count\":\"1\",\"value\":\"439611.40\"}}}]},{\"id\":\"563900\",\"date\":\"2021-07-19\",\"deadline_date\":\"2021-08-03\",\"deadline_length_days\":\"15\",\"deadline_length_hours\":\"360\",\"title\":\"Modernizacja istniej\\u0105cej kot\\u0142owni olejowej w Domu Pomocy Spo\\u0142ecznej im. Jana i Marysie\\u0144ki Sobieskich w Kielcach\",\"category\":\"constructions\",\"description\":\"Roboty instalacyjno-budowlane polegaj\\u0105ce na zast\\u0105pieniu istniej\\u0105cej ponad dwudziestoletniej kot\\u0142owni olejowej now\\u0105 kot\\u0142owni\\u0105 gazow\\u0105, dostosowanie \\u017ar\\u00f3d\\u0142a ciep\\u0142a do obowi\\u0105zuj\\u0105cych obecnie przepis\\u00f3w w zakresie wymaga\\u0144 polskiego prawa i dyrektyw UE. W zakres prac wchodzi przystosowanie innego pomieszczenia na potrzeby kot\\u0142owni gazowej zgodnie z obecnymi przepisami oraz monta\\u017c w tym pomieszczeniu dw\\u00f3ch nowych kot\\u0142\\u00f3w gazowych kondensacyjnych DeDietrich typ EVODENS Pro AMC 65 Diematic Evolution (moc 13\",\"sid\":\"info:117769\",\"awarded_value\":\"224640.00\",\"awarded_currency\":\"PLN\",\"awarded_value_eur\":\"48946.51\",\"purchaser\":{\"id\":\"32235\",\"sid\":null,\"name\":null},\"type\":{\"id\":\"art-275-pkt-1-ustawy\",\"name\":\"art. 275 pkt 1 ustawy\",\"slug\":\"art-275-pkt-1-ustawy\"},\"awarded\":[{\"date\":\"2021-08-20\",\"value_for_two\":0,\"value_for_two_eur\":0,\"suppliers\":[{\"name\":\"Firma Us\\u0142ugowa Instalacje Hydrauliczne Szczepan Koniuszy\",\"id\":22983,\"slug\":\"firma-uslugowa-instalacje-hydrauliczne-szczepan-koniuszy\"}],\"value_min\":\"224640.00\",\"value_for_three\":0,\"value_for_one_eur\":0,\"count\":\"1\",\"value_for_one\":0,\"value_for_three_eur\":0,\"suppliers_id\":\"22983\",\"value_eur\":48946.51,\"value_max\":\"368290.68\",\"offers_count\":[4],\"suppliers_name\":\"Firma Us\\u0142ugowa Instalacje Hydrauliczne Szczepan Koniuszy\",\"value\":\"224640.00\",\"value_estimated\":null,\"offers_count_data\":{\"4\":{\"value_eur\":48946.51,\"count\":\"1\",\"value\":\"224640.00\"}}}]},{\"id\":\"563748\",\"date\":\"2021-06-22\",\"deadline_date\":\"2021-07-07\",\"deadline_length_days\":\"14\",\"deadline_length_hours\":\"356\",\"title\":\"Przebudowa drogi gminnej nr 163031G w Bytowie - ulica Mi\\u0142a od skrzy\\u017cowania z ulic\\u0105 Pochy\\u0142\\u0105 do skrzy\\u017cowania z ulic\\u0105 Gda\\u0144sk\\u0105\",\"category\":\"constructions\",\"description\":\"Zakres rob\\u00f3t obejmuje m.in.: a) rozbi\\u00f3rk\\u0119 istniej\\u0105cej nawierzchni asfaltowej, b) rozbi\\u00f3rk\\u0119 istniej\\u0105cej nawierzchni chodnik\\u00f3w i zjazd\\u00f3w z kostki betonowej, p\\u0142yt betonowych itp.,c) rozebranie ogrodze\\u0144 znajduj\\u0105cych si\\u0119 w pasie drogowym o ile wyst\\u0105pi taka konieczno\\u015b\\u0107,d) wykonanie regulacji, zabezpiecze\\u0144 urz\\u0105dze\\u0144 sieci, uzbrojenia (w\\u0142azy, studnie, hydranty, zawory i inne),e) budow\\u0119 drogi o nawierzchni bitumicznej i kostki betonowej na podstawie projekt\\u00f3w zamiennych,f) budow\\u0119 chodnik\\u00f3w z kostki betono\",\"sid\":\"info:117508\",\"awarded_value\":\"2890000.00\",\"awarded_currency\":\"PLN\",\"awarded_value_eur\":\"629698.22\",\"purchaser\":{\"id\":\"23788\",\"sid\":null,\"name\":null},\"type\":{\"id\":\"art-275-pkt-1-ustawy\",\"name\":\"art. 275 pkt 1 ustawy\",\"slug\":\"art-275-pkt-1-ustawy\"},\"awarded\":[{\"date\":\"2021-08-20\",\"value_for_two\":0,\"value_for_two_eur\":0,\"suppliers\":[{\"name\":\"Przedsi\\u0119biorstwo Drogowe Roman Jereczek\",\"id\":17589,\"slug\":\"przedsiebiorstwo-drogowe-roman-jereczek\"}],\"value_min\":\"2450000.00\",\"value_for_three\":0,\"value_for_one_eur\":0,\"count\":\"1\",\"value_for_one\":0,\"value_for_three_eur\":0,\"suppliers_id\":\"17589\",\"value_eur\":629698.22,\"value_max\":\"3122000.00\",\"offers_count\":[4],\"suppliers_name\":\"Przedsi\\u0119biorstwo Drogowe Roman Jereczek\",\"value\":\"2890000.00\",\"value_estimated\":null,\"offers_count_data\":{\"4\":{\"value_eur\":629698.22,\"count\":\"1\",\"value\":\"2890000.00\"}}}]},{\"id\":\"563717\",\"date\":\"2021-07-05\",\"deadline_date\":\"2021-07-20\",\"deadline_length_days\":\"14\",\"deadline_length_hours\":\"358\",\"title\":\"\\u201ePrzebudowa ulicy Poprzecznej na odc. Od ul. Jaktorowskiej do ul. Olszowej, Przebudowa ul. Krasi\\u0144skiego, Przebudowa ulicy Okrzei \\u201d\",\"category\":\"constructions\",\"description\":\"Przebudowa ulicy Poprzecznej na odc. Od ul. Jaktorowskiej do ul. Olszowej\",\"sid\":\"info:117457\",\"awarded_value\":\"1417472.67\",\"awarded_currency\":\"PLN\",\"awarded_value_eur\":\"308863.38\",\"purchaser\":{\"id\":\"23367\",\"sid\":null,\"name\":null},\"type\":{\"id\":\"art-275-pkt-1-ustawy\",\"name\":\"art. 275 pkt 1 ustawy\",\"slug\":\"art-275-pkt-1-ustawy\"},\"indicators\":[\"low_value_awarded\"],\"awarded\":[{\"date\":\"2021-08-20\",\"value_for_two\":0,\"value_for_two_eur\":0,\"suppliers\":[{\"name\":\"TiT BRUK Tomasz Knopik\",\"id\":18013,\"slug\":\"tit-bruk-tomasz-knopik\"}],\"value_min\":\"1348289.35\",\"value_for_three\":0,\"value_for_one_eur\":0,\"count\":\"1\",\"value_for_one\":0,\"value_for_three_eur\":0,\"suppliers_id\":\"18013\",\"value_eur\":293776.96,\"value_max\":\"1574268.09\",\"offers_count\":[4],\"suppliers_name\":\"TiT BRUK Tomasz Knopik\",\"value\":\"1348289.35\",\"value_estimated\":\"1567166.88\",\"offers_count_data\":{\"4\":{\"value_eur\":293776.96,\"count\":\"1\",\"value\":\"1348289.35\"}}},{\"date\":\"2021-08-11\",\"value_for_two\":69183.32,\"value_for_two_eur\":15086.42,\"suppliers\":[{\"name\":\"Zak\\u0142ad Us\\u0142ug Terenowych Budowlanych i Porz\\u0105dkowych Margot Ma\\u0142gorzata Szyma\\u0144ska w spadku\",\"id\":17509,\"slug\":\"zaklad-uslug-terenowych-budowlanych-i-porzadkowych-margot-malgorzata-szymanska-w-spadku\"}],\"value_min\":\"69183.32\",\"value_for_three\":69183.32,\"value_for_one_eur\":0,\"count\":\"1\",\"value_for_one\":0,\"value_for_three_eur\":15086.42,\"suppliers_id\":\"17509\",\"value_eur\":15086.42,\"value_max\":\"147690.63\",\"offers_count\":[2],\"suppliers_name\":\"Zak\\u0142ad Us\\u0142ug Terenowych Budowlanych i Porz\\u0105dkowych Margot Ma\\u0142gorzata Szyma\\u0144ska w spadku\",\"value\":\"69183.32\",\"value_estimated\":\"58676.97\",\"offers_count_data\":{\"2\":{\"value_eur\":15086.42,\"count\":\"1\",\"value\":\"69183.32\"}}}]},{\"id\":\"560347\",\"date\":\"2021-06-24\",\"deadline_date\":\"2021-07-05\",\"deadline_length_days\":\"10\",\"deadline_length_hours\":\"262\",\"title\":\"Dostawa materia\\u0142\\u00f3w kolejowych.\",\"category\":\"supplies\",\"description\":\"Przedmiotem zam\\u00f3wienia jest dostawa do Zamawiaj\\u0105cego 18 ton szyn S24, d\\u0142ugo\\u015bci 6 mb,otworowanych. Zgodnie z Polsk\\u0105 Norm\\u0105 PN-79\\/H-93422 (rys. Za\\u0142\\u0105cznik Nr 5 do SWZ)Zamawiaj\\u0105cy wyra\\u017ca zgod\\u0119 na dostaw\\u0119 szyn S24 w gatunku stali R200 wykonanych zgodnie z AT\\/07-2016-0226-01 (dwustronnie otworowane)\",\"sid\":\"info:110423\",\"awarded_value\":\"299399.22\",\"awarded_currency\":\"PLN\",\"awarded_value_eur\":\"65241.65\",\"purchaser\":{\"id\":\"26887\",\"sid\":null,\"name\":null},\"type\":{\"id\":\"art-275-pkt-1-ustawy\",\"name\":\"art. 275 pkt 1 ustawy\",\"slug\":\"art-275-pkt-1-ustawy\"},\"awarded\":[{\"date\":\"2021-08-20\",\"value_for_two\":174013.02,\"value_for_two_eur\":37915.46,\"suppliers\":[{\"name\":\"Zak\\u0142ad Mechaniczny Rozkop Jaromin Eugeniusz i wsp\\u00f3lnicy Sp\\u00f3\\u0142ka Jawna\",\"id\":22762,\"slug\":\"zaklad-mechaniczny-rozkop-jaromin-eugeniusz-i-wspolnicy-spolka-jawna\"}],\"value_min\":\"174013.02\",\"value_for_three\":174013.02,\"offers_count_status\":\"only_one\",\"value_for_one_eur\":37915.46,\"count\":\"1\",\"value_for_one\":174013.02,\"value_for_three_eur\":37915.46,\"suppliers_id\":\"22762\",\"value_eur\":37915.46,\"value_max\":\"174013.02\",\"offers_count\":[1],\"suppliers_name\":\"Zak\\u0142ad Mechaniczny Rozkop Jaromin Eugeniusz i wsp\\u00f3lnicy Sp\\u00f3\\u0142ka Jawna\",\"value\":\"174013.02\",\"value_estimated\":\"141474.00\",\"offers_count_data\":{\"1\":{\"value_eur\":37915.46,\"count\":\"1\",\"value\":\"174013.02\"}}},{\"date\":\"2021-07-19\",\"value_for_two\":125386.2,\"value_for_two_eur\":27326.19,\"suppliers\":[{\"name\":\"MORIS Sp\\u00f3\\u0142ka z ograniczon\\u0105 odpowiedzialno\\u015bci\\u0105\",\"id\":22761,\"slug\":\"moris-spolka-z-ograniczona-odpowiedzialnoscia\"}],\"value_min\":\"125386.20\",\"value_for_three\":125386.2,\"offers_count_status\":\"only_one\",\"value_for_one_eur\":27326.19,\"count\":\"2\",\"value_for_one\":125386.2,\"value_for_three_eur\":27326.19,\"suppliers_id\":\"22761\",\"value_eur\":27326.19,\"value_max\":\"125386.20\",\"offers_count\":[1],\"suppliers_name\":\"MORIS Sp\\u00f3\\u0142ka z ograniczon\\u0105 odpowiedzialno\\u015bci\\u0105\",\"value\":\"125386.20\",\"value_estimated\":\"101705.00\",\"offers_count_data\":{\"1\":{\"value_eur\":27326.19,\"count\":\"2\",\"value\":\"125386.20\"}}}]},{\"id\":\"564160\",\"date\":\"2021-07-28\",\"deadline_date\":\"2021-08-06\",\"deadline_length_days\":\"9\",\"deadline_length_hours\":\"216\",\"title\":\"\\u015awiadczenie us\\u0142ugi serwisu pogwarancyjnego mro\\u017ani niskotemperaturowych PZ22 i PZ23\",\"category\":\"services\",\"description\":\"1. Przedmiotem zam\\u00f3wienia jest \\u015bwiadczenie us\\u0142ugi kompleksowego serwisu pogwarancyjnego mro\\u017ani niskotemperaturowych PZ22 i PZ23 wraz z us\\u0142ug\\u0105 informatyczn\\u0105 oraz rocznym przegl\\u0105dem technicznym rega\\u0142\\u00f3w mro\\u017ani i urz\\u0105dze\\u0144 towarzysz\\u0105cych.2. Szczeg\\u00f3\\u0142owy opis przedmiotu zam\\u00f3wienia zawarty zosta\\u0142 w Za\\u0142\\u0105czniku nr 1 do SWZ oraz we Wzorze umowy, stanowi\\u0105cym Za\\u0142\\u0105cznik nr 6 do SWZ.\",\"sid\":\"info:118271\",\"awarded_value\":\"172534.56\",\"awarded_currency\":\"PLN\",\"awarded_value_eur\":\"37645.00\",\"purchaser\":{\"id\":\"25371\",\"sid\":null,\"name\":null},\"type\":{\"id\":\"art-275-pkt-1-ustawy\",\"name\":\"art. 275 pkt 1 ustawy\",\"slug\":\"art-275-pkt-1-ustawy\"},\"awarded\":[{\"date\":\"2021-08-19\",\"value_for_two\":172534.56,\"value_for_two_eur\":37645,\"suppliers\":[{\"name\":\"M2M Team Sp. z o.o.\",\"id\":14826,\"slug\":\"m2m-team-sp-z-o-o\"}],\"value_min\":\"172534.56\",\"value_for_three\":172534.56,\"offers_count_status\":\"only_one\",\"value_for_one_eur\":37645,\"count\":\"1\",\"value_for_one\":172534.56,\"value_for_three_eur\":37645,\"suppliers_id\":\"14826\",\"value_eur\":37645,\"value_max\":\"172534.56\",\"offers_count\":[1],\"suppliers_name\":\"M2M Team Sp. z o.o.\",\"value\":\"172534.56\",\"value_estimated\":null,\"offers_count_data\":{\"1\":{\"value_eur\":37645,\"count\":\"1\",\"value\":\"172534.56\"}}}]},{\"id\":\"564152\",\"date\":\"2021-07-13\",\"deadline_date\":\"2021-07-30\",\"deadline_length_days\":\"17\",\"deadline_length_hours\":\"412\",\"title\":\"\\\"Wykonanie uj\\u0119cia w\\u00f3d podziemnych z utwor\\u00f3w trzeciorz\\u0119dowych\\u2013otworu studziennego nr 2 (awaryjnego)dla potrzeb wodoci\\u0105gu wiejskiego w miejscowo\\u015bci Gole\\u0144sko\\u201d\",\"category\":\"constructions\",\"description\":\"1. Przedmiotem zam\\u00f3wienia jest wykonanie otworu studziennego, rozpoznawczego nr 2 (awaryjnego) w miejscowo\\u015bci Gole\\u0144sko w celu uj\\u0119cia wody podziemnej z utwor\\u00f3w trzeciorz\\u0119dowych o projektowanej g\\u0142\\u0119boko\\u015bci oko\\u0142o 139,0 m zgodnie z \\u201eProjektem rob\\u00f3t geologicznych na wykonanie uj\\u0119cia w\\u00f3d podziemnych z utwor\\u00f3w trzeciorz\\u0119dowych \\u2013 otworu studziennego nr 2 (awaryjnego) dla potrzeb wodoci\\u0105gu wiejskiego\\u201d zatwierdzonym decyzj\\u0105 Starosty \\u0141owickiego znak: OS.6530.6.2020 z dnia 1 wrze\\u015bnia 2020 roku - Za\\u0142\\u0105cznikiem\",\"sid\":\"info:118250\",\"awarded_value\":\"385678.80\",\"awarded_currency\":\"PLN\",\"awarded_value_eur\":\"84150.55\",\"purchaser\":{\"id\":\"29781\",\"sid\":null,\"name\":null},\"type\":{\"id\":\"art-275-pkt-1-ustawy\",\"name\":\"art. 275 pkt 1 ustawy\",\"slug\":\"art-275-pkt-1-ustawy\"},\"awarded\":[{\"date\":\"2021-08-19\",\"value_for_two\":0,\"value_for_two_eur\":0,\"suppliers\":[{\"name\":\"Zak\\u0142ad Studniarski Leopold \\u015amia\\u0142kowski\",\"id\":2896,\"slug\":\"zaklad-studniarski-leopold-smialkowski\"}],\"value_min\":\"385678.80\",\"value_for_three\":0,\"value_for_one_eur\":0,\"count\":\"1\",\"value_for_one\":0,\"value_for_three_eur\":0,\"suppliers_id\":\"2896\",\"value_eur\":84150.55,\"value_max\":\"611064.00\",\"offers_count\":[4],\"suppliers_name\":\"Zak\\u0142ad Studniarski Leopold \\u015amia\\u0142kowski\",\"value\":\"385678.80\",\"value_estimated\":null,\"offers_count_data\":{\"4\":{\"value_eur\":84150.55,\"count\":\"1\",\"value\":\"385678.80\"}}}]},{\"id\":\"564119\",\"date\":\"2021-07-06\",\"deadline_date\":\"2021-07-22\",\"deadline_length_days\":\"15\",\"deadline_length_hours\":\"376\",\"title\":\"Przebudowa drogi le\\u015bnej na terenie Le\\u015bnictwa Nasuty oddz. 65, 66, 67\",\"category\":\"constructions\",\"description\":\"Zakres prac zam\\u00f3wienia pod nazw\\u0105 \\u201ePrzebudowa drogi le\\u015bnej na terenie Le\\u015bnictwa Nasuty oddz. 65, 66, 67\\u201d obejmuje przebudow\\u0119 drogi le\\u015bnej na d\\u0142ugo\\u015bci 1320 m, szeroko\\u015b\\u0107 3,50 m o konstrukcji z kruszywa naturalnego. Podbudowa grubo\\u015bci 20 cm z kruszywa 0-63 mm, warstwa g\\u00f3rna grubo\\u015bci 12 cm z kruszywa 0-31,5 mm.Prace realizowane b\\u0119d\\u0105 na dzia\\u0142kach o nr ewid.: 66, 67, 272, 265; Wojew\\u00f3dztwo: warmi\\u0144sko-mazurskie; Powiat go\\u0142dapski; Gmina: Go\\u0142dap; Obr\\u0119b: 0030 Zatyki, b\\u0119d\\u0105cych w dysponowaniu Inwestora. Przed\",\"sid\":\"info:118170\",\"awarded_value\":\"441235.39\",\"awarded_currency\":\"PLN\",\"awarded_value_eur\":\"96272.34\",\"purchaser\":{\"id\":\"32256\",\"sid\":null,\"name\":null},\"type\":{\"id\":\"art-275-pkt-1-ustawy\",\"name\":\"art. 275 pkt 1 ustawy\",\"slug\":\"art-275-pkt-1-ustawy\"},\"awarded\":[{\"date\":\"2021-08-19\",\"value_for_two\":0,\"value_for_two_eur\":0,\"suppliers\":[{\"name\":\"Us\\u0142ugi Transportowe Andrzej Korenkiewicz\",\"id\":23029,\"slug\":\"uslugi-transportowe-andrzej-korenkiewicz\"}],\"value_min\":\"441235.39\",\"value_for_three\":0,\"value_for_one_eur\":0,\"count\":\"1\",\"value_for_one\":0,\"value_for_three_eur\":0,\"suppliers_id\":\"23029\",\"value_eur\":96272.34,\"value_max\":\"1029992.16\",\"offers_count\":[4],\"suppliers_name\":\"Us\\u0142ugi Transportowe Andrzej Korenkiewicz\",\"value\":\"441235.39\",\"value_estimated\":null,\"offers_count_data\":{\"4\":{\"value_eur\":96272.34,\"count\":\"1\",\"value\":\"441235.39\"}}}]},{\"id\":\"564021\",\"date\":\"2021-07-08\",\"deadline_date\":\"2021-07-23\",\"deadline_length_days\":\"14\",\"deadline_length_hours\":\"357\",\"title\":\"Zagospodarowanie terenu wok\\u00f3\\u0142 dawnego Spichlerza w so\\u0142ectwie Ha\\u017clach - II etap rewitalizacji centrum Ha\\u017clacha w zakresie wykonania pumptack\\u00f3w i placu zabaw\",\"category\":\"constructions\",\"description\":\"Cz\\u0119\\u015b\\u0107 (zadanie) nr I \\u2013 Plac zabaw1. Wykonanie placu zabaw o nawierzchni bezpiecznej,2. Monta\\u017c wyposa\\u017cenia placu zabaw, 3. Budowa niskiego ogrodzenia wok\\u00f3\\u0142 placu zabaw, 4. Monta\\u017c trampolin terenowych\",\"sid\":\"info:117996\",\"awarded_value\":\"109843.11\",\"awarded_currency\":\"PLN\",\"awarded_value_eur\":\"23966.47\",\"purchaser\":{\"id\":\"13456\",\"sid\":null,\"name\":null},\"type\":{\"id\":\"art-275-pkt-1-ustawy\",\"name\":\"art. 275 pkt 1 ustawy\",\"slug\":\"art-275-pkt-1-ustawy\"},\"indicators\":[\"low_value_awarded\"],\"awarded\":[{\"date\":\"2021-08-19\",\"value_for_two\":109843.11,\"value_for_two_eur\":23966.47,\"suppliers\":[{\"name\":\"P.P.U.H. WASP-BUD Jaros\\u0142aw Spandel\",\"id\":20140,\"slug\":\"p-p-u-h-wasp-bud-jaroslaw-spandel\"}],\"value_min\":\"109843.11\",\"value_for_three\":109843.11,\"offers_count_status\":\"only_one\",\"value_for_one_eur\":23966.47,\"count\":\"1\",\"value_for_one\":109843.11,\"value_for_three_eur\":23966.47,\"suppliers_id\":\"20140\",\"value_eur\":23966.47,\"value_max\":\"109843.11\",\"offers_count\":[1],\"suppliers_name\":\"P.P.U.H. WASP-BUD Jaros\\u0142aw Spandel\",\"value\":\"109843.11\",\"value_estimated\":\"1000374.10\",\"offers_count_data\":{\"1\":{\"value_eur\":23966.47,\"count\":\"1\",\"value\":\"109843.11\"}}}]},{\"id\":\"563953\",\"date\":\"2021-07-26\",\"deadline_date\":\"2021-08-06\",\"deadline_length_days\":\"11\",\"deadline_length_hours\":\"265\",\"title\":\"Zakup i dostawa aparatu ultrasonograficznego dla Kliniki Po\\u0142o\\u017cnictwa i Ginekologii oraz zakup i dostawa aparatu USG z funkcj\\u0105 echokardiografii z wyposa\\u017ceniem na potrzeby I Kliniki Kardiologii WSzZ\",\"category\":\"supplies\",\"description\":\"Przedmiotem zam\\u00f3wienia jest zakup i dostawa aparatu ultrasonograficznego w ramach zadania pn. \\u201eInwestycje w ochronie zdrowia na zakup aparatu ultrasonograficznego dla Kliniki Po\\u0142o\\u017cnictwa i Ginekologii Wojew\\u00f3dzkiego Szpitala Zespolonego w Kielcach\\u201d\",\"sid\":\"info:117868\",\"awarded_value\":\"661059.36\",\"awarded_currency\":\"PLN\",\"awarded_value_eur\":\"144235.33\",\"purchaser\":{\"id\":\"2959\",\"sid\":null,\"name\":null},\"type\":{\"id\":\"art-275-pkt-1-ustawy\",\"name\":\"art. 275 pkt 1 ustawy\",\"slug\":\"art-275-pkt-1-ustawy\"},\"awarded\":[{\"date\":\"2021-08-19\",\"value_for_two\":661059.36,\"value_for_two_eur\":144235.33,\"suppliers\":[{\"name\":\"GE Medical Systems Polska Sp. z o.o.\",\"id\":299,\"slug\":\"ge-medical-systems-polska-sp-z-o-o\"}],\"value_min\":\"661059.36\",\"value_for_three\":661059.36,\"offers_count_status\":\"only_one\",\"value_for_one_eur\":144235.33,\"count\":\"2\",\"value_for_one\":661059.36,\"value_for_three_eur\":144235.33,\"suppliers_id\":\"299\",\"value_eur\":144235.33,\"value_max\":\"661059.36\",\"offers_count\":[1],\"suppliers_name\":\"GE Medical Systems Polska Sp. z o.o.\",\"value\":\"661059.36\",\"value_estimated\":\"612092.00\",\"offers_count_data\":{\"1\":{\"value_eur\":144235.33,\"count\":\"2\",\"value\":\"661059.36\"}}}]},{\"id\":\"563932\",\"date\":\"2021-07-20\",\"deadline_date\":\"2021-07-28\",\"deadline_length_days\":\"8\",\"deadline_length_hours\":\"198\",\"title\":\"Us\\u0142uga programistyczna polegaj\\u0105ca na przygotowaniu architektury systemu internetowej Platformy Producent-Projektant\",\"category\":\"services\",\"description\":\"Przedmiotem zam\\u00f3wienia jest platforma do tworzenia specyfikacji rob\\u00f3t budowlanych do projekt\\u00f3w obiekt\\u00f3w budowlanych.\",\"sid\":\"info:117824\",\"awarded_value\":\"23370.00\",\"awarded_currency\":\"PLN\",\"awarded_value_eur\":\"5099.06\",\"purchaser\":{\"id\":\"24141\",\"sid\":null,\"name\":null},\"type\":{\"id\":\"art-275-pkt-1-ustawy\",\"name\":\"art. 275 pkt 1 ustawy\",\"slug\":\"art-275-pkt-1-ustawy\"},\"awarded\":[{\"date\":\"2021-08-19\",\"value_for_two\":12915,\"value_for_two_eur\":2817.9,\"suppliers\":[{\"name\":\"MIPCLOUD R&D Sp. z o.o.\",\"id\":22991,\"slug\":\"mipcloud-r-d-sp-z-o-o\"}],\"value_min\":\"12915.00\",\"value_for_three\":12915,\"offers_count_status\":\"only_one\",\"value_for_one_eur\":2817.9,\"count\":\"1\",\"value_for_one\":12915,\"value_for_three_eur\":2817.9,\"suppliers_id\":\"22991\",\"value_eur\":2817.9,\"value_max\":\"12915.00\",\"offers_count\":[1],\"suppliers_name\":\"MIPCLOUD R&D Sp. z o.o.\",\"value\":\"12915.00\",\"value_estimated\":\"13284.00\",\"offers_count_data\":{\"1\":{\"value_eur\":2817.9,\"count\":\"1\",\"value\":\"12915.00\"}}},{\"date\":\"2021-08-19\",\"value_for_two\":10455,\"value_for_two_eur\":2281.16,\"suppliers\":[{\"name\":\"Figa Studio Monika Krzesiak Ul. Puszczyka 12\\/39 02-785 Warszawa\",\"id\":22992,\"slug\":\"figa-studio-monika-krzesiak-ul-puszczyka-12-39-02-785-warszawa\"}],\"value_min\":\"10455.00\",\"value_for_three\":10455,\"value_for_one_eur\":0,\"count\":\"1\",\"value_for_one\":0,\"value_for_three_eur\":2281.16,\"suppliers_id\":\"22992\",\"value_eur\":2281.16,\"value_max\":\"12915.00\",\"offers_count\":[2],\"suppliers_name\":\"Figa Studio Monika Krzesiak Ul. Puszczyka 12\\/39 02-785 Warszawa\",\"value\":\"10455.00\",\"value_estimated\":\"13284.00\",\"offers_count_data\":{\"2\":{\"value_eur\":2281.16,\"count\":\"1\",\"value\":\"10455.00\"}}}]}]}\n"
     ]
    }
   ],
   "source": [
    "print(response.text)"
   ]
  },
  {
   "cell_type": "code",
   "execution_count": 27,
   "metadata": {},
   "outputs": [
    {
     "data": {
      "text/plain": [
       "{'id': '580850',\n",
       " 'date': '2022-08-22',\n",
       " 'deadline_date': '2022-08-30',\n",
       " 'deadline_length_days': '7',\n",
       " 'deadline_length_hours': '190',\n",
       " 'title': 'Dostawa materiałów biurowych i papieru ksero.',\n",
       " 'category': 'supplies',\n",
       " 'description': '1. Przedmiotem niniejszego zamówienia jest sukcesywna dostawa materiałów biurowych i papieru ksero, zgodnie z zapisami zawartymi w formularzu asortymentowo-cenowym, stanowiącym załącznik nr 2 do SWZPakiet 1 – materiały biurowe',\n",
       " 'sid': 'info:154340',\n",
       " 'awarded_value': '448671.46',\n",
       " 'awarded_currency': 'PLN',\n",
       " 'awarded_value_eur': '95533.15',\n",
       " 'purchaser': {'id': '23041', 'sid': None, 'name': None},\n",
       " 'type': {'id': 'art-275-pkt-1-ustawy',\n",
       "  'name': 'art. 275 pkt 1 ustawy',\n",
       "  'slug': 'art-275-pkt-1-ustawy'},\n",
       " 'awarded': [{'date': '2022-09-12',\n",
       "   'value_for_two': 164757.94,\n",
       "   'value_for_two_eur': 35081.01,\n",
       "   'suppliers': [{'name': 'PAPIRUS sp. j. M. Górecki, A. Nowicki, J. Karyś',\n",
       "     'id': 2937,\n",
       "     'slug': 'papirus-sp-j-m-gorecki-a-nowicki-j-karys'}],\n",
       "   'value_min': '448671.46',\n",
       "   'value_for_three': 448671.46,\n",
       "   'value_for_one_eur': 0,\n",
       "   'count': '2',\n",
       "   'value_for_one': 0,\n",
       "   'offers_declined': [1],\n",
       "   'value_for_three_eur': 95533.15,\n",
       "   'suppliers_id': '2937',\n",
       "   'value_eur': 95533.15,\n",
       "   'value_max': '490141.50',\n",
       "   'offers_count': [2, 3],\n",
       "   'suppliers_name': 'PAPIRUS sp. j. M. Górecki, A. Nowicki, J. Karyś',\n",
       "   'value': '448671.46',\n",
       "   'value_estimated': '653940.00',\n",
       "   'offers_count_data': {'2': {'value_eur': 35081.01,\n",
       "     'count': '1',\n",
       "     'value': '164757.94'},\n",
       "    '3': {'value_eur': 60452.15, 'count': '1', 'value': '283913.52'}}}]}"
      ]
     },
     "execution_count": 27,
     "metadata": {},
     "output_type": "execute_result"
    }
   ],
   "source": [
    "results['data'][0]"
   ]
  },
  {
   "cell_type": "code",
   "execution_count": 28,
   "metadata": {},
   "outputs": [
    {
     "data": {
      "text/html": [
       "<div>\n",
       "<style scoped>\n",
       "    .dataframe tbody tr th:only-of-type {\n",
       "        vertical-align: middle;\n",
       "    }\n",
       "\n",
       "    .dataframe tbody tr th {\n",
       "        vertical-align: top;\n",
       "    }\n",
       "\n",
       "    .dataframe thead th {\n",
       "        text-align: right;\n",
       "    }\n",
       "</style>\n",
       "<table border=\"1\" class=\"dataframe\">\n",
       "  <thead>\n",
       "    <tr style=\"text-align: right;\">\n",
       "      <th></th>\n",
       "      <th>id</th>\n",
       "      <th>date</th>\n",
       "      <th>deadline_date</th>\n",
       "      <th>deadline_length_days</th>\n",
       "      <th>deadline_length_hours</th>\n",
       "      <th>title</th>\n",
       "      <th>category</th>\n",
       "      <th>description</th>\n",
       "      <th>sid</th>\n",
       "      <th>awarded_value</th>\n",
       "      <th>awarded_currency</th>\n",
       "      <th>awarded_value_eur</th>\n",
       "      <th>purchaser</th>\n",
       "      <th>type</th>\n",
       "      <th>awarded</th>\n",
       "      <th>indicators</th>\n",
       "    </tr>\n",
       "  </thead>\n",
       "  <tbody>\n",
       "    <tr>\n",
       "      <th>0</th>\n",
       "      <td>580850</td>\n",
       "      <td>2022-08-22</td>\n",
       "      <td>2022-08-30</td>\n",
       "      <td>7</td>\n",
       "      <td>190</td>\n",
       "      <td>Dostawa materiałów biurowych i papieru ksero.</td>\n",
       "      <td>supplies</td>\n",
       "      <td>1. Przedmiotem niniejszego zamówienia jest suk...</td>\n",
       "      <td>info:154340</td>\n",
       "      <td>448671.46</td>\n",
       "      <td>PLN</td>\n",
       "      <td>95533.15</td>\n",
       "      <td>{'id': '23041', 'sid': None, 'name': None}</td>\n",
       "      <td>{'id': 'art-275-pkt-1-ustawy', 'name': 'art. 2...</td>\n",
       "      <td>[{'date': '2022-09-12', 'value_for_two': 16475...</td>\n",
       "      <td>NaN</td>\n",
       "    </tr>\n",
       "    <tr>\n",
       "      <th>1</th>\n",
       "      <td>579782</td>\n",
       "      <td>2022-06-28</td>\n",
       "      <td>2022-07-06</td>\n",
       "      <td>7</td>\n",
       "      <td>189</td>\n",
       "      <td>Opracowanie dokumentacji projektowej przebudow...</td>\n",
       "      <td>services</td>\n",
       "      <td>1. Przedmiotem postępowania i zamówienia jest:...</td>\n",
       "      <td>info:151611</td>\n",
       "      <td>22755.00</td>\n",
       "      <td>PLN</td>\n",
       "      <td>4832.75</td>\n",
       "      <td>{'id': '23080', 'sid': None, 'name': None}</td>\n",
       "      <td>{'id': 'art-275-pkt-1-ustawy', 'name': 'art. 2...</td>\n",
       "      <td>[{'date': '2022-08-09', 'value_for_two': 0, 'v...</td>\n",
       "      <td>NaN</td>\n",
       "    </tr>\n",
       "    <tr>\n",
       "      <th>2</th>\n",
       "      <td>578226</td>\n",
       "      <td>2022-06-13</td>\n",
       "      <td>2022-06-23</td>\n",
       "      <td>10</td>\n",
       "      <td>240</td>\n",
       "      <td>dostawa komponentów do rozbudowy podsystemu pa...</td>\n",
       "      <td>supplies</td>\n",
       "      <td>Przedmiotem zamówienia jest dostawa komponentó...</td>\n",
       "      <td>info:147901</td>\n",
       "      <td>1058977.11</td>\n",
       "      <td>PLN</td>\n",
       "      <td>222483.53</td>\n",
       "      <td>{'id': '14019', 'sid': None, 'name': None}</td>\n",
       "      <td>{'id': 'art-275-pkt-1-ustawy', 'name': 'art. 2...</td>\n",
       "      <td>[{'date': '2022-07-19', 'value_for_two': 10589...</td>\n",
       "      <td>NaN</td>\n",
       "    </tr>\n",
       "  </tbody>\n",
       "</table>\n",
       "</div>"
      ],
      "text/plain": [
       "       id  ... indicators\n",
       "0  580850  ...        NaN\n",
       "1  579782  ...        NaN\n",
       "2  578226  ...        NaN\n",
       "\n",
       "[3 rows x 16 columns]"
      ]
     },
     "execution_count": 28,
     "metadata": {},
     "output_type": "execute_result"
    }
   ],
   "source": [
    "data = pd.DataFrame.from_dict(results['data'])\n",
    "\n",
    "data.head(3)"
   ]
  },
  {
   "cell_type": "code",
   "execution_count": 29,
   "metadata": {},
   "outputs": [],
   "source": [
    "def flatten(data, col_list):\n",
    "    for column in col_list:\n",
    "        flattened = pd.DataFrame(dict(data[column])).transpose()\n",
    "        columns = [str(col) for col in flattened.columns]\n",
    "        flattened.columns = [column + '_' + colname for colname in columns]\n",
    "        data = pd.concat([data, flattened], axis=1)\n",
    "        data = data.drop(column, axis=1)\n",
    "    return data"
   ]
  },
  {
   "cell_type": "code",
   "execution_count": 30,
   "metadata": {},
   "outputs": [
    {
     "data": {
      "text/html": [
       "<div>\n",
       "<style scoped>\n",
       "    .dataframe tbody tr th:only-of-type {\n",
       "        vertical-align: middle;\n",
       "    }\n",
       "\n",
       "    .dataframe tbody tr th {\n",
       "        vertical-align: top;\n",
       "    }\n",
       "\n",
       "    .dataframe thead th {\n",
       "        text-align: right;\n",
       "    }\n",
       "</style>\n",
       "<table border=\"1\" class=\"dataframe\">\n",
       "  <thead>\n",
       "    <tr style=\"text-align: right;\">\n",
       "      <th></th>\n",
       "      <th>id</th>\n",
       "      <th>date</th>\n",
       "      <th>deadline_date</th>\n",
       "      <th>deadline_length_days</th>\n",
       "      <th>deadline_length_hours</th>\n",
       "      <th>title</th>\n",
       "      <th>category</th>\n",
       "      <th>description</th>\n",
       "      <th>sid</th>\n",
       "      <th>awarded_value</th>\n",
       "      <th>awarded_currency</th>\n",
       "      <th>awarded_value_eur</th>\n",
       "      <th>awarded</th>\n",
       "      <th>indicators</th>\n",
       "      <th>purchaser_id</th>\n",
       "      <th>purchaser_sid</th>\n",
       "      <th>purchaser_name</th>\n",
       "      <th>type_id</th>\n",
       "      <th>type_name</th>\n",
       "      <th>type_slug</th>\n",
       "    </tr>\n",
       "  </thead>\n",
       "  <tbody>\n",
       "    <tr>\n",
       "      <th>0</th>\n",
       "      <td>580850</td>\n",
       "      <td>2022-08-22</td>\n",
       "      <td>2022-08-30</td>\n",
       "      <td>7</td>\n",
       "      <td>190</td>\n",
       "      <td>Dostawa materiałów biurowych i papieru ksero.</td>\n",
       "      <td>supplies</td>\n",
       "      <td>1. Przedmiotem niniejszego zamówienia jest suk...</td>\n",
       "      <td>info:154340</td>\n",
       "      <td>448671.46</td>\n",
       "      <td>PLN</td>\n",
       "      <td>95533.15</td>\n",
       "      <td>[{'date': '2022-09-12', 'value_for_two': 16475...</td>\n",
       "      <td>NaN</td>\n",
       "      <td>23041</td>\n",
       "      <td>None</td>\n",
       "      <td>None</td>\n",
       "      <td>art-275-pkt-1-ustawy</td>\n",
       "      <td>art. 275 pkt 1 ustawy</td>\n",
       "      <td>art-275-pkt-1-ustawy</td>\n",
       "    </tr>\n",
       "    <tr>\n",
       "      <th>1</th>\n",
       "      <td>579782</td>\n",
       "      <td>2022-06-28</td>\n",
       "      <td>2022-07-06</td>\n",
       "      <td>7</td>\n",
       "      <td>189</td>\n",
       "      <td>Opracowanie dokumentacji projektowej przebudow...</td>\n",
       "      <td>services</td>\n",
       "      <td>1. Przedmiotem postępowania i zamówienia jest:...</td>\n",
       "      <td>info:151611</td>\n",
       "      <td>22755.00</td>\n",
       "      <td>PLN</td>\n",
       "      <td>4832.75</td>\n",
       "      <td>[{'date': '2022-08-09', 'value_for_two': 0, 'v...</td>\n",
       "      <td>NaN</td>\n",
       "      <td>23080</td>\n",
       "      <td>None</td>\n",
       "      <td>None</td>\n",
       "      <td>art-275-pkt-1-ustawy</td>\n",
       "      <td>art. 275 pkt 1 ustawy</td>\n",
       "      <td>art-275-pkt-1-ustawy</td>\n",
       "    </tr>\n",
       "    <tr>\n",
       "      <th>2</th>\n",
       "      <td>578226</td>\n",
       "      <td>2022-06-13</td>\n",
       "      <td>2022-06-23</td>\n",
       "      <td>10</td>\n",
       "      <td>240</td>\n",
       "      <td>dostawa komponentów do rozbudowy podsystemu pa...</td>\n",
       "      <td>supplies</td>\n",
       "      <td>Przedmiotem zamówienia jest dostawa komponentó...</td>\n",
       "      <td>info:147901</td>\n",
       "      <td>1058977.11</td>\n",
       "      <td>PLN</td>\n",
       "      <td>222483.53</td>\n",
       "      <td>[{'date': '2022-07-19', 'value_for_two': 10589...</td>\n",
       "      <td>NaN</td>\n",
       "      <td>14019</td>\n",
       "      <td>None</td>\n",
       "      <td>None</td>\n",
       "      <td>art-275-pkt-1-ustawy</td>\n",
       "      <td>art. 275 pkt 1 ustawy</td>\n",
       "      <td>art-275-pkt-1-ustawy</td>\n",
       "    </tr>\n",
       "    <tr>\n",
       "      <th>3</th>\n",
       "      <td>579716</td>\n",
       "      <td>2022-05-04</td>\n",
       "      <td>2022-05-19</td>\n",
       "      <td>14</td>\n",
       "      <td>357</td>\n",
       "      <td>Przebudowa dróg gminnych w podziale na części</td>\n",
       "      <td>constructions</td>\n",
       "      <td>Część nr 1. Przebudowa drogi gminnej nr 226061...</td>\n",
       "      <td>info:151440</td>\n",
       "      <td>361145.99</td>\n",
       "      <td>PLN</td>\n",
       "      <td>76855.93</td>\n",
       "      <td>[{'date': '2022-06-27', 'value_for_two': 16800...</td>\n",
       "      <td>NaN</td>\n",
       "      <td>30103</td>\n",
       "      <td>None</td>\n",
       "      <td>None</td>\n",
       "      <td>art-275-pkt-2-ustawy</td>\n",
       "      <td>art. 275 pkt 2 ustawy</td>\n",
       "      <td>art-275-pkt-2-ustawy</td>\n",
       "    </tr>\n",
       "    <tr>\n",
       "      <th>4</th>\n",
       "      <td>577218</td>\n",
       "      <td>2022-06-03</td>\n",
       "      <td>2022-06-13</td>\n",
       "      <td>9</td>\n",
       "      <td>237</td>\n",
       "      <td>Dostawa sprzętu II dla realizowanego projektu ...</td>\n",
       "      <td>supplies</td>\n",
       "      <td>1. Przedmiotem zamówienia w niniejszym przetar...</td>\n",
       "      <td>info:145454</td>\n",
       "      <td>53474.25</td>\n",
       "      <td>PLN</td>\n",
       "      <td>11515.94</td>\n",
       "      <td>[{'date': '2022-06-21', 'value_for_two': 53474...</td>\n",
       "      <td>NaN</td>\n",
       "      <td>24136</td>\n",
       "      <td>None</td>\n",
       "      <td>None</td>\n",
       "      <td>art-275-pkt-1-ustawy</td>\n",
       "      <td>art. 275 pkt 1 ustawy</td>\n",
       "      <td>art-275-pkt-1-ustawy</td>\n",
       "    </tr>\n",
       "  </tbody>\n",
       "</table>\n",
       "</div>"
      ],
      "text/plain": [
       "       id        date  ...              type_name             type_slug\n",
       "0  580850  2022-08-22  ...  art. 275 pkt 1 ustawy  art-275-pkt-1-ustawy\n",
       "1  579782  2022-06-28  ...  art. 275 pkt 1 ustawy  art-275-pkt-1-ustawy\n",
       "2  578226  2022-06-13  ...  art. 275 pkt 1 ustawy  art-275-pkt-1-ustawy\n",
       "3  579716  2022-05-04  ...  art. 275 pkt 2 ustawy  art-275-pkt-2-ustawy\n",
       "4  577218  2022-06-03  ...  art. 275 pkt 1 ustawy  art-275-pkt-1-ustawy\n",
       "\n",
       "[5 rows x 20 columns]"
      ]
     },
     "execution_count": 30,
     "metadata": {},
     "output_type": "execute_result"
    }
   ],
   "source": [
    "nested_columns = ['purchaser', 'type']\n",
    "\n",
    "flat = flatten(data, nested_columns)\n",
    "\n",
    "flat.head()"
   ]
  },
  {
   "cell_type": "code",
   "execution_count": 31,
   "metadata": {},
   "outputs": [
    {
     "data": {
      "text/plain": [
       "0     [{'date': '2022-09-12', 'value_for_two': 16475...\n",
       "1     [{'date': '2022-08-09', 'value_for_two': 0, 'v...\n",
       "2     [{'date': '2022-07-19', 'value_for_two': 10589...\n",
       "3     [{'date': '2022-06-27', 'value_for_two': 16800...\n",
       "4     [{'date': '2022-06-21', 'value_for_two': 53474...\n",
       "5     [{'date': '2022-05-19', 'value_for_two': 57748...\n",
       "6     [{'date': '2022-04-13', 'value_for_two': 0, 'v...\n",
       "7     [{'date': '2022-02-17', 'value_for_two': 0, 'v...\n",
       "8     [{'date': '2022-01-11', 'value_for_two': 30000...\n",
       "9     [{'date': '2021-12-31', 'value_for_two': 70502...\n",
       "10    [{'date': '2021-12-31', 'value_for_two': 0, 'v...\n",
       "11    [{'date': '2021-12-31', 'value_for_two': 92105...\n",
       "                            ...                        \n",
       "88    [{'date': '2021-08-20', 'value_for_two': 0, 'v...\n",
       "89    [{'date': '2021-08-20', 'value_for_two': 43961...\n",
       "90    [{'date': '2021-08-20', 'value_for_two': 0, 'v...\n",
       "91    [{'date': '2021-08-20', 'value_for_two': 0, 'v...\n",
       "92    [{'date': '2021-08-20', 'value_for_two': 0, 'v...\n",
       "93    [{'date': '2021-08-20', 'value_for_two': 17401...\n",
       "94    [{'date': '2021-08-19', 'value_for_two': 17253...\n",
       "95    [{'date': '2021-08-19', 'value_for_two': 0, 'v...\n",
       "96    [{'date': '2021-08-19', 'value_for_two': 0, 'v...\n",
       "97    [{'date': '2021-08-19', 'value_for_two': 10984...\n",
       "98    [{'date': '2021-08-19', 'value_for_two': 66105...\n",
       "99    [{'date': '2021-08-19', 'value_for_two': 12915...\n",
       "Name: awarded, Length: 100, dtype: object"
      ]
     },
     "execution_count": 31,
     "metadata": {},
     "output_type": "execute_result"
    }
   ],
   "source": [
    "flat['awarded']"
   ]
  }
 ],
 "metadata": {
  "kernelspec": {
   "display_name": "Python 3 (ipykernel)",
   "language": "python",
   "name": "python3"
  },
  "language_info": {
   "codemirror_mode": {
    "name": "ipython",
    "version": 3
   },
   "file_extension": ".py",
   "mimetype": "text/x-python",
   "name": "python",
   "nbconvert_exporter": "python",
   "pygments_lexer": "ipython3",
   "version": "3.9.12"
  },
  "toc": {
   "base_numbering": 1,
   "nav_menu": {},
   "number_sections": true,
   "sideBar": true,
   "skip_h1_title": false,
   "title_cell": "Table of Contents",
   "title_sidebar": "Contents",
   "toc_cell": false,
   "toc_position": {
    "height": "calc(100% - 180px)",
    "left": "10px",
    "top": "150px",
    "width": "165px"
   },
   "toc_section_display": true,
   "toc_window_display": false
  }
 },
 "nbformat": 4,
 "nbformat_minor": 4
}
